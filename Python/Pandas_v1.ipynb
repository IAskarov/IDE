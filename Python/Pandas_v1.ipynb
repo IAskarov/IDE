{
 "cells": [
  {
   "cell_type": "code",
   "execution_count": 19,
   "metadata": {},
   "outputs": [],
   "source": [
    "a = [\"a\", \"b\", \"c\", \"d\", \"e\"]"
   ]
  },
  {
   "cell_type": "code",
   "execution_count": 20,
   "metadata": {},
   "outputs": [],
   "source": [
    "a.append(\"g\")"
   ]
  },
  {
   "cell_type": "code",
   "execution_count": 21,
   "metadata": {},
   "outputs": [
    {
     "name": "stdout",
     "output_type": "stream",
     "text": [
      "['a', 'b', 'c', 'd', 'e', 'g']\n"
     ]
    }
   ],
   "source": [
    "print(a)"
   ]
  },
  {
   "cell_type": "code",
   "execution_count": 22,
   "metadata": {},
   "outputs": [],
   "source": [
    "x = 256\n",
    "y = 256"
   ]
  },
  {
   "cell_type": "code",
   "execution_count": 23,
   "metadata": {},
   "outputs": [
    {
     "name": "stdout",
     "output_type": "stream",
     "text": [
      "2438091467152\n",
      "2438091467152\n"
     ]
    }
   ],
   "source": [
    "print(id(x))\n",
    "print(id(y))"
   ]
  },
  {
   "cell_type": "code",
   "execution_count": 26,
   "metadata": {},
   "outputs": [
    {
     "name": "stdout",
     "output_type": "stream",
     "text": [
      "2438091467120\n",
      "2438091467120\n"
     ]
    }
   ],
   "source": [
    "w = 255\n",
    "v = 255\n",
    "print(id(w))\n",
    "print(id(v))"
   ]
  },
  {
   "cell_type": "code",
   "execution_count": 28,
   "metadata": {},
   "outputs": [],
   "source": [
    "target_word = 'a2nd'\n",
    "words = ['and', 'or', 'not']\n",
    "# Проверяем, что строка target_word есть в списке words\n",
    "if target_word in words:\n",
    "    # целевое слово есть в списке\n",
    "    print('String \"{}\" is in list'.format(target_word))"
   ]
  },
  {
   "cell_type": "code",
   "execution_count": 29,
   "metadata": {},
   "outputs": [
    {
     "name": "stdout",
     "output_type": "stream",
     "text": [
      "on — target_word\n",
      "['and', 'or', 'not'] — list of words\n"
     ]
    }
   ],
   "source": [
    "target_word = 'on'\n",
    "words = ['and', 'or', 'not']\n",
    "# Проверяем, что строка target_word есть в списке words\n",
    "if target_word in words:\n",
    "    # целевое слово есть в списке\n",
    "    print('String \"{}\" is in list'.format(target_word))\n",
    "print('{} — target_word'.format(target_word))\n",
    "print('{} — list of words'.format(words))"
   ]
  },
  {
   "cell_type": "code",
   "execution_count": 30,
   "metadata": {},
   "outputs": [
    {
     "name": "stdout",
     "output_type": "stream",
     "text": [
      "15\n"
     ]
    }
   ],
   "source": [
    "s = 5\n",
    "a = 10\n",
    "if a > 0:\n",
    "   s = s + a\n",
    "else:\n",
    "   s = s - a\n",
    " \n",
    "print(s)"
   ]
  },
  {
   "cell_type": "code",
   "execution_count": 31,
   "metadata": {},
   "outputs": [
    {
     "name": "stdout",
     "output_type": "stream",
     "text": [
      "Put on a raincoat\n"
     ]
    }
   ],
   "source": [
    "is_rainy = True  # дождь будет\n",
    "heavy_rain = False  # не сильный дождь\n",
    "\n",
    "if is_rainy:\n",
    "    # в данный блок дописали ещё один условный оператор\n",
    "    if heavy_rain:\n",
    "        #брать зонт\n",
    "        print(\"Take an umbrella\")  \n",
    "    else:\n",
    "        #надеть дождевик\n",
    "        print(\"Put on a raincoat\") \n",
    "else:\n",
    "    #не брать зонт\n",
    "    print(\"Don't take an umbrella\") "
   ]
  },
  {
   "cell_type": "code",
   "execution_count": 32,
   "metadata": {},
   "outputs": [],
   "source": [
    "lst = ['a', 'b', 'c']\n",
    "if 'f' in lst:\n",
    "    x = 5\n",
    "else:\n",
    "    x = None"
   ]
  },
  {
   "cell_type": "code",
   "execution_count": 33,
   "metadata": {},
   "outputs": [
    {
     "name": "stdout",
     "output_type": "stream",
     "text": [
      "You are 26 years old!\n"
     ]
    }
   ],
   "source": [
    "# Добавляем конструкцию try-except для отлова нашей ошибки\n",
    "try:\n",
    "    age = int(input(\"How old are you?\"))\n",
    "    # Проверяем, что возраст пользователя корректный\n",
    "    if age > 100 or age <= 0:\n",
    "        # Намеренно вызываем ошибку, в скобках указываем текст ошибки\n",
    "        raise ValueError(\"You are too old or don't exist\") \n",
    "# Ловим исключение ValueError\n",
    "except ValueError:\n",
    "    # В случае возникновения исключения выводим сообщение\n",
    "    print(\"Wrong age\")\n",
    "# В блоке else прописываем часть, которая выполняется, если блок try отработал без ошибок\n",
    "else:\n",
    "    # Возраст выводится только в том случае, если пользователь ввёл правильный возраст. \n",
    "    print(\"You are {} years old!\".format(age))"
   ]
  },
  {
   "cell_type": "code",
   "execution_count": 34,
   "metadata": {},
   "outputs": [
    {
     "name": "stdout",
     "output_type": "stream",
     "text": [
      "Current income 120\n",
      "Current S 0\n",
      "New S 120\n",
      "\n",
      "Current income 38.5\n",
      "Current S 120\n",
      "New S 158.5\n",
      "\n",
      "Current income 40.5\n",
      "Current S 158.5\n",
      "New S 199.0\n",
      "\n",
      "Current income 80\n",
      "Current S 199.0\n",
      "New S 279.0\n",
      "\n",
      "Answer: s= 279.0\n"
     ]
    }
   ],
   "source": [
    "incomes = [120, 38.5, 40.5, 80]\n",
    "\n",
    "\n",
    "# Задаём начальное значение суммы доходов \n",
    "S = 0 \n",
    "# Создаём цикл for, в котором будем проходиться по элементам списка incomes.\n",
    "# income — текущее значение элемента списка\n",
    "for income in incomes: \n",
    "    # Выводим текущее значение переменной income\n",
    "    print('Current income', income)   \n",
    "    # Выводим текущее значение переменной S  \n",
    "    print('Current S', S) \n",
    "    # Увеличиваем сумму доходов на значение income\n",
    "    # Равносильно S = S + income\n",
    "    S += income \n",
    "    # Выводим обновлённое значение переменной S\n",
    "    print('New S', S)\n",
    "    # Выводим пустую строку для красивого отображения \n",
    "    print() \n",
    "# Выводим результат \n",
    "print('Answer: s=', S)"
   ]
  },
  {
   "cell_type": "code",
   "execution_count": 36,
   "metadata": {},
   "outputs": [
    {
     "name": "stdout",
     "output_type": "stream",
     "text": [
      "Current S:  0\n",
      "Current number:  1\n",
      "Sum after addition:  1\n",
      "---\n",
      "Current S:  1\n",
      "Current number:  2\n",
      "Sum after addition:  3\n",
      "---\n",
      "Current S:  3\n",
      "Current number:  3\n",
      "Sum after addition:  6\n",
      "---\n",
      "Current S:  6\n",
      "Current number:  4\n",
      "Sum after addition:  10\n",
      "---\n",
      "Current S:  10\n",
      "Current number:  5\n",
      "Sum after addition:  15\n",
      "---\n",
      "Answer: sum =  15\n"
     ]
    }
   ],
   "source": [
    "# Создаём накопительную переменную, в которой будем считать сумму.\n",
    "S = 0  \n",
    "# Задаём N — последний элемент последовательности\n",
    "N = 5 \n",
    "# Создаём цикл for, которым будем проходить по всем числам от 1 до N (включительно).\n",
    "# Равносильно выражению for i in [1, 2, 3, ... , N -1, N]:\n",
    "for i in range(1, N + 1):  \n",
    "    # Выводим значение суммы на текущем шаге\n",
    "    print(\"Current S: \", S) \n",
    "    # Выводим текущее число\n",
    "    print(\"Current number: \", i) \n",
    "    # Суммируем текущее число i и перезаписываем значение суммы\n",
    "    # Равносильно S = S + i\n",
    "    S += i  \n",
    "    # Выводим значение суммы после сложения\n",
    "    print(\"Sum after addition: \", S)\n",
    "    # Выводим строчку для визуального разделения результатов \n",
    "    print(\"---\") \n",
    "\n",
    "\n",
    "# Выводим ответ в формате “ответ: сумма равна =”\n",
    "print(\"Answer: sum = \", S)"
   ]
  },
  {
   "cell_type": "code",
   "execution_count": 37,
   "metadata": {},
   "outputs": [
    {
     "name": "stdout",
     "output_type": "stream",
     "text": [
      "Product 1, weight: 10 -passenger car\n",
      "Product 2, weight: 42.4 -passenger car\n",
      "Product 3, weight: 240.1 -truck\n",
      "Product 4, weight: 101.5 -truck\n",
      "Product 5, weight: 98 -passenger car\n",
      "Product 6, weight: 0.4 -passenger car\n",
      "Product 7, weight: 0.3 -passenger car\n",
      "Product 8, weight: 15 -passenger car\n"
     ]
    }
   ],
   "source": [
    "# Задаём список значений массы товаров\n",
    "weight_of_products = [10, 42.4, 240.1, 101.5, 98, 0.4, 0.3, 15] \n",
    "\n",
    "\n",
    "# Задаём максимальное значение веса груза\n",
    "max_weight = 100 \n",
    "# Задаём начальный номер груза\n",
    "num = 1 \n",
    "# Создаём цикл по элементам списка со значениями массы товаров\n",
    "# weight — текущее значение веса\n",
    "for weight in weight_of_products: \n",
    "    # Если текущий вес меньше максимального,\n",
    "    if weight < max_weight: \n",
    "        # выводим номер груза, его вес и отправляем его в легковую машину.\n",
    "        print('Product {}, weight: {} -passenger car'.format(num, weight)) \n",
    "    else:\n",
    "        # В противном случае\n",
    "        # выводим номер груза, его вес и отправляем его в грузовую машину.\n",
    "        print('Product {}, weight: {} -truck'.format(num, weight))\n",
    "    # Увеличиваем значение номера груза на 1\n",
    "    num += 1"
   ]
  },
  {
   "cell_type": "code",
   "execution_count": 38,
   "metadata": {},
   "outputs": [
    {
     "name": "stdout",
     "output_type": "stream",
     "text": [
      "Product 1, weight: 10 -passenger car\n",
      "Product 2, weight: 42.4 -passenger car\n",
      "Product 3, weight: 240.1 -truck\n",
      "Product 4, weight: 101.5 -truck\n",
      "Product 5, weight: 98 -passenger car\n",
      "Product 6, weight: 0.4 -passenger car\n",
      "Product 7, weight: 0.3 -passenger car\n",
      "Product 8, weight: 15 -passenger car\n"
     ]
    }
   ],
   "source": [
    "# Задаём список значений массы товаров\n",
    "weight_of_products = [10, 42.4, 240.1, 101.5, 98, 0.4, 0.3, 15] \n",
    "# Задаём максимальное значение веса груза\n",
    "max_weight = 100 \n",
    "# Вычисляем длину списка\n",
    "N = len(weight_of_products) \n",
    "# Создаём цикл по последовательности чисел от 0 до N (не включая N)\n",
    "# i — текущее значение последовательности\n",
    "for i in range(N): \n",
    "    # Обращаемся к элементу по индексу и сравниваем его с максимумом\n",
    "    if weight_of_products[i] < max_weight:\n",
    "        # Если текущий вес меньше максимального,\n",
    "        # выводим номер груза, его массу и отправляем его в легковую машину.\n",
    "        print('Product {}, weight: {} -passenger car'.format(i+1, weight_of_products[i])) \n",
    "    else:\n",
    "        # В противном случае\n",
    "        # выводим номер груза, его массу и отправляем его в грузовую машину\n",
    "        print('Product {}, weight: {} -truck'.format(i+1, weight_of_products[i]))"
   ]
  },
  {
   "cell_type": "code",
   "execution_count": 39,
   "metadata": {},
   "outputs": [
    {
     "name": "stdout",
     "output_type": "stream",
     "text": [
      "['Red Square', 'Swallow Nest', 'Niagara Falls', 'Grand Canyon', 'Louvre', 'Hermitage']\n"
     ]
    }
   ],
   "source": [
    "# Список мест, которые хотим посетить.\n",
    "places = [\n",
    "    'Red Square',\n",
    "    'Swallow Nest',\n",
    "    'Niagara Falls',\n",
    "    'Grand Canyon',\n",
    "    'Louvre',\n",
    "    'Hermitage'\n",
    "]\n",
    "# Словарь соответствия мест и стран\n",
    "location = {\n",
    "    'Red Square': 'Russia',\n",
    "    'Swallow Nest': 'Russia',\n",
    "    'Niagara Falls': 'USA',\n",
    "    'Grand Canyon': 'USA',\n",
    "    'Louvre': 'France',\n",
    "    'Hermitage': 'Russia'\n",
    "}\n",
    "# Создаём цикл по списку мест, которые хотим посетить.\n",
    "# place — текущее название места\n",
    "for place in places: \n",
    "    # Получаем страну из словаря location по ключу\n",
    "    country = location[place] \n",
    "    # Сравниваем название страны\n",
    "    if country != 'Russia': \n",
    "        # Помечаем место как недоступное\n",
    "        place = 'Unavailable' \n",
    "# Выводим результирующий список\n",
    "print(places)"
   ]
  },
  {
   "cell_type": "code",
   "execution_count": 40,
   "metadata": {},
   "outputs": [],
   "source": [
    "my_list = []\n",
    "for number in range(0, 10):\n",
    "    my_list.append(number**2)"
   ]
  },
  {
   "cell_type": "code",
   "execution_count": 42,
   "metadata": {},
   "outputs": [
    {
     "name": "stdout",
     "output_type": "stream",
     "text": [
      "['b', 'c', 'd', 'e']\n",
      "['c', 'd', 'e']\n",
      "['d', 'e']\n",
      "Result ['d', 'e']\n"
     ]
    }
   ],
   "source": [
    "lst = ['a', 'b', 'c', 'd', 'e']\n",
    "# Создаём цикл с условием, что длина списка больше 2.\n",
    "while len(lst) > 2: #делай, пока…\n",
    "    # Начало блока кода с телом цикла\n",
    "    \n",
    "    # Обновляем список, удаляя первый элемент в нём.\n",
    "    lst.pop(0) \n",
    "    # Выводим промежуточный результат\n",
    "    print(lst) \n",
    "\n",
    "\n",
    "    #Конец блока кода с телом цикла\n",
    "\n",
    "\n",
    "# Выводим на экран результирующий список\n",
    "print('Result', lst)"
   ]
  },
  {
   "cell_type": "code",
   "execution_count": 45,
   "metadata": {},
   "outputs": [
    {
     "data": {
      "text/plain": [
       "5"
      ]
     },
     "execution_count": 45,
     "metadata": {},
     "output_type": "execute_result"
    }
   ],
   "source": [
    "student_scores = [\n",
    "    [56, 90, 80],\n",
    "    [80, 86, 92],\n",
    "    [91, 76, 89],\n",
    "    [91, 42, 60],\n",
    "    [65, 30, 90]\n",
    "] \n",
    "N = len(student_scores)\n",
    "N"
   ]
  },
  {
   "cell_type": "code",
   "execution_count": 50,
   "metadata": {},
   "outputs": [
    {
     "data": {
      "text/plain": [
       "90"
      ]
     },
     "execution_count": 50,
     "metadata": {},
     "output_type": "execute_result"
    }
   ],
   "source": [
    "student_scores[0][1]"
   ]
  },
  {
   "cell_type": "code",
   "execution_count": 52,
   "metadata": {},
   "outputs": [
    {
     "data": {
      "text/plain": [
       "48"
      ]
     },
     "execution_count": 52,
     "metadata": {},
     "output_type": "execute_result"
    }
   ],
   "source": [
    "y = -2*1+0*2+3*1+2*4+3*5+4*6\n",
    "y"
   ]
  },
  {
   "cell_type": "code",
   "execution_count": null,
   "metadata": {},
   "outputs": [],
   "source": [
    "\n"
   ]
  }
 ],
 "metadata": {
  "kernelspec": {
   "display_name": "Python 3",
   "language": "python",
   "name": "python3"
  },
  "language_info": {
   "codemirror_mode": {
    "name": "ipython",
    "version": 3
   },
   "file_extension": ".py",
   "mimetype": "text/x-python",
   "name": "python",
   "nbconvert_exporter": "python",
   "pygments_lexer": "ipython3",
   "version": "3.9.10"
  },
  "orig_nbformat": 4
 },
 "nbformat": 4,
 "nbformat_minor": 2
}

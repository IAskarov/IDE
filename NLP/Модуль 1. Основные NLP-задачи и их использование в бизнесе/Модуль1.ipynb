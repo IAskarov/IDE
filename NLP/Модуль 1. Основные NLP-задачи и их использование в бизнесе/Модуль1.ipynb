{
  "cells": [
    {
      "cell_type": "code",
      "execution_count": 1,
      "metadata": {
        "id": "mEb91VHf9Uao"
      },
      "outputs": [
        {
          "name": "stdout",
          "output_type": "stream",
          "text": [
            "Collecting transformers\n",
            "  Downloading transformers-4.28.1-py3-none-any.whl (7.0 MB)\n",
            "     ---------------------------------------- 7.0/7.0 MB 468.2 kB/s eta 0:00:00\n",
            "Collecting sacremoses\n",
            "  Downloading sacremoses-0.0.53.tar.gz (880 kB)\n",
            "     ------------------------------------ 880.6/880.6 kB 236.0 kB/s eta 0:00:00\n",
            "  Preparing metadata (setup.py): started\n",
            "  Preparing metadata (setup.py): finished with status 'done'\n",
            "Requirement already satisfied: requests in c:\\users\\askar\\appdata\\local\\programs\\python\\python39\\lib\\site-packages (from transformers) (2.28.1)\n",
            "Requirement already satisfied: packaging>=20.0 in c:\\users\\askar\\appdata\\local\\programs\\python\\python39\\lib\\site-packages (from transformers) (21.3)\n",
            "Collecting tokenizers!=0.11.3,<0.14,>=0.11.1\n",
            "  Downloading tokenizers-0.13.3-cp39-cp39-win_amd64.whl (3.5 MB)\n",
            "     ---------------------------------------- 3.5/3.5 MB 922.6 kB/s eta 0:00:00\n",
            "Requirement already satisfied: filelock in c:\\users\\askar\\appdata\\local\\programs\\python\\python39\\lib\\site-packages (from transformers) (3.9.0)\n",
            "Requirement already satisfied: numpy>=1.17 in c:\\users\\askar\\appdata\\local\\programs\\python\\python39\\lib\\site-packages (from transformers) (1.24.2)\n",
            "Collecting huggingface-hub<1.0,>=0.11.0\n",
            "  Downloading huggingface_hub-0.14.1-py3-none-any.whl (224 kB)\n",
            "     ------------------------------------ 224.5/224.5 kB 142.8 kB/s eta 0:00:00\n",
            "Collecting regex!=2019.12.17\n",
            "  Downloading regex-2023.5.5-cp39-cp39-win_amd64.whl (267 kB)\n",
            "     ------------------------------------ 268.0/268.0 kB 261.9 kB/s eta 0:00:00\n",
            "Requirement already satisfied: pyyaml>=5.1 in c:\\users\\askar\\appdata\\local\\programs\\python\\python39\\lib\\site-packages (from transformers) (6.0)\n",
            "Requirement already satisfied: tqdm>=4.27 in c:\\users\\askar\\appdata\\local\\programs\\python\\python39\\lib\\site-packages (from transformers) (4.64.1)\n",
            "Requirement already satisfied: six in c:\\users\\askar\\appdata\\local\\programs\\python\\python39\\lib\\site-packages (from sacremoses) (1.16.0)\n",
            "Requirement already satisfied: click in c:\\users\\askar\\appdata\\local\\programs\\python\\python39\\lib\\site-packages (from sacremoses) (8.1.3)\n",
            "Requirement already satisfied: joblib in c:\\users\\askar\\appdata\\local\\programs\\python\\python39\\lib\\site-packages (from sacremoses) (1.2.0)\n",
            "Collecting fsspec\n",
            "  Downloading fsspec-2023.5.0-py3-none-any.whl (160 kB)\n",
            "     ------------------------------------ 160.1/160.1 kB 399.6 kB/s eta 0:00:00\n",
            "Requirement already satisfied: typing-extensions>=3.7.4.3 in c:\\users\\askar\\appdata\\local\\programs\\python\\python39\\lib\\site-packages (from huggingface-hub<1.0,>=0.11.0->transformers) (4.4.0)\n",
            "Requirement already satisfied: pyparsing!=3.0.5,>=2.0.2 in c:\\users\\askar\\appdata\\local\\programs\\python\\python39\\lib\\site-packages (from packaging>=20.0->transformers) (3.0.9)\n",
            "Requirement already satisfied: colorama in c:\\users\\askar\\appdata\\local\\programs\\python\\python39\\lib\\site-packages (from tqdm>=4.27->transformers) (0.4.6)\n",
            "Requirement already satisfied: certifi>=2017.4.17 in c:\\users\\askar\\appdata\\local\\programs\\python\\python39\\lib\\site-packages (from requests->transformers) (2022.12.7)\n",
            "Requirement already satisfied: idna<4,>=2.5 in c:\\users\\askar\\appdata\\local\\programs\\python\\python39\\lib\\site-packages (from requests->transformers) (3.4)\n",
            "Requirement already satisfied: urllib3<1.27,>=1.21.1 in c:\\users\\askar\\appdata\\local\\programs\\python\\python39\\lib\\site-packages (from requests->transformers) (1.26.13)\n",
            "Requirement already satisfied: charset-normalizer<3,>=2 in c:\\users\\askar\\appdata\\local\\programs\\python\\python39\\lib\\site-packages (from requests->transformers) (2.1.1)\n",
            "Building wheels for collected packages: sacremoses\n",
            "  Building wheel for sacremoses (setup.py): started\n",
            "  Building wheel for sacremoses (setup.py): finished with status 'done'\n",
            "  Created wheel for sacremoses: filename=sacremoses-0.0.53-py3-none-any.whl size=895252 sha256=31142312f2fd6f9906c681ec281a0e6b2070d8a487b323ac5628e60c0df27fd4\n",
            "  Stored in directory: c:\\users\\askar\\appdata\\local\\pip\\cache\\wheels\\12\\1c\\3d\\46cf06718d63a32ff798a89594b61e7f345ab6b36d909ce033\n",
            "Successfully built sacremoses\n",
            "Installing collected packages: tokenizers, regex, fsspec, sacremoses, huggingface-hub, transformers\n",
            "Successfully installed fsspec-2023.5.0 huggingface-hub-0.14.1 regex-2023.5.5 sacremoses-0.0.53 tokenizers-0.13.3 transformers-4.28.1\n"
          ]
        },
        {
          "name": "stderr",
          "output_type": "stream",
          "text": [
            "\n",
            "[notice] A new release of pip is available: 23.0.1 -> 23.1.2\n",
            "[notice] To update, run: python.exe -m pip install --upgrade pip\n",
            "c:\\Users\\askar\\AppData\\Local\\Programs\\Python\\Python39\\lib\\site-packages\\tqdm\\auto.py:22: TqdmWarning: IProgress not found. Please update jupyter and ipywidgets. See https://ipywidgets.readthedocs.io/en/stable/user_install.html\n",
            "  from .autonotebook import tqdm as notebook_tqdm\n"
          ]
        }
      ],
      "source": [
        "!pip install transformers sacremoses\n",
        "from transformers import pipeline"
      ]
    },
    {
      "attachments": {},
      "cell_type": "markdown",
      "metadata": {
        "id": "Utg6bWTVbhbm"
      },
      "source": [
        "Тематическая классификация"
      ]
    },
    {
      "cell_type": "code",
      "execution_count": 2,
      "metadata": {
        "id": "rDdRQYeVZeth"
      },
      "outputs": [
        {
          "name": "stderr",
          "output_type": "stream",
          "text": [
            "Downloading (…)lve/main/config.json: 100%|██████████| 712/712 [00:00<00:00, 119kB/s]\n",
            "c:\\Users\\askar\\AppData\\Local\\Programs\\Python\\Python39\\lib\\site-packages\\huggingface_hub\\file_download.py:133: UserWarning: `huggingface_hub` cache-system uses symlinks by default to efficiently store duplicated files but your machine does not support them in C:\\Users\\askar\\.cache\\huggingface\\hub. Caching files will still work but in a degraded version that might require more space on your disk. This warning can be disabled by setting the `HF_HUB_DISABLE_SYMLINKS_WARNING` environment variable. For more details, see https://huggingface.co/docs/huggingface_hub/how-to-cache#limitations.\n",
            "To support symlinks on Windows, you either need to activate Developer Mode or to run Python as an administrator. In order to see activate developer mode, see this article: https://docs.microsoft.com/en-us/windows/apps/get-started/enable-your-device-for-development\n",
            "  warnings.warn(message)\n",
            "Downloading pytorch_model.bin:  57%|█████▋    | 252M/438M [07:47<07:22, 422kB/s]  "
          ]
        }
      ],
      "source": [
        "cls_pl = pipeline(\"text-classification\", \"nateraw/bert-base-uncased-ag-news\")\n",
        "cls_pl('NLP is a field of linguistics and machine learning focused on understanding everything related to human language.')"
      ]
    },
    {
      "attachments": {},
      "cell_type": "markdown",
      "metadata": {
        "id": "l8YEFQV8gpoW"
      },
      "source": [
        "Token classification"
      ]
    },
    {
      "cell_type": "code",
      "execution_count": null,
      "metadata": {
        "id": "cZ5iPN-GgvI2"
      },
      "outputs": [],
      "source": [
        "ner_pipeline = pipeline(\"ner\", \"dslim/bert-base-NER\", aggregation_strategy=\"first\")\n",
        "ner_pipeline(\"Matthew Carrigan is a Machine Learning Engineer at Hugging Face. He lives in Dublin, Ireland and previously worked as an ML engineer at Parse.ly and before that as a post-doctoral researcher at Trinity College Dublin.\")"
      ]
    },
    {
      "attachments": {},
      "cell_type": "markdown",
      "metadata": {
        "id": "TUKynAykbT2z"
      },
      "source": [
        "Перевод с русского на английский"
      ]
    },
    {
      "cell_type": "code",
      "execution_count": null,
      "metadata": {
        "id": "sNHfmGA2-LtD"
      },
      "outputs": [],
      "source": [
        "ru_en_translator = pipeline(\"translation_ru_to_en\", \"facebook/wmt19-ru-en\")\n",
        "ru_en_translator(\"Мэтью Кэрриган - инженер-механик в компании Hugging Face. Он живет в Дублине, Ирландия, а до этого работал инженером-программистом в Parse.ly, а до этого - постдоком-исследователем в дублинском колледже Trinity College.\")"
      ]
    },
    {
      "attachments": {},
      "cell_type": "markdown",
      "metadata": {
        "id": "dI-0CwXObcBr"
      },
      "source": [
        "Перевод с английского на русский"
      ]
    },
    {
      "cell_type": "code",
      "execution_count": null,
      "metadata": {
        "id": "FiLVAnY_nMBF"
      },
      "outputs": [],
      "source": [
        "txt = \"Matthew Carrigan is a Machine Learning Engineer at Hugging Face. He lives in Dublin, Ireland and previously worked as an ML engineer at Parse.ly and before that as a post-doctoral researcher at Trinity College Dublin.\"\n",
        "en_ru_translator = pipeline(\"translation_en_to_ru\", \"facebook/wmt19-en-ru\")\n",
        "en_ru_translator(txt)"
      ]
    },
    {
      "attachments": {},
      "cell_type": "markdown",
      "metadata": {
        "id": "dly4UU3qblgP"
      },
      "source": [
        "Аннотирование"
      ]
    },
    {
      "cell_type": "code",
      "execution_count": null,
      "metadata": {
        "id": "S8JP8zyK2jU8"
      },
      "outputs": [],
      "source": [
        "sum_pipeline = pipeline(\"summarization\", \"IlyaGusev/rut5_base_sum_gazeta\")\n",
        "sum_pipeline(\"Естественным развитием задач классификации всего текста или его фрагментов является классификация отдельных слов в предложении. Наиболее распространенной задачей такого вида является задача выделения именованных сущностей (NER - named entity recognition) - в данном случае необходимо для каждого слова в тексте проставить класс принадлежности его к тому или иному типу сущности (например, организация, персона, локация и т.д.), либо пустой класс, показывающий, что слово не относится ни к одному из рассматриваемых классов. С помощью NER можно разрабатывать системы автоматического заполнения форм документов, составления отчетов о компаниях, нахождения разных упоминания одних и тех же сущностей (это задача entity linking - она решается после ner), удаления персональной информации из текстов и т.д. Кроме классификации слов текста на именованные сущности, можно производить классификацию по каким-то другим критериям - например, по частям речи (хотя это практическое использование такого рода задач гораздо уже).\")"
      ]
    },
    {
      "attachments": {},
      "cell_type": "markdown",
      "metadata": {
        "id": "2xlY3IfzeG1H"
      },
      "source": [
        "Поиск ответа на вопрос"
      ]
    },
    {
      "cell_type": "code",
      "execution_count": null,
      "metadata": {
        "id": "AE5MqwPmbQzu"
      },
      "outputs": [],
      "source": [
        "qa_pipeline = pipeline(\"question-answering\", \"deepset/roberta-base-squad2\")\n",
        "question = \"Which name is also used to describe the Amazon rainforest in English?\"\n",
        "context = \"The Amazon rainforest (Portuguese: Floresta Amazônica or Amazônia; Spanish: Selva Amazónica, Amazonía or usually Amazonia; French: Forêt amazonienne; Dutch: Amazoneregenwoud), also known in English as Amazonia or the Amazon Jungle, is a moist broadleaf forest that covers most of the Amazon basin of South America. This basin encompasses 7,000,000 square kilometres (2,700,000 sq mi), of which 5,500,000 square kilometres (2,100,000 sq mi) are covered by the rainforest. This region includes territory belonging to nine nations. The majority of the forest is contained within Brazil, with 60% of the rainforest, followed by Peru with 13%, Colombia with 10%, and with minor amounts in Venezuela, Ecuador, Bolivia, Guyana, Suriname and French Guiana. States or departments in four nations contain \\\"Amazonas\\\" in their names. The Amazon represents over half of the planet's remaining rainforests, and comprises the largest and most biodiverse tract of tropical rainforest in the world, with an estimated 390 billion individual trees divided into 16,000 species.\"\n",
        "qa_pipeline(question, context)"
      ]
    }
  ],
  "metadata": {
    "accelerator": "GPU",
    "colab": {
      "collapsed_sections": [],
      "name": "Модуль1(1).ipynb",
      "provenance": []
    },
    "kernelspec": {
      "display_name": "Python 3",
      "name": "python3"
    },
    "language_info": {
      "codemirror_mode": {
        "name": "ipython",
        "version": 3
      },
      "file_extension": ".py",
      "mimetype": "text/x-python",
      "name": "python",
      "nbconvert_exporter": "python",
      "pygments_lexer": "ipython3",
      "version": "3.9.10"
    }
  },
  "nbformat": 4,
  "nbformat_minor": 0
}

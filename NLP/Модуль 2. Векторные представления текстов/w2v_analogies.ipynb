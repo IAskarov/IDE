{
  "cells": [
    {
      "cell_type": "code",
      "execution_count": 1,
      "metadata": {
        "id": "lKGOle2qtdkL"
      },
      "outputs": [
        {
          "ename": "ModuleNotFoundError",
          "evalue": "No module named 'gensim'",
          "output_type": "error",
          "traceback": [
            "\u001b[1;31m---------------------------------------------------------------------------\u001b[0m",
            "\u001b[1;31mModuleNotFoundError\u001b[0m                       Traceback (most recent call last)",
            "\u001b[1;32me:\\My date\\Skillfactory\\Course\\IDE\\NLP\\Модуль 2. Векторные представления текстов\\w2v_analogies.ipynb Cell 1\u001b[0m in \u001b[0;36m<cell line: 2>\u001b[1;34m()\u001b[0m\n\u001b[0;32m      <a href='vscode-notebook-cell:/e%3A/My%20date/Skillfactory/Course/IDE/NLP/%D0%9C%D0%BE%D0%B4%D1%83%D0%BB%D1%8C%202.%20%D0%92%D0%B5%D0%BA%D1%82%D0%BE%D1%80%D0%BD%D1%8B%D0%B5%20%D0%BF%D1%80%D0%B5%D0%B4%D1%81%D1%82%D0%B0%D0%B2%D0%BB%D0%B5%D0%BD%D0%B8%D1%8F%20%D1%82%D0%B5%D0%BA%D1%81%D1%82%D0%BE%D0%B2/w2v_analogies.ipynb#W0sZmlsZQ%3D%3D?line=0'>1</a>\u001b[0m \u001b[39mimport\u001b[39;00m \u001b[39mnumpy\u001b[39;00m \u001b[39mas\u001b[39;00m \u001b[39mnp\u001b[39;00m\n\u001b[1;32m----> <a href='vscode-notebook-cell:/e%3A/My%20date/Skillfactory/Course/IDE/NLP/%D0%9C%D0%BE%D0%B4%D1%83%D0%BB%D1%8C%202.%20%D0%92%D0%B5%D0%BA%D1%82%D0%BE%D1%80%D0%BD%D1%8B%D0%B5%20%D0%BF%D1%80%D0%B5%D0%B4%D1%81%D1%82%D0%B0%D0%B2%D0%BB%D0%B5%D0%BD%D0%B8%D1%8F%20%D1%82%D0%B5%D0%BA%D1%81%D1%82%D0%BE%D0%B2/w2v_analogies.ipynb#W0sZmlsZQ%3D%3D?line=1'>2</a>\u001b[0m \u001b[39mimport\u001b[39;00m \u001b[39mgensim\u001b[39;00m\n\u001b[0;32m      <a href='vscode-notebook-cell:/e%3A/My%20date/Skillfactory/Course/IDE/NLP/%D0%9C%D0%BE%D0%B4%D1%83%D0%BB%D1%8C%202.%20%D0%92%D0%B5%D0%BA%D1%82%D0%BE%D1%80%D0%BD%D1%8B%D0%B5%20%D0%BF%D1%80%D0%B5%D0%B4%D1%81%D1%82%D0%B0%D0%B2%D0%BB%D0%B5%D0%BD%D0%B8%D1%8F%20%D1%82%D0%B5%D0%BA%D1%81%D1%82%D0%BE%D0%B2/w2v_analogies.ipynb#W0sZmlsZQ%3D%3D?line=2'>3</a>\u001b[0m \u001b[39mimport\u001b[39;00m \u001b[39mgensim\u001b[39;00m\u001b[39m.\u001b[39;00m\u001b[39mdownloader\u001b[39;00m\n\u001b[0;32m      <a href='vscode-notebook-cell:/e%3A/My%20date/Skillfactory/Course/IDE/NLP/%D0%9C%D0%BE%D0%B4%D1%83%D0%BB%D1%8C%202.%20%D0%92%D0%B5%D0%BA%D1%82%D0%BE%D1%80%D0%BD%D1%8B%D0%B5%20%D0%BF%D1%80%D0%B5%D0%B4%D1%81%D1%82%D0%B0%D0%B2%D0%BB%D0%B5%D0%BD%D0%B8%D1%8F%20%D1%82%D0%B5%D0%BA%D1%81%D1%82%D0%BE%D0%B2/w2v_analogies.ipynb#W0sZmlsZQ%3D%3D?line=3'>4</a>\u001b[0m \u001b[39mfrom\u001b[39;00m \u001b[39mgensim\u001b[39;00m\u001b[39m.\u001b[39;00m\u001b[39mmodels\u001b[39;00m \u001b[39mimport\u001b[39;00m word2vec,KeyedVectors\n",
            "\u001b[1;31mModuleNotFoundError\u001b[0m: No module named 'gensim'"
          ]
        }
      ],
      "source": [
        "import numpy as np\n",
        "import gensim\n",
        "import gensim.downloader\n",
        "from gensim.models import word2vec,KeyedVectors"
      ]
    },
    {
      "cell_type": "code",
      "execution_count": null,
      "metadata": {
        "id": "_ckDQMkltfAy"
      },
      "outputs": [],
      "source": [
        "word_vectors = gensim.downloader.load(\"word2vec-google-news-300\")"
      ]
    },
    {
      "cell_type": "code",
      "execution_count": null,
      "metadata": {
        "colab": {
          "base_uri": "https://localhost:8080/"
        },
        "id": "dNN_JDkgth2y",
        "outputId": "7bc628ed-cecf-4edd-c3c1-e8a6c34782cb"
      },
      "outputs": [
        {
          "data": {
            "text/plain": [
              "[('Paris', 0.731147289276123),\n",
              " ('Brussels', 0.5476802587509155),\n",
              " ('Hopital_Europeen_Georges_Pompidou', 0.5315897464752197)]"
            ]
          },
          "execution_count": 8,
          "metadata": {},
          "output_type": "execute_result"
        }
      ],
      "source": [
        "word_vectors.most_similar(positive=[\"France\", \"London\"], negative=[\"England\"], topn=3)"
      ]
    },
    {
      "cell_type": "code",
      "execution_count": null,
      "metadata": {
        "colab": {
          "base_uri": "https://localhost:8080/"
        },
        "id": "DVVQPRW9tlDf",
        "outputId": "93b11807-be50-4c44-edae-bbebe6a0546f"
      },
      "outputs": [
        {
          "data": {
            "text/plain": [
              "[('Berlin', 0.6245037317276001),\n",
              " ('Dusseldorf', 0.6113624572753906),\n",
              " ('Frankfurt', 0.6081353425979614)]"
            ]
          },
          "execution_count": 9,
          "metadata": {},
          "output_type": "execute_result"
        }
      ],
      "source": [
        "word_vectors.most_similar(positive=[\"Germany\", \"London\"], negative=[\"England\"], topn=3)"
      ]
    },
    {
      "cell_type": "code",
      "execution_count": null,
      "metadata": {
        "colab": {
          "base_uri": "https://localhost:8080/"
        },
        "id": "YZ0QC1nZtnD2",
        "outputId": "2354a55d-b791-4c87-f4df-10a6f85be561"
      },
      "outputs": [
        {
          "data": {
            "text/plain": [
              "[('Sao_Paulo', 0.6006280183792114),\n",
              " ('Rio_de_Janeiro', 0.5958665013313293),\n",
              " ('Sao_Paolo', 0.563147783279419)]"
            ]
          },
          "execution_count": 12,
          "metadata": {},
          "output_type": "execute_result"
        }
      ],
      "source": [
        "word_vectors.most_similar(positive=[\"Brazil\", \"London\"], negative=[\"England\"], topn=3)"
      ]
    },
    {
      "cell_type": "code",
      "execution_count": null,
      "metadata": {
        "colab": {
          "base_uri": "https://localhost:8080/"
        },
        "id": "i38gwnmkvm-0",
        "outputId": "438c25de-df43-4bb1-9d68-12b239ff7fa9"
      },
      "outputs": [
        {
          "data": {
            "text/plain": [
              "[('Domino_pizza', 0.48511114716529846),\n",
              " ('borscht', 0.4624710977077484),\n",
              " ('Urals_Mediterranean', 0.462126225233078)]"
            ]
          },
          "execution_count": 21,
          "metadata": {},
          "output_type": "execute_result"
        }
      ],
      "source": [
        "word_vectors.most_similar(positive=[\"pizza\", \"Russia\"], negative=[\"Italy\"], topn=3)"
      ]
    },
    {
      "cell_type": "code",
      "execution_count": null,
      "metadata": {
        "colab": {
          "base_uri": "https://localhost:8080/"
        },
        "id": "GK1ne2R_vxOT",
        "outputId": "b5b0a9ad-7213-4857-d03e-45d6cfcb14d0"
      },
      "outputs": [
        {
          "data": {
            "text/plain": [
              "[('sushi', 0.5427544116973877),\n",
              " ('ramen', 0.5419158339500427),\n",
              " ('bento', 0.5399653911590576)]"
            ]
          },
          "execution_count": 18,
          "metadata": {},
          "output_type": "execute_result"
        }
      ],
      "source": [
        "word_vectors.most_similar(positive=[\"pizza\", \"Japan\"], negative=[\"Italy\"], topn=3)"
      ]
    },
    {
      "cell_type": "code",
      "execution_count": null,
      "metadata": {
        "colab": {
          "base_uri": "https://localhost:8080/"
        },
        "id": "sFVX67kqvzNv",
        "outputId": "20881c0b-658f-4145-a510-7ca83972d887"
      },
      "outputs": [
        {
          "data": {
            "text/plain": [
              "[('lutefisk', 0.5353184342384338),\n",
              " ('donuts', 0.5171973705291748),\n",
              " ('lefse', 0.4872244894504547)]"
            ]
          },
          "execution_count": 20,
          "metadata": {},
          "output_type": "execute_result"
        }
      ],
      "source": [
        "word_vectors.most_similar(positive=[\"pizza\", \"Norway\"], negative=[\"Italy\"], topn=3)"
      ]
    },
    {
      "cell_type": "code",
      "execution_count": 2,
      "metadata": {},
      "outputs": [
        {
          "name": "stdout",
          "output_type": "stream",
          "text": [
            "-2.9999999999999996\n"
          ]
        }
      ],
      "source": [
        "import numpy as np\n",
        "A = np.matrix (\"1, 2, 3; 4, 5, 6 ; 7, 8, 10\")\n",
        "print(np.linalg.det(A))"
      ]
    },
    {
      "cell_type": "code",
      "execution_count": null,
      "metadata": {},
      "outputs": [],
      "source": []
    }
  ],
  "metadata": {
    "colab": {
      "collapsed_sections": [],
      "name": "w2v analogies.ipynb",
      "provenance": []
    },
    "kernelspec": {
      "display_name": "Python 3",
      "name": "python3"
    },
    "language_info": {
      "codemirror_mode": {
        "name": "ipython",
        "version": 3
      },
      "file_extension": ".py",
      "mimetype": "text/x-python",
      "name": "python",
      "nbconvert_exporter": "python",
      "pygments_lexer": "ipython3",
      "version": "3.9.10"
    }
  },
  "nbformat": 4,
  "nbformat_minor": 0
}

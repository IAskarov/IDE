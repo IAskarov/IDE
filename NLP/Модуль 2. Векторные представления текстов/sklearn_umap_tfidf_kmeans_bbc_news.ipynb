{
  "cells": [
    {
      "cell_type": "code",
      "execution_count": 1,
      "metadata": {
        "execution": {
          "iopub.execute_input": "2022-01-24T09:23:31.089056Z",
          "iopub.status.busy": "2022-01-24T09:23:31.088196Z",
          "iopub.status.idle": "2022-01-24T09:23:36.507130Z",
          "shell.execute_reply": "2022-01-24T09:23:36.506340Z",
          "shell.execute_reply.started": "2022-01-24T09:23:31.088923Z"
        },
        "id": "Et_BzhXgy2aO",
        "papermill": {
          "duration": 4.07503,
          "end_time": "2022-01-17T23:04:31.564422",
          "exception": false,
          "start_time": "2022-01-17T23:04:27.489392",
          "status": "completed"
        },
        "tags": [],
        "trusted": true
      },
      "outputs": [
        {
          "name": "stderr",
          "output_type": "stream",
          "text": [
            "\n",
            "[notice] A new release of pip is available: 23.0.1 -> 23.1.2\n",
            "[notice] To update, run: python.exe -m pip install --upgrade pip\n"
          ]
        },
        {
          "name": "stdout",
          "output_type": "stream",
          "text": [
            "Collecting datasets\n",
            "  Downloading datasets-2.12.0-py3-none-any.whl (474 kB)\n",
            "     -------------------------------------- 474.6/474.6 kB 1.7 MB/s eta 0:00:00\n",
            "Collecting umap-learn\n",
            "  Downloading umap-learn-0.5.3.tar.gz (88 kB)\n",
            "     ---------------------------------------- 88.2/88.2 kB 2.5 MB/s eta 0:00:00\n",
            "  Preparing metadata (setup.py): started\n",
            "  Preparing metadata (setup.py): finished with status 'done'\n",
            "Collecting xxhash\n",
            "  Downloading xxhash-3.2.0-cp39-cp39-win_amd64.whl (30 kB)\n",
            "Collecting aiohttp\n",
            "  Downloading aiohttp-3.8.4-cp39-cp39-win_amd64.whl (323 kB)\n",
            "     ------------------------------------ 323.6/323.6 kB 501.4 kB/s eta 0:00:00\n",
            "Collecting dill<0.3.7,>=0.3.0\n",
            "  Downloading dill-0.3.6-py3-none-any.whl (110 kB)\n",
            "     ------------------------------------ 110.5/110.5 kB 533.4 kB/s eta 0:00:00\n",
            "Requirement already satisfied: huggingface-hub<1.0.0,>=0.11.0 in c:\\users\\askar\\appdata\\local\\programs\\python\\python39\\lib\\site-packages (from datasets) (0.14.1)\n",
            "Requirement already satisfied: pyyaml>=5.1 in c:\\users\\askar\\appdata\\local\\programs\\python\\python39\\lib\\site-packages (from datasets) (6.0)\n",
            "Requirement already satisfied: numpy>=1.17 in c:\\users\\askar\\appdata\\local\\programs\\python\\python39\\lib\\site-packages (from datasets) (1.24.2)\n",
            "Requirement already satisfied: tqdm>=4.62.1 in c:\\users\\askar\\appdata\\local\\programs\\python\\python39\\lib\\site-packages (from datasets) (4.64.1)\n",
            "Collecting multiprocess\n",
            "  Downloading multiprocess-0.70.14-py39-none-any.whl (132 kB)\n",
            "     ------------------------------------ 132.9/132.9 kB 490.5 kB/s eta 0:00:00\n",
            "Collecting responses<0.19\n",
            "  Downloading responses-0.18.0-py3-none-any.whl (38 kB)\n",
            "Requirement already satisfied: requests>=2.19.0 in c:\\users\\askar\\appdata\\local\\programs\\python\\python39\\lib\\site-packages (from datasets) (2.28.1)\n",
            "Requirement already satisfied: pandas in c:\\users\\askar\\appdata\\local\\programs\\python\\python39\\lib\\site-packages (from datasets) (1.5.3)\n",
            "Collecting pyarrow>=8.0.0\n",
            "  Downloading pyarrow-12.0.0-cp39-cp39-win_amd64.whl (21.5 MB)\n",
            "     ---------------------------------------- 21.5/21.5 MB 2.0 MB/s eta 0:00:00\n",
            "Requirement already satisfied: fsspec[http]>=2021.11.1 in c:\\users\\askar\\appdata\\local\\programs\\python\\python39\\lib\\site-packages (from datasets) (2023.5.0)\n",
            "Requirement already satisfied: packaging in c:\\users\\askar\\appdata\\local\\programs\\python\\python39\\lib\\site-packages (from datasets) (21.3)\n",
            "Requirement already satisfied: scikit-learn>=0.22 in c:\\users\\askar\\appdata\\local\\programs\\python\\python39\\lib\\site-packages (from umap-learn) (1.2.1)\n",
            "Requirement already satisfied: scipy>=1.0 in c:\\users\\askar\\appdata\\local\\programs\\python\\python39\\lib\\site-packages (from umap-learn) (1.10.0)\n",
            "Collecting numba>=0.49\n",
            "  Downloading numba-0.57.0-cp39-cp39-win_amd64.whl (2.6 MB)\n",
            "     ---------------------------------------- 2.6/2.6 MB 1.6 MB/s eta 0:00:00\n",
            "Collecting pynndescent>=0.5\n",
            "  Downloading pynndescent-0.5.10.tar.gz (1.1 MB)\n",
            "     ---------------------------------------- 1.1/1.1 MB 3.6 MB/s eta 0:00:00\n",
            "  Preparing metadata (setup.py): started\n",
            "  Preparing metadata (setup.py): finished with status 'done'\n",
            "Collecting multidict<7.0,>=4.5\n",
            "  Downloading multidict-6.0.4-cp39-cp39-win_amd64.whl (28 kB)\n",
            "Collecting yarl<2.0,>=1.0\n",
            "  Downloading yarl-1.9.2-cp39-cp39-win_amd64.whl (61 kB)\n",
            "     ---------------------------------------- 61.7/61.7 kB 1.1 MB/s eta 0:00:00\n",
            "Requirement already satisfied: charset-normalizer<4.0,>=2.0 in c:\\users\\askar\\appdata\\local\\programs\\python\\python39\\lib\\site-packages (from aiohttp->datasets) (2.1.1)\n",
            "Requirement already satisfied: attrs>=17.3.0 in c:\\users\\askar\\appdata\\local\\programs\\python\\python39\\lib\\site-packages (from aiohttp->datasets) (22.1.0)\n",
            "Collecting frozenlist>=1.1.1\n",
            "  Downloading frozenlist-1.3.3-cp39-cp39-win_amd64.whl (34 kB)\n",
            "Collecting aiosignal>=1.1.2\n",
            "  Downloading aiosignal-1.3.1-py3-none-any.whl (7.6 kB)\n",
            "Collecting async-timeout<5.0,>=4.0.0a3\n",
            "  Downloading async_timeout-4.0.2-py3-none-any.whl (5.8 kB)\n",
            "Requirement already satisfied: filelock in c:\\users\\askar\\appdata\\local\\programs\\python\\python39\\lib\\site-packages (from huggingface-hub<1.0.0,>=0.11.0->datasets) (3.9.0)\n",
            "Requirement already satisfied: typing-extensions>=3.7.4.3 in c:\\users\\askar\\appdata\\local\\programs\\python\\python39\\lib\\site-packages (from huggingface-hub<1.0.0,>=0.11.0->datasets) (4.4.0)\n",
            "Collecting llvmlite<0.41,>=0.40.0dev0\n",
            "  Downloading llvmlite-0.40.0-cp39-cp39-win_amd64.whl (27.7 MB)\n",
            "     ---------------------------------------- 27.7/27.7 MB 1.1 MB/s eta 0:00:00\n",
            "Requirement already satisfied: pyparsing!=3.0.5,>=2.0.2 in c:\\users\\askar\\appdata\\local\\programs\\python\\python39\\lib\\site-packages (from packaging->datasets) (3.0.9)\n",
            "Requirement already satisfied: joblib>=0.11 in c:\\users\\askar\\appdata\\local\\programs\\python\\python39\\lib\\site-packages (from pynndescent>=0.5->umap-learn) (1.2.0)\n",
            "Requirement already satisfied: urllib3<1.27,>=1.21.1 in c:\\users\\askar\\appdata\\local\\programs\\python\\python39\\lib\\site-packages (from requests>=2.19.0->datasets) (1.26.13)\n",
            "Requirement already satisfied: idna<4,>=2.5 in c:\\users\\askar\\appdata\\local\\programs\\python\\python39\\lib\\site-packages (from requests>=2.19.0->datasets) (3.4)\n",
            "Requirement already satisfied: certifi>=2017.4.17 in c:\\users\\askar\\appdata\\local\\programs\\python\\python39\\lib\\site-packages (from requests>=2.19.0->datasets) (2022.12.7)\n",
            "Requirement already satisfied: threadpoolctl>=2.0.0 in c:\\users\\askar\\appdata\\local\\programs\\python\\python39\\lib\\site-packages (from scikit-learn>=0.22->umap-learn) (3.1.0)\n",
            "Requirement already satisfied: colorama in c:\\users\\askar\\appdata\\local\\programs\\python\\python39\\lib\\site-packages (from tqdm>=4.62.1->datasets) (0.4.6)\n",
            "Requirement already satisfied: pytz>=2020.1 in c:\\users\\askar\\appdata\\local\\programs\\python\\python39\\lib\\site-packages (from pandas->datasets) (2022.6)\n",
            "Requirement already satisfied: python-dateutil>=2.8.1 in c:\\users\\askar\\appdata\\local\\programs\\python\\python39\\lib\\site-packages (from pandas->datasets) (2.8.2)\n",
            "Requirement already satisfied: six>=1.5 in c:\\users\\askar\\appdata\\local\\programs\\python\\python39\\lib\\site-packages (from python-dateutil>=2.8.1->pandas->datasets) (1.16.0)\n",
            "Building wheels for collected packages: umap-learn, pynndescent\n",
            "  Building wheel for umap-learn (setup.py): started\n",
            "  Building wheel for umap-learn (setup.py): finished with status 'done'\n",
            "  Created wheel for umap-learn: filename=umap_learn-0.5.3-py3-none-any.whl size=82909 sha256=8b3af22686e514a28d091ff3413e9a90eaf915063c28433374a8d6036fd748cf\n",
            "  Stored in directory: c:\\users\\askar\\appdata\\local\\pip\\cache\\wheels\\f4\\3e\\1c\\596d0a463d17475af648688443fa4846fef624d1390339e7e9\n",
            "  Building wheel for pynndescent (setup.py): started\n",
            "  Building wheel for pynndescent (setup.py): finished with status 'done'\n",
            "  Created wheel for pynndescent: filename=pynndescent-0.5.10-py3-none-any.whl size=55676 sha256=b1861ad012590429a17f8b10ed08c7092f619400ad3fe221863f496752102529\n",
            "  Stored in directory: c:\\users\\askar\\appdata\\local\\pip\\cache\\wheels\\12\\f9\\4d\\ec5ad1c823c710fcc4473669fdcffc8891f4bc398c841af22e\n",
            "Successfully built umap-learn pynndescent\n",
            "Installing collected packages: xxhash, pyarrow, multidict, llvmlite, frozenlist, dill, async-timeout, yarl, responses, numba, multiprocess, aiosignal, pynndescent, aiohttp, umap-learn, datasets\n",
            "Successfully installed aiohttp-3.8.4 aiosignal-1.3.1 async-timeout-4.0.2 datasets-2.12.0 dill-0.3.6 frozenlist-1.3.3 llvmlite-0.40.0 multidict-6.0.4 multiprocess-0.70.14 numba-0.57.0 pyarrow-12.0.0 pynndescent-0.5.10 responses-0.18.0 umap-learn-0.5.3 xxhash-3.2.0 yarl-1.9.2\n"
          ]
        },
        {
          "name": "stderr",
          "output_type": "stream",
          "text": [
            "c:\\Users\\askar\\AppData\\Local\\Programs\\Python\\Python39\\lib\\site-packages\\tqdm\\auto.py:22: TqdmWarning: IProgress not found. Please update jupyter and ipywidgets. See https://ipywidgets.readthedocs.io/en/stable/user_install.html\n",
            "  from .autonotebook import tqdm as notebook_tqdm\n"
          ]
        }
      ],
      "source": [
        "!pip install datasets umap-learn\n",
        "import pandas as pd, os\n",
        "from tqdm import tqdm  \n",
        "import numpy as np\n",
        "import datasets "
      ]
    },
    {
      "attachments": {},
      "cell_type": "markdown",
      "metadata": {
        "id": "GAoVf5edy2aS",
        "papermill": {
          "duration": 0.008852,
          "end_time": "2022-01-17T23:04:31.583041",
          "exception": false,
          "start_time": "2022-01-17T23:04:31.574189",
          "status": "completed"
        },
        "tags": []
      },
      "source": [
        "#Pandas Df\n",
        "We will read train text into a Pandas df."
      ]
    },
    {
      "cell_type": "code",
      "execution_count": 2,
      "metadata": {
        "execution": {
          "iopub.execute_input": "2022-01-24T09:23:36.510113Z",
          "iopub.status.busy": "2022-01-24T09:23:36.508658Z",
          "iopub.status.idle": "2022-01-24T09:23:42.595389Z",
          "shell.execute_reply": "2022-01-24T09:23:42.594635Z",
          "shell.execute_reply.started": "2022-01-24T09:23:36.510074Z"
        },
        "id": "EWMC8eVTy2aT",
        "papermill": {
          "duration": 53.841219,
          "end_time": "2022-01-17T23:05:25.433189",
          "exception": false,
          "start_time": "2022-01-17T23:04:31.59197",
          "status": "completed"
        },
        "tags": [],
        "trusted": true
      },
      "outputs": [
        {
          "name": "stderr",
          "output_type": "stream",
          "text": [
            "Downloading readme: 100%|██████████| 246/246 [00:00<00:00, 61.5kB/s]\n"
          ]
        },
        {
          "name": "stdout",
          "output_type": "stream",
          "text": [
            "Downloading and preparing dataset json/SetFit--bbc-news to C:/Users/askar/.cache/huggingface/datasets/SetFit___json/SetFit--bbc-news-dbeb222bfdd4d6ed/0.0.0/e347ab1c932092252e717ff3f949105a4dd28b27e842dd53157d2f72e276c2e4...\n"
          ]
        },
        {
          "name": "stderr",
          "output_type": "stream",
          "text": [
            "Downloading data: 100%|██████████| 2.87M/2.87M [00:01<00:00, 1.75MB/s]\n",
            "Downloading data: 100%|██████████| 2.28M/2.28M [00:01<00:00, 1.30MB/s]\n",
            "Downloading data files: 100%|██████████| 2/2 [00:05<00:00,  2.56s/it]\n",
            "Extracting data files: 100%|██████████| 2/2 [00:00<00:00, 52.66it/s]\n",
            "                                                                  \r"
          ]
        },
        {
          "name": "stdout",
          "output_type": "stream",
          "text": [
            "Dataset json downloaded and prepared to C:/Users/askar/.cache/huggingface/datasets/SetFit___json/SetFit--bbc-news-dbeb222bfdd4d6ed/0.0.0/e347ab1c932092252e717ff3f949105a4dd28b27e842dd53157d2f72e276c2e4. Subsequent calls will reuse this data.\n"
          ]
        },
        {
          "name": "stderr",
          "output_type": "stream",
          "text": [
            "100%|██████████| 2/2 [00:00<00:00, 52.66it/s]\n"
          ]
        },
        {
          "data": {
            "text/html": [
              "<div>\n",
              "<style scoped>\n",
              "    .dataframe tbody tr th:only-of-type {\n",
              "        vertical-align: middle;\n",
              "    }\n",
              "\n",
              "    .dataframe tbody tr th {\n",
              "        vertical-align: top;\n",
              "    }\n",
              "\n",
              "    .dataframe thead th {\n",
              "        text-align: right;\n",
              "    }\n",
              "</style>\n",
              "<table border=\"1\" class=\"dataframe\">\n",
              "  <thead>\n",
              "    <tr style=\"text-align: right;\">\n",
              "      <th></th>\n",
              "      <th>text</th>\n",
              "    </tr>\n",
              "  </thead>\n",
              "  <tbody>\n",
              "    <tr>\n",
              "      <th>0</th>\n",
              "      <td>wales want rugby league training wales could f...</td>\n",
              "    </tr>\n",
              "    <tr>\n",
              "      <th>1</th>\n",
              "      <td>china aviation seeks rescue deal scandal-hit j...</td>\n",
              "    </tr>\n",
              "    <tr>\n",
              "      <th>2</th>\n",
              "      <td>rock band u2 break ticket record u2 have smash...</td>\n",
              "    </tr>\n",
              "    <tr>\n",
              "      <th>3</th>\n",
              "      <td>markets signal brazilian recovery the brazilia...</td>\n",
              "    </tr>\n",
              "    <tr>\n",
              "      <th>4</th>\n",
              "      <td>tough rules for ringtone sellers firms that fl...</td>\n",
              "    </tr>\n",
              "  </tbody>\n",
              "</table>\n",
              "</div>"
            ],
            "text/plain": [
              "                                                text\n",
              "0  wales want rugby league training wales could f...\n",
              "1  china aviation seeks rescue deal scandal-hit j...\n",
              "2  rock band u2 break ticket record u2 have smash...\n",
              "3  markets signal brazilian recovery the brazilia...\n",
              "4  tough rules for ringtone sellers firms that fl..."
            ]
          },
          "execution_count": 2,
          "metadata": {},
          "output_type": "execute_result"
        }
      ],
      "source": [
        "from datasets import load_dataset\n",
        "\n",
        "dataset = load_dataset(\"SetFit/bbc-news\")\n",
        "\n",
        "train_text_df = pd.DataFrame({'text': dataset['train']['text']})\n",
        "train_text_df.head()"
      ]
    },
    {
      "attachments": {},
      "cell_type": "markdown",
      "metadata": {
        "id": "2pbX1kCdy2aU",
        "papermill": {
          "duration": 0.144337,
          "end_time": "2022-01-17T23:05:25.723418",
          "exception": false,
          "start_time": "2022-01-17T23:05:25.579081",
          "status": "completed"
        },
        "tags": []
      },
      "source": [
        "#Tfidf\n",
        "We will use Tfidf to convert each text into a embedding vector of length 25,000."
      ]
    },
    {
      "cell_type": "code",
      "execution_count": 3,
      "metadata": {
        "execution": {
          "iopub.execute_input": "2022-01-24T09:23:42.597045Z",
          "iopub.status.busy": "2022-01-24T09:23:42.596770Z",
          "iopub.status.idle": "2022-01-24T09:23:55.949482Z",
          "shell.execute_reply": "2022-01-24T09:23:55.948714Z",
          "shell.execute_reply.started": "2022-01-24T09:23:42.597009Z"
        },
        "id": "p9lB_-vJy2aV",
        "papermill": {
          "duration": 13.874568,
          "end_time": "2022-01-17T23:05:39.7417",
          "exception": false,
          "start_time": "2022-01-17T23:05:25.867132",
          "status": "completed"
        },
        "tags": [],
        "trusted": true
      },
      "outputs": [],
      "source": [
        "from sklearn.feature_extraction.text import TfidfVectorizer\n",
        "tfidf = TfidfVectorizer(stop_words='english', binary=True, max_features=25_000)\n",
        "text_embeddings = tfidf.fit_transform( train_text_df['text'] ).toarray()"
      ]
    },
    {
      "attachments": {},
      "cell_type": "markdown",
      "metadata": {
        "id": "di5XOggNy2aX",
        "papermill": {
          "duration": 0.128876,
          "end_time": "2022-01-17T23:05:40.000099",
          "exception": false,
          "start_time": "2022-01-17T23:05:39.871223",
          "status": "completed"
        },
        "tags": []
      },
      "source": [
        "# UMAP\n",
        "We will use UMAP (Uniform Manifold Approximation and Projection for Dimension Reduction) to reduce embedding vectors to two dimensions"
      ]
    },
    {
      "cell_type": "code",
      "execution_count": 4,
      "metadata": {
        "execution": {
          "iopub.execute_input": "2022-01-24T09:23:55.951808Z",
          "iopub.status.busy": "2022-01-24T09:23:55.951609Z",
          "iopub.status.idle": "2022-01-24T09:23:57.048623Z",
          "shell.execute_reply": "2022-01-24T09:23:57.047815Z",
          "shell.execute_reply.started": "2022-01-24T09:23:55.951783Z"
        },
        "id": "89434RwTy2aY",
        "papermill": {
          "duration": 2.825378,
          "end_time": "2022-01-17T23:05:42.954513",
          "exception": false,
          "start_time": "2022-01-17T23:05:40.129135",
          "status": "completed"
        },
        "tags": [],
        "trusted": true
      },
      "outputs": [
        {
          "name": "stderr",
          "output_type": "stream",
          "text": [
            "c:\\Users\\askar\\AppData\\Local\\Programs\\Python\\Python39\\lib\\site-packages\\umap\\distances.py:1063: NumbaDeprecationWarning: \u001b[1mThe 'nopython' keyword argument was not supplied to the 'numba.jit' decorator. The implicit default value for this argument is currently False, but it will be changed to True in Numba 0.59.0. See https://numba.readthedocs.io/en/stable/reference/deprecation.html#deprecation-of-object-mode-fall-back-behaviour-when-using-jit for details.\u001b[0m\n",
            "  @numba.jit()\n",
            "c:\\Users\\askar\\AppData\\Local\\Programs\\Python\\Python39\\lib\\site-packages\\umap\\distances.py:1071: NumbaDeprecationWarning: \u001b[1mThe 'nopython' keyword argument was not supplied to the 'numba.jit' decorator. The implicit default value for this argument is currently False, but it will be changed to True in Numba 0.59.0. See https://numba.readthedocs.io/en/stable/reference/deprecation.html#deprecation-of-object-mode-fall-back-behaviour-when-using-jit for details.\u001b[0m\n",
            "  @numba.jit()\n",
            "c:\\Users\\askar\\AppData\\Local\\Programs\\Python\\Python39\\lib\\site-packages\\umap\\distances.py:1086: NumbaDeprecationWarning: \u001b[1mThe 'nopython' keyword argument was not supplied to the 'numba.jit' decorator. The implicit default value for this argument is currently False, but it will be changed to True in Numba 0.59.0. See https://numba.readthedocs.io/en/stable/reference/deprecation.html#deprecation-of-object-mode-fall-back-behaviour-when-using-jit for details.\u001b[0m\n",
            "  @numba.jit()\n",
            "c:\\Users\\askar\\AppData\\Local\\Programs\\Python\\Python39\\lib\\site-packages\\umap\\umap_.py:660: NumbaDeprecationWarning: \u001b[1mThe 'nopython' keyword argument was not supplied to the 'numba.jit' decorator. The implicit default value for this argument is currently False, but it will be changed to True in Numba 0.59.0. See https://numba.readthedocs.io/en/stable/reference/deprecation.html#deprecation-of-object-mode-fall-back-behaviour-when-using-jit for details.\u001b[0m\n",
            "  @numba.jit()\n"
          ]
        }
      ],
      "source": [
        "from umap import UMAP\n",
        "umap = UMAP()\n",
        "embed_2d = umap.fit_transform(text_embeddings)"
      ]
    },
    {
      "attachments": {},
      "cell_type": "markdown",
      "metadata": {
        "id": "zIM7kS37y2aY",
        "papermill": {
          "duration": 0.128922,
          "end_time": "2022-01-17T23:05:43.21343",
          "exception": false,
          "start_time": "2022-01-17T23:05:43.084508",
          "status": "completed"
        },
        "tags": []
      },
      "source": [
        "# KMeans\n",
        "We will use KMeans to find clusters of essays. These are the essay topics!"
      ]
    },
    {
      "cell_type": "code",
      "execution_count": 5,
      "metadata": {
        "execution": {
          "iopub.execute_input": "2022-01-24T09:23:57.050381Z",
          "iopub.status.busy": "2022-01-24T09:23:57.050132Z",
          "iopub.status.idle": "2022-01-24T09:23:57.073893Z",
          "shell.execute_reply": "2022-01-24T09:23:57.073185Z",
          "shell.execute_reply.started": "2022-01-24T09:23:57.050346Z"
        },
        "id": "TUD2NWLly2aa",
        "papermill": {
          "duration": 0.158561,
          "end_time": "2022-01-17T23:05:43.501347",
          "exception": false,
          "start_time": "2022-01-17T23:05:43.342786",
          "status": "completed"
        },
        "tags": [],
        "trusted": true
      },
      "outputs": [
        {
          "name": "stderr",
          "output_type": "stream",
          "text": [
            "c:\\Users\\askar\\AppData\\Local\\Programs\\Python\\Python39\\lib\\site-packages\\sklearn\\cluster\\_kmeans.py:870: FutureWarning: The default value of `n_init` will change from 10 to 'auto' in 1.4. Set the value of `n_init` explicitly to suppress the warning\n",
            "  warnings.warn(\n"
          ]
        }
      ],
      "source": [
        "from sklearn.cluster import KMeans\n",
        "kmeans = KMeans(n_clusters=5)\n",
        "kmeans.fit(embed_2d)\n",
        "train_text_df['cluster'] = kmeans.labels_"
      ]
    },
    {
      "attachments": {},
      "cell_type": "markdown",
      "metadata": {
        "id": "qdygcb-Ay2aa",
        "papermill": {
          "duration": 0.129361,
          "end_time": "2022-01-17T23:05:43.759556",
          "exception": false,
          "start_time": "2022-01-17T23:05:43.630195",
          "status": "completed"
        },
        "tags": []
      },
      "source": [
        "# Display Topics\n",
        "We will display the result of UMAP which reduced text to two dimension."
      ]
    },
    {
      "cell_type": "code",
      "execution_count": 6,
      "metadata": {
        "execution": {
          "iopub.execute_input": "2022-01-24T09:25:21.736894Z",
          "iopub.status.busy": "2022-01-24T09:25:21.736642Z",
          "iopub.status.idle": "2022-01-24T09:25:22.061295Z",
          "shell.execute_reply": "2022-01-24T09:25:22.060523Z",
          "shell.execute_reply.started": "2022-01-24T09:25:21.736866Z"
        },
        "id": "Cj-bmFUay2ab",
        "papermill": {
          "duration": 3.049409,
          "end_time": "2022-01-17T23:05:46.938163",
          "exception": false,
          "start_time": "2022-01-17T23:05:43.888754",
          "status": "completed"
        },
        "tags": [],
        "trusted": true
      },
      "outputs": [
        {
          "data": {
            "image/png": "[encoded data removed]",
            "text/plain": [
              "<Figure size 720x720 with 1 Axes>"
            ]
          },
          "metadata": {
            "needs_background": "light"
          },
          "output_type": "display_data"
        },
        {
          "data": {
            "text/plain": [
              "<Figure size 432x288 with 0 Axes>"
            ]
          },
          "metadata": {},
          "output_type": "display_data"
        }
      ],
      "source": [
        "import matplotlib.pyplot as plt\n",
        "\n",
        "centers = kmeans.cluster_centers_\n",
        "\n",
        "plt.figure(figsize=(10,10))\n",
        "plt.scatter(embed_2d[:,0], embed_2d[:,1], s=1, c=kmeans.labels_)\n",
        "plt.title('UMAP Plot of Train Text using Tfidf features\\n',size=16)\n",
        "\n",
        "for k in range(len(centers)):\n",
        "    mm = np.mean( text_embeddings[train_text_df.cluster.values==k],axis=0 )\n",
        "    ii = np.argmax(mm)\n",
        "    top_word = list(tfidf.vocabulary_.keys())[list(tfidf.vocabulary_.values()).index(ii)]\n",
        "    plt.text(centers[k,0]-1,centers[k,1]+0.75,f'{k+1}-{top_word}',size=16)\n",
        "\n",
        "plt.show()\n",
        "plt.savefig('clusters.png')"
      ]
    },
    {
      "attachments": {},
      "cell_type": "markdown",
      "metadata": {
        "id": "wlADfwnYy2ad",
        "papermill": {
          "duration": 0.136156,
          "end_time": "2022-01-17T23:05:47.218946",
          "exception": false,
          "start_time": "2022-01-17T23:05:47.08279",
          "status": "completed"
        },
        "tags": []
      },
      "source": [
        "# Display Example Text\n",
        "We will display three example text from each topic. And we will display the five most important words from each topic."
      ]
    },
    {
      "cell_type": "code",
      "execution_count": 7,
      "metadata": {
        "execution": {
          "iopub.status.busy": "2022-01-24T09:23:59.124039Z",
          "iopub.status.idle": "2022-01-24T09:23:59.125268Z",
          "shell.execute_reply": "2022-01-24T09:23:59.125051Z",
          "shell.execute_reply.started": "2022-01-24T09:23:59.125026Z"
        },
        "id": "fJNlHpGxy2ae",
        "papermill": {
          "duration": 2.844041,
          "end_time": "2022-01-17T23:05:50.196557",
          "exception": false,
          "start_time": "2022-01-17T23:05:47.352516",
          "status": "completed"
        },
        "tags": [],
        "trusted": true
      },
      "outputs": [
        {
          "name": "stdout",
          "output_type": "stream",
          "text": [
            "#########################\n",
            "### Topic 1\n",
            "### Top 5 Words ['growth', 'market', 'company', 'economy', 'said']\n",
            "#########################\n",
            "---------- Example 1 ----------\n",
            "eu ministers to mull jet fuel tax european union finance ministers are meeting on thursday in brussels  where they are to discuss a controversial jet fuel tax.  a levy on jet fuel has been suggested as a way to raise funds to finance aid for the world s poorest nations. airlines and aviation bodies have reacted strongly against the plans  saying they would hurt companies at a time when earnings are under pressure. the eu said a tax would only be passed after full consultation with airlines. it was keen to point out earlier this week that any new tax on jet fuel should not hurt the  competitiveness of the airlines . ministers will also be discussing reforms to regulations governing european public spending.  global leaders have focused attention on poverty reduction and development at recent meetings of the g7 group and world economic forum. the world s richest countries have said they want to boost the amount of aid they give to 0.7% of their annual gross national income by 2015. many eu ministers are thought to support the plan to tax jet fuel - tabled by france and germany following the recent g7 meeting. at present  the fuel used by airlines enjoys either a very low tax rate or is untaxed in eu member states. \n",
            "\n",
            "---------- Example 2 ----------\n",
            "yukos accused of lying to court russian oil firm yukos lied to a us court in an attempt to stop the russian government selling off its key production unit  the court has heard.  the unit  yugansk  was sold to pay off a $27.5bn (£14.5bn) back tax bill. yukos argued that since it had a us subsidiary and local bank accounts  the us court could declare it bankrupt and stop the auction of yugansk. but deutsche bank - itself a target of a yukos lawsuit - said documents had been backdated to strengthen the case.  deutsche bank s evidence came on the first day of a two-day hearing in houston. its lawyer  hugh ray  told the court that yukos had claimed it had transferred $27m into two texas bank accounts opened by its new us subsidiary. by doing so  he said  the firm had intended to reinforce its us presence - and thus its chances of getting its case heard in us courts. but he said that the papers documenting the transaction were not drawn up till weeks after yukos made its bankruptcy application on 14 december  and then backdated.  yukos chief financial officer bruce misamore  who had moved to the us in early december to set up yukos usa  acknowledged the point. he said the discrepancy was only in the paperwork  but that money had indeed been transferred on 14 december. even so  he told the court that only $480 000 had been in the accounts that day  with the rest arriving a day later.  deutsche bank is involved in the case because it is itself being sued by yukos. it had agreed to loan to an arm of russian state gas firm gazprom the money to bid for yuganskneftegaz  as the yukos unit is formally known. the sale went ahead  despite an order from the us bankruptcy court ordered that it should be stopped. in the end  the auction was won by an unknown shell company for $9.4bn - much less than most assessments of its value - before ending up in the hands of state-controlled oil firm rosneft. rosneft  meanwhile  has agreed to merge with gazprom  bringing a large chunk of russia s very profitable oil business back under state control.  yukos maintains that it filed for bankruptcy in the us because it feared it would not be able to do so in russia. it also said that in the event of going bust  it could offer the chance of restructuring.  it gives us a kind of life after death alternative   said yukos chief executive steven theede. yukos is currently suing four companies - gazprom  its unit gazpromneft  rosneft and the shell company which won the bidding - for their part in yugansk s disposal. it has also threatened to sue the russian government for $28bn. analysts have questioned whether a us court has any jurisdiction over russian companies  while moscow officials have dismissed yukos  legal wrangling as meaningless. yukos claims that the rights of its shareholders have been ignored and that is has been punished for the political ambitions of its founder mikhail khodorkovsky. mr khodorkovsky  once russia s richest man  is in prison  having been charged with fraud and tax evasion and repeatedly denied bail. \n",
            "\n",
            "---------- Example 3 ----------\n",
            "ukraine revisits state sell-offs ukraine is preparing what could be a wholesale review of the privatisation of thousands of businesses by the previous administration.  the new president  viktor yushchenko  has said a  limited  list of companies is being drawn up. but on wednesday prime minister yulia tymoshenko said the government was planning to renationalise 3 000 firms. the government says many privatised firms were sold to allies of the last administration at rock-bottom prices. more than 90 000 businesses in all  from massive corporations to tiny shopfronts  have been sold off since 1992  as the command economy built up when ukraine was part of the soviet union was dismantled.  ms tymoshenko said prosecutors had drawn up a list of more than 3 000 businesses which were to be reviewed.  we will return to the state that which was illegally put into private hands.   a day earlier  mr yushchenko - keen to reassure potential investors - had said only 30 to 40 top firms would be targeted. the list  will be limited and final  and will not be extended after its completion   he said. an open-ended list could further damage outside investors  fragile faith in ukraine  said stuart hensel of the economist intelligence unit. but the government seemed keen not to make the review look like the kind of wholesale renationalisation which many fear in russia  mr hensel said. as a result  it was planning to resell rather than keep firms in state hands.  they re aware of the need not to scare investors  and to be careful of internal divides within ukraine   he said.  they don t want to be seen to be transferring assets from one set of oligarchs to a new set.  foreign investment in ukraine  at about $40 a head in 2004  is one of the lowest among ex-soviet states.  mr yushchenko became president after two elections in december  the first of which was annulled amid allegations of voting irregularities and massive street protests.  his opponent  viktor yanukovich  still has huge support in the country s eastern industrial heartland. mr yushchenko s administration has accused its predecessor  led by ex-president leonid kuchma  of corruption. the privatisation review s number one target is a steel mill sold to a consortium which included viktor pinchuk  mr kuchma s son-in-law  for $800m (£424m) despite higher bids from several foreign groups. the mill  krivorizhstal  is one of the world s most profitable.  we say krivorizhstal was stolen  and at any cost we will return it to the state   mr yushchenko told an investors  conference in kiev.  one of the jilted bidders  netherlands-based group lnm  said it welcomed the possibility that the mill might be back on the market.   if the original privatisation is annulled and a new tender issued  then we would look at it with great interest   a spokesman told bbc news. a resale of krivorizhstal could potentially triple the price  according to the economist intelligence unit s mr hensel. but he warned that the government could decide to take the easy route of revaluing the company and charging the existing owners the revised price rather than undertaking a fresh sale.  that way  mr yushchenko can go to the public and say he has forced the oligarchs to play by the rules   he told bbc news. \n",
            "\n",
            "#########################\n",
            "### Topic 2\n",
            "### Top 5 Words ['win', 'game', 'cup', 'team', 'season']\n",
            "#########################\n",
            "---------- Example 1 ----------\n",
            "koubek suspended after drugs test stefan koubek says he has been banned for three months by the international tennis federation (itf) after testing positive for a banned substance.  the world number 60 failed a routine drugs test at this year s french open but now plans to lodge an appeal. koubek believes an injection given to him by an austrian doctor to treat a wrist injury is to blame for producing traces of the substance in his system.  i have acted correctly   the 27-year-old austrian said in a statement. koubek  who defeated britain s greg rusedski in the decisive rubber of the davis cup in september  is now set to miss the start of the season. he said   a three-month ban would mean that i not only will miss the australian open  but also the davis cup in australia. \n",
            "\n",
            "---------- Example 2 ----------\n",
            "chelsea sack mutu chelsea have sacked adrian mutu after he failed a drugs test.  the 25-year-old tested positive for a banned substance - which he later denied was cocaine - in october. chelsea have decided to write off a possible transfer fee for mutu  a £15.8m signing from parma last season  who may face a two-year suspension. a statement from chelsea explaining the decision read: we want to make clear that chelsea has a zero tolerance policy towards drugs.  mutu scored six goals in his first five games after arriving at stamford bridge but his form went into decline and he was frozen out by coach jose mourinho. chelsea s statement added:  this applies to both performance-enhancing drugs or so-called  recreational  drugs. they have no place at our club or in sport.  in coming to a decision on this case  chelsea believed the club s social responsibility to its fans  players  employees and other stakeholders in football regarding drugs was more important than the major financial considerations to the company.  any player who takes drugs breaches his contract with the club as well as football association rules.  the club totally supports the fa in strong action on all drugs cases.  fifa s disciplinary code stipulates that a first doping offence should be followed by a six-month ban. and the sport s world governing body has re-iterated their stance over mutu s failed drugs test  maintaining it is a matter for the domestic sporting authorities.  fifa is not in a position to make any comment on the matter until the english fa have informed us of their disciplinary decision and the relevant information associated with it   said a fifa spokesman. chelsea s move won backing from drug-testing expert michelle verroken. verroken  a former director of drug-free sport for uk sport  insists the blues were right to sack mutu and have enhanced their reputation by doing so.  chelsea are saying quite clearly to the rest of their players and their fans that this is a situation they are not prepared to tolerate.  it was a very difficult decision for them and an expensive decision for them but the terms of his contract were breached and it was the only decision they could make.  it is a very clear stance by chelsea and it has given a strong boost to the reputation of the club.  it emerged that mutu had failed a drugs test on october 18 and  although it was initially reported that the banned substance in question was cocaine. the romanian international later suggested it was a substance designed to enhance sexual performance. the football association has yet to act on mutu s failed drugs test and refuses to discuss his case. \n",
            "\n",
            "---------- Example 3 ----------\n",
            "liverpool revel in night of glory liverpool manager rafael benitez said their qualification for the next stage of the champions league was  one of the proudest nights of my career.   the reds beat olympiakos 3-1 with a late steven gerrard strike and benitez said:  it was a really great night.  the players ran hard all the time and you see how much it means to the fans.  we knew before the game that it was very important for the club to gain these extra finances. for liverpool  this result is very  very important.  benitez hailed gerrard for his match-winning strike four minutes from time and also the anfield crowd for sticking by their side after they had fallen a goal behind at the interval. the reds scored three second-half goals in a sensational comeback capped by gerrard s 20-yard drive. he added:  steven can play all over the pitch and he influences every part of the game.   i have said to him many times that he has the freedom because he has talent and is very important to us.  i felt that the difference between the sides was really our supporters  i cannot thank them enough.  i want to say thank-you to the supporters  they were magnificent to help us achieve this result.  gerrard admitted he thought they were going out of the champions league after trailing 1-0 at half-time. he said:  i d be lying if i thought we were going through when we were losing at half-time.   we had a mountain to climb  but we have climbed it and credit to everyone.  that was one of the best goals i have scored  i caught it sweet  i haven t caught one like that for ages. it was a massive night for me and the team.  liverpool s win means all four of england s champions league representatives have reached the knockout stages for the first time. \n",
            "\n",
            "#########################\n",
            "### Topic 3\n",
            "### Top 5 Words ['film', 'star', 'award', 'awards', 'actor']\n",
            "#########################\n",
            "---------- Example 1 ----------\n",
            "day-lewis set for berlin honour actor daniel day-lewis is to be presented with an award for his career in film at the berlin film festival.  the 47-year-old  whose credits include his oscar-winning performance in my left foot  will be presented with the berlinale camera award on 15 february. the honour  awarded since 1986  honours figures in cinema that the festival feels  particularly indebted to . man to man  a historical epic starring kristin scott thomas  opens the german festival on 10 february. a candid documentary about the life and career of singer george michael  a different story will also be screened at the 10-day event.    day-lewis has competed four times at the berlin film festival  with films in the name of the father (1994)  the crucible (1997)  the boxer (1998) and martin scorsese s gangs of new york (2003). the festival praises him for his  sensational start  with roles in my beautiful launderette and costume classic a room with a view  and a  great number of celebrated roles  in subsequent productions. japan s oldest film studio will also be honoured along with day-lewis. shochiku film studios  which was founded 110 years ago  will become the first cinematic institution to receive the berlinale camera award. famous japanese directors including akira hurosawa have had films produced at the studio. \n",
            "\n",
            "---------- Example 2 ----------\n",
            "singer ferguson  facing eviction  three degrees star sheila ferguson is the favourite to be evicted from itv s i m a celebrity... get me out of here on monday.  bookmakers ladbrokes says the singer has even odds of being the first contestant to be voted off the show.  it s going to be close but sheila is favourite as she has shown herself to be a bit of a troublemaker   said ladbrokes  warren lush. comic joe pasquale remains odds on favourite to win the reality show. mr lush added that nancy sorrell s chances of an early departure had increased since the surprise arrival of husband vic reeves in the jungle camp last wednesday. notwithstanding  comedian reeves remains 3/1 favourite to win the show  after pasquale.  huggy bear actor antonio fargas also remains a contender for eviction having  done nothing to live up to the pre-show hype .  there has been a big gamble on natalie [appleton] to go... but bookies fancy the millions at home will keep piling on the misery by putting her through more bushtucker trials   added mr lush. the former all saint star has performed dismally in bushtucker trials which have seen her plunged into glass tanks containing putrid waste and challenged to eat fish eyes. on friday  ladbrokes suspended betting after singer brian harvey quit the show folllowing a blazing row with janet street-porter. harvey  who entered the camp a day later than other contestants after learning that his grandmother had died  reached the end of his tether following days of meagre rations and rows. \n",
            "\n",
            "---------- Example 3 ----------\n",
            "label withdraws mcfadden s video the new video of former westlife singer brian mcfadden has been pulled after a dublin school complained about being associated with his song irish son.  st fintian s high school says it is clearly identified in the video  while mcfadden never went there. mcfadden makes claims that he was beaten at his own school in the song s lyrics  saying it had  cell blocks . the performer s record label sony bmg has withdrawn the video and issued replacements to television stations. the label believed the school name was fictitious until they received the complaint. they have said the reference to the school was unintentional and coincidental.  the head of christian brothers  school st fintian s  richard fogarty  said the video implied that the 24-year-old pop star had attended his school and was abused there.  the school has always treated its pupils with respect   mr fogarty said in a statement. mcfadden makes specific references to the christian brothers in his song  but did not attend st fintian s. corporal punishment was outlawed in irish schools in 1982 when mcfadden was two years old.  mcfadden  whose debut solo album is released next week  has said that every song is autobiographical and  a true story . alcoholism and domestic violence are among the other topics dealt with in his songs  half of which have been written with robbie williams  former collaborator  guy chambers. mcfadden  who quit chart-topping group westlife in march  went to number one in september with his first solo single real to me. he enjoyed 12 chart-toppers with the boy band before parting company with them. \n",
            "\n",
            "#########################\n",
            "### Topic 4\n",
            "### Top 5 Words ['users', 'technology', 'people', 'use', 'digital']\n",
            "#########################\n",
            "---------- Example 1 ----------\n",
            "apple unveils low-cost  mac mini  apple has unveiled a new  low-cost macintosh computer for the masses  billed as the mac mini.  chief executive steve jobs showed off the new machine at his annual macworld speech  in san francisco. the $499 macintosh  sold for £339 in the uk  was described by jobs as the  most important mac  made by apple. mr jobs also unveiled the ipod shuffle  a new music player using cheaper flash memory rather than hard drives  which are used in more expensive ipods.  the new computer shifts the company into new territory - traditionally  the firm is known as a design and innovation-led firm rather than as a mass-market manufacturer. the mac mini comes without a monitor  keyboard and mouse  and a second version with a larger hard drive will also be sold for $599.  the machine - which will be available from 22 january - was described by jobs as  byodkm... bring your own display  keyboard  and mouse . in an attempt to win over windows pc customers  mr jobs said it would appeal to people thinking of changing operating systems.  people who are thinking of switching will have no more excuses   he said.  it s the newest and most affordable mac ever.  the new computer has been the subject of speculation for several weeks and while few people will be surprised by the announcement many analysts had already said it was a sensible move. in january  apple sued a website after it published what it said were specifications for the new computer. ian harris  deputy editor of uk magazine mac format  said the machine would appeal to pc-owning consumers who had purchased an ipod.   they want a further taste of mac because they like what they have seen with ipod.  harris added:  everybody thought that apple was happy to remain a niche maker of luxury computers  and moving into a market dominated by low margin manufacturers like dell is a bold move.  but it shows that apple is keen to capitalise on the mass market success it s had with the ipod. the mac mini will appeal to pc users looking for an attractive   no fuss  computer.  the new ipod shuffle comes in two versions - one offering 512mb of storage for $99 (£69 in the uk) and a second with one gigabyte of storage for $149 (£99) - and went on sale tuesday. the music player has no display and will play songs either consecutively or shuffled. the smaller ipod will hold about 120 songs  said mr jobs. mr jobs told the delegates at macworld that ipod already had a 65% market share of all digital music players. \n",
            "\n",
            "---------- Example 2 ----------\n",
            "uk gets official virus alert site a rapid alerting service that tells home computer users about serious internet security problems is being launched by the uk government.  the service  it safe  will issue warnings about damaging viruses  software vulnerabilities and weaknesses on devices such as mobile phones. alerts tell people how the threats affect them and what they can do to avoid trouble and protect themselves. the service will be free and those who sign up can get e-mail or text alerts. the scheme is aimed at home users and small businesses. the government estimates it will issue security alerts about six to 10 times a year  based on previous experience of virus outbreaks.  there is a clear need for easy-to-understand and simple independent advice for non-technically minded people who use computers either at home or at work   said home office minister hazel blears.  the purpose of this new government service is to ensure computer users are aware of the risks involved and how to deal with them easily and effectively without causing alarm.  those signing up will only be told about the most serious security threats that have the potential to affect millions of people.  full-time staff are being employed to comb through the many hundreds of alerts issued each year by computer security firms to spot which ones have the potential to catch out a large number of people between alerts the service will occasionally send messages giving people advice about safe ways to use their computers and phones.  it safe will take our technical expertise and use it to help home users understand the risks and keep their computer systems  mobile phones and a range of related consumer electronic items  safe   said roger cumming  director of the national infrastructure security coordination centre (niscc).  the niscc  which is running the service  also stressed that those signing up would still need to use anti-virus software  firewalls  and software updates to stay secure. warnings about security problems will tell people what the problem is  how it affects them and what they can do to avoid trouble. alerts will not be issued unless users can do something to protect themselves against the threat. this might include downloading an update from an anti-virus vendor or updating software to close loopholes and fix vulnerabilities. however no software patches or programs will actually be dispensed through the site. the alerts will tell people how to go about getting hold of patches from security firms. the niscc spokesman said the site and alerting service would stay in existence for as long as there were security bugs on home computers and other gadgets.  government statistics show that more than half of all uk households own a home computer. it was estimated that almost 13 million of these were able to access the internet in 2004. the launch comes as the number of viruses and other malicious programs in existence is reaching unprecedented numbers. in september 2004  the number of malicious programs circulating topped the 100 000 mark. some fear that this figure could hit 150 000 by september 2005. the creation of the national alert service follows similar efforts in the netherlands and us. the national alerting service for the netherlands (aka de waarschuwingsdienst) and the us national cyber alerting service also tell citizens of serious security threats. \n",
            "\n",
            "---------- Example 3 ----------\n",
            "broadband fuels online change fast web access is encouraging more people to express themselves online  research suggests.  a quarter of broadband users in britain regularly upload content and have personal sites  according to a report by uk think-tank demos. it said that having an always-on  fast connection is changing the way people use the internet. more than five million households in the uk have broadband and that number is growing fast.  the demos report looked at the impact of broadband on people s net habits. it found that more than half of those with broadband logged on to the web before breakfast. one in five even admitted to getting up in the middle of the night to browse the web.  more significantly  argues the report  broadband is encouraging people to take a more active role online. it found that one in five post something on the net everyday  ranging from comments or opinions on sites to uploading photographs.  broadband is putting the  me  in media as it shifts power from institutions and into the hands of the individual   said john craig  co-author of the demos report.  from self-diagnosis to online education  broadband creates social innovation that moves the debate beyond simple questions of access and speed.  the demos report  entitled broadband britain: the end of asymmetry   was commissioned by net provider aol.  broadband is moving the perception of the internet as a piece of technology to an integral part of home life in the uk   said karen thomson  chief executive of aol uk   with many people spending time on their computers as automatically as they might switch on the television or radio.  according to analysts nielsen//netratings  more than 50% of the 22.8 million uk net users regularly accessing the web from home each month are logging on at high speed they spend twice as long online than people on dial-up connections  viewing an average of 1 444 pages per month. the popularity of fast net access is growing  partly fuelled by fierce competition over prices and services. \n",
            "\n",
            "#########################\n",
            "### Topic 5\n",
            "### Top 5 Words ['mr', 'election', 'government', 'party', 'labour']\n",
            "#########################\n",
            "---------- Example 1 ----------\n",
            "brown s poll campaign move denied the government has denied reports that gordon brown is preparing to oust alan milburn as labour s election supremo.  work and pensions minister alan johnson said it was wrong to suggest the chancellor would usurp mr milburn  adding they would  work as a team . a report in the sunday business claimed mr brown has been asked to take charge of media strategy  while mr milburn would move to a behind-the-scenes role. labour has always maintained mr brown would have a central campaign role.  but many labour backbenchers are said to be dissatisfied with the way election campaigning has gone and have said they wanted to see the chancellor take a bigger role. some commentators say the tories have grasped the initiative  putting labour on the back foot  having to respond to conservative policy announcements. these claims follow various opinion polls which suggest the tories have been gaining on labour. party strategists are believed to want to bring mr brown to centre-stage having seen support rise  in private polling  after his budget last week. but another report in the sunday telegraph claims mr milburn is unwilling to allow any new role for the chancellor to come at his expense. mr johnson told bbc news:  gordon brown will play a central role in any election campaign.  they were wrong when they said milburn was ousting brown and they re wrong now if they are saying brown is ousting milburn. we work as a team.  mr milburn has repeatedly said the chancellor was key to the campaign and dismissed claims of a rift. neither downing street nor the labour party would comment directly on the reports. \n",
            "\n",
            "---------- Example 2 ----------\n",
            "sayeed to stand down as tory mp tory mp jonathan sayeed is to stand down on the grounds of ill health.  the decision comes after mr sayeed survived an attempt to de-select him in a row over allegations he had profited from private tours of parliament. the mid-bedfordshire mp had denied a claim that he was paid for guiding visitors around the palace of westminster. conservative leader michael howard has now accepted the mp s resignation  it has been announced.  mr sayeed was suspended from parliament for two weeks last month after the commons standards and privileges committee said his conduct had fallen  well below the standards expected . the conservative party had already been withdrawn the whip for a month. but his constituency association voted against a move to deselect him  with mr sayeed winning 173 of the 299 votes. after the vote  mr sayeed said only a fifth of association members had voted against him and he intended to get on with winning the election. but the vote prompted constituency association president sir stanley odell to resign in protest. the standards and privileges committee inquiry was launched after the sunday times alleged english manner limited charged clients for access to westminster through mr sayeed. mr sayeed had denied the claims  saying the suspension was  unjust and wrong  but he made an  unreserved  apology to mps in the commons chamber. he insisted that the committee s report had contained a  few errors of fact . mr sayeed has been mp for mid-bedfordshire since 1997. he represented bristol east from 1983 to 1992. \n",
            "\n",
            "---------- Example 3 ----------\n",
            "nuclear dumpsite  plan attacked plans to allow foreign nuclear waste to be permanently stored in the uk have been branded  deeply irresponsible  by the liberal democrats.  the government has confirmed intermediate level waste (ilw) that was to have been shipped back to its home countries will now be stored in the uk. the cash raised will go towards the uk s nuclear clean-up programme. but lib dem norman baker accused ministers of turning britain into a  nuclear dumpsite .  under current contracts  british nuclear fuels should return all but low level waste  but none has ever been sent back. in future  only highly-radioactive waste will be sent back to its country of origin  normally germany or japan  under armed guard. intermediate waste from countries such as japan  germany  spain  italy  switzerland and sweden will be stored permanently in the uk. at the moment  this waste is stored at sellafield  in cumbria  in the form of glass bricks  untreated liquid waste or solid material in drums. in a statement  the department of trade and industry said the new policy meant there would be a  sixfold reduction in the number of waste shipments to overseas countries . and it said highly-radioactive waste would be returned to its home country sooner  ensuring there would be no overall increase in radioactivity.  trade secretary patricia hewitt said the new arrangements  revealed in a commons written statement  would raise up to £680m for britain s nuclear clean-up programme  under the new nuclear decommissioning agency. but the move has been criticised by environmental groups and the liberal democrats. mr baker  the lib dem environment spokesman  said:  i have been warning for months that this would happen and raised it with government several times. but now our worst fears have been confirmed.  once again britain s environmental and health needs are being ignored in policies driven by the treasury and dti.  this is a terrible attempt to offload some of the £48bn cost of cleaning up nuclear sites.  the energy act was supposed to help britain clean up  but in order to pay for it we are becoming a nuclear dumpsite.  the nuclear industry is an economic  social and environmental millstone that hangs around britain s neck. \n",
            "\n"
          ]
        }
      ],
      "source": [
        "for k in range(5):\n",
        "    mm = np.mean( text_embeddings[train_text_df.cluster.values==k],axis=0 )\n",
        "    ii = ( np.argsort(mm)[-5:][::-1] )\n",
        "    top_words = [list(tfidf.vocabulary_.keys())[list(tfidf.vocabulary_.values()).index(i)] for i in ii]\n",
        "    print('#'*25)\n",
        "    print(f'### Topic {k+1}')\n",
        "    print('### Top 5 Words',top_words)\n",
        "    print('#'*25)\n",
        "    tmp = train_text_df.loc[train_text_df.cluster==k].sample(3, random_state=123)\n",
        "    for j in range(3):\n",
        "        txt = tmp.iloc[j,0]\n",
        "        print('-'*10,f'Example {j+1}','-'*10)\n",
        "        print(txt,'\\n')"
      ]
    },
    {
      "cell_type": "code",
      "execution_count": null,
      "metadata": {},
      "outputs": [],
      "source": []
    }
  ],
  "metadata": {
    "accelerator": "GPU",
    "colab": {
      "collapsed_sections": [],
      "name": "rapids-umap-tfidf-kmeans-bbc-news(1).ipynb",
      "provenance": []
    },
    "gpuClass": "standard",
    "kernelspec": {
      "display_name": "Python 3",
      "language": "python",
      "name": "python3"
    },
    "language_info": {
      "codemirror_mode": {
        "name": "ipython",
        "version": 3
      },
      "file_extension": ".py",
      "mimetype": "text/x-python",
      "name": "python",
      "nbconvert_exporter": "python",
      "pygments_lexer": "ipython3",
      "version": "3.9.10"
    }
  },
  "nbformat": 4,
  "nbformat_minor": 0
}

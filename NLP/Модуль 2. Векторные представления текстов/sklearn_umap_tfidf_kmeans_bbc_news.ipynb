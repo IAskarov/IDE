{
  "metadata": {
    "kernelspec": {
      "language": "python",
      "display_name": "Python 3",
      "name": "python3"
    },
    "language_info": {
      "name": "python",
      "version": "3.7.12",
      "mimetype": "text/x-python",
      "codemirror_mode": {
        "name": "ipython",
        "version": 3
      },
      "pygments_lexer": "ipython3",
      "nbconvert_exporter": "python",
      "file_extension": ".py"
    },
    "colab": {
      "name": "rapids-umap-tfidf-kmeans-bbc-news(1).ipynb",
      "provenance": [],
      "collapsed_sections": []
    },
    "accelerator": "GPU",
    "gpuClass": "standard"
  },
  "nbformat_minor": 0,
  "nbformat": 4,
  "cells": [
    {
      "cell_type": "code",
      "source": [
        "!pip install datasets umap-learn\n",
        "import pandas as pd, os\n",
        "from tqdm import tqdm\n",
        "import numpy as np\n",
        "import datasets"
      ],
      "metadata": {
        "papermill": {
          "duration": 4.07503,
          "end_time": "2022-01-17T23:04:31.564422",
          "exception": false,
          "start_time": "2022-01-17T23:04:27.489392",
          "status": "completed"
        },
        "tags": [],
        "execution": {
          "iopub.status.busy": "2022-01-24T09:23:31.088196Z",
          "iopub.execute_input": "2022-01-24T09:23:31.089056Z",
          "iopub.status.idle": "2022-01-24T09:23:36.507130Z",
          "shell.execute_reply.started": "2022-01-24T09:23:31.088923Z",
          "shell.execute_reply": "2022-01-24T09:23:36.506340Z"
        },
        "trusted": true,
        "id": "Et_BzhXgy2aO"
      },
      "execution_count": null,
      "outputs": []
    },
    {
      "cell_type": "markdown",
      "source": [
        "#Pandas Df\n",
        "We will read train text into a Pandas df."
      ],
      "metadata": {
        "papermill": {
          "duration": 0.008852,
          "end_time": "2022-01-17T23:04:31.583041",
          "exception": false,
          "start_time": "2022-01-17T23:04:31.574189",
          "status": "completed"
        },
        "tags": [],
        "id": "GAoVf5edy2aS"
      }
    },
    {
      "cell_type": "code",
      "source": [
        "from datasets import load_dataset\n",
        "\n",
        "dataset = load_dataset(\"SetFit/bbc-news\")\n",
        "\n",
        "train_text_df = pd.DataFrame({'text': dataset['train']['text']})\n",
        "train_text_df.head()"
      ],
      "metadata": {
        "papermill": {
          "duration": 53.841219,
          "end_time": "2022-01-17T23:05:25.433189",
          "exception": false,
          "start_time": "2022-01-17T23:04:31.59197",
          "status": "completed"
        },
        "tags": [],
        "execution": {
          "iopub.status.busy": "2022-01-24T09:23:36.508658Z",
          "iopub.execute_input": "2022-01-24T09:23:36.510113Z",
          "iopub.status.idle": "2022-01-24T09:23:42.595389Z",
          "shell.execute_reply.started": "2022-01-24T09:23:36.510074Z",
          "shell.execute_reply": "2022-01-24T09:23:42.594635Z"
        },
        "trusted": true,
        "id": "EWMC8eVTy2aT"
      },
      "execution_count": null,
      "outputs": []
    },
    {
      "cell_type": "markdown",
      "source": [
        "#Tfidf\n",
        "We will use Tfidf to convert each text into a embedding vector of length 25,000."
      ],
      "metadata": {
        "papermill": {
          "duration": 0.144337,
          "end_time": "2022-01-17T23:05:25.723418",
          "exception": false,
          "start_time": "2022-01-17T23:05:25.579081",
          "status": "completed"
        },
        "tags": [],
        "id": "2pbX1kCdy2aU"
      }
    },
    {
      "cell_type": "code",
      "source": [
        "from sklearn.feature_extraction.text import TfidfVectorizer\n",
        "tfidf = TfidfVectorizer(stop_words='english', binary=True, max_features=25_000)\n",
        "text_embeddings = tfidf.fit_transform( train_text_df['text'] ).toarray()"
      ],
      "metadata": {
        "papermill": {
          "duration": 13.874568,
          "end_time": "2022-01-17T23:05:39.7417",
          "exception": false,
          "start_time": "2022-01-17T23:05:25.867132",
          "status": "completed"
        },
        "tags": [],
        "execution": {
          "iopub.status.busy": "2022-01-24T09:23:42.596770Z",
          "iopub.execute_input": "2022-01-24T09:23:42.597045Z",
          "iopub.status.idle": "2022-01-24T09:23:55.949482Z",
          "shell.execute_reply.started": "2022-01-24T09:23:42.597009Z",
          "shell.execute_reply": "2022-01-24T09:23:55.948714Z"
        },
        "trusted": true,
        "id": "p9lB_-vJy2aV"
      },
      "execution_count": 11,
      "outputs": []
    },
    {
      "cell_type": "markdown",
      "source": [
        "# UMAP\n",
        "We will use UMAP (Uniform Manifold Approximation and Projection for Dimension Reduction) to reduce embedding vectors to two dimensions"
      ],
      "metadata": {
        "papermill": {
          "duration": 0.128876,
          "end_time": "2022-01-17T23:05:40.000099",
          "exception": false,
          "start_time": "2022-01-17T23:05:39.871223",
          "status": "completed"
        },
        "tags": [],
        "id": "di5XOggNy2aX"
      }
    },
    {
      "cell_type": "code",
      "source": [
        "from umap import UMAP\n",
        "umap = UMAP()\n",
        "embed_2d = umap.fit_transform(text_embeddings)"
      ],
      "metadata": {
        "papermill": {
          "duration": 2.825378,
          "end_time": "2022-01-17T23:05:42.954513",
          "exception": false,
          "start_time": "2022-01-17T23:05:40.129135",
          "status": "completed"
        },
        "tags": [],
        "execution": {
          "iopub.status.busy": "2022-01-24T09:23:55.951609Z",
          "iopub.execute_input": "2022-01-24T09:23:55.951808Z",
          "iopub.status.idle": "2022-01-24T09:23:57.048623Z",
          "shell.execute_reply.started": "2022-01-24T09:23:55.951783Z",
          "shell.execute_reply": "2022-01-24T09:23:57.047815Z"
        },
        "trusted": true,
        "id": "89434RwTy2aY"
      },
      "execution_count": 12,
      "outputs": []
    },
    {
      "cell_type": "markdown",
      "source": [
        "# KMeans\n",
        "We will use KMeans to find clusters of essays. These are the essay topics!"
      ],
      "metadata": {
        "papermill": {
          "duration": 0.128922,
          "end_time": "2022-01-17T23:05:43.21343",
          "exception": false,
          "start_time": "2022-01-17T23:05:43.084508",
          "status": "completed"
        },
        "tags": [],
        "id": "zIM7kS37y2aY"
      }
    },
    {
      "cell_type": "code",
      "source": [
        "from sklearn.cluster import KMeans\n",
        "kmeans = KMeans(n_clusters=5)\n",
        "kmeans.fit(embed_2d)\n",
        "train_text_df['cluster'] = kmeans.labels_"
      ],
      "metadata": {
        "papermill": {
          "duration": 0.158561,
          "end_time": "2022-01-17T23:05:43.501347",
          "exception": false,
          "start_time": "2022-01-17T23:05:43.342786",
          "status": "completed"
        },
        "tags": [],
        "execution": {
          "iopub.status.busy": "2022-01-24T09:23:57.050132Z",
          "iopub.execute_input": "2022-01-24T09:23:57.050381Z",
          "iopub.status.idle": "2022-01-24T09:23:57.073893Z",
          "shell.execute_reply.started": "2022-01-24T09:23:57.050346Z",
          "shell.execute_reply": "2022-01-24T09:23:57.073185Z"
        },
        "trusted": true,
        "id": "TUD2NWLly2aa"
      },
      "execution_count": 13,
      "outputs": []
    },
    {
      "cell_type": "markdown",
      "source": [
        "# Display Topics\n",
        "We will display the result of UMAP which reduced text to two dimension."
      ],
      "metadata": {
        "papermill": {
          "duration": 0.129361,
          "end_time": "2022-01-17T23:05:43.759556",
          "exception": false,
          "start_time": "2022-01-17T23:05:43.630195",
          "status": "completed"
        },
        "tags": [],
        "id": "qdygcb-Ay2aa"
      }
    },
    {
      "cell_type": "code",
      "source": [
        "import matplotlib.pyplot as plt\n",
        "\n",
        "centers = kmeans.cluster_centers_\n",
        "\n",
        "plt.figure(figsize=(10,10))\n",
        "plt.scatter(embed_2d[:,0], embed_2d[:,1], s=1, c=kmeans.labels_)\n",
        "plt.title('UMAP Plot of Train Text using Tfidf features\\n',size=16)\n",
        "\n",
        "for k in range(len(centers)):\n",
        "    mm = np.mean( text_embeddings[train_text_df.cluster.values==k],axis=0 )\n",
        "    ii = np.argmax(mm)\n",
        "    top_word = list(tfidf.vocabulary_.keys())[list(tfidf.vocabulary_.values()).index(ii)]\n",
        "    plt.text(centers[k,0]-1,centers[k,1]+0.75,f'{k+1}-{top_word}',size=16)\n",
        "\n",
        "plt.show()\n",
        "plt.savefig('clusters.png')"
      ],
      "metadata": {
        "papermill": {
          "duration": 3.049409,
          "end_time": "2022-01-17T23:05:46.938163",
          "exception": false,
          "start_time": "2022-01-17T23:05:43.888754",
          "status": "completed"
        },
        "tags": [],
        "execution": {
          "iopub.status.busy": "2022-01-24T09:25:21.736642Z",
          "iopub.execute_input": "2022-01-24T09:25:21.736894Z",
          "iopub.status.idle": "2022-01-24T09:25:22.061295Z",
          "shell.execute_reply.started": "2022-01-24T09:25:21.736866Z",
          "shell.execute_reply": "2022-01-24T09:25:22.060523Z"
        },
        "trusted": true,
        "id": "Cj-bmFUay2ab"
      },
      "execution_count": null,
      "outputs": []
    },
    {
      "cell_type": "markdown",
      "source": [
        "# Display Example Text\n",
        "We will display three example text from each topic. And we will display the five most important words from each topic."
      ],
      "metadata": {
        "papermill": {
          "duration": 0.136156,
          "end_time": "2022-01-17T23:05:47.218946",
          "exception": false,
          "start_time": "2022-01-17T23:05:47.08279",
          "status": "completed"
        },
        "tags": [],
        "id": "wlADfwnYy2ad"
      }
    },
    {
      "cell_type": "code",
      "source": [
        "for k in range(5):\n",
        "    mm = np.mean( text_embeddings[train_text_df.cluster.values==k],axis=0 )\n",
        "    ii = ( np.argsort(mm)[-5:][::-1] )\n",
        "    top_words = [list(tfidf.vocabulary_.keys())[list(tfidf.vocabulary_.values()).index(i)] for i in ii]\n",
        "    print('#'*25)\n",
        "    print(f'### Topic {k+1}')\n",
        "    print('### Top 5 Words',top_words)\n",
        "    print('#'*25)\n",
        "    tmp = train_text_df.loc[train_text_df.cluster==k].sample(3, random_state=123)\n",
        "    for j in range(3):\n",
        "        txt = tmp.iloc[j,0]\n",
        "        print('-'*10,f'Example {j+1}','-'*10)\n",
        "        print(txt,'\\n')"
      ],
      "metadata": {
        "papermill": {
          "duration": 2.844041,
          "end_time": "2022-01-17T23:05:50.196557",
          "exception": false,
          "start_time": "2022-01-17T23:05:47.352516",
          "status": "completed"
        },
        "tags": [],
        "execution": {
          "iopub.status.busy": "2022-01-24T09:23:59.124039Z",
          "iopub.status.idle": "2022-01-24T09:23:59.125268Z",
          "shell.execute_reply.started": "2022-01-24T09:23:59.125026Z",
          "shell.execute_reply": "2022-01-24T09:23:59.125051Z"
        },
        "trusted": true,
        "id": "fJNlHpGxy2ae"
      },
      "execution_count": null,
      "outputs": []
    }
  ]
}
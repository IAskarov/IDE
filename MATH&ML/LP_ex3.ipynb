{
 "cells": [
  {
   "cell_type": "markdown",
   "metadata": {},
   "source": [
    "# Задание 4.5.3"
   ]
  },
  {
   "cell_type": "code",
   "execution_count": 1,
   "metadata": {},
   "outputs": [],
   "source": [
    "from scipy.optimize import linprog\n",
    "import numpy as np\n",
    "import cvxpy as cvx"
   ]
  },
  {
   "cell_type": "code",
   "execution_count": 2,
   "metadata": {},
   "outputs": [],
   "source": [
    "x = cvx.Variable(shape=(5,5), boolean=True)\n",
    "u = cvx.Variable(shape=5, integer=True)"
   ]
  },
  {
   "cell_type": "code",
   "execution_count": 3,
   "metadata": {},
   "outputs": [],
   "source": [
    "from itertools import product"
   ]
  },
  {
   "cell_type": "code",
   "execution_count": 4,
   "metadata": {},
   "outputs": [],
   "source": [
    "constraints = [\n",
    "    cvx.sum(x, axis=0) == np.ones(5),\n",
    "    cvx.sum(x, axis=1) == np.ones(5),\n",
    "    u >= 1,\n",
    "    u <= 4\n",
    "]\n",
    "\n",
    "for i, j in product(range(5), range(5)):\n",
    "    if i >= 1 and j >= 2 and i != j:\n",
    "        constraints.append(u[i] - u[j] + 5 * x[i,j] <= 4)\n"
   ]
  },
  {
   "cell_type": "code",
   "execution_count": 6,
   "metadata": {},
   "outputs": [
    {
     "ename": "ValueError",
     "evalue": "Cannot broadcast dimensions  (5, 5) (5,)",
     "output_type": "error",
     "traceback": [
      "\u001b[1;31m---------------------------------------------------------------------------\u001b[0m",
      "\u001b[1;31mValueError\u001b[0m                                Traceback (most recent call last)",
      "\u001b[1;32me:\\My date\\Skillfactory\\Course\\IDE\\MATH&ML\\LP_ex3.ipynb Cell 6\u001b[0m in \u001b[0;36m<cell line: 1>\u001b[1;34m()\u001b[0m\n\u001b[1;32m----> <a href='vscode-notebook-cell:/e%3A/My%20date/Skillfactory/Course/IDE/MATH%26ML/LP_ex3.ipynb#W5sZmlsZQ%3D%3D?line=0'>1</a>\u001b[0m func \u001b[39m=\u001b[39m cvx\u001b[39m.\u001b[39msum(cvx\u001b[39m.\u001b[39;49mmultiply(x, u))\n",
      "File \u001b[1;32mc:\\Users\\askar\\AppData\\Local\\Programs\\Python\\Python39\\lib\\site-packages\\cvxpy\\atoms\\affine\\binary_operators.py:241\u001b[0m, in \u001b[0;36mmultiply.__init__\u001b[1;34m(self, lh_expr, rh_expr)\u001b[0m\n\u001b[0;32m    239\u001b[0m \u001b[39mdef\u001b[39;00m \u001b[39m__init__\u001b[39m(\u001b[39mself\u001b[39m, lh_expr, rh_expr) \u001b[39m-\u001b[39m\u001b[39m>\u001b[39m \u001b[39mNone\u001b[39;00m:\n\u001b[0;32m    240\u001b[0m     lh_expr, rh_expr \u001b[39m=\u001b[39m \u001b[39mself\u001b[39m\u001b[39m.\u001b[39mbroadcast(lh_expr, rh_expr)\n\u001b[1;32m--> 241\u001b[0m     \u001b[39msuper\u001b[39;49m(multiply, \u001b[39mself\u001b[39;49m)\u001b[39m.\u001b[39;49m\u001b[39m__init__\u001b[39;49m(lh_expr, rh_expr)\n",
      "File \u001b[1;32mc:\\Users\\askar\\AppData\\Local\\Programs\\Python\\Python39\\lib\\site-packages\\cvxpy\\atoms\\affine\\binary_operators.py:50\u001b[0m, in \u001b[0;36mBinaryOperator.__init__\u001b[1;34m(self, lh_exp, rh_exp)\u001b[0m\n\u001b[0;32m     49\u001b[0m \u001b[39mdef\u001b[39;00m \u001b[39m__init__\u001b[39m(\u001b[39mself\u001b[39m, lh_exp, rh_exp) \u001b[39m-\u001b[39m\u001b[39m>\u001b[39m \u001b[39mNone\u001b[39;00m:\n\u001b[1;32m---> 50\u001b[0m     \u001b[39msuper\u001b[39;49m(BinaryOperator, \u001b[39mself\u001b[39;49m)\u001b[39m.\u001b[39;49m\u001b[39m__init__\u001b[39;49m(lh_exp, rh_exp)\n",
      "File \u001b[1;32mc:\\Users\\askar\\AppData\\Local\\Programs\\Python\\Python39\\lib\\site-packages\\cvxpy\\atoms\\atom.py:51\u001b[0m, in \u001b[0;36mAtom.__init__\u001b[1;34m(self, *args)\u001b[0m\n\u001b[0;32m     49\u001b[0m \u001b[39mself\u001b[39m\u001b[39m.\u001b[39margs \u001b[39m=\u001b[39m [Atom\u001b[39m.\u001b[39mcast_to_const(arg) \u001b[39mfor\u001b[39;00m arg \u001b[39min\u001b[39;00m args]\n\u001b[0;32m     50\u001b[0m \u001b[39mself\u001b[39m\u001b[39m.\u001b[39mvalidate_arguments()\n\u001b[1;32m---> 51\u001b[0m \u001b[39mself\u001b[39m\u001b[39m.\u001b[39m_shape \u001b[39m=\u001b[39m \u001b[39mself\u001b[39;49m\u001b[39m.\u001b[39;49mshape_from_args()\n\u001b[0;32m     52\u001b[0m \u001b[39mif\u001b[39;00m \u001b[39mlen\u001b[39m(\u001b[39mself\u001b[39m\u001b[39m.\u001b[39m_shape) \u001b[39m>\u001b[39m \u001b[39m2\u001b[39m:\n\u001b[0;32m     53\u001b[0m     \u001b[39mraise\u001b[39;00m \u001b[39mValueError\u001b[39;00m(\u001b[39m\"\u001b[39m\u001b[39mAtoms must be at most 2D.\u001b[39m\u001b[39m\"\u001b[39m)\n",
      "File \u001b[1;32mc:\\Users\\askar\\AppData\\Local\\Programs\\Python\\Python39\\lib\\site-packages\\cvxpy\\atoms\\affine\\binary_operators.py:278\u001b[0m, in \u001b[0;36mmultiply.shape_from_args\u001b[1;34m(self)\u001b[0m\n\u001b[0;32m    275\u001b[0m \u001b[39mdef\u001b[39;00m \u001b[39mshape_from_args\u001b[39m(\u001b[39mself\u001b[39m) \u001b[39m-\u001b[39m\u001b[39m>\u001b[39m Tuple[\u001b[39mint\u001b[39m, \u001b[39m.\u001b[39m\u001b[39m.\u001b[39m\u001b[39m.\u001b[39m]:\n\u001b[0;32m    276\u001b[0m     \u001b[39m\"\"\"The sum of the argument dimensions - 1.\u001b[39;00m\n\u001b[0;32m    277\u001b[0m \u001b[39m    \"\"\"\u001b[39;00m\n\u001b[1;32m--> 278\u001b[0m     \u001b[39mreturn\u001b[39;00m u\u001b[39m.\u001b[39;49mshape\u001b[39m.\u001b[39;49msum_shapes([arg\u001b[39m.\u001b[39;49mshape \u001b[39mfor\u001b[39;49;00m arg \u001b[39min\u001b[39;49;00m \u001b[39mself\u001b[39;49m\u001b[39m.\u001b[39;49margs])\n",
      "File \u001b[1;32mc:\\Users\\askar\\AppData\\Local\\Programs\\Python\\Python39\\lib\\site-packages\\cvxpy\\utilities\\shape.py:50\u001b[0m, in \u001b[0;36msum_shapes\u001b[1;34m(shapes)\u001b[0m\n\u001b[0;32m     47\u001b[0m \u001b[39mfor\u001b[39;00m t \u001b[39min\u001b[39;00m shapes[\u001b[39m1\u001b[39m:]:\n\u001b[0;32m     48\u001b[0m     \u001b[39m# Only allow broadcasting for 0D arrays or summation of scalars.\u001b[39;00m\n\u001b[0;32m     49\u001b[0m     \u001b[39mif\u001b[39;00m shape \u001b[39m!=\u001b[39m t \u001b[39mand\u001b[39;00m \u001b[39mlen\u001b[39m(squeezed(shape)) \u001b[39m!=\u001b[39m \u001b[39m0\u001b[39m \u001b[39mand\u001b[39;00m \u001b[39mlen\u001b[39m(squeezed(t)) \u001b[39m!=\u001b[39m \u001b[39m0\u001b[39m:\n\u001b[1;32m---> 50\u001b[0m         \u001b[39mraise\u001b[39;00m \u001b[39mValueError\u001b[39;00m(\n\u001b[0;32m     51\u001b[0m             \u001b[39m\"\u001b[39m\u001b[39mCannot broadcast dimensions \u001b[39m\u001b[39m\"\u001b[39m \u001b[39m+\u001b[39m\n\u001b[0;32m     52\u001b[0m             \u001b[39mlen\u001b[39m(shapes)\u001b[39m*\u001b[39m\u001b[39m\"\u001b[39m\u001b[39m \u001b[39m\u001b[39m%s\u001b[39;00m\u001b[39m\"\u001b[39m \u001b[39m%\u001b[39m \u001b[39mtuple\u001b[39m(shapes))\n\u001b[0;32m     54\u001b[0m     longer \u001b[39m=\u001b[39m shape \u001b[39mif\u001b[39;00m \u001b[39mlen\u001b[39m(shape) \u001b[39m>\u001b[39m\u001b[39m=\u001b[39m \u001b[39mlen\u001b[39m(t) \u001b[39melse\u001b[39;00m t\n\u001b[0;32m     55\u001b[0m     shorter \u001b[39m=\u001b[39m shape \u001b[39mif\u001b[39;00m \u001b[39mlen\u001b[39m(shape) \u001b[39m<\u001b[39m \u001b[39mlen\u001b[39m(t) \u001b[39melse\u001b[39;00m t\n",
      "\u001b[1;31mValueError\u001b[0m: Cannot broadcast dimensions  (5, 5) (5,)"
     ]
    }
   ],
   "source": [
    "func = cvx.sum(cvx.multiply(x, u))"
   ]
  },
  {
   "cell_type": "code",
   "execution_count": null,
   "metadata": {},
   "outputs": [],
   "source": [
    "problem = cvx.Problem(cvx.Minimize(func), constraints=constraints)"
   ]
  },
  {
   "cell_type": "markdown",
   "metadata": {},
   "source": [
    "### Ответ"
   ]
  },
  {
   "cell_type": "code",
   "execution_count": null,
   "metadata": {},
   "outputs": [],
   "source": [
    "problem.solve()"
   ]
  },
  {
   "cell_type": "markdown",
   "metadata": {},
   "source": [
    "### Выбранные пути"
   ]
  },
  {
   "cell_type": "code",
   "execution_count": null,
   "metadata": {},
   "outputs": [],
   "source": [
    "np.round(x.value)"
   ]
  },
  {
   "cell_type": "markdown",
   "metadata": {},
   "source": [
    "### Значения $u$\n",
    "$u[0]$ ничего не значит, она не фигурирует ни в ограничениях, ни в целевой функции"
   ]
  },
  {
   "cell_type": "code",
   "execution_count": null,
   "metadata": {},
   "outputs": [],
   "source": [
    "np.round(u.value)"
   ]
  },
  {
   "cell_type": "markdown",
   "metadata": {},
   "source": [
    "Это означает, что вершина A - первая в маршруте, B - третья, C - вторая, D - четвёртая. Эту же информацию можно достать из матрицы $X$.  \n",
    "Искомое решение.\n",
    "\n",
    "![alt text](https://i.ibb.co/qJzt4LW/image.png)"
   ]
  },
  {
   "cell_type": "code",
   "execution_count": null,
   "metadata": {},
   "outputs": [],
   "source": []
  }
 ],
 "metadata": {
  "kernelspec": {
   "display_name": "Python 3",
   "language": "python",
   "name": "python3"
  },
  "language_info": {
   "codemirror_mode": {
    "name": "ipython",
    "version": 3
   },
   "file_extension": ".py",
   "mimetype": "text/x-python",
   "name": "python",
   "nbconvert_exporter": "python",
   "pygments_lexer": "ipython3",
   "version": "3.9.10"
  },
  "vscode": {
   "interpreter": {
    "hash": "88eb033608991f3665fd82f47a8adc6d6deba65540851fbdbd4e659defad24ab"
   }
  }
 },
 "nbformat": 4,
 "nbformat_minor": 2
}

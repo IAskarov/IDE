{
 "cells": [
  {
   "cell_type": "markdown",
   "metadata": {
    "colab_type": "text",
    "id": "kx8AqfurFc_4"
   },
   "source": [
    "# Задание 4.5.2"
   ]
  },
  {
   "cell_type": "code",
   "execution_count": 1,
   "metadata": {},
   "outputs": [],
   "source": [
    "from scipy.optimize import linprog\n",
    "import numpy as np"
   ]
  },
  {
   "cell_type": "code",
   "execution_count": 4,
   "metadata": {
    "colab": {},
    "colab_type": "code",
    "id": "hhCg5xr4Fc_5"
   },
   "outputs": [],
   "source": [
    "import cvxpy as cvx"
   ]
  },
  {
   "cell_type": "markdown",
   "metadata": {
    "colab_type": "text",
    "id": "ve8kvbp3Fc_7"
   },
   "source": [
    "#### Матрица стоимостей $C$"
   ]
  },
  {
   "cell_type": "code",
   "execution_count": 13,
   "metadata": {
    "colab": {},
    "colab_type": "code",
    "id": "cneKD5wHFc_8"
   },
   "outputs": [],
   "source": [
    "c = np.array([[1000, 12, 10, 19, 8],\n",
    "    [12, 1000, 3, 7, 2], \n",
    "    [10, 3, 1000, 6, 20], \n",
    "    [19, 7, 6, 1000, 4], \n",
    "    [8, 2, 20, 4, 1000]])\n",
    "\n"
   ]
  },
  {
   "cell_type": "markdown",
   "metadata": {
    "colab_type": "text",
    "id": "UwD5zNQUFc_-"
   },
   "source": [
    "#### Матрица переменных $X$"
   ]
  },
  {
   "cell_type": "code",
   "execution_count": 14,
   "metadata": {
    "colab": {},
    "colab_type": "code",
    "id": "vlZ6amgBFc__"
   },
   "outputs": [],
   "source": [
    "x = cvx.Variable(shape=(5,5), boolean=True)"
   ]
  },
  {
   "cell_type": "markdown",
   "metadata": {
    "colab_type": "text",
    "id": "70zbMCPuFdAB"
   },
   "source": [
    "#### Ограничения (сумма $X$ по строкам и столбцам равна 1)"
   ]
  },
  {
   "cell_type": "code",
   "execution_count": 15,
   "metadata": {
    "colab": {},
    "colab_type": "code",
    "id": "GSDUt5mfFdAB"
   },
   "outputs": [],
   "source": [
    "constraints = [\n",
    "    cvx.sum(x, axis=0) == np.ones(5),\n",
    "    cvx.sum(x, axis=1) == np.ones(5)\n",
    "]\n",
    "    "
   ]
  },
  {
   "cell_type": "markdown",
   "metadata": {
    "colab_type": "text",
    "id": "44fgYK_pFdAE"
   },
   "source": [
    "#### Целевая функция (сумма $CX$)"
   ]
  },
  {
   "cell_type": "code",
   "execution_count": 16,
   "metadata": {
    "colab": {},
    "colab_type": "code",
    "id": "IHe9F6Q7FdAF"
   },
   "outputs": [],
   "source": [
    "func = cvx.sum(cvx.multiply(x, c))"
   ]
  },
  {
   "cell_type": "code",
   "execution_count": 17,
   "metadata": {
    "colab": {},
    "colab_type": "code",
    "id": "kg-ceJm5FdAI"
   },
   "outputs": [],
   "source": [
    "problem = cvx.Problem(cvx.Minimize(func), constraints=constraints)"
   ]
  },
  {
   "cell_type": "markdown",
   "metadata": {
    "colab_type": "text",
    "id": "B6ErVQVNFdAK"
   },
   "source": [
    "#### Ответ"
   ]
  },
  {
   "cell_type": "code",
   "execution_count": 18,
   "metadata": {
    "colab": {
     "base_uri": "https://localhost:8080/",
     "height": 34
    },
    "colab_type": "code",
    "id": "G3s6BBjbFdAL",
    "outputId": "9fa735af-7e08-4edf-a37b-dd21104e969e"
   },
   "outputs": [
    {
     "ename": "SolverError",
     "evalue": "\n\n                    You need a mixed-integer solver for this model. Refer to the documentation\n                        https://www.cvxpy.org/tutorial/advanced/index.html#mixed-integer-programs\n                    for discussion on this topic.\n\n                    Quick fix 1: if you install the python package CVXOPT (pip install cvxopt),\n                    then CVXPY can use the open-source mixed-integer linear programming\n                    solver `GLPK`. If your problem is nonlinear then you can install SCIP\n                    (pip install pyscipopt).\n\n                    Quick fix 2: you can explicitly specify solver='ECOS_BB'. This may result\n                    in incorrect solutions and is not recommended.\n                ",
     "output_type": "error",
     "traceback": [
      "\u001b[1;31m---------------------------------------------------------------------------\u001b[0m",
      "\u001b[1;31mSolverError\u001b[0m                               Traceback (most recent call last)",
      "\u001b[1;32me:\\My date\\Skillfactory\\Course\\IDE\\MATH&ML\\LP_ex2.ipynb Cell 14\u001b[0m in \u001b[0;36m<cell line: 1>\u001b[1;34m()\u001b[0m\n\u001b[1;32m----> <a href='vscode-notebook-cell:/e%3A/My%20date/Skillfactory/Course/IDE/MATH%26ML/LP_ex2.ipynb#X16sZmlsZQ%3D%3D?line=0'>1</a>\u001b[0m problem\u001b[39m.\u001b[39;49msolve()\n",
      "File \u001b[1;32mc:\\Users\\askar\\AppData\\Local\\Programs\\Python\\Python39\\lib\\site-packages\\cvxpy\\problems\\problem.py:493\u001b[0m, in \u001b[0;36mProblem.solve\u001b[1;34m(self, *args, **kwargs)\u001b[0m\n\u001b[0;32m    491\u001b[0m \u001b[39melse\u001b[39;00m:\n\u001b[0;32m    492\u001b[0m     solve_func \u001b[39m=\u001b[39m Problem\u001b[39m.\u001b[39m_solve\n\u001b[1;32m--> 493\u001b[0m \u001b[39mreturn\u001b[39;00m solve_func(\u001b[39mself\u001b[39m, \u001b[39m*\u001b[39margs, \u001b[39m*\u001b[39m\u001b[39m*\u001b[39mkwargs)\n",
      "File \u001b[1;32mc:\\Users\\askar\\AppData\\Local\\Programs\\Python\\Python39\\lib\\site-packages\\cvxpy\\problems\\problem.py:1054\u001b[0m, in \u001b[0;36mProblem._solve\u001b[1;34m(self, solver, warm_start, verbose, gp, qcp, requires_grad, enforce_dpp, ignore_dpp, canon_backend, **kwargs)\u001b[0m\n\u001b[0;32m   1051\u001b[0m         \u001b[39mself\u001b[39m\u001b[39m.\u001b[39munpack(chain\u001b[39m.\u001b[39mretrieve(soln))\n\u001b[0;32m   1052\u001b[0m         \u001b[39mreturn\u001b[39;00m \u001b[39mself\u001b[39m\u001b[39m.\u001b[39mvalue\n\u001b[1;32m-> 1054\u001b[0m data, solving_chain, inverse_data \u001b[39m=\u001b[39m \u001b[39mself\u001b[39;49m\u001b[39m.\u001b[39;49mget_problem_data(\n\u001b[0;32m   1055\u001b[0m     solver, gp, enforce_dpp, ignore_dpp, verbose, canon_backend, kwargs\n\u001b[0;32m   1056\u001b[0m )\n\u001b[0;32m   1058\u001b[0m \u001b[39mif\u001b[39;00m verbose:\n\u001b[0;32m   1059\u001b[0m     \u001b[39mprint\u001b[39m(_NUM_SOLVER_STR)\n",
      "File \u001b[1;32mc:\\Users\\askar\\AppData\\Local\\Programs\\Python\\Python39\\lib\\site-packages\\cvxpy\\problems\\problem.py:631\u001b[0m, in \u001b[0;36mProblem.get_problem_data\u001b[1;34m(self, solver, gp, enforce_dpp, ignore_dpp, verbose, canon_backend, solver_opts)\u001b[0m\n\u001b[0;32m    629\u001b[0m \u001b[39mif\u001b[39;00m key \u001b[39m!=\u001b[39m \u001b[39mself\u001b[39m\u001b[39m.\u001b[39m_cache\u001b[39m.\u001b[39mkey:\n\u001b[0;32m    630\u001b[0m     \u001b[39mself\u001b[39m\u001b[39m.\u001b[39m_cache\u001b[39m.\u001b[39minvalidate()\n\u001b[1;32m--> 631\u001b[0m     solving_chain \u001b[39m=\u001b[39m \u001b[39mself\u001b[39;49m\u001b[39m.\u001b[39;49m_construct_chain(\n\u001b[0;32m    632\u001b[0m         solver\u001b[39m=\u001b[39;49msolver, gp\u001b[39m=\u001b[39;49mgp,\n\u001b[0;32m    633\u001b[0m         enforce_dpp\u001b[39m=\u001b[39;49menforce_dpp,\n\u001b[0;32m    634\u001b[0m         ignore_dpp\u001b[39m=\u001b[39;49mignore_dpp,\n\u001b[0;32m    635\u001b[0m         canon_backend\u001b[39m=\u001b[39;49mcanon_backend,\n\u001b[0;32m    636\u001b[0m         solver_opts\u001b[39m=\u001b[39;49msolver_opts)\n\u001b[0;32m    637\u001b[0m     \u001b[39mself\u001b[39m\u001b[39m.\u001b[39m_cache\u001b[39m.\u001b[39mkey \u001b[39m=\u001b[39m key\n\u001b[0;32m    638\u001b[0m     \u001b[39mself\u001b[39m\u001b[39m.\u001b[39m_cache\u001b[39m.\u001b[39msolving_chain \u001b[39m=\u001b[39m solving_chain\n",
      "File \u001b[1;32mc:\\Users\\askar\\AppData\\Local\\Programs\\Python\\Python39\\lib\\site-packages\\cvxpy\\problems\\problem.py:881\u001b[0m, in \u001b[0;36mProblem._construct_chain\u001b[1;34m(self, solver, gp, enforce_dpp, ignore_dpp, canon_backend, solver_opts)\u001b[0m\n\u001b[0;32m    839\u001b[0m \u001b[39mdef\u001b[39;00m \u001b[39m_construct_chain\u001b[39m(\n\u001b[0;32m    840\u001b[0m         \u001b[39mself\u001b[39m,\n\u001b[0;32m    841\u001b[0m         solver: Optional[\u001b[39mstr\u001b[39m] \u001b[39m=\u001b[39m \u001b[39mNone\u001b[39;00m,\n\u001b[1;32m   (...)\u001b[0m\n\u001b[0;32m    846\u001b[0m         solver_opts: Optional[\u001b[39mdict\u001b[39m] \u001b[39m=\u001b[39m \u001b[39mNone\u001b[39;00m\n\u001b[0;32m    847\u001b[0m ) \u001b[39m-\u001b[39m\u001b[39m>\u001b[39m SolvingChain:\n\u001b[0;32m    848\u001b[0m     \u001b[39m\"\"\"\u001b[39;00m\n\u001b[0;32m    849\u001b[0m \u001b[39m    Construct the chains required to reformulate and solve the problem.\u001b[39;00m\n\u001b[0;32m    850\u001b[0m \n\u001b[1;32m   (...)\u001b[0m\n\u001b[0;32m    879\u001b[0m \u001b[39m    A solving chain\u001b[39;00m\n\u001b[0;32m    880\u001b[0m \u001b[39m    \"\"\"\u001b[39;00m\n\u001b[1;32m--> 881\u001b[0m     candidate_solvers \u001b[39m=\u001b[39m \u001b[39mself\u001b[39;49m\u001b[39m.\u001b[39;49m_find_candidate_solvers(solver\u001b[39m=\u001b[39;49msolver, gp\u001b[39m=\u001b[39;49mgp)\n\u001b[0;32m    882\u001b[0m     \u001b[39mself\u001b[39m\u001b[39m.\u001b[39m_sort_candidate_solvers(candidate_solvers)\n\u001b[0;32m    883\u001b[0m     \u001b[39mreturn\u001b[39;00m construct_solving_chain(\u001b[39mself\u001b[39m, candidate_solvers, gp\u001b[39m=\u001b[39mgp,\n\u001b[0;32m    884\u001b[0m                                    enforce_dpp\u001b[39m=\u001b[39menforce_dpp,\n\u001b[0;32m    885\u001b[0m                                    ignore_dpp\u001b[39m=\u001b[39mignore_dpp,\n\u001b[0;32m    886\u001b[0m                                    canon_backend\u001b[39m=\u001b[39mcanon_backend,\n\u001b[0;32m    887\u001b[0m                                    solver_opts\u001b[39m=\u001b[39msolver_opts)\n",
      "File \u001b[1;32mc:\\Users\\askar\\AppData\\Local\\Programs\\Python\\Python39\\lib\\site-packages\\cvxpy\\problems\\problem.py:786\u001b[0m, in \u001b[0;36mProblem._find_candidate_solvers\u001b[1;34m(self, solver, gp)\u001b[0m\n\u001b[0;32m    771\u001b[0m \u001b[39mif\u001b[39;00m slv_def\u001b[39m.\u001b[39mINSTALLED_MI_SOLVERS \u001b[39m==\u001b[39m [s\u001b[39m.\u001b[39mECOS_BB] \u001b[39mand\u001b[39;00m solver \u001b[39m!=\u001b[39m s\u001b[39m.\u001b[39mECOS_BB:\n\u001b[0;32m    772\u001b[0m     msg \u001b[39m=\u001b[39m \u001b[39m\"\"\"\u001b[39m\n\u001b[0;32m    773\u001b[0m \n\u001b[0;32m    774\u001b[0m \u001b[39m        You need a mixed-integer solver for this model. Refer to the documentation\u001b[39m\n\u001b[1;32m   (...)\u001b[0m\n\u001b[0;32m    784\u001b[0m \u001b[39m        in incorrect solutions and is not recommended.\u001b[39m\n\u001b[0;32m    785\u001b[0m \u001b[39m    \u001b[39m\u001b[39m\"\"\"\u001b[39m\n\u001b[1;32m--> 786\u001b[0m     \u001b[39mraise\u001b[39;00m error\u001b[39m.\u001b[39mSolverError(msg)\n\u001b[0;32m    787\u001b[0m \u001b[39m# TODO: provide a useful error message when the problem is nonlinear but\u001b[39;00m\n\u001b[0;32m    788\u001b[0m \u001b[39m#  the only installed mixed-integer solvers are MILP solvers (e.g., GLPK_MI).\u001b[39;00m\n\u001b[0;32m    789\u001b[0m candidates[\u001b[39m'\u001b[39m\u001b[39mqp_solvers\u001b[39m\u001b[39m'\u001b[39m] \u001b[39m=\u001b[39m [\n\u001b[0;32m    790\u001b[0m     s \u001b[39mfor\u001b[39;00m s \u001b[39min\u001b[39;00m candidates[\u001b[39m'\u001b[39m\u001b[39mqp_solvers\u001b[39m\u001b[39m'\u001b[39m]\n\u001b[0;32m    791\u001b[0m     \u001b[39mif\u001b[39;00m slv_def\u001b[39m.\u001b[39mSOLVER_MAP_QP[s]\u001b[39m.\u001b[39mMIP_CAPABLE]\n",
      "\u001b[1;31mSolverError\u001b[0m: \n\n                    You need a mixed-integer solver for this model. Refer to the documentation\n                        https://www.cvxpy.org/tutorial/advanced/index.html#mixed-integer-programs\n                    for discussion on this topic.\n\n                    Quick fix 1: if you install the python package CVXOPT (pip install cvxopt),\n                    then CVXPY can use the open-source mixed-integer linear programming\n                    solver `GLPK`. If your problem is nonlinear then you can install SCIP\n                    (pip install pyscipopt).\n\n                    Quick fix 2: you can explicitly specify solver='ECOS_BB'. This may result\n                    in incorrect solutions and is not recommended.\n                "
     ]
    }
   ],
   "source": [
    "problem.solve()"
   ]
  },
  {
   "cell_type": "markdown",
   "metadata": {
    "colab_type": "text",
    "id": "ZlgrYcndFdAO"
   },
   "source": [
    "#### Выбранные ячейки матрицы"
   ]
  },
  {
   "cell_type": "code",
   "execution_count": 11,
   "metadata": {
    "colab": {
     "base_uri": "https://localhost:8080/",
     "height": 102
    },
    "colab_type": "code",
    "id": "BGNvs2GgFdAO",
    "outputId": "d6fd9329-34eb-427e-db0d-8eead3894448"
   },
   "outputs": [
    {
     "ename": "TypeError",
     "evalue": "loop of ufunc does not support argument 0 of type NoneType which has no callable rint method",
     "output_type": "error",
     "traceback": [
      "\u001b[1;31m---------------------------------------------------------------------------\u001b[0m",
      "\u001b[1;31mAttributeError\u001b[0m                            Traceback (most recent call last)",
      "\u001b[1;31mAttributeError\u001b[0m: 'NoneType' object has no attribute 'rint'",
      "\nThe above exception was the direct cause of the following exception:\n",
      "\u001b[1;31mTypeError\u001b[0m                                 Traceback (most recent call last)",
      "\u001b[1;32me:\\My date\\Skillfactory\\Course\\IDE\\MATH&ML\\LP_ex2.ipynb Cell 16\u001b[0m in \u001b[0;36m<cell line: 1>\u001b[1;34m()\u001b[0m\n\u001b[1;32m----> <a href='vscode-notebook-cell:/e%3A/My%20date/Skillfactory/Course/IDE/MATH%26ML/LP_ex2.ipynb#X21sZmlsZQ%3D%3D?line=0'>1</a>\u001b[0m np\u001b[39m.\u001b[39;49mround(x\u001b[39m.\u001b[39;49mvalue)\n",
      "File \u001b[1;32m<__array_function__ internals>:180\u001b[0m, in \u001b[0;36mround_\u001b[1;34m(*args, **kwargs)\u001b[0m\n",
      "File \u001b[1;32mc:\\Users\\askar\\AppData\\Local\\Programs\\Python\\Python39\\lib\\site-packages\\numpy\\core\\fromnumeric.py:3731\u001b[0m, in \u001b[0;36mround_\u001b[1;34m(a, decimals, out)\u001b[0m\n\u001b[0;32m   3722\u001b[0m \u001b[39m@array_function_dispatch\u001b[39m(_around_dispatcher)\n\u001b[0;32m   3723\u001b[0m \u001b[39mdef\u001b[39;00m \u001b[39mround_\u001b[39m(a, decimals\u001b[39m=\u001b[39m\u001b[39m0\u001b[39m, out\u001b[39m=\u001b[39m\u001b[39mNone\u001b[39;00m):\n\u001b[0;32m   3724\u001b[0m     \u001b[39m\"\"\"\u001b[39;00m\n\u001b[0;32m   3725\u001b[0m \u001b[39m    Round an array to the given number of decimals.\u001b[39;00m\n\u001b[0;32m   3726\u001b[0m \n\u001b[1;32m   (...)\u001b[0m\n\u001b[0;32m   3729\u001b[0m \u001b[39m    around : equivalent function; see for details.\u001b[39;00m\n\u001b[0;32m   3730\u001b[0m \u001b[39m    \"\"\"\u001b[39;00m\n\u001b[1;32m-> 3731\u001b[0m     \u001b[39mreturn\u001b[39;00m around(a, decimals\u001b[39m=\u001b[39;49mdecimals, out\u001b[39m=\u001b[39;49mout)\n",
      "File \u001b[1;32m<__array_function__ internals>:180\u001b[0m, in \u001b[0;36maround\u001b[1;34m(*args, **kwargs)\u001b[0m\n",
      "File \u001b[1;32mc:\\Users\\askar\\AppData\\Local\\Programs\\Python\\Python39\\lib\\site-packages\\numpy\\core\\fromnumeric.py:3305\u001b[0m, in \u001b[0;36maround\u001b[1;34m(a, decimals, out)\u001b[0m\n\u001b[0;32m   3214\u001b[0m \u001b[39m@array_function_dispatch\u001b[39m(_around_dispatcher)\n\u001b[0;32m   3215\u001b[0m \u001b[39mdef\u001b[39;00m \u001b[39maround\u001b[39m(a, decimals\u001b[39m=\u001b[39m\u001b[39m0\u001b[39m, out\u001b[39m=\u001b[39m\u001b[39mNone\u001b[39;00m):\n\u001b[0;32m   3216\u001b[0m     \u001b[39m\"\"\"\u001b[39;00m\n\u001b[0;32m   3217\u001b[0m \u001b[39m    Evenly round to the given number of decimals.\u001b[39;00m\n\u001b[0;32m   3218\u001b[0m \n\u001b[1;32m   (...)\u001b[0m\n\u001b[0;32m   3303\u001b[0m \n\u001b[0;32m   3304\u001b[0m \u001b[39m    \"\"\"\u001b[39;00m\n\u001b[1;32m-> 3305\u001b[0m     \u001b[39mreturn\u001b[39;00m _wrapfunc(a, \u001b[39m'\u001b[39;49m\u001b[39mround\u001b[39;49m\u001b[39m'\u001b[39;49m, decimals\u001b[39m=\u001b[39;49mdecimals, out\u001b[39m=\u001b[39;49mout)\n",
      "File \u001b[1;32mc:\\Users\\askar\\AppData\\Local\\Programs\\Python\\Python39\\lib\\site-packages\\numpy\\core\\fromnumeric.py:54\u001b[0m, in \u001b[0;36m_wrapfunc\u001b[1;34m(obj, method, *args, **kwds)\u001b[0m\n\u001b[0;32m     52\u001b[0m bound \u001b[39m=\u001b[39m \u001b[39mgetattr\u001b[39m(obj, method, \u001b[39mNone\u001b[39;00m)\n\u001b[0;32m     53\u001b[0m \u001b[39mif\u001b[39;00m bound \u001b[39mis\u001b[39;00m \u001b[39mNone\u001b[39;00m:\n\u001b[1;32m---> 54\u001b[0m     \u001b[39mreturn\u001b[39;00m _wrapit(obj, method, \u001b[39m*\u001b[39margs, \u001b[39m*\u001b[39m\u001b[39m*\u001b[39mkwds)\n\u001b[0;32m     56\u001b[0m \u001b[39mtry\u001b[39;00m:\n\u001b[0;32m     57\u001b[0m     \u001b[39mreturn\u001b[39;00m bound(\u001b[39m*\u001b[39margs, \u001b[39m*\u001b[39m\u001b[39m*\u001b[39mkwds)\n",
      "File \u001b[1;32mc:\\Users\\askar\\AppData\\Local\\Programs\\Python\\Python39\\lib\\site-packages\\numpy\\core\\fromnumeric.py:43\u001b[0m, in \u001b[0;36m_wrapit\u001b[1;34m(obj, method, *args, **kwds)\u001b[0m\n\u001b[0;32m     41\u001b[0m \u001b[39mexcept\u001b[39;00m \u001b[39mAttributeError\u001b[39;00m:\n\u001b[0;32m     42\u001b[0m     wrap \u001b[39m=\u001b[39m \u001b[39mNone\u001b[39;00m\n\u001b[1;32m---> 43\u001b[0m result \u001b[39m=\u001b[39m \u001b[39mgetattr\u001b[39m(asarray(obj), method)(\u001b[39m*\u001b[39margs, \u001b[39m*\u001b[39m\u001b[39m*\u001b[39mkwds)\n\u001b[0;32m     44\u001b[0m \u001b[39mif\u001b[39;00m wrap:\n\u001b[0;32m     45\u001b[0m     \u001b[39mif\u001b[39;00m \u001b[39mnot\u001b[39;00m \u001b[39misinstance\u001b[39m(result, mu\u001b[39m.\u001b[39mndarray):\n",
      "\u001b[1;31mTypeError\u001b[0m: loop of ufunc does not support argument 0 of type NoneType which has no callable rint method"
     ]
    }
   ],
   "source": [
    "np.round(x.value)"
   ]
  }
 ],
 "metadata": {
  "colab": {
   "name": "4.5.1-4.5.3.ipynb",
   "provenance": []
  },
  "kernelspec": {
   "display_name": "Python 3",
   "language": "python",
   "name": "python3"
  },
  "language_info": {
   "codemirror_mode": {
    "name": "ipython",
    "version": 3
   },
   "file_extension": ".py",
   "mimetype": "text/x-python",
   "name": "python",
   "nbconvert_exporter": "python",
   "pygments_lexer": "ipython3",
   "version": "3.9.10"
  },
  "vscode": {
   "interpreter": {
    "hash": "88eb033608991f3665fd82f47a8adc6d6deba65540851fbdbd4e659defad24ab"
   }
  }
 },
 "nbformat": 4,
 "nbformat_minor": 1
}

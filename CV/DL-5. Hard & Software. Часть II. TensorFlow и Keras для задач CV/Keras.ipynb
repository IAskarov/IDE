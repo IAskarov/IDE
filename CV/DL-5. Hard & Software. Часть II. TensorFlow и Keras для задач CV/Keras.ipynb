{
 "cells": [
  {
   "cell_type": "code",
   "execution_count": 1,
   "metadata": {},
   "outputs": [],
   "source": [
    "import tensorflow as tf\n",
    "from tensorflow import keras\n",
    "from tensorflow.keras import Model, Sequential, layers\n",
    "import numpy as np"
   ]
  },
  {
   "cell_type": "code",
   "execution_count": 9,
   "metadata": {},
   "outputs": [],
   "source": [
    "model = Sequential([\n",
    "    layers.InputLayer(input_shape=(1000,)),\n",
    "    layers.Dense(1000, 'relu'),\n",
    "    layers.Concatenate(),\n",
    "    layers.Dense(200, 'relu'),\n",
    "    layers.Dense(100, 'softmax')\n",
    "])"
   ]
  },
  {
   "cell_type": "code",
   "execution_count": 10,
   "metadata": {},
   "outputs": [
    {
     "name": "stdout",
     "output_type": "stream",
     "text": [
      "Model: \"sequential_3\"\n",
      "_________________________________________________________________\n",
      " Layer (type)                Output Shape              Param #   \n",
      "=================================================================\n",
      " dense_6 (Dense)             (None, 300)               120300    \n",
      "                                                                 \n",
      " dense_7 (Dense)             (None, 200)               60200     \n",
      "                                                                 \n",
      " dense_8 (Dense)             (None, 100)               20100     \n",
      "                                                                 \n",
      "=================================================================\n",
      "Total params: 200,600\n",
      "Trainable params: 200,600\n",
      "Non-trainable params: 0\n",
      "_________________________________________________________________\n"
     ]
    }
   ],
   "source": [
    "model.summary()"
   ]
  },
  {
   "cell_type": "code",
   "execution_count": 11,
   "metadata": {},
   "outputs": [
    {
     "name": "stdout",
     "output_type": "stream",
     "text": [
      "Model: \"model\"\n",
      "__________________________________________________________________________________________________\n",
      " Layer (type)                   Output Shape         Param #     Connected to                     \n",
      "==================================================================================================\n",
      " input_4 (InputLayer)           [(None, 1000)]       0           []                               \n",
      "                                                                                                  \n",
      " dense_9 (Dense)                (None, 1000)         1001000     ['input_4[0][0]']                \n",
      "                                                                                                  \n",
      " concatenate (Concatenate)      (None, 2000)         0           ['input_4[0][0]',                \n",
      "                                                                  'dense_9[0][0]']                \n",
      "                                                                                                  \n",
      " dense_10 (Dense)               (None, 1000)         2001000     ['concatenate[0][0]']            \n",
      "                                                                                                  \n",
      " concatenate_1 (Concatenate)    (None, 3000)         0           ['concatenate[0][0]',            \n",
      "                                                                  'dense_10[0][0]']               \n",
      "                                                                                                  \n",
      " dense_11 (Dense)               (None, 1000)         3001000     ['concatenate_1[0][0]']          \n",
      "                                                                                                  \n",
      " concatenate_2 (Concatenate)    (None, 4000)         0           ['concatenate_1[0][0]',          \n",
      "                                                                  'dense_11[0][0]']               \n",
      "                                                                                                  \n",
      " dense_12 (Dense)               (None, 1000)         4001000     ['concatenate_2[0][0]']          \n",
      "                                                                                                  \n",
      " concatenate_3 (Concatenate)    (None, 5000)         0           ['concatenate_2[0][0]',          \n",
      "                                                                  'dense_12[0][0]']               \n",
      "                                                                                                  \n",
      "==================================================================================================\n",
      "Total params: 10,004,000\n",
      "Trainable params: 10,004,000\n",
      "Non-trainable params: 0\n",
      "__________________________________________________________________________________________________\n"
     ]
    }
   ],
   "source": [
    "input = keras.Input(shape=(1000,))\n",
    "output = input\n",
    "for _ in range(4):\n",
    "    output = layers.Concatenate()([output, layers.Dense(1000, 'relu')(output)])\n",
    "model = Model(inputs=input, outputs=output)\n",
    "model.summary()"
   ]
  },
  {
   "cell_type": "code",
   "execution_count": 12,
   "metadata": {},
   "outputs": [
    {
     "name": "stdout",
     "output_type": "stream",
     "text": [
      "Downloading data from https://storage.googleapis.com/tensorflow/keras-applications/xception/xception_weights_tf_dim_ordering_tf_kernels_notop.h5\n",
      "83683744/83683744 [==============================] - 48s 1us/step\n"
     ]
    }
   ],
   "source": [
    "from tensorflow.keras.applications import Xception\n",
    "model = Sequential([\n",
    "    Xception(include_top=False, input_shape=(150, 150, 3)),\n",
    "    layers.GlobalMaxPool2D(),\n",
    "    layers.Dropout(0.5),\n",
    "    layers.Dense(10)\n",
    "])"
   ]
  },
  {
   "cell_type": "code",
   "execution_count": 13,
   "metadata": {},
   "outputs": [
    {
     "name": "stdout",
     "output_type": "stream",
     "text": [
      "4\n",
      "132\n"
     ]
    }
   ],
   "source": [
    "print(len(model.layers)) #4\n",
    "print(len(model.layers[0].layers)) #132"
   ]
  },
  {
   "cell_type": "code",
   "execution_count": 6,
   "metadata": {},
   "outputs": [
    {
     "name": "stdout",
     "output_type": "stream",
     "text": [
      "[[1. 1. 1. 1. 1.]]\n",
      "[[0. 0. 0. 0. 0.]]\n"
     ]
    }
   ],
   "source": [
    "model = Sequential([\n",
    "    layers.Dropout(0.999)\n",
    "])\n",
    " \n",
    "print(model(np.ones((1, 5))).numpy())\n",
    "print(model(np.ones((1, 5)), training=True).numpy())"
   ]
  },
  {
   "cell_type": "code",
   "execution_count": 14,
   "metadata": {},
   "outputs": [
    {
     "name": "stdout",
     "output_type": "stream",
     "text": [
      "Downloading data from https://storage.googleapis.com/tensorflow/tf-keras-datasets/mnist.npz\n",
      "11490434/11490434 [==============================] - 19s 2us/step\n",
      "(60000, 784) float64\n",
      "(10000, 784) float64\n",
      "(60000,) [5 0 4 1 9 2 1 3 1 4]\n",
      "(10000,) [7 2 1 0 4 1 4 9 5 9]\n"
     ]
    },
    {
     "data": {
      "image/png": "[encoded data removed]",
      "text/plain": [
       "<Figure size 1080x144 with 6 Axes>"
      ]
     },
     "metadata": {
      "needs_background": "light"
     },
     "output_type": "display_data"
    }
   ],
   "source": [
    "import tensorflow as tf\n",
    "from tensorflow import keras\n",
    "from tensorflow.keras import Model, Sequential, layers, losses, optimizers\n",
    " \n",
    "(X_train, y_train), (X_test, y_test) = keras.datasets.mnist.load_data()\n",
    "X_train = X_train.reshape(-1, 28*28) / 255\n",
    "X_test = X_test.reshape(-1, 28*28) / 255\n",
    " \n",
    "print(X_train.shape, X_train.dtype) #(60000, 784) float64\n",
    "print(X_test.shape, X_test.dtype) #(10000, 784) float64\n",
    " \n",
    "print(y_train.shape, y_train[:10]) #(60000,) [5 0 4 1 9 2 1 3 1 4]\n",
    "print(y_test.shape, y_test[:10]) #(10000,) [7 2 1 0 4 1 4 9 5 9]\n",
    " \n",
    "import matplotlib.pyplot as plt\n",
    "fig, axes = plt.subplots(1, 6, figsize=(15, 2))\n",
    "for img, ax in zip(X_train, axes.flat):\n",
    "    ax.imshow(img.reshape(28, 28), cmap='Greys')\n",
    "plt.show()"
   ]
  },
  {
   "cell_type": "code",
   "execution_count": 15,
   "metadata": {},
   "outputs": [
    {
     "data": {
      "text/plain": [
       "[]"
      ]
     },
     "execution_count": 15,
     "metadata": {},
     "output_type": "execute_result"
    }
   ],
   "source": [
    "tf.config.list_physical_devices('GPU')"
   ]
  },
  {
   "cell_type": "code",
   "execution_count": 16,
   "metadata": {},
   "outputs": [],
   "source": [
    "model = Sequential([\n",
    "    layers.InputLayer(28*28),\n",
    "    layers.Dense(500, 'relu'),\n",
    "    layers.Dense(500, 'relu'),\n",
    "    layers.Dense(10)\n",
    "])"
   ]
  },
  {
   "cell_type": "code",
   "execution_count": 17,
   "metadata": {},
   "outputs": [
    {
     "name": "stdout",
     "output_type": "stream",
     "text": [
      "Epoch 1/10\n",
      "59/59 [==============================] - 15s 228ms/step - loss: 0.4753 - accuracy: 0.8738 - val_loss: 0.2039 - val_accuracy: 0.9406\n",
      "Epoch 2/10\n",
      "59/59 [==============================] - 16s 267ms/step - loss: 0.1585 - accuracy: 0.9538 - val_loss: 0.1232 - val_accuracy: 0.9638\n",
      "Epoch 3/10\n",
      "59/59 [==============================] - 18s 313ms/step - loss: 0.1051 - accuracy: 0.9696 - val_loss: 0.1011 - val_accuracy: 0.9681\n",
      "Epoch 4/10\n",
      "59/59 [==============================] - 14s 238ms/step - loss: 0.0754 - accuracy: 0.9778 - val_loss: 0.0825 - val_accuracy: 0.9748\n",
      "Epoch 5/10\n",
      "59/59 [==============================] - 14s 238ms/step - loss: 0.0550 - accuracy: 0.9842 - val_loss: 0.0761 - val_accuracy: 0.9758\n",
      "Epoch 6/10\n",
      "59/59 [==============================] - 18s 300ms/step - loss: 0.0421 - accuracy: 0.9881 - val_loss: 0.0731 - val_accuracy: 0.9790\n",
      "Epoch 7/10\n",
      "59/59 [==============================] - 15s 246ms/step - loss: 0.0335 - accuracy: 0.9901 - val_loss: 0.0689 - val_accuracy: 0.9796\n",
      "Epoch 8/10\n",
      "59/59 [==============================] - 13s 217ms/step - loss: 0.0251 - accuracy: 0.9931 - val_loss: 0.0711 - val_accuracy: 0.9782\n",
      "Epoch 9/10\n",
      "59/59 [==============================] - 12s 210ms/step - loss: 0.0198 - accuracy: 0.9949 - val_loss: 0.0699 - val_accuracy: 0.9792\n",
      "Epoch 10/10\n",
      "59/59 [==============================] - 12s 202ms/step - loss: 0.0152 - accuracy: 0.9964 - val_loss: 0.0640 - val_accuracy: 0.9815\n"
     ]
    },
    {
     "data": {
      "text/plain": [
       "<keras.callbacks.History at 0x14902a626d0>"
      ]
     },
     "execution_count": 17,
     "metadata": {},
     "output_type": "execute_result"
    }
   ],
   "source": [
    "model.compile(\n",
    "    loss=losses.SparseCategoricalCrossentropy(from_logits=True),\n",
    "    optimizer=optimizers.Adam(),\n",
    "    metrics='accuracy'\n",
    ")\n",
    " \n",
    "model.fit(\n",
    "    X_train, y_train,\n",
    "    validation_data=(X_test, y_test),\n",
    "    epochs=10,\n",
    "    batch_size=1024\n",
    ")"
   ]
  },
  {
   "cell_type": "code",
   "execution_count": 18,
   "metadata": {},
   "outputs": [
    {
     "data": {
      "text/plain": [
       "<keras.callbacks.ModelCheckpoint at 0x149778ebaf0>"
      ]
     },
     "execution_count": 18,
     "metadata": {},
     "output_type": "execute_result"
    }
   ],
   "source": [
    "from tensorflow.keras.callbacks import *\n",
    "ModelCheckpoint('best_model.h5', monitor='val_accuracy', verbose=1, mode='max', save_best_only=True)"
   ]
  },
  {
   "cell_type": "code",
   "execution_count": 23,
   "metadata": {},
   "outputs": [
    {
     "ename": "ImportError",
     "evalue": "IProgress not found. Please update jupyter and ipywidgets. See https://ipywidgets.readthedocs.io/en/stable/user_install.html",
     "output_type": "error",
     "traceback": [
      "\u001b[1;31m---------------------------------------------------------------------------\u001b[0m",
      "\u001b[1;31mImportError\u001b[0m                               Traceback (most recent call last)",
      "\u001b[1;32me:\\My date\\Skillfactory\\Course\\IDE\\CV\\DL-5. Hard & Software. Часть II. TensorFlow и Keras для задач CV\\Keras.ipynb Cell 13\u001b[0m in \u001b[0;36m<cell line: 3>\u001b[1;34m()\u001b[0m\n\u001b[0;32m      <a href='vscode-notebook-cell:/e%3A/My%20date/Skillfactory/Course/IDE/CV/DL-5.%20Hard%20%26%20Software.%20%D0%A7%D0%B0%D1%81%D1%82%D1%8C%20II.%20TensorFlow%20%D0%B8%20Keras%20%D0%B4%D0%BB%D1%8F%20%D0%B7%D0%B0%D0%B4%D0%B0%D1%87%20CV/Keras.ipynb#X16sZmlsZQ%3D%3D?line=0'>1</a>\u001b[0m preds \u001b[39m=\u001b[39m []\n\u001b[0;32m      <a href='vscode-notebook-cell:/e%3A/My%20date/Skillfactory/Course/IDE/CV/DL-5.%20Hard%20%26%20Software.%20%D0%A7%D0%B0%D1%81%D1%82%D1%8C%20II.%20TensorFlow%20%D0%B8%20Keras%20%D0%B4%D0%BB%D1%8F%20%D0%B7%D0%B0%D0%B4%D0%B0%D1%87%20CV/Keras.ipynb#X16sZmlsZQ%3D%3D?line=1'>2</a>\u001b[0m \u001b[39mfrom\u001b[39;00m \u001b[39mtqdm\u001b[39;00m\u001b[39m.\u001b[39;00m\u001b[39mnotebook\u001b[39;00m \u001b[39mimport\u001b[39;00m tqdm\n\u001b[1;32m----> <a href='vscode-notebook-cell:/e%3A/My%20date/Skillfactory/Course/IDE/CV/DL-5.%20Hard%20%26%20Software.%20%D0%A7%D0%B0%D1%81%D1%82%D1%8C%20II.%20TensorFlow%20%D0%B8%20Keras%20%D0%B4%D0%BB%D1%8F%20%D0%B7%D0%B0%D0%B4%D0%B0%D1%87%20CV/Keras.ipynb#X16sZmlsZQ%3D%3D?line=2'>3</a>\u001b[0m \u001b[39mfor\u001b[39;00m i \u001b[39min\u001b[39;00m tqdm(\u001b[39mrange\u001b[39;49m(\u001b[39m50\u001b[39;49m)):\n\u001b[0;32m      <a href='vscode-notebook-cell:/e%3A/My%20date/Skillfactory/Course/IDE/CV/DL-5.%20Hard%20%26%20Software.%20%D0%A7%D0%B0%D1%81%D1%82%D1%8C%20II.%20TensorFlow%20%D0%B8%20Keras%20%D0%B4%D0%BB%D1%8F%20%D0%B7%D0%B0%D0%B4%D0%B0%D1%87%20CV/Keras.ipynb#X16sZmlsZQ%3D%3D?line=3'>4</a>\u001b[0m     model \u001b[39m=\u001b[39m Sequential([\n\u001b[0;32m      <a href='vscode-notebook-cell:/e%3A/My%20date/Skillfactory/Course/IDE/CV/DL-5.%20Hard%20%26%20Software.%20%D0%A7%D0%B0%D1%81%D1%82%D1%8C%20II.%20TensorFlow%20%D0%B8%20Keras%20%D0%B4%D0%BB%D1%8F%20%D0%B7%D0%B0%D0%B4%D0%B0%D1%87%20CV/Keras.ipynb#X16sZmlsZQ%3D%3D?line=4'>5</a>\u001b[0m     layers\u001b[39m.\u001b[39mInputLayer(\u001b[39m28\u001b[39m\u001b[39m*\u001b[39m\u001b[39m28\u001b[39m),\n\u001b[0;32m      <a href='vscode-notebook-cell:/e%3A/My%20date/Skillfactory/Course/IDE/CV/DL-5.%20Hard%20%26%20Software.%20%D0%A7%D0%B0%D1%81%D1%82%D1%8C%20II.%20TensorFlow%20%D0%B8%20Keras%20%D0%B4%D0%BB%D1%8F%20%D0%B7%D0%B0%D0%B4%D0%B0%D1%87%20CV/Keras.ipynb#X16sZmlsZQ%3D%3D?line=5'>6</a>\u001b[0m     layers\u001b[39m.\u001b[39mDense(\u001b[39m500\u001b[39m, \u001b[39m'\u001b[39m\u001b[39mrelu\u001b[39m\u001b[39m'\u001b[39m),\n\u001b[0;32m      <a href='vscode-notebook-cell:/e%3A/My%20date/Skillfactory/Course/IDE/CV/DL-5.%20Hard%20%26%20Software.%20%D0%A7%D0%B0%D1%81%D1%82%D1%8C%20II.%20TensorFlow%20%D0%B8%20Keras%20%D0%B4%D0%BB%D1%8F%20%D0%B7%D0%B0%D0%B4%D0%B0%D1%87%20CV/Keras.ipynb#X16sZmlsZQ%3D%3D?line=6'>7</a>\u001b[0m     layers\u001b[39m.\u001b[39mDense(\u001b[39m500\u001b[39m, \u001b[39m'\u001b[39m\u001b[39mrelu\u001b[39m\u001b[39m'\u001b[39m),\n\u001b[0;32m      <a href='vscode-notebook-cell:/e%3A/My%20date/Skillfactory/Course/IDE/CV/DL-5.%20Hard%20%26%20Software.%20%D0%A7%D0%B0%D1%81%D1%82%D1%8C%20II.%20TensorFlow%20%D0%B8%20Keras%20%D0%B4%D0%BB%D1%8F%20%D0%B7%D0%B0%D0%B4%D0%B0%D1%87%20CV/Keras.ipynb#X16sZmlsZQ%3D%3D?line=7'>8</a>\u001b[0m     layers\u001b[39m.\u001b[39mDense(\u001b[39m10\u001b[39m)\n\u001b[0;32m      <a href='vscode-notebook-cell:/e%3A/My%20date/Skillfactory/Course/IDE/CV/DL-5.%20Hard%20%26%20Software.%20%D0%A7%D0%B0%D1%81%D1%82%D1%8C%20II.%20TensorFlow%20%D0%B8%20Keras%20%D0%B4%D0%BB%D1%8F%20%D0%B7%D0%B0%D0%B4%D0%B0%D1%87%20CV/Keras.ipynb#X16sZmlsZQ%3D%3D?line=8'>9</a>\u001b[0m     ])\n\u001b[0;32m     <a href='vscode-notebook-cell:/e%3A/My%20date/Skillfactory/Course/IDE/CV/DL-5.%20Hard%20%26%20Software.%20%D0%A7%D0%B0%D1%81%D1%82%D1%8C%20II.%20TensorFlow%20%D0%B8%20Keras%20%D0%B4%D0%BB%D1%8F%20%D0%B7%D0%B0%D0%B4%D0%B0%D1%87%20CV/Keras.ipynb#X16sZmlsZQ%3D%3D?line=9'>10</a>\u001b[0m     model\u001b[39m.\u001b[39mcompile(\n\u001b[0;32m     <a href='vscode-notebook-cell:/e%3A/My%20date/Skillfactory/Course/IDE/CV/DL-5.%20Hard%20%26%20Software.%20%D0%A7%D0%B0%D1%81%D1%82%D1%8C%20II.%20TensorFlow%20%D0%B8%20Keras%20%D0%B4%D0%BB%D1%8F%20%D0%B7%D0%B0%D0%B4%D0%B0%D1%87%20CV/Keras.ipynb#X16sZmlsZQ%3D%3D?line=10'>11</a>\u001b[0m       loss\u001b[39m=\u001b[39mlosses\u001b[39m.\u001b[39mSparseCategoricalCrossentropy(from_logits\u001b[39m=\u001b[39m\u001b[39mTrue\u001b[39;00m),\n\u001b[0;32m     <a href='vscode-notebook-cell:/e%3A/My%20date/Skillfactory/Course/IDE/CV/DL-5.%20Hard%20%26%20Software.%20%D0%A7%D0%B0%D1%81%D1%82%D1%8C%20II.%20TensorFlow%20%D0%B8%20Keras%20%D0%B4%D0%BB%D1%8F%20%D0%B7%D0%B0%D0%B4%D0%B0%D1%87%20CV/Keras.ipynb#X16sZmlsZQ%3D%3D?line=11'>12</a>\u001b[0m       optimizer\u001b[39m=\u001b[39moptimizers\u001b[39m.\u001b[39mAdam(),\n\u001b[0;32m     <a href='vscode-notebook-cell:/e%3A/My%20date/Skillfactory/Course/IDE/CV/DL-5.%20Hard%20%26%20Software.%20%D0%A7%D0%B0%D1%81%D1%82%D1%8C%20II.%20TensorFlow%20%D0%B8%20Keras%20%D0%B4%D0%BB%D1%8F%20%D0%B7%D0%B0%D0%B4%D0%B0%D1%87%20CV/Keras.ipynb#X16sZmlsZQ%3D%3D?line=12'>13</a>\u001b[0m       metrics\u001b[39m=\u001b[39m\u001b[39m'\u001b[39m\u001b[39maccuracy\u001b[39m\u001b[39m'\u001b[39m\n\u001b[0;32m     <a href='vscode-notebook-cell:/e%3A/My%20date/Skillfactory/Course/IDE/CV/DL-5.%20Hard%20%26%20Software.%20%D0%A7%D0%B0%D1%81%D1%82%D1%8C%20II.%20TensorFlow%20%D0%B8%20Keras%20%D0%B4%D0%BB%D1%8F%20%D0%B7%D0%B0%D0%B4%D0%B0%D1%87%20CV/Keras.ipynb#X16sZmlsZQ%3D%3D?line=13'>14</a>\u001b[0m     )\n",
      "File \u001b[1;32mc:\\Users\\askar\\AppData\\Local\\Programs\\Python\\Python39\\lib\\site-packages\\tqdm\\notebook.py:243\u001b[0m, in \u001b[0;36mtqdm_notebook.__init__\u001b[1;34m(self, *args, **kwargs)\u001b[0m\n\u001b[0;32m    241\u001b[0m unit_scale \u001b[39m=\u001b[39m \u001b[39m1\u001b[39m \u001b[39mif\u001b[39;00m \u001b[39mself\u001b[39m\u001b[39m.\u001b[39munit_scale \u001b[39mis\u001b[39;00m \u001b[39mTrue\u001b[39;00m \u001b[39melse\u001b[39;00m \u001b[39mself\u001b[39m\u001b[39m.\u001b[39munit_scale \u001b[39mor\u001b[39;00m \u001b[39m1\u001b[39m\n\u001b[0;32m    242\u001b[0m total \u001b[39m=\u001b[39m \u001b[39mself\u001b[39m\u001b[39m.\u001b[39mtotal \u001b[39m*\u001b[39m unit_scale \u001b[39mif\u001b[39;00m \u001b[39mself\u001b[39m\u001b[39m.\u001b[39mtotal \u001b[39melse\u001b[39;00m \u001b[39mself\u001b[39m\u001b[39m.\u001b[39mtotal\n\u001b[1;32m--> 243\u001b[0m \u001b[39mself\u001b[39m\u001b[39m.\u001b[39mcontainer \u001b[39m=\u001b[39m \u001b[39mself\u001b[39;49m\u001b[39m.\u001b[39;49mstatus_printer(\u001b[39mself\u001b[39;49m\u001b[39m.\u001b[39;49mfp, total, \u001b[39mself\u001b[39;49m\u001b[39m.\u001b[39;49mdesc, \u001b[39mself\u001b[39;49m\u001b[39m.\u001b[39;49mncols)\n\u001b[0;32m    244\u001b[0m \u001b[39mself\u001b[39m\u001b[39m.\u001b[39mcontainer\u001b[39m.\u001b[39mpbar \u001b[39m=\u001b[39m proxy(\u001b[39mself\u001b[39m)\n\u001b[0;32m    245\u001b[0m \u001b[39mself\u001b[39m\u001b[39m.\u001b[39mdisplayed \u001b[39m=\u001b[39m \u001b[39mFalse\u001b[39;00m\n",
      "File \u001b[1;32mc:\\Users\\askar\\AppData\\Local\\Programs\\Python\\Python39\\lib\\site-packages\\tqdm\\notebook.py:118\u001b[0m, in \u001b[0;36mtqdm_notebook.status_printer\u001b[1;34m(_, total, desc, ncols)\u001b[0m\n\u001b[0;32m    109\u001b[0m \u001b[39m# Fallback to text bar if there's no total\u001b[39;00m\n\u001b[0;32m    110\u001b[0m \u001b[39m# DEPRECATED: replaced with an 'info' style bar\u001b[39;00m\n\u001b[0;32m    111\u001b[0m \u001b[39m# if not total:\u001b[39;00m\n\u001b[1;32m   (...)\u001b[0m\n\u001b[0;32m    115\u001b[0m \n\u001b[0;32m    116\u001b[0m \u001b[39m# Prepare IPython progress bar\u001b[39;00m\n\u001b[0;32m    117\u001b[0m \u001b[39mif\u001b[39;00m IProgress \u001b[39mis\u001b[39;00m \u001b[39mNone\u001b[39;00m:  \u001b[39m# #187 #451 #558 #872\u001b[39;00m\n\u001b[1;32m--> 118\u001b[0m     \u001b[39mraise\u001b[39;00m \u001b[39mImportError\u001b[39;00m(WARN_NOIPYW)\n\u001b[0;32m    119\u001b[0m \u001b[39mif\u001b[39;00m total:\n\u001b[0;32m    120\u001b[0m     pbar \u001b[39m=\u001b[39m IProgress(\u001b[39mmin\u001b[39m\u001b[39m=\u001b[39m\u001b[39m0\u001b[39m, \u001b[39mmax\u001b[39m\u001b[39m=\u001b[39mtotal)\n",
      "\u001b[1;31mImportError\u001b[0m: IProgress not found. Please update jupyter and ipywidgets. See https://ipywidgets.readthedocs.io/en/stable/user_install.html"
     ]
    }
   ],
   "source": [
    "preds = []\n",
    "from tqdm.notebook import tqdm\n",
    "for i in tqdm(range(50)):\n",
    "    model = Sequential([\n",
    "    layers.InputLayer(28*28),\n",
    "    layers.Dense(500, 'relu'),\n",
    "    layers.Dense(500, 'relu'),\n",
    "    layers.Dense(10)\n",
    "    ])\n",
    "    model.compile(\n",
    "      loss=losses.SparseCategoricalCrossentropy(from_logits=True),\n",
    "      optimizer=optimizers.Adam(),\n",
    "      metrics='accuracy'\n",
    "    )\n",
    "    model.fit(X_train, y_train, epochs=10, batch_size=1024, verbose=0)\n",
    "    preds.append(model.predict(X_test))\n",
    "acc_fn = keras.metrics.sparse_categorical_accuracy\n",
    "accuracies = [np.mean(acc_fn(y_test, pred)) for pred in preds]\n",
    "np.median(accuracies)\n"
   ]
  },
  {
   "cell_type": "code",
   "execution_count": null,
   "metadata": {},
   "outputs": [],
   "source": []
  }
 ],
 "metadata": {
  "kernelspec": {
   "display_name": "Python 3",
   "language": "python",
   "name": "python3"
  },
  "language_info": {
   "codemirror_mode": {
    "name": "ipython",
    "version": 3
   },
   "file_extension": ".py",
   "mimetype": "text/x-python",
   "name": "python",
   "nbconvert_exporter": "python",
   "pygments_lexer": "ipython3",
   "version": "3.9.10"
  },
  "orig_nbformat": 4
 },
 "nbformat": 4,
 "nbformat_minor": 2
}

{
 "cells": [
  {
   "cell_type": "markdown",
   "metadata": {},
   "source": [
    "### 1. Список акций и обоснование\n",
    "\n",
    "**Список акций:**\n",
    "\n",
    "**1. Сбербанк (SBER)** - [link](https://www.moex.com/ru/issue.aspx?board=TQBR&code=SBER&utm_source=www.moex.com&utm_term=SBER)\n",
    "\n",
    "**2. Лукойл (LKOH)** - [link](https://www.moex.com/ru/issue.aspx?board=TQBR&code=LKOH&utm_source=www.moex.com&utm_term=LKOH)\n",
    "\n",
    "**3. Газпром (GAZP)**- [link](https://www.moex.com/ru/issue.aspx?board=TQBR&code=GAZP&utm_source=www.moex.com&utm_term=GAZP)\n",
    "\n",
    "**4. Норникель (GMKN)** - [link](https://www.moex.com/ru/issue.aspx?board=TQBR&code=GMKN&utm_source=www.moex.com&utm_term=GMKN)\n",
    "\n",
    "**5. Магнит (MGNT)** - [link](https://www.moex.com/ru/issue.aspx?board=TQBR&code=MGNT&utm_source=www.moex.com&utm_term=MGNT)\n",
    "\n",
    "**6. Яндекс (YNDX)** - [link](https://www.moex.com/ru/issue.aspx?board=TQBR&code=YNDX&utm_source=www.moex.com&utm_term=YNDX)\n",
    "\n",
    "**7. Сургутнефтегаз (SNGS)** - [link](https://www.moex.com/ru/issue.aspx?board=TQBR&code=SNGS&utm_source=www.moex.com&utm_term=SNGS)\n",
    "\n",
    "**8. Роснефть (ROSN)** - [link](https://www.moex.com/ru/issue.aspx?board=TQBR&code=SNGS&utm_source=www.moex.com&utm_term=SNGS)\n",
    "\n",
    "**9. АЛРОСА (ALRS)** - [link](https://www.moex.com/ru/issue.aspx?board=TQBR&code=ALRS&utm_source=www.moex.com&utm_term=ALRS)\n",
    "\n",
    "\n",
    "**10. МТС (MTSS)** - [link](https://www.moex.com/ru/issue.aspx?board=TQBR&code=MTSS&utm_source=www.moex.com&utm_term=MTSS)\n",
    "\n",
    "\n",
    "**Обоснование:**\n",
    "\n",
    "**Диверсификация:** Список акций включает в себя компании из разных секторов экономики, что снижает риски.\n",
    "**Ликвидность:** Все акции из списка являются высоколиквидными, что позволяет легко их купить и продать.\n",
    "**Стабильность:** В список включены компании с устойчивым финансовым положением и историей выплаты дивидендов.\n",
    "**Потенциал роста:** В список включены компании, которые имеют потенциал роста в долгосрочной перспективе"
   ]
  },
  {
   "cell_type": "markdown",
   "metadata": {},
   "source": [
    "\n",
    "### 2. Хеджирование опционами put\n",
    "\n",
    "**1. Сбербанк (SBER)** - 283 [link](https://www.moex.com/ru/contract.aspx?code=SR280CB4E)\n",
    "\n",
    "**2. Лукойл (LKOH)** - 7006 [link](https://www.moex.com/ru/contract.aspx?code=LK7200CN4E&utm_source=www.moex.com&utm_term=LKOH)\n",
    "\n",
    "**3. Газпром (GAZP)** - 158 [link](https://www.moex.com/ru/contract.aspx?code=GZ125CN4E&utm_source=www.moex.com&utm_term=GAZP)\n",
    "\n",
    "**4. Норникель (GMKN)** - 1556 [link](https://www.moex.com/ru/contract.aspx?code=GK16000BO4&utm_source=www.moex.com&utm_term=GMKN)\n",
    "\n",
    "**5. Магнит (MGNT)** - 52 [link](https://www.moex.com/ru/issue.aspx?board=TQBR&code=MGNT&utm_source=www.moex.com&utm_term=MGNT)\n",
    "\n",
    "**6. Яндекс (YNDX)** - 3222 [link](https://www.moex.com/ru/contract.aspx?code=YN3450CN4E&utm_source=www.moex.com&utm_term=YNDX)\n",
    "\n",
    "**7. Сургутнефтегаз (SNGS)** - 28 [link](https://www.moex.com/ru/contract.aspx?code=SN32CN4E&utm_source=www.moex.com&utm_term=SNGS)\n",
    "\n",
    "**8. Роснефть (ROSN)** - 562 [link](https://www.moex.com/ru/contract.aspx?code=RN580CN4E&utm_source=www.moex.com&utm_term=ROSN)\n",
    "\n",
    "**9. АЛРОСА (ALRS)** - 70 [link](https://www.moex.com/ru/contract.aspx?code=AL72CN4E&utm_source=www.moex.com&utm_term=ALRSS)\n",
    "\n",
    "\n",
    "**10. МТС (MTSS)** - 278 [link](https://www.moex.com/ru/contract.aspx?code=MT280CN4E&utm_source=www.moex.com&utm_term=MTSS)"
   ]
  },
  {
   "cell_type": "markdown",
   "metadata": {},
   "source": [
    "Средняя стоимость опциона put: 1321.5 руб.\n",
    "Итого: 100 000 руб. (стоимость портфеля) + 1321.5 руб. (стоимость опциона) = 101 321.5 руб."
   ]
  },
  {
   "cell_type": "markdown",
   "metadata": {},
   "source": [
    "### 3 Хеджирование опционами put (цена исполнения = рыночная цена - 3%)\n",
    "\n",
    "Средняя стоимость опциона put: 1282 руб.\n",
    "Итого: 100 000 руб. (стоимость портфеля) + 1282 руб. (стоимость опциона) = 101 282 руб."
   ]
  },
  {
   "cell_type": "markdown",
   "metadata": {},
   "source": [
    "### 4. Сравнение подходов\n",
    "\n",
    "**Первый подход:**\n",
    "\n",
    "Преимущества: Меньшие затраты на хеджирование.\n",
    "\n",
    "Недостатки: Меньшая защита от убытков.\n",
    "\n",
    "Второй подход:\n",
    "\n",
    "Преимущества: Большая защита от убытков.\n",
    "Недостатки: Большие затраты на хеджирование.\n",
    "\n",
    "**Вывод:**\n",
    "Первый подход подходит для клиентов, которые готовы к некоторому риску в обмен на более низкие затраты.\n",
    "Второй подход подходит для клиентов, которые хотят максимально обезопасить себя от убытков."
   ]
  },
  {
   "cell_type": "code",
   "execution_count": null,
   "metadata": {},
   "outputs": [],
   "source": []
  }
 ],
 "metadata": {
  "kernelspec": {
   "display_name": "Python 3",
   "language": "python",
   "name": "python3"
  },
  "language_info": {
   "codemirror_mode": {
    "name": "ipython",
    "version": 3
   },
   "file_extension": ".py",
   "mimetype": "text/x-python",
   "name": "python",
   "nbconvert_exporter": "python",
   "pygments_lexer": "ipython3",
   "version": "3.9.10"
  }
 },
 "nbformat": 4,
 "nbformat_minor": 2
}

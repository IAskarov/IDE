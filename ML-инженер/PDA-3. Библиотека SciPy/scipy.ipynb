{
 "cells": [
  {
   "cell_type": "code",
   "execution_count": 1,
   "metadata": {},
   "outputs": [
    {
     "name": "stdout",
     "output_type": "stream",
     "text": [
      "Collecting scipy==1.6.2\n",
      "  Downloading scipy-1.6.2-cp39-cp39-win_amd64.whl (32.7 MB)\n",
      "     -------------------------------------- 32.7/32.7 MB 756.3 kB/s eta 0:00:00\n",
      "Collecting numpy<1.23.0,>=1.16.5\n",
      "  Downloading numpy-1.22.4-cp39-cp39-win_amd64.whl (14.7 MB)\n",
      "     ---------------------------------------- 14.7/14.7 MB 3.4 MB/s eta 0:00:00\n",
      "Installing collected packages: numpy, scipy\n",
      "  Attempting uninstall: numpy\n",
      "    Found existing installation: numpy 1.24.2\n",
      "    Uninstalling numpy-1.24.2:\n",
      "      Successfully uninstalled numpy-1.24.2\n",
      "  Attempting uninstall: scipy\n",
      "    Found existing installation: scipy 1.10.0\n",
      "    Uninstalling scipy-1.10.0:\n",
      "      Successfully uninstalled scipy-1.10.0\n",
      "Successfully installed numpy-1.22.4 scipy-1.6.2\n",
      "Note: you may need to restart the kernel to use updated packages.\n"
     ]
    },
    {
     "name": "stderr",
     "output_type": "stream",
     "text": [
      "ERROR: pip's dependency resolver does not currently take into account all the packages that are installed. This behaviour is the source of the following dependency conflicts.\n",
      "transformers 4.28.1 requires tokenizers!=0.11.3,<0.14,>=0.11.1, but you have tokenizers 0.10.0rc1 which is incompatible.\n",
      "torchvision 0.9.1 requires torch==1.8.1, but you have torch 1.9.0 which is incompatible.\n",
      "optuna 3.0.4 requires scipy<1.9.0,>=1.7.0, but you have scipy 1.6.2 which is incompatible.\n",
      "lightautoml 0.3.7.3 requires pandas<=1.4.3; python_version >= \"3.8\", but you have pandas 1.5.3 which is incompatible.\n",
      "lightautoml 0.3.7.3 requires torch<1.9, but you have torch 1.9.0 which is incompatible.\n",
      "gensim 4.3.1 requires scipy>=1.7.0, but you have scipy 1.6.2 which is incompatible.\n",
      "cvxpy 1.3.0 requires setuptools<=64.0.2, but you have setuptools 67.4.0 which is incompatible.\n",
      "\n",
      "[notice] A new release of pip is available: 23.0.1 -> 23.2.1\n",
      "[notice] To update, run: python.exe -m pip install --upgrade pip\n"
     ]
    }
   ],
   "source": [
    "pip install scipy==1.6.2"
   ]
  },
  {
   "cell_type": "code",
   "execution_count": 18,
   "metadata": {},
   "outputs": [],
   "source": [
    "from scipy import sparse\n",
    "import numpy as np\n",
    "from scipy.sparse import lil_matrix, dok_matrix\n",
    "# CSR-матрица\n",
    "sample_csr = sparse.csr_matrix([[1, 2, 0], [0, 0, 3], [4, 0, 5]])\n",
    "row = np.array([0, 2, 2, 0, 1, 2])\n",
    "col = np.array([0, 0, 1, 2, 2, 2])\n",
    "data = np.array([1, 2, 3, 4, 5, 6])\n",
    "\n",
    "# CSС-матрица\n",
    "sample_csc = sparse.csc_matrix((data, (row, col)), shape=(3, 3))\n",
    "\n",
    "I = np.array([0,3,1,0])\n",
    "J = np.array([0,3,1,2])\n",
    "V = np.array([4,5,7,9])\n",
    "\n",
    "# COO-матрица\n",
    "sample_coo = sparse.coo_matrix((V,(I,J)),shape=(4,4))\n",
    "# LIL матрица\n",
    "sample_lil = sparse.lil_matrix((1000, 1000))\n",
    "\n",
    "# DOK-матрица\n",
    "sample_dok = sparse.dok_matrix((5, 5), dtype=np.float32)"
   ]
  },
  {
   "cell_type": "code",
   "execution_count": 10,
   "metadata": {},
   "outputs": [],
   "source": [
    "from scipy.sparse import lil_matrix, dok_matrix\n",
    "\n",
    "sample_lil = lil_matrix((1000, 1000))  # Создаем пустую lil_matrix размером 1000 x 1000\n",
    "sample_dok = dok_matrix((5, 5))  # Создаем пустую dok_matrix размером 5 x 5\n",
    "\n",
    "sample_lil[0, :100] = np.ones(100)\n",
    "sample_lil[1, 100:200] = sample_lil[0, :100]\n",
    "sample_lil.setdiag(rand(1000))\n",
    "\n",
    "for i in range(5):\n",
    "    for j in range(5):\n",
    "        sample_dok[i, j] = i + j"
   ]
  },
  {
   "cell_type": "code",
   "execution_count": 20,
   "metadata": {},
   "outputs": [],
   "source": [
    "from numpy.random import rand\n",
    "\n",
    "sample_lil[0, :100] = np.ones(100)\n",
    "sample_lil[1, 100:200] = sample_lil[0, :100]\n",
    "sample_lil.setdiag(rand(1000))\n",
    "\n",
    "for i in range(5):\n",
    "    for j in range(5):\n",
    "        sample_dok [i, j] = i + j"
   ]
  },
  {
   "cell_type": "code",
   "execution_count": 5,
   "metadata": {},
   "outputs": [],
   "source": [
    " # Переведем в dense и исправим необходимые значения\n",
    "tmp_filled = sample_csr.toarray()\n",
    "tmp_filled[0, 0] = 10\n",
    "sample_csr_new = sparse.csr_matrix(tmp_filled)\n",
    "\n",
    "#Аналогично через сложение двух матриц\n",
    "tmp_csr = sparse.csr_matrix([[5, 0, 0], [0, 0, 0], [0, 0, 0]])\n",
    "sample_csr_new = sample_csr + tmp_csr"
   ]
  },
  {
   "cell_type": "code",
   "execution_count": 7,
   "metadata": {},
   "outputs": [],
   "source": [
    "ty = sparse.csr_matrix([[1, 2, 3], [4, 5, 6]])"
   ]
  },
  {
   "cell_type": "code",
   "execution_count": 8,
   "metadata": {},
   "outputs": [
    {
     "data": {
      "text/plain": [
       "<2x3 sparse matrix of type '<class 'numpy.intc'>'\n",
       "\twith 6 stored elements in Compressed Sparse Row format>"
      ]
     },
     "execution_count": 8,
     "metadata": {},
     "output_type": "execute_result"
    }
   ],
   "source": [
    "ty"
   ]
  },
  {
   "cell_type": "code",
   "execution_count": null,
   "metadata": {},
   "outputs": [],
   "source": []
  }
 ],
 "metadata": {
  "kernelspec": {
   "display_name": "Python 3",
   "language": "python",
   "name": "python3"
  },
  "language_info": {
   "codemirror_mode": {
    "name": "ipython",
    "version": 3
   },
   "file_extension": ".py",
   "mimetype": "text/x-python",
   "name": "python",
   "nbconvert_exporter": "python",
   "pygments_lexer": "ipython3",
   "version": "3.9.10"
  }
 },
 "nbformat": 4,
 "nbformat_minor": 2
}

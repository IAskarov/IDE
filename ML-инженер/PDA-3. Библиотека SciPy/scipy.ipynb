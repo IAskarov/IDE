{
 "cells": [
  {
   "cell_type": "code",
   "execution_count": 1,
   "metadata": {},
   "outputs": [
    {
     "name": "stdout",
     "output_type": "stream",
     "text": [
      "Collecting scipy==1.6.2\n",
      "  Downloading scipy-1.6.2-cp39-cp39-win_amd64.whl (32.7 MB)\n",
      "     -------------------------------------- 32.7/32.7 MB 756.3 kB/s eta 0:00:00\n",
      "Collecting numpy<1.23.0,>=1.16.5\n",
      "  Downloading numpy-1.22.4-cp39-cp39-win_amd64.whl (14.7 MB)\n",
      "     ---------------------------------------- 14.7/14.7 MB 3.4 MB/s eta 0:00:00\n",
      "Installing collected packages: numpy, scipy\n",
      "  Attempting uninstall: numpy\n",
      "    Found existing installation: numpy 1.24.2\n",
      "    Uninstalling numpy-1.24.2:\n",
      "      Successfully uninstalled numpy-1.24.2\n",
      "  Attempting uninstall: scipy\n",
      "    Found existing installation: scipy 1.10.0\n",
      "    Uninstalling scipy-1.10.0:\n",
      "      Successfully uninstalled scipy-1.10.0\n",
      "Successfully installed numpy-1.22.4 scipy-1.6.2\n",
      "Note: you may need to restart the kernel to use updated packages.\n"
     ]
    },
    {
     "name": "stderr",
     "output_type": "stream",
     "text": [
      "ERROR: pip's dependency resolver does not currently take into account all the packages that are installed. This behaviour is the source of the following dependency conflicts.\n",
      "transformers 4.28.1 requires tokenizers!=0.11.3,<0.14,>=0.11.1, but you have tokenizers 0.10.0rc1 which is incompatible.\n",
      "torchvision 0.9.1 requires torch==1.8.1, but you have torch 1.9.0 which is incompatible.\n",
      "optuna 3.0.4 requires scipy<1.9.0,>=1.7.0, but you have scipy 1.6.2 which is incompatible.\n",
      "lightautoml 0.3.7.3 requires pandas<=1.4.3; python_version >= \"3.8\", but you have pandas 1.5.3 which is incompatible.\n",
      "lightautoml 0.3.7.3 requires torch<1.9, but you have torch 1.9.0 which is incompatible.\n",
      "gensim 4.3.1 requires scipy>=1.7.0, but you have scipy 1.6.2 which is incompatible.\n",
      "cvxpy 1.3.0 requires setuptools<=64.0.2, but you have setuptools 67.4.0 which is incompatible.\n",
      "\n",
      "[notice] A new release of pip is available: 23.0.1 -> 23.2.1\n",
      "[notice] To update, run: python.exe -m pip install --upgrade pip\n"
     ]
    }
   ],
   "source": [
    "pip install scipy==1.6.2"
   ]
  },
  {
   "cell_type": "code",
   "execution_count": 18,
   "metadata": {},
   "outputs": [],
   "source": [
    "from scipy import sparse\n",
    "import numpy as np\n",
    "from scipy.sparse import lil_matrix, dok_matrix\n",
    "# CSR-матрица\n",
    "sample_csr = sparse.csr_matrix([[1, 2, 0], [0, 0, 3], [4, 0, 5]])\n",
    "row = np.array([0, 2, 2, 0, 1, 2])\n",
    "col = np.array([0, 0, 1, 2, 2, 2])\n",
    "data = np.array([1, 2, 3, 4, 5, 6])\n",
    "\n",
    "# CSС-матрица\n",
    "sample_csc = sparse.csc_matrix((data, (row, col)), shape=(3, 3))\n",
    "\n",
    "I = np.array([0,3,1,0])\n",
    "J = np.array([0,3,1,2])\n",
    "V = np.array([4,5,7,9])\n",
    "\n",
    "# COO-матрица\n",
    "sample_coo = sparse.coo_matrix((V,(I,J)),shape=(4,4))\n",
    "# LIL матрица\n",
    "sample_lil = sparse.lil_matrix((1000, 1000))\n",
    "\n",
    "# DOK-матрица\n",
    "sample_dok = sparse.dok_matrix((5, 5), dtype=np.float32)"
   ]
  },
  {
   "cell_type": "code",
   "execution_count": 10,
   "metadata": {},
   "outputs": [],
   "source": [
    "from scipy.sparse import lil_matrix, dok_matrix\n",
    "\n",
    "sample_lil = lil_matrix((1000, 1000))  # Создаем пустую lil_matrix размером 1000 x 1000\n",
    "sample_dok = dok_matrix((5, 5))  # Создаем пустую dok_matrix размером 5 x 5\n",
    "\n",
    "sample_lil[0, :100] = np.ones(100)\n",
    "sample_lil[1, 100:200] = sample_lil[0, :100]\n",
    "sample_lil.setdiag(rand(1000))\n",
    "\n",
    "for i in range(5):\n",
    "    for j in range(5):\n",
    "        sample_dok[i, j] = i + j"
   ]
  },
  {
   "cell_type": "code",
   "execution_count": 20,
   "metadata": {},
   "outputs": [],
   "source": [
    "from numpy.random import rand\n",
    "\n",
    "sample_lil[0, :100] = np.ones(100)\n",
    "sample_lil[1, 100:200] = sample_lil[0, :100]\n",
    "sample_lil.setdiag(rand(1000))\n",
    "\n",
    "for i in range(5):\n",
    "    for j in range(5):\n",
    "        sample_dok [i, j] = i + j"
   ]
  },
  {
   "cell_type": "code",
   "execution_count": 5,
   "metadata": {},
   "outputs": [],
   "source": [
    " # Переведем в dense и исправим необходимые значения\n",
    "tmp_filled = sample_csr.toarray()\n",
    "tmp_filled[0, 0] = 10\n",
    "sample_csr_new = sparse.csr_matrix(tmp_filled)\n",
    "\n",
    "#Аналогично через сложение двух матриц\n",
    "tmp_csr = sparse.csr_matrix([[5, 0, 0], [0, 0, 0], [0, 0, 0]])\n",
    "sample_csr_new = sample_csr + tmp_csr"
   ]
  },
  {
   "cell_type": "code",
   "execution_count": 7,
   "metadata": {},
   "outputs": [],
   "source": [
    "ty = sparse.csr_matrix([[1, 2, 3], [4, 5, 6]])"
   ]
  },
  {
   "cell_type": "code",
   "execution_count": 8,
   "metadata": {},
   "outputs": [
    {
     "data": {
      "text/plain": [
       "<2x3 sparse matrix of type '<class 'numpy.intc'>'\n",
       "\twith 6 stored elements in Compressed Sparse Row format>"
      ]
     },
     "execution_count": 8,
     "metadata": {},
     "output_type": "execute_result"
    }
   ],
   "source": [
    "ty"
   ]
  },
  {
   "cell_type": "code",
   "execution_count": 21,
   "metadata": {},
   "outputs": [],
   "source": [
    "from scipy.spatial import Delaunay"
   ]
  },
  {
   "cell_type": "code",
   "execution_count": 22,
   "metadata": {},
   "outputs": [
    {
     "data": {
      "image/png": "[encoded data removed]",
      "text/plain": [
       "<Figure size 432x288 with 1 Axes>"
      ]
     },
     "metadata": {
      "needs_background": "light"
     },
     "output_type": "display_data"
    }
   ],
   "source": [
    "points = np.array([[0, 0], [0, 1.1], [1, 0], [1, 1]])\n",
    "tri = Delaunay(points)\n",
    "\n",
    "import matplotlib.pyplot as plt\n",
    "plt.triplot(points[:,0], points[:,1], tri.simplices)\n",
    "plt.plot(points[:,0], points[:,1], 'o')\n",
    "plt.show()"
   ]
  },
  {
   "cell_type": "code",
   "execution_count": 23,
   "metadata": {},
   "outputs": [
    {
     "data": {
      "image/png": "[encoded data removed]",
      "text/plain": [
       "<Figure size 432x288 with 1 Axes>"
      ]
     },
     "metadata": {
      "needs_background": "light"
     },
     "output_type": "display_data"
    }
   ],
   "source": [
    "from scipy.spatial import ConvexHull\n",
    "hull = ConvexHull(points)\n",
    "import matplotlib.pyplot as plt\n",
    "plt.plot(points[:,0], points[:,1], 'o')\n",
    "for simplex in hull.simplices:\n",
    "    plt.plot(points[simplex, 0], points[simplex, 1], 'k-')"
   ]
  },
  {
   "cell_type": "code",
   "execution_count": 24,
   "metadata": {},
   "outputs": [
    {
     "data": {
      "image/png": "[encoded data removed]",
      "text/plain": [
       "<Figure size 432x288 with 1 Axes>"
      ]
     },
     "metadata": {
      "needs_background": "light"
     },
     "output_type": "display_data"
    }
   ],
   "source": [
    "from scipy.spatial import Voronoi, voronoi_plot_2d\n",
    "vor = Voronoi(points)\n",
    "fig = voronoi_plot_2d(vor)\n",
    "plt.show()"
   ]
  },
  {
   "cell_type": "code",
   "execution_count": 25,
   "metadata": {},
   "outputs": [
    {
     "data": {
      "text/plain": [
       "array([[1.25992105, 0.        ],\n",
       "       [1.25992105, 0.        ]])"
      ]
     },
     "execution_count": 25,
     "metadata": {},
     "output_type": "execute_result"
    }
   ],
   "source": [
    "from scipy.spatial import distance_matrix\n",
    "distance_matrix([[0, 1]], [[1, 2]], p=2)\n",
    "distance_matrix([[0, 1], [0, 1]], [[1, 2], [0, 1]], p=3)\n"
   ]
  },
  {
   "cell_type": "code",
   "execution_count": 27,
   "metadata": {},
   "outputs": [
    {
     "data": {
      "text/plain": [
       "array([[17.00007663,  6.89219013, 25.01675474, 28.119784  , 20.04414717],\n",
       "       [26.00044815, 22.01433058, 20.30179359, 17.23047532,  9.00097525],\n",
       "       [19.02572349, 19.25814812, 13.000007  ,  8.04938647,  9.00097525],\n",
       "       [ 3.        , 11.00001366,  8.01183019, 11.41508815, 14.00016659],\n",
       "       [11.7091133 ,  7.00266353, 17.00747657, 20.        ,  7.55313029]])"
      ]
     },
     "execution_count": 27,
     "metadata": {},
     "output_type": "execute_result"
    }
   ],
   "source": [
    "points_1 = [(0, 0), (28, 13), (21, 24), (5, 17), (13, 8)]\n",
    "points_2 = [(2, 17), (6, 6), (8, 25), (13, 28), (19, 15)]\n",
    "distance_matrix(points_1, points_2, p=5)"
   ]
  },
  {
   "cell_type": "code",
   "execution_count": 28,
   "metadata": {},
   "outputs": [],
   "source": [
    "import numpy as np\n",
    "from scipy.optimize import minimize"
   ]
  },
  {
   "cell_type": "code",
   "execution_count": 29,
   "metadata": {},
   "outputs": [],
   "source": [
    "def function_to_minimize(x):\n",
    "    return x[0]**3 + 4 * x[0]**2 + 10 + 30*x[1]**2"
   ]
  },
  {
   "cell_type": "code",
   "execution_count": 30,
   "metadata": {},
   "outputs": [
    {
     "name": "stdout",
     "output_type": "stream",
     "text": [
      "Optimization terminated successfully.\n",
      "         Current function value: 10.000000\n",
      "         Iterations: 81\n",
      "         Function evaluations: 155\n"
     ]
    }
   ],
   "source": [
    "# Симплекс-метод\n",
    "x0 = 0\n",
    "res = minimize(function_to_minimize, x0, method='nelder-mead', options={'xatol': 1e-8, 'disp': True})"
   ]
  },
  {
   "cell_type": "code",
   "execution_count": 31,
   "metadata": {},
   "outputs": [
    {
     "name": "stdout",
     "output_type": "stream",
     "text": [
      "Warning: Desired error not necessarily achieved due to precision loss.\n",
      "         Current function value: -645910098997.280762\n",
      "         Iterations: 2\n",
      "         Function evaluations: 351\n",
      "         Gradient evaluations: 113\n"
     ]
    },
    {
     "name": "stderr",
     "output_type": "stream",
     "text": [
      "C:\\Users\\askar\\AppData\\Local\\Temp\\ipykernel_12512\\1312777196.py:2: OptimizeWarning: Unknown solver options: xatol\n",
      "  res = minimize(function_to_minimize, x0, method='bfgs', options={'xatol': 1e-8, 'disp': True})\n"
     ]
    }
   ],
   "source": [
    "# BFGS\n",
    "res = minimize(function_to_minimize, x0, method='bfgs', options={'xatol': 1e-8, 'disp': True})"
   ]
  },
  {
   "cell_type": "code",
   "execution_count": 32,
   "metadata": {},
   "outputs": [
    {
     "name": "stdout",
     "output_type": "stream",
     "text": [
      "Warning: Maximum number of function evaluations has been exceeded.\n",
      "Divide-by-zero encountered: rhok assumed large\n"
     ]
    },
    {
     "name": "stderr",
     "output_type": "stream",
     "text": [
      "C:\\Users\\askar\\AppData\\Local\\Temp\\ipykernel_12512\\4014877376.py:4: OptimizeWarning: Unknown solver options: xatol\n",
      "  res = minimize(linear, x0, method='bfgs', options={'xatol': 1e-8, 'disp': True})\n"
     ]
    },
    {
     "name": "stdout",
     "output_type": "stream",
     "text": [
      "Divide-by-zero encountered: rhok assumed large\n",
      "Divide-by-zero encountered: rhok assumed large\n",
      "Divide-by-zero encountered: rhok assumed large\n",
      "Divide-by-zero encountered: rhok assumed large\n",
      "Divide-by-zero encountered: rhok assumed large\n",
      "Divide-by-zero encountered: rhok assumed large\n",
      "Divide-by-zero encountered: rhok assumed large\n",
      "Divide-by-zero encountered: rhok assumed large\n",
      "Divide-by-zero encountered: rhok assumed large\n",
      "Divide-by-zero encountered: rhok assumed large\n",
      "Divide-by-zero encountered: rhok assumed large\n",
      "Divide-by-zero encountered: rhok assumed large\n",
      "Divide-by-zero encountered: rhok assumed large\n",
      "Divide-by-zero encountered: rhok assumed large\n",
      "Divide-by-zero encountered: rhok assumed large\n",
      "Divide-by-zero encountered: rhok assumed large\n",
      "Divide-by-zero encountered: rhok assumed large\n",
      "Divide-by-zero encountered: rhok assumed large\n",
      "Divide-by-zero encountered: rhok assumed large\n",
      "Divide-by-zero encountered: rhok assumed large\n",
      "Divide-by-zero encountered: rhok assumed large\n",
      "Divide-by-zero encountered: rhok assumed large\n",
      "Divide-by-zero encountered: rhok assumed large\n",
      "Divide-by-zero encountered: rhok assumed large\n",
      "Divide-by-zero encountered: rhok assumed large\n",
      "Divide-by-zero encountered: rhok assumed large\n",
      "Divide-by-zero encountered: rhok assumed large\n",
      "Divide-by-zero encountered: rhok assumed large\n",
      "Divide-by-zero encountered: rhok assumed large\n",
      "Divide-by-zero encountered: rhok assumed large\n",
      "Divide-by-zero encountered: rhok assumed large\n",
      "Divide-by-zero encountered: rhok assumed large\n",
      "Divide-by-zero encountered: rhok assumed large\n",
      "Divide-by-zero encountered: rhok assumed large\n",
      "Divide-by-zero encountered: rhok assumed large\n",
      "Divide-by-zero encountered: rhok assumed large\n",
      "Divide-by-zero encountered: rhok assumed large\n",
      "Divide-by-zero encountered: rhok assumed large\n",
      "Divide-by-zero encountered: rhok assumed large\n",
      "Divide-by-zero encountered: rhok assumed large\n",
      "Divide-by-zero encountered: rhok assumed large\n",
      "Divide-by-zero encountered: rhok assumed large\n",
      "Divide-by-zero encountered: rhok assumed large\n",
      "Divide-by-zero encountered: rhok assumed large\n",
      "Divide-by-zero encountered: rhok assumed large\n",
      "Divide-by-zero encountered: rhok assumed large\n",
      "Warning: Desired error not necessarily achieved due to precision loss.\n",
      "         Current function value: -339211811099097138715818266642692985742503535472172481368912884097961292874812054461869822029578419403423632352571912698933392921568124677863601437790961664.000000\n",
      "         Iterations: 47\n",
      "         Function evaluations: 10555\n",
      "         Gradient evaluations: 3518\n"
     ]
    },
    {
     "name": "stderr",
     "output_type": "stream",
     "text": [
      "c:\\Users\\askar\\AppData\\Local\\Programs\\Python\\Python39\\lib\\site-packages\\scipy\\optimize\\optimize.py:1210: RuntimeWarning: overflow encountered in multiply\n",
      "  Hk = np.dot(A1, np.dot(Hk, A2)) + (rhok * sk[:, np.newaxis] *\n",
      "c:\\Users\\askar\\AppData\\Local\\Programs\\Python\\Python39\\lib\\site-packages\\scipy\\optimize\\linesearch.py:287: RuntimeWarning: invalid value encountered in multiply\n",
      "  return f(xk + alpha * pk, *args)\n"
     ]
    }
   ],
   "source": [
    "def linear(x):\n",
    "    return x[0]\n",
    "res = minimize(linear, x0, method='nelder-mead', options={'xatol': 1e-8, 'disp': True})\n",
    "res = minimize(linear, x0, method='bfgs', options={'xatol': 1e-8, 'disp': True})"
   ]
  },
  {
   "cell_type": "code",
   "execution_count": 34,
   "metadata": {},
   "outputs": [],
   "source": [
    "from scipy.optimize import Bounds\n",
    "bounds = Bounds ([-10, 0], [10, 100.0])"
   ]
  },
  {
   "cell_type": "code",
   "execution_count": 33,
   "metadata": {},
   "outputs": [],
   "source": [
    "import numpy as np\n",
    "from scipy.optimize import LinearConstraint\n",
    "linear_constraint = LinearConstraint ([[1, 1]], [42], [42])"
   ]
  },
  {
   "cell_type": "code",
   "execution_count": 35,
   "metadata": {},
   "outputs": [],
   "source": [
    "def func(x):\n",
    "    return x[0]**3 - 5*x[1]**2 -5"
   ]
  },
  {
   "cell_type": "code",
   "execution_count": 36,
   "metadata": {},
   "outputs": [
    {
     "name": "stdout",
     "output_type": "stream",
     "text": [
      "`gtol` termination condition is satisfied.\n",
      "Number of iterations: 10, function evaluations: 27, CG iterations: 8, optimality: 9.44e-12, constraint violation: 0.00e+00, execution time: 0.062 s.\n"
     ]
    }
   ],
   "source": [
    "x0 = np.array([0.5, 0])\n",
    "res = minimize(func, x0, method='trust-constr', constraints=[linear_constraint],\n",
    "        options={'verbose': 1}, bounds=bounds)"
   ]
  },
  {
   "cell_type": "code",
   "execution_count": 37,
   "metadata": {},
   "outputs": [],
   "source": [
    "res = minimize(func, x0, method='SLSQP', constraints=[linear_constraint],\n",
    "            bounds=bounds)"
   ]
  },
  {
   "cell_type": "code",
   "execution_count": 38,
   "metadata": {},
   "outputs": [
    {
     "data": {
      "text/plain": [
       "[<matplotlib.lines.Line2D at 0x197d4570280>]"
      ]
     },
     "execution_count": 38,
     "metadata": {},
     "output_type": "execute_result"
    },
    {
     "data": {
      "image/png": "[encoded data removed]",
      "text/plain": [
       "<Figure size 432x288 with 1 Axes>"
      ]
     },
     "metadata": {
      "needs_background": "light"
     },
     "output_type": "display_data"
    }
   ],
   "source": [
    "from scipy.interpolate import interp1d\n",
    "x = np.linspace(0, 30, num=11, endpoint=True)\n",
    "y = np.cos(-x**2)\n",
    "import matplotlib.pyplot as plt\n",
    "plt.plot(x, y, 'o')"
   ]
  },
  {
   "cell_type": "code",
   "execution_count": 39,
   "metadata": {},
   "outputs": [
    {
     "data": {
      "image/png": "[encoded data removed]",
      "text/plain": [
       "<Figure size 432x288 with 1 Axes>"
      ]
     },
     "metadata": {
      "needs_background": "light"
     },
     "output_type": "display_data"
    }
   ],
   "source": [
    "xnew = np.linspace(0, 30, num=41, endpoint=True)\n",
    "f = interp1d(x, y)\n",
    "f2 = interp1d(x, y, kind='quadratic')\n",
    "f3 = interp1d(x, y, kind='cubic')\n",
    "plt.plot(x, y, 'o', xnew, f(xnew), '-', xnew, f2(xnew), '--', xnew, f3(xnew), '.')\n",
    "plt.show()"
   ]
  },
  {
   "cell_type": "code",
   "execution_count": null,
   "metadata": {},
   "outputs": [],
   "source": []
  }
 ],
 "metadata": {
  "kernelspec": {
   "display_name": "Python 3",
   "language": "python",
   "name": "python3"
  },
  "language_info": {
   "codemirror_mode": {
    "name": "ipython",
    "version": 3
   },
   "file_extension": ".py",
   "mimetype": "text/x-python",
   "name": "python",
   "nbconvert_exporter": "python",
   "pygments_lexer": "ipython3",
   "version": "3.9.10"
  }
 },
 "nbformat": 4,
 "nbformat_minor": 2
}

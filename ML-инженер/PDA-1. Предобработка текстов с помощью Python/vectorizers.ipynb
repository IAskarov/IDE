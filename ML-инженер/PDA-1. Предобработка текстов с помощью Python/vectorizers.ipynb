{
  "cells": [
    {
      "cell_type": "code",
      "execution_count": 1,
      "metadata": {
        "colab": {
          "base_uri": "https://localhost:8080/"
        },
        "id": "rJnHQn4htNIF",
        "outputId": "a9944aca-2fa0-4a26-f0ce-1b32ccd9705a"
      },
      "outputs": [
        {
          "name": "stdout",
          "output_type": "stream",
          "text": [
            "Requirement already satisfied: datasets in c:\\users\\askar\\appdata\\local\\programs\\python\\python39\\lib\\site-packages (2.12.0)\n",
            "Requirement already satisfied: dill<0.3.7,>=0.3.0 in c:\\users\\askar\\appdata\\local\\programs\\python\\python39\\lib\\site-packages (from datasets) (0.3.6)\n",
            "Requirement already satisfied: pyyaml>=5.1 in c:\\users\\askar\\appdata\\local\\programs\\python\\python39\\lib\\site-packages (from datasets) (6.0)\n",
            "Requirement already satisfied: multiprocess in c:\\users\\askar\\appdata\\local\\programs\\python\\python39\\lib\\site-packages (from datasets) (0.70.14)\n",
            "Requirement already satisfied: tqdm>=4.62.1 in c:\\users\\askar\\appdata\\local\\programs\\python\\python39\\lib\\site-packages (from datasets) (4.64.1)\n",
            "Requirement already satisfied: requests>=2.19.0 in c:\\users\\askar\\appdata\\local\\programs\\python\\python39\\lib\\site-packages (from datasets) (2.28.1)\n",
            "Requirement already satisfied: fsspec[http]>=2021.11.1 in c:\\users\\askar\\appdata\\local\\programs\\python\\python39\\lib\\site-packages (from datasets) (2023.5.0)\n",
            "Requirement already satisfied: aiohttp in c:\\users\\askar\\appdata\\local\\programs\\python\\python39\\lib\\site-packages (from datasets) (3.8.4)\n",
            "Requirement already satisfied: responses<0.19 in c:\\users\\askar\\appdata\\local\\programs\\python\\python39\\lib\\site-packages (from datasets) (0.18.0)\n",
            "Requirement already satisfied: packaging in c:\\users\\askar\\appdata\\local\\programs\\python\\python39\\lib\\site-packages (from datasets) (21.3)\n",
            "Requirement already satisfied: xxhash in c:\\users\\askar\\appdata\\local\\programs\\python\\python39\\lib\\site-packages (from datasets) (3.2.0)\n",
            "Requirement already satisfied: pandas in c:\\users\\askar\\appdata\\local\\programs\\python\\python39\\lib\\site-packages (from datasets) (1.5.3)\n",
            "Requirement already satisfied: pyarrow>=8.0.0 in c:\\users\\askar\\appdata\\local\\programs\\python\\python39\\lib\\site-packages (from datasets) (12.0.0)\n",
            "Requirement already satisfied: numpy>=1.17 in c:\\users\\askar\\appdata\\local\\programs\\python\\python39\\lib\\site-packages (from datasets) (1.24.2)\n",
            "Requirement already satisfied: huggingface-hub<1.0.0,>=0.11.0 in c:\\users\\askar\\appdata\\local\\programs\\python\\python39\\lib\\site-packages (from datasets) (0.14.1)\n",
            "Requirement already satisfied: async-timeout<5.0,>=4.0.0a3 in c:\\users\\askar\\appdata\\local\\programs\\python\\python39\\lib\\site-packages (from aiohttp->datasets) (4.0.2)\n",
            "Requirement already satisfied: aiosignal>=1.1.2 in c:\\users\\askar\\appdata\\local\\programs\\python\\python39\\lib\\site-packages (from aiohttp->datasets) (1.3.1)\n",
            "Requirement already satisfied: attrs>=17.3.0 in c:\\users\\askar\\appdata\\local\\programs\\python\\python39\\lib\\site-packages (from aiohttp->datasets) (22.1.0)\n",
            "Requirement already satisfied: multidict<7.0,>=4.5 in c:\\users\\askar\\appdata\\local\\programs\\python\\python39\\lib\\site-packages (from aiohttp->datasets) (6.0.4)\n",
            "Requirement already satisfied: charset-normalizer<4.0,>=2.0 in c:\\users\\askar\\appdata\\local\\programs\\python\\python39\\lib\\site-packages (from aiohttp->datasets) (2.1.1)\n",
            "Requirement already satisfied: frozenlist>=1.1.1 in c:\\users\\askar\\appdata\\local\\programs\\python\\python39\\lib\\site-packages (from aiohttp->datasets) (1.3.3)\n",
            "Requirement already satisfied: yarl<2.0,>=1.0 in c:\\users\\askar\\appdata\\local\\programs\\python\\python39\\lib\\site-packages (from aiohttp->datasets) (1.9.2)\n",
            "Requirement already satisfied: typing-extensions>=3.7.4.3 in c:\\users\\askar\\appdata\\local\\programs\\python\\python39\\lib\\site-packages (from huggingface-hub<1.0.0,>=0.11.0->datasets) (4.4.0)\n",
            "Requirement already satisfied: filelock in c:\\users\\askar\\appdata\\local\\programs\\python\\python39\\lib\\site-packages (from huggingface-hub<1.0.0,>=0.11.0->datasets) (3.9.0)\n",
            "Requirement already satisfied: pyparsing!=3.0.5,>=2.0.2 in c:\\users\\askar\\appdata\\local\\programs\\python\\python39\\lib\\site-packages (from packaging->datasets) (3.0.9)\n",
            "Requirement already satisfied: idna<4,>=2.5 in c:\\users\\askar\\appdata\\local\\programs\\python\\python39\\lib\\site-packages (from requests>=2.19.0->datasets) (3.4)\n",
            "Requirement already satisfied: certifi>=2017.4.17 in c:\\users\\askar\\appdata\\local\\programs\\python\\python39\\lib\\site-packages (from requests>=2.19.0->datasets) (2022.12.7)\n",
            "Requirement already satisfied: urllib3<1.27,>=1.21.1 in c:\\users\\askar\\appdata\\local\\programs\\python\\python39\\lib\\site-packages (from requests>=2.19.0->datasets) (1.26.13)\n",
            "Requirement already satisfied: colorama in c:\\users\\askar\\appdata\\local\\programs\\python\\python39\\lib\\site-packages (from tqdm>=4.62.1->datasets) (0.4.6)\n",
            "Requirement already satisfied: python-dateutil>=2.8.1 in c:\\users\\askar\\appdata\\local\\programs\\python\\python39\\lib\\site-packages (from pandas->datasets) (2.8.2)\n",
            "Requirement already satisfied: pytz>=2020.1 in c:\\users\\askar\\appdata\\local\\programs\\python\\python39\\lib\\site-packages (from pandas->datasets) (2022.6)\n",
            "Requirement already satisfied: six>=1.5 in c:\\users\\askar\\appdata\\local\\programs\\python\\python39\\lib\\site-packages (from python-dateutil>=2.8.1->pandas->datasets) (1.16.0)\n"
          ]
        },
        {
          "name": "stderr",
          "output_type": "stream",
          "text": [
            "\n",
            "[notice] A new release of pip is available: 23.0.1 -> 23.2\n",
            "[notice] To update, run: python.exe -m pip install --upgrade pip\n"
          ]
        },
        {
          "name": "stdout",
          "output_type": "stream",
          "text": [
            "Collecting tokenizers==0.10.0rc1\n",
            "  Downloading tokenizers-0.10.0rc1-cp39-cp39-win_amd64.whl (2.1 MB)\n",
            "     ---------------------------------------- 2.1/2.1 MB 570.3 kB/s eta 0:00:00\n",
            "Installing collected packages: tokenizers\n",
            "  Attempting uninstall: tokenizers\n",
            "    Found existing installation: tokenizers 0.13.3\n",
            "    Uninstalling tokenizers-0.13.3:\n",
            "      Successfully uninstalled tokenizers-0.13.3\n",
            "Successfully installed tokenizers-0.10.0rc1\n"
          ]
        },
        {
          "name": "stderr",
          "output_type": "stream",
          "text": [
            "ERROR: pip's dependency resolver does not currently take into account all the packages that are installed. This behaviour is the source of the following dependency conflicts.\n",
            "transformers 4.28.1 requires tokenizers!=0.11.3,<0.14,>=0.11.1, but you have tokenizers 0.10.0rc1 which is incompatible.\n",
            "\n",
            "[notice] A new release of pip is available: 23.0.1 -> 23.2\n",
            "[notice] To update, run: python.exe -m pip install --upgrade pip\n"
          ]
        },
        {
          "name": "stdout",
          "output_type": "stream",
          "text": [
            "Collecting wandb\n",
            "  Downloading wandb-0.15.5-py3-none-any.whl (2.1 MB)\n",
            "     ---------------------------------------- 2.1/2.1 MB 337.0 kB/s eta 0:00:00\n",
            "Collecting pathtools\n",
            "  Downloading pathtools-0.1.2.tar.gz (11 kB)\n",
            "  Preparing metadata (setup.py): started\n",
            "  Preparing metadata (setup.py): finished with status 'done'\n",
            "Collecting appdirs>=1.4.3\n",
            "  Downloading appdirs-1.4.4-py2.py3-none-any.whl (9.6 kB)\n",
            "Requirement already satisfied: PyYAML in c:\\users\\askar\\appdata\\local\\programs\\python\\python39\\lib\\site-packages (from wandb) (6.0)\n",
            "Requirement already satisfied: psutil>=5.0.0 in c:\\users\\askar\\appdata\\local\\programs\\python\\python39\\lib\\site-packages (from wandb) (5.9.4)\n",
            "Collecting setproctitle\n",
            "  Downloading setproctitle-1.3.2-cp39-cp39-win_amd64.whl (11 kB)\n",
            "Requirement already satisfied: sentry-sdk>=1.0.0 in c:\\users\\askar\\appdata\\local\\programs\\python\\python39\\lib\\site-packages (from wandb) (1.12.1)\n",
            "Requirement already satisfied: setuptools in c:\\users\\askar\\appdata\\local\\programs\\python\\python39\\lib\\site-packages (from wandb) (67.4.0)\n",
            "Requirement already satisfied: protobuf!=4.21.0,<5,>=3.19.0 in c:\\users\\askar\\appdata\\local\\programs\\python\\python39\\lib\\site-packages (from wandb) (3.19.6)\n",
            "Collecting docker-pycreds>=0.4.0\n",
            "  Downloading docker_pycreds-0.4.0-py2.py3-none-any.whl (9.0 kB)\n",
            "Requirement already satisfied: requests<3,>=2.0.0 in c:\\users\\askar\\appdata\\local\\programs\\python\\python39\\lib\\site-packages (from wandb) (2.28.1)\n",
            "Requirement already satisfied: Click!=8.0.0,>=7.1 in c:\\users\\askar\\appdata\\local\\programs\\python\\python39\\lib\\site-packages (from wandb) (8.1.3)\n",
            "Requirement already satisfied: typing-extensions in c:\\users\\askar\\appdata\\local\\programs\\python\\python39\\lib\\site-packages (from wandb) (4.4.0)\n",
            "Collecting GitPython!=3.1.29,>=1.0.0\n",
            "  Downloading GitPython-3.1.32-py3-none-any.whl (188 kB)\n",
            "     ------------------------------------ 188.5/188.5 kB 571.3 kB/s eta 0:00:00\n",
            "Requirement already satisfied: colorama in c:\\users\\askar\\appdata\\local\\programs\\python\\python39\\lib\\site-packages (from Click!=8.0.0,>=7.1->wandb) (0.4.6)\n",
            "Requirement already satisfied: six>=1.4.0 in c:\\users\\askar\\appdata\\local\\programs\\python\\python39\\lib\\site-packages (from docker-pycreds>=0.4.0->wandb) (1.16.0)\n",
            "Collecting gitdb<5,>=4.0.1\n",
            "  Downloading gitdb-4.0.10-py3-none-any.whl (62 kB)\n",
            "     -------------------------------------- 62.7/62.7 kB 664.5 kB/s eta 0:00:00\n",
            "Requirement already satisfied: charset-normalizer<3,>=2 in c:\\users\\askar\\appdata\\local\\programs\\python\\python39\\lib\\site-packages (from requests<3,>=2.0.0->wandb) (2.1.1)\n",
            "Requirement already satisfied: idna<4,>=2.5 in c:\\users\\askar\\appdata\\local\\programs\\python\\python39\\lib\\site-packages (from requests<3,>=2.0.0->wandb) (3.4)\n",
            "Requirement already satisfied: certifi>=2017.4.17 in c:\\users\\askar\\appdata\\local\\programs\\python\\python39\\lib\\site-packages (from requests<3,>=2.0.0->wandb) (2022.12.7)\n",
            "Requirement already satisfied: urllib3<1.27,>=1.21.1 in c:\\users\\askar\\appdata\\local\\programs\\python\\python39\\lib\\site-packages (from requests<3,>=2.0.0->wandb) (1.26.13)\n",
            "Collecting smmap<6,>=3.0.1\n",
            "  Downloading smmap-5.0.0-py3-none-any.whl (24 kB)\n",
            "Building wheels for collected packages: pathtools\n",
            "  Building wheel for pathtools (setup.py): started\n",
            "  Building wheel for pathtools (setup.py): finished with status 'done'\n",
            "  Created wheel for pathtools: filename=pathtools-0.1.2-py3-none-any.whl size=8801 sha256=b8407ee1553a133d2f1de960dd0d089fdac4f0ccfa6e0d2febc7618dca3cb665\n",
            "  Stored in directory: c:\\users\\askar\\appdata\\local\\pip\\cache\\wheels\\b7\\0a\\67\\ada2a22079218c75a88361c0782855cc72aebc4d18d0289d05\n",
            "Successfully built pathtools\n",
            "Installing collected packages: pathtools, appdirs, smmap, setproctitle, docker-pycreds, gitdb, GitPython, wandb\n",
            "Successfully installed GitPython-3.1.32 appdirs-1.4.4 docker-pycreds-0.4.0 gitdb-4.0.10 pathtools-0.1.2 setproctitle-1.3.2 smmap-5.0.0 wandb-0.15.5\n"
          ]
        },
        {
          "name": "stderr",
          "output_type": "stream",
          "text": [
            "\n",
            "[notice] A new release of pip is available: 23.0.1 -> 23.2\n",
            "[notice] To update, run: python.exe -m pip install --upgrade pip\n"
          ]
        }
      ],
      "source": [
        "!pip install datasets\n",
        "!pip install tokenizers==0.10.0rc1\n",
        "!pip install wandb"
      ]
    },
    {
      "cell_type": "code",
      "execution_count": 2,
      "metadata": {
        "id": "IGJsIqgRtEn-"
      },
      "outputs": [
        {
          "name": "stderr",
          "output_type": "stream",
          "text": [
            "c:\\Users\\askar\\AppData\\Local\\Programs\\Python\\Python39\\lib\\site-packages\\tqdm\\auto.py:22: TqdmWarning: IProgress not found. Please update jupyter and ipywidgets. See https://ipywidgets.readthedocs.io/en/stable/user_install.html\n",
            "  from .autonotebook import tqdm as notebook_tqdm\n"
          ]
        }
      ],
      "source": [
        "import torch\n",
        "import torch.nn as nn\n",
        "import torch.nn.functional as F\n",
        "\n",
        "import numpy as np\n",
        "\n",
        "import datasets\n",
        "import tokenizers\n",
        "import wandb\n",
        "from tqdm.auto import tqdm\n",
        "\n",
        "import matplotlib.pyplot as plt"
      ]
    },
    {
      "attachments": {},
      "cell_type": "markdown",
      "metadata": {
        "id": "FYu-_i_CeThC"
      },
      "source": [
        "## О формате заданий\n",
        "\n",
        "### Coding tasks\n",
        "\n",
        "\n",
        "Место для вашего кода отмечено блоками `# YOUR CODE STARTS` ... `#YOUR CODE ENDS` и ваше решение должно быть строго между ними. \n",
        "\n",
        "Чтобы решить задачу, вам придётся смотреть в документацию соответствующего фреймворка. Этот навык очень важен, и в начале мы будем намекать вам на название метода, который вам нужно использовать. Такой подход позволит плавно приблизить вас к более реалистичным задачам.\n",
        "\n",
        "\n",
        "\n",
        "![image.png](https://files.realpython.com/media/Practical-Text-Classification-with-Keras-and-Python_Watermark.fe326bd75146.jpg)\n",
        "\n",
        "Image source: [тык](https://realpython.com/python-keras-text-classification/)"
      ]
    },
    {
      "cell_type": "code",
      "execution_count": 4,
      "metadata": {
        "colab": {
          "base_uri": "https://localhost:8080/",
          "height": 162
        },
        "id": "LUvFcan-tG5e",
        "outputId": "3ab48820-0022-496a-ee5d-48f313eae75b"
      },
      "outputs": [
        {
          "name": "stdout",
          "output_type": "stream",
          "text": [
            "Downloading and preparing dataset imdb/plain_text to C:/Users/askar/.cache/huggingface/datasets/imdb/plain_text/1.0.0/d613c88cf8fa3bab83b4ded3713f1f74830d1100e171db75bbddb80b3345c9c0...\n"
          ]
        },
        {
          "name": "stderr",
          "output_type": "stream",
          "text": [
            "Downloading data: 100%|██████████| 84.1M/84.1M [01:02<00:00, 1.35MB/s]  \n",
            "                                                                                             \r"
          ]
        },
        {
          "name": "stdout",
          "output_type": "stream",
          "text": [
            "Dataset imdb downloaded and prepared to C:/Users/askar/.cache/huggingface/datasets/imdb/plain_text/1.0.0/d613c88cf8fa3bab83b4ded3713f1f74830d1100e171db75bbddb80b3345c9c0. Subsequent calls will reuse this data.\n"
          ]
        },
        {
          "name": "stderr",
          "output_type": "stream",
          "text": [
            "100%|██████████| 3/3 [00:00<00:00, 55.59it/s]\n"
          ]
        }
      ],
      "source": [
        "text_dataset = datasets.load_dataset(\"imdb\")"
      ]
    },
    {
      "attachments": {},
      "cell_type": "markdown",
      "metadata": {
        "id": "1JrixvHI6teb"
      },
      "source": [
        "**IMDB** - это датасет по классификации эмоциональной окраски. Вам нужно предсказать положительный ли отзыв к фильму по его тексту. Это довольно простая задача и она хорошо решается даже линейными моделями. Для доступа к нему мы используем библиотеку `datasets` - она содержит в себе много интересных текстовых датасетов.\n",
        "\n",
        "Тренировочная и тстовая части IMDB достаточно большие - каждая состоит из 25 тысяч примеров."
      ]
    },
    {
      "cell_type": "code",
      "execution_count": null,
      "metadata": {
        "id": "GL4eJ8hcwHA_"
      },
      "outputs": [],
      "source": [
        "text_dataset"
      ]
    },
    {
      "attachments": {},
      "cell_type": "markdown",
      "metadata": {
        "id": "oUVSXa2r7oak"
      },
      "source": [
        "Как мы видим, классы сбалансированны, что позволяет использовать accuracy как простую и интерпретируемую метрику, хорошо показывающую качество модели."
      ]
    },
    {
      "cell_type": "code",
      "execution_count": null,
      "metadata": {
        "id": "wbCkXd6_7VU_"
      },
      "outputs": [],
      "source": [
        "train_labels = [e['label'] for e in text_dataset['train']]\n",
        "plt.hist(train_labels)\n",
        "plt.show()"
      ]
    },
    {
      "cell_type": "code",
      "execution_count": null,
      "metadata": {
        "id": "o04VWlLvwpDd"
      },
      "outputs": [],
      "source": [
        "text_dataset['train']"
      ]
    },
    {
      "cell_type": "code",
      "execution_count": null,
      "metadata": {
        "id": "SdqU7ZTiwrC9"
      },
      "outputs": [],
      "source": [
        "text_dataset['train']['text'][0]"
      ]
    },
    {
      "attachments": {},
      "cell_type": "markdown",
      "metadata": {
        "id": "bVemry0mziTa"
      },
      "source": [
        "# Classification using a linear model\n",
        "\n",
        "Линейная модель - очень сильный бейзлайн и в некоторых задачах классификации вам даже не надо идти дальше линейной модели - она уже достаточно хороша. А также её можно написать менее чем в 10 строчекю Поэтому всегда стоит начинать решение любой задачи с ленейного бейзлайна.\n",
        "\n",
        "Давайте вспомним библиотеку `sklearn` и напишем линейную модельку. Для векторизации текста мы будем использовать `TfidfVectorizer`, а в качестве модели `LogisticRegression`.\n"
      ]
    },
    {
      "cell_type": "code",
      "execution_count": null,
      "metadata": {
        "id": "fMU_c9pKxe0d"
      },
      "outputs": [],
      "source": [
        "from sklearn.linear_model import LogisticRegression\n",
        "from sklearn.feature_extraction.text import TfidfVectorizer"
      ]
    },
    {
      "cell_type": "code",
      "execution_count": 5,
      "metadata": {
        "id": "i5qXrSEXztwW"
      },
      "outputs": [
        {
          "ename": "NameError",
          "evalue": "name 'TfidfVectorizer' is not defined",
          "output_type": "error",
          "traceback": [
            "\u001b[1;31m---------------------------------------------------------------------------\u001b[0m",
            "\u001b[1;31mNameError\u001b[0m                                 Traceback (most recent call last)",
            "\u001b[1;32me:\\My date\\Skillfactory\\Course\\IDE\\ML-инженер\\PDA-1. Предобработка текстов с помощью Python\\vectorizers.ipynb Cell 13\u001b[0m in \u001b[0;36m<cell line: 4>\u001b[1;34m()\u001b[0m\n\u001b[0;32m      <a href='vscode-notebook-cell:/e%3A/My%20date/Skillfactory/Course/IDE/ML-%D0%B8%D0%BD%D0%B6%D0%B5%D0%BD%D0%B5%D1%80/PDA-1.%20%D0%9F%D1%80%D0%B5%D0%B4%D0%BE%D0%B1%D1%80%D0%B0%D0%B1%D0%BE%D1%82%D0%BA%D0%B0%20%D1%82%D0%B5%D0%BA%D1%81%D1%82%D0%BE%D0%B2%20%D1%81%20%D0%BF%D0%BE%D0%BC%D0%BE%D1%89%D1%8C%D1%8E%20Python/vectorizers.ipynb#X15sZmlsZQ%3D%3D?line=0'>1</a>\u001b[0m \u001b[39m# TASK 1.1: create TfidfVectorizer object and fit it on out training set texts\u001b[39;00m\n\u001b[0;32m      <a href='vscode-notebook-cell:/e%3A/My%20date/Skillfactory/Course/IDE/ML-%D0%B8%D0%BD%D0%B6%D0%B5%D0%BD%D0%B5%D1%80/PDA-1.%20%D0%9F%D1%80%D0%B5%D0%B4%D0%BE%D0%B1%D1%80%D0%B0%D0%B1%D0%BE%D1%82%D0%BA%D0%B0%20%D1%82%D0%B5%D0%BA%D1%81%D1%82%D0%BE%D0%B2%20%D1%81%20%D0%BF%D0%BE%D0%BC%D0%BE%D1%89%D1%8C%D1%8E%20Python/vectorizers.ipynb#X15sZmlsZQ%3D%3D?line=1'>2</a>\u001b[0m \u001b[39m# Our implementation is 2 lines\u001b[39;00m\n\u001b[0;32m      <a href='vscode-notebook-cell:/e%3A/My%20date/Skillfactory/Course/IDE/ML-%D0%B8%D0%BD%D0%B6%D0%B5%D0%BD%D0%B5%D1%80/PDA-1.%20%D0%9F%D1%80%D0%B5%D0%B4%D0%BE%D0%B1%D1%80%D0%B0%D0%B1%D0%BE%D1%82%D0%BA%D0%B0%20%D1%82%D0%B5%D0%BA%D1%81%D1%82%D0%BE%D0%B2%20%D1%81%20%D0%BF%D0%BE%D0%BC%D0%BE%D1%89%D1%8C%D1%8E%20Python/vectorizers.ipynb#X15sZmlsZQ%3D%3D?line=2'>3</a>\u001b[0m \u001b[39m# YOUR CODE STARTS\u001b[39;00m\n\u001b[1;32m----> <a href='vscode-notebook-cell:/e%3A/My%20date/Skillfactory/Course/IDE/ML-%D0%B8%D0%BD%D0%B6%D0%B5%D0%BD%D0%B5%D1%80/PDA-1.%20%D0%9F%D1%80%D0%B5%D0%B4%D0%BE%D0%B1%D1%80%D0%B0%D0%B1%D0%BE%D1%82%D0%BA%D0%B0%20%D1%82%D0%B5%D0%BA%D1%81%D1%82%D0%BE%D0%B2%20%D1%81%20%D0%BF%D0%BE%D0%BC%D0%BE%D1%89%D1%8C%D1%8E%20Python/vectorizers.ipynb#X15sZmlsZQ%3D%3D?line=3'>4</a>\u001b[0m vectorizer \u001b[39m=\u001b[39m TfidfVectorizer()\n\u001b[0;32m      <a href='vscode-notebook-cell:/e%3A/My%20date/Skillfactory/Course/IDE/ML-%D0%B8%D0%BD%D0%B6%D0%B5%D0%BD%D0%B5%D1%80/PDA-1.%20%D0%9F%D1%80%D0%B5%D0%B4%D0%BE%D0%B1%D1%80%D0%B0%D0%B1%D0%BE%D1%82%D0%BA%D0%B0%20%D1%82%D0%B5%D0%BA%D1%81%D1%82%D0%BE%D0%B2%20%D1%81%20%D0%BF%D0%BE%D0%BC%D0%BE%D1%89%D1%8C%D1%8E%20Python/vectorizers.ipynb#X15sZmlsZQ%3D%3D?line=4'>5</a>\u001b[0m vectorizer\u001b[39m.\u001b[39mfit(text_dataset[\u001b[39m'\u001b[39m\u001b[39mtrain\u001b[39m\u001b[39m'\u001b[39m][\u001b[39m'\u001b[39m\u001b[39mtext\u001b[39m\u001b[39m'\u001b[39m])\n\u001b[0;32m      <a href='vscode-notebook-cell:/e%3A/My%20date/Skillfactory/Course/IDE/ML-%D0%B8%D0%BD%D0%B6%D0%B5%D0%BD%D0%B5%D1%80/PDA-1.%20%D0%9F%D1%80%D0%B5%D0%B4%D0%BE%D0%B1%D1%80%D0%B0%D0%B1%D0%BE%D1%82%D0%BA%D0%B0%20%D1%82%D0%B5%D0%BA%D1%81%D1%82%D0%BE%D0%B2%20%D1%81%20%D0%BF%D0%BE%D0%BC%D0%BE%D1%89%D1%8C%D1%8E%20Python/vectorizers.ipynb#X15sZmlsZQ%3D%3D?line=5'>6</a>\u001b[0m \u001b[39m# YOUR CODE ENDS\u001b[39;00m\n",
            "\u001b[1;31mNameError\u001b[0m: name 'TfidfVectorizer' is not defined"
          ]
        }
      ],
      "source": [
        "# TASK 1.1: create TfidfVectorizer object and fit it on out training set texts\n",
        "# Our implementation is 2 lines\n",
        "# YOUR CODE STARTS\n",
        "vectorizer = TfidfVectorizer()\n",
        "vectorizer.fit(text_dataset['train']['text'])\n",
        "# YOUR CODE ENDS"
      ]
    },
    {
      "cell_type": "code",
      "execution_count": null,
      "metadata": {
        "id": "RRkJP8yz2KPP"
      },
      "outputs": [],
      "source": [
        "# TASK 1.2:\n",
        "# 1. convert your texts to tf-idf vectors using .transform (training texts and test texts too)\n",
        "# 2. convert your labels into numpy arrays (both training and test labels)\n",
        "# Or implementatin is 4 lines\n",
        "\n",
        "# YOUR CODE STARTS\n",
        "X_train = \n",
        "y_train = \n",
        "\n",
        "X_test =\n",
        "y_test =\n",
        "# YOUR CODE ENDS"
      ]
    },
    {
      "cell_type": "code",
      "execution_count": null,
      "metadata": {
        "id": "_FAAuos63UtS"
      },
      "outputs": [],
      "source": [
        "X_train, y_train"
      ]
    },
    {
      "cell_type": "code",
      "execution_count": null,
      "metadata": {
        "id": "gnWo2pLB1ho0"
      },
      "outputs": [],
      "source": [
        "# TASK 1.3: create LogisticRegression model object and fit the model\n",
        "# Our implementation is 2 lines\n",
        "# YOUR CODE STARTS\n",
        "model = \n",
        "\n",
        "\n",
        "# YOUR CODE ENDS"
      ]
    },
    {
      "attachments": {},
      "cell_type": "markdown",
      "metadata": {
        "id": "RJRuIbVrqDpR"
      },
      "source": [
        "А теперь мы используем нашу модель для того, чтобы предсказать классы на тестовом сете и считаем accuracy."
      ]
    },
    {
      "cell_type": "code",
      "execution_count": null,
      "metadata": {
        "id": "ZKCOA3SE3kSK"
      },
      "outputs": [],
      "source": [
        "predictions = model.predict(X_test)\n",
        "\n",
        "print(type(predictions))\n",
        "print(type(y_test))"
      ]
    },
    {
      "cell_type": "code",
      "execution_count": null,
      "metadata": {
        "id": "pyO4CMzB3jds"
      },
      "outputs": [],
      "source": [
        "# note that we can use vector operations, because we deal with numpy tensors\n",
        "accuracy = (predictions == y_test).mean()\n",
        "accuracy"
      ]
    },
    {
      "attachments": {},
      "cell_type": "markdown",
      "metadata": {
        "id": "AENaKt7huHd1"
      },
      "source": [
        "**OMG so accurate, much machine learning**"
      ]
    },
    {
      "attachments": {},
      "cell_type": "markdown",
      "metadata": {
        "id": "5NpZecL4qqI5"
      },
      "source": [
        "Давайте предскажем позитивны ли такие комментарии:"
      ]
    },
    {
      "cell_type": "code",
      "execution_count": null,
      "metadata": {
        "id": "XKlLVQUqsRlI"
      },
      "outputs": [],
      "source": [
        "positive_comment = 'This movie is awesome!'\n",
        "\n",
        "vec = vectorizer.transform([positive_comment])\n",
        "model.predict(vec)"
      ]
    },
    {
      "cell_type": "code",
      "execution_count": null,
      "metadata": {
        "id": "CHtq-453t2Gb"
      },
      "outputs": [],
      "source": [
        "negative_comment = 'This movie is awful!'\n",
        "\n",
        "vec = vectorizer.transform([negative_comment])\n",
        "model.predict(vec)"
      ]
    },
    {
      "attachments": {},
      "cell_type": "markdown",
      "metadata": {
        "id": "Xm2GycUTTjgW"
      },
      "source": [
        "Как мы увидели, даже такая простая модель может хорошо классифицировать текст (accuracy 0.9 - это довольно много, тк выборка сбалансированна).\n",
        "\n",
        "Кстати, использование модели LinearSVM обычно работает даже лучше, чем логистическая регрессия. Рекомендуем попробовать и сравнить.\n",
        "\n",
        "Что такое SVM: [тык](https://towardsdatascience.com/support-vector-machine-introduction-to-machine-learning-algorithms-934a444fca47)\n",
        "\n",
        "Ещё один простой метод улучшить линейную модель - использовать n-gram в вашем TF-IDF. Не забудьте указать параметр `max_features` (хорошое число 50 000), а то при большом количестве фичей модель может начать переобучаться."
      ]
    }
  ],
  "metadata": {
    "accelerator": "GPU",
    "colab": {
      "collapsed_sections": [],
      "name": "vectorizers",
      "provenance": []
    },
    "kernelspec": {
      "display_name": "Python 3",
      "language": "python",
      "name": "python3"
    },
    "language_info": {
      "codemirror_mode": {
        "name": "ipython",
        "version": 3
      },
      "file_extension": ".py",
      "mimetype": "text/x-python",
      "name": "python",
      "nbconvert_exporter": "python",
      "pygments_lexer": "ipython3",
      "version": "3.9.10"
    }
  },
  "nbformat": 4,
  "nbformat_minor": 0
}

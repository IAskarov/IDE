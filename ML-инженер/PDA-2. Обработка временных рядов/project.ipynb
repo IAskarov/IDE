{
 "cells": [
  {
   "cell_type": "code",
   "execution_count": 1,
   "metadata": {},
   "outputs": [
    {
     "ename": "ParserError",
     "evalue": "Error tokenizing data. C error: out of memory",
     "output_type": "error",
     "traceback": [
      "\u001b[1;31m---------------------------------------------------------------------------\u001b[0m",
      "\u001b[1;31mParserError\u001b[0m                               Traceback (most recent call last)",
      "\u001b[1;32me:\\My date\\Skillfactory\\Course\\IDE\\ML-инженер\\PDA-2. Обработка временных рядов\\project.ipynb Cell 1\u001b[0m in \u001b[0;36m<cell line: 6>\u001b[1;34m()\u001b[0m\n\u001b[0;32m      <a href='vscode-notebook-cell:/e%3A/My%20date/Skillfactory/Course/IDE/ML-%D0%B8%D0%BD%D0%B6%D0%B5%D0%BD%D0%B5%D1%80/PDA-2.%20%D0%9E%D0%B1%D1%80%D0%B0%D0%B1%D0%BE%D1%82%D0%BA%D0%B0%20%D0%B2%D1%80%D0%B5%D0%BC%D0%B5%D0%BD%D0%BD%D1%8B%D1%85%20%D1%80%D1%8F%D0%B4%D0%BE%D0%B2/project.ipynb#W0sZmlsZQ%3D%3D?line=2'>3</a>\u001b[0m \u001b[39mfrom\u001b[39;00m \u001b[39mstatsmodels\u001b[39;00m\u001b[39m.\u001b[39;00m\u001b[39mtsa\u001b[39;00m\u001b[39m.\u001b[39;00m\u001b[39mseasonal\u001b[39;00m \u001b[39mimport\u001b[39;00m seasonal_decompose\n\u001b[0;32m      <a href='vscode-notebook-cell:/e%3A/My%20date/Skillfactory/Course/IDE/ML-%D0%B8%D0%BD%D0%B6%D0%B5%D0%BD%D0%B5%D1%80/PDA-2.%20%D0%9E%D0%B1%D1%80%D0%B0%D0%B1%D0%BE%D1%82%D0%BA%D0%B0%20%D0%B2%D1%80%D0%B5%D0%BC%D0%B5%D0%BD%D0%BD%D1%8B%D1%85%20%D1%80%D1%8F%D0%B4%D0%BE%D0%B2/project.ipynb#W0sZmlsZQ%3D%3D?line=3'>4</a>\u001b[0m \u001b[39mfrom\u001b[39;00m \u001b[39mmatplotlib\u001b[39;00m \u001b[39mimport\u001b[39;00m pyplot\n\u001b[1;32m----> <a href='vscode-notebook-cell:/e%3A/My%20date/Skillfactory/Course/IDE/ML-%D0%B8%D0%BD%D0%B6%D0%B5%D0%BD%D0%B5%D1%80/PDA-2.%20%D0%9E%D0%B1%D1%80%D0%B0%D0%B1%D0%BE%D1%82%D0%BA%D0%B0%20%D0%B2%D1%80%D0%B5%D0%BC%D0%B5%D0%BD%D0%BD%D1%8B%D1%85%20%D1%80%D1%8F%D0%B4%D0%BE%D0%B2/project.ipynb#W0sZmlsZQ%3D%3D?line=5'>6</a>\u001b[0m df \u001b[39m=\u001b[39m pd\u001b[39m.\u001b[39;49mread_csv(\u001b[39m'\u001b[39;49m\u001b[39mE:/My date/Skillfactory/Course/IDE/ML-инженер/Data/train.csv\u001b[39;49m\u001b[39m'\u001b[39;49m, low_memory\u001b[39m=\u001b[39;49m\u001b[39mFalse\u001b[39;49;00m) \u001b[39m# считываем датасет\u001b[39;00m\n\u001b[0;32m      <a href='vscode-notebook-cell:/e%3A/My%20date/Skillfactory/Course/IDE/ML-%D0%B8%D0%BD%D0%B6%D0%B5%D0%BD%D0%B5%D1%80/PDA-2.%20%D0%9E%D0%B1%D1%80%D0%B0%D0%B1%D0%BE%D1%82%D0%BA%D0%B0%20%D0%B2%D1%80%D0%B5%D0%BC%D0%B5%D0%BD%D0%BD%D1%8B%D1%85%20%D1%80%D1%8F%D0%B4%D0%BE%D0%B2/project.ipynb#W0sZmlsZQ%3D%3D?line=6'>7</a>\u001b[0m df\u001b[39m.\u001b[39mhead() \u001b[39m# смотрим на первые несколько строчек\u001b[39;00m\n",
      "File \u001b[1;32mc:\\Users\\askar\\AppData\\Local\\Programs\\Python\\Python39\\lib\\site-packages\\pandas\\util\\_decorators.py:211\u001b[0m, in \u001b[0;36mdeprecate_kwarg.<locals>._deprecate_kwarg.<locals>.wrapper\u001b[1;34m(*args, **kwargs)\u001b[0m\n\u001b[0;32m    209\u001b[0m     \u001b[39melse\u001b[39;00m:\n\u001b[0;32m    210\u001b[0m         kwargs[new_arg_name] \u001b[39m=\u001b[39m new_arg_value\n\u001b[1;32m--> 211\u001b[0m \u001b[39mreturn\u001b[39;00m func(\u001b[39m*\u001b[39margs, \u001b[39m*\u001b[39m\u001b[39m*\u001b[39mkwargs)\n",
      "File \u001b[1;32mc:\\Users\\askar\\AppData\\Local\\Programs\\Python\\Python39\\lib\\site-packages\\pandas\\util\\_decorators.py:331\u001b[0m, in \u001b[0;36mdeprecate_nonkeyword_arguments.<locals>.decorate.<locals>.wrapper\u001b[1;34m(*args, **kwargs)\u001b[0m\n\u001b[0;32m    325\u001b[0m \u001b[39mif\u001b[39;00m \u001b[39mlen\u001b[39m(args) \u001b[39m>\u001b[39m num_allow_args:\n\u001b[0;32m    326\u001b[0m     warnings\u001b[39m.\u001b[39mwarn(\n\u001b[0;32m    327\u001b[0m         msg\u001b[39m.\u001b[39mformat(arguments\u001b[39m=\u001b[39m_format_argument_list(allow_args)),\n\u001b[0;32m    328\u001b[0m         \u001b[39mFutureWarning\u001b[39;00m,\n\u001b[0;32m    329\u001b[0m         stacklevel\u001b[39m=\u001b[39mfind_stack_level(),\n\u001b[0;32m    330\u001b[0m     )\n\u001b[1;32m--> 331\u001b[0m \u001b[39mreturn\u001b[39;00m func(\u001b[39m*\u001b[39margs, \u001b[39m*\u001b[39m\u001b[39m*\u001b[39mkwargs)\n",
      "File \u001b[1;32mc:\\Users\\askar\\AppData\\Local\\Programs\\Python\\Python39\\lib\\site-packages\\pandas\\io\\parsers\\readers.py:950\u001b[0m, in \u001b[0;36mread_csv\u001b[1;34m(filepath_or_buffer, sep, delimiter, header, names, index_col, usecols, squeeze, prefix, mangle_dupe_cols, dtype, engine, converters, true_values, false_values, skipinitialspace, skiprows, skipfooter, nrows, na_values, keep_default_na, na_filter, verbose, skip_blank_lines, parse_dates, infer_datetime_format, keep_date_col, date_parser, dayfirst, cache_dates, iterator, chunksize, compression, thousands, decimal, lineterminator, quotechar, quoting, doublequote, escapechar, comment, encoding, encoding_errors, dialect, error_bad_lines, warn_bad_lines, on_bad_lines, delim_whitespace, low_memory, memory_map, float_precision, storage_options)\u001b[0m\n\u001b[0;32m    935\u001b[0m kwds_defaults \u001b[39m=\u001b[39m _refine_defaults_read(\n\u001b[0;32m    936\u001b[0m     dialect,\n\u001b[0;32m    937\u001b[0m     delimiter,\n\u001b[1;32m   (...)\u001b[0m\n\u001b[0;32m    946\u001b[0m     defaults\u001b[39m=\u001b[39m{\u001b[39m\"\u001b[39m\u001b[39mdelimiter\u001b[39m\u001b[39m\"\u001b[39m: \u001b[39m\"\u001b[39m\u001b[39m,\u001b[39m\u001b[39m\"\u001b[39m},\n\u001b[0;32m    947\u001b[0m )\n\u001b[0;32m    948\u001b[0m kwds\u001b[39m.\u001b[39mupdate(kwds_defaults)\n\u001b[1;32m--> 950\u001b[0m \u001b[39mreturn\u001b[39;00m _read(filepath_or_buffer, kwds)\n",
      "File \u001b[1;32mc:\\Users\\askar\\AppData\\Local\\Programs\\Python\\Python39\\lib\\site-packages\\pandas\\io\\parsers\\readers.py:611\u001b[0m, in \u001b[0;36m_read\u001b[1;34m(filepath_or_buffer, kwds)\u001b[0m\n\u001b[0;32m    608\u001b[0m     \u001b[39mreturn\u001b[39;00m parser\n\u001b[0;32m    610\u001b[0m \u001b[39mwith\u001b[39;00m parser:\n\u001b[1;32m--> 611\u001b[0m     \u001b[39mreturn\u001b[39;00m parser\u001b[39m.\u001b[39;49mread(nrows)\n",
      "File \u001b[1;32mc:\\Users\\askar\\AppData\\Local\\Programs\\Python\\Python39\\lib\\site-packages\\pandas\\io\\parsers\\readers.py:1778\u001b[0m, in \u001b[0;36mTextFileReader.read\u001b[1;34m(self, nrows)\u001b[0m\n\u001b[0;32m   1771\u001b[0m nrows \u001b[39m=\u001b[39m validate_integer(\u001b[39m\"\u001b[39m\u001b[39mnrows\u001b[39m\u001b[39m\"\u001b[39m, nrows)\n\u001b[0;32m   1772\u001b[0m \u001b[39mtry\u001b[39;00m:\n\u001b[0;32m   1773\u001b[0m     \u001b[39m# error: \"ParserBase\" has no attribute \"read\"\u001b[39;00m\n\u001b[0;32m   1774\u001b[0m     (\n\u001b[0;32m   1775\u001b[0m         index,\n\u001b[0;32m   1776\u001b[0m         columns,\n\u001b[0;32m   1777\u001b[0m         col_dict,\n\u001b[1;32m-> 1778\u001b[0m     ) \u001b[39m=\u001b[39m \u001b[39mself\u001b[39;49m\u001b[39m.\u001b[39;49m_engine\u001b[39m.\u001b[39;49mread(  \u001b[39m# type: ignore[attr-defined]\u001b[39;49;00m\n\u001b[0;32m   1779\u001b[0m         nrows\n\u001b[0;32m   1780\u001b[0m     )\n\u001b[0;32m   1781\u001b[0m \u001b[39mexcept\u001b[39;00m \u001b[39mException\u001b[39;00m:\n\u001b[0;32m   1782\u001b[0m     \u001b[39mself\u001b[39m\u001b[39m.\u001b[39mclose()\n",
      "File \u001b[1;32mc:\\Users\\askar\\AppData\\Local\\Programs\\Python\\Python39\\lib\\site-packages\\pandas\\io\\parsers\\c_parser_wrapper.py:235\u001b[0m, in \u001b[0;36mCParserWrapper.read\u001b[1;34m(self, nrows)\u001b[0m\n\u001b[0;32m    232\u001b[0m         data \u001b[39m=\u001b[39m _concatenate_chunks(chunks)\n\u001b[0;32m    234\u001b[0m     \u001b[39melse\u001b[39;00m:\n\u001b[1;32m--> 235\u001b[0m         data \u001b[39m=\u001b[39m \u001b[39mself\u001b[39;49m\u001b[39m.\u001b[39;49m_reader\u001b[39m.\u001b[39;49mread(nrows)\n\u001b[0;32m    236\u001b[0m \u001b[39mexcept\u001b[39;00m \u001b[39mStopIteration\u001b[39;00m:\n\u001b[0;32m    237\u001b[0m     \u001b[39mif\u001b[39;00m \u001b[39mself\u001b[39m\u001b[39m.\u001b[39m_first_chunk:\n",
      "File \u001b[1;32mc:\\Users\\askar\\AppData\\Local\\Programs\\Python\\Python39\\lib\\site-packages\\pandas\\_libs\\parsers.pyx:790\u001b[0m, in \u001b[0;36mpandas._libs.parsers.TextReader.read\u001b[1;34m()\u001b[0m\n",
      "File \u001b[1;32mc:\\Users\\askar\\AppData\\Local\\Programs\\Python\\Python39\\lib\\site-packages\\pandas\\_libs\\parsers.pyx:883\u001b[0m, in \u001b[0;36mpandas._libs.parsers.TextReader._read_rows\u001b[1;34m()\u001b[0m\n",
      "File \u001b[1;32mc:\\Users\\askar\\AppData\\Local\\Programs\\Python\\Python39\\lib\\site-packages\\pandas\\_libs\\parsers.pyx:1973\u001b[0m, in \u001b[0;36mpandas._libs.parsers.raise_parser_error\u001b[1;34m()\u001b[0m\n",
      "\u001b[1;31mParserError\u001b[0m: Error tokenizing data. C error: out of memory"
     ]
    }
   ],
   "source": [
    "import pandas as pd\n",
    "import numpy as np  \n",
    "from statsmodels.tsa.seasonal import seasonal_decompose   \n",
    "from matplotlib import pyplot                                    \n",
    "                \n",
    "df = pd.read_csv('E:/My date/Skillfactory/Course/IDE/ML-инженер/Data/train.csv', low_memory=False) # считываем датасет\n",
    "df.head() # смотрим на первые несколько строчек"
   ]
  },
  {
   "cell_type": "code",
   "execution_count": 1,
   "metadata": {},
   "outputs": [
    {
     "ename": "SyntaxError",
     "evalue": "invalid syntax (2085922726.py, line 1)",
     "output_type": "error",
     "traceback": [
      "\u001b[1;36m  Input \u001b[1;32mIn [1]\u001b[1;36m\u001b[0m\n\u001b[1;33m    s:=0;\u001b[0m\n\u001b[1;37m        ^\u001b[0m\n\u001b[1;31mSyntaxError\u001b[0m\u001b[1;31m:\u001b[0m invalid syntax\n"
     ]
    }
   ],
   "source": [
    "SELECT client\n",
    "FROM ( SELECT DISTINCT client\n",
    "       FROM Dep\n",
    "     UNION ALL\n",
    "       SELECT client_id\n",
    "       FROM Contact ) total\n",
    "GROUP BY 1\n",
    "HAVING COUNT(*) = 1"
   ]
  },
  {
   "cell_type": "code",
   "execution_count": 2,
   "metadata": {},
   "outputs": [
    {
     "name": "stdout",
     "output_type": "stream",
     "text": [
      "[1, 3, 4]\n"
     ]
    }
   ],
   "source": [
    "a = [1,3]\n",
    "b = a\n",
    "b.append(4)\n",
    "print(a)\n"
   ]
  },
  {
   "cell_type": "code",
   "execution_count": 4,
   "metadata": {},
   "outputs": [],
   "source": [
    "a = 2\n",
    "b = 6\n",
    "a,b = b,a\n"
   ]
  },
  {
   "cell_type": "code",
   "execution_count": 6,
   "metadata": {},
   "outputs": [
    {
     "data": {
      "text/html": [
       "<div>\n",
       "<style scoped>\n",
       "    .dataframe tbody tr th:only-of-type {\n",
       "        vertical-align: middle;\n",
       "    }\n",
       "\n",
       "    .dataframe tbody tr th {\n",
       "        vertical-align: top;\n",
       "    }\n",
       "\n",
       "    .dataframe thead th {\n",
       "        text-align: right;\n",
       "    }\n",
       "</style>\n",
       "<table border=\"1\" class=\"dataframe\">\n",
       "  <thead>\n",
       "    <tr style=\"text-align: right;\">\n",
       "      <th></th>\n",
       "      <th>Txid</th>\n",
       "      <th>Merchant</th>\n",
       "      <th>Status</th>\n",
       "      <th>Error Description</th>\n",
       "      <th>Currency</th>\n",
       "      <th>Card type</th>\n",
       "      <th>BIN country</th>\n",
       "      <th>Bank name</th>\n",
       "    </tr>\n",
       "  </thead>\n",
       "  <tbody>\n",
       "    <tr>\n",
       "      <th>0</th>\n",
       "      <td>289681260</td>\n",
       "      <td>Merchant_1</td>\n",
       "      <td>approved</td>\n",
       "      <td>NaN</td>\n",
       "      <td>NOK</td>\n",
       "      <td>Visa</td>\n",
       "      <td>Norway</td>\n",
       "      <td>BNBANK</td>\n",
       "    </tr>\n",
       "    <tr>\n",
       "      <th>1</th>\n",
       "      <td>289681195</td>\n",
       "      <td>Merchant_2</td>\n",
       "      <td>approved</td>\n",
       "      <td>NaN</td>\n",
       "      <td>EUR</td>\n",
       "      <td>Visa</td>\n",
       "      <td>Germany</td>\n",
       "      <td>DZ BANK AG</td>\n",
       "    </tr>\n",
       "    <tr>\n",
       "      <th>2</th>\n",
       "      <td>289681249</td>\n",
       "      <td>Merchant_2</td>\n",
       "      <td>approved</td>\n",
       "      <td>NaN</td>\n",
       "      <td>AZN</td>\n",
       "      <td>Visa</td>\n",
       "      <td>Azerbaijan</td>\n",
       "      <td>UNIBANK COMMERCIAL BANK</td>\n",
       "    </tr>\n",
       "    <tr>\n",
       "      <th>3</th>\n",
       "      <td>289681183</td>\n",
       "      <td>Merchant_1</td>\n",
       "      <td>approved</td>\n",
       "      <td>NaN</td>\n",
       "      <td>EUR</td>\n",
       "      <td>MasterCard</td>\n",
       "      <td>Greece</td>\n",
       "      <td>EUROBANK ERGASIAS S.A.</td>\n",
       "    </tr>\n",
       "    <tr>\n",
       "      <th>4</th>\n",
       "      <td>289681308</td>\n",
       "      <td>Merchant_1</td>\n",
       "      <td>approved</td>\n",
       "      <td>NaN</td>\n",
       "      <td>NOK</td>\n",
       "      <td>Visa</td>\n",
       "      <td>Norway</td>\n",
       "      <td>SPAREBANK 1 GRUPPEN</td>\n",
       "    </tr>\n",
       "    <tr>\n",
       "      <th>...</th>\n",
       "      <td>...</td>\n",
       "      <td>...</td>\n",
       "      <td>...</td>\n",
       "      <td>...</td>\n",
       "      <td>...</td>\n",
       "      <td>...</td>\n",
       "      <td>...</td>\n",
       "      <td>...</td>\n",
       "    </tr>\n",
       "    <tr>\n",
       "      <th>301659</th>\n",
       "      <td>292861457</td>\n",
       "      <td>Merchant_2</td>\n",
       "      <td>approved</td>\n",
       "      <td>NaN</td>\n",
       "      <td>EUR</td>\n",
       "      <td>Visa</td>\n",
       "      <td>Germany</td>\n",
       "      <td>ING-DIBA AG</td>\n",
       "    </tr>\n",
       "    <tr>\n",
       "      <th>301660</th>\n",
       "      <td>292861368</td>\n",
       "      <td>Merchant_2</td>\n",
       "      <td>approved</td>\n",
       "      <td>NaN</td>\n",
       "      <td>TRY</td>\n",
       "      <td>Visa</td>\n",
       "      <td>Turkey</td>\n",
       "      <td>YAPI VE KREDI BANKASI A.S.</td>\n",
       "    </tr>\n",
       "    <tr>\n",
       "      <th>301661</th>\n",
       "      <td>292861563</td>\n",
       "      <td>Merchant_1</td>\n",
       "      <td>approved</td>\n",
       "      <td>NaN</td>\n",
       "      <td>EUR</td>\n",
       "      <td>Visa</td>\n",
       "      <td>Belgium</td>\n",
       "      <td>TELLER A.S.</td>\n",
       "    </tr>\n",
       "    <tr>\n",
       "      <th>301662</th>\n",
       "      <td>292861460</td>\n",
       "      <td>Merchant_3</td>\n",
       "      <td>approved</td>\n",
       "      <td>NaN</td>\n",
       "      <td>AUD</td>\n",
       "      <td>MasterCard</td>\n",
       "      <td>Australia</td>\n",
       "      <td>COMMONWEALTH BANK OF AUSTRALIA</td>\n",
       "    </tr>\n",
       "    <tr>\n",
       "      <th>301663</th>\n",
       "      <td>292861579</td>\n",
       "      <td>Merchant_3</td>\n",
       "      <td>approved</td>\n",
       "      <td>NaN</td>\n",
       "      <td>AUD</td>\n",
       "      <td>Visa</td>\n",
       "      <td>Australia</td>\n",
       "      <td>COMMONWEALTH BANK OF AUSTRALIA</td>\n",
       "    </tr>\n",
       "  </tbody>\n",
       "</table>\n",
       "<p>301664 rows × 8 columns</p>\n",
       "</div>"
      ],
      "text/plain": [
       "             Txid    Merchant    Status Error Description Currency  \\\n",
       "0       289681260  Merchant_1  approved               NaN      NOK   \n",
       "1       289681195  Merchant_2  approved               NaN      EUR   \n",
       "2       289681249  Merchant_2  approved               NaN      AZN   \n",
       "3       289681183  Merchant_1  approved               NaN      EUR   \n",
       "4       289681308  Merchant_1  approved               NaN      NOK   \n",
       "...           ...         ...       ...               ...      ...   \n",
       "301659  292861457  Merchant_2  approved               NaN      EUR   \n",
       "301660  292861368  Merchant_2  approved               NaN      TRY   \n",
       "301661  292861563  Merchant_1  approved               NaN      EUR   \n",
       "301662  292861460  Merchant_3  approved               NaN      AUD   \n",
       "301663  292861579  Merchant_3  approved               NaN      AUD   \n",
       "\n",
       "         Card type BIN country                       Bank name  \n",
       "0             Visa      Norway                          BNBANK  \n",
       "1             Visa     Germany                      DZ BANK AG  \n",
       "2             Visa  Azerbaijan         UNIBANK COMMERCIAL BANK  \n",
       "3       MasterCard      Greece          EUROBANK ERGASIAS S.A.  \n",
       "4             Visa      Norway             SPAREBANK 1 GRUPPEN  \n",
       "...            ...         ...                             ...  \n",
       "301659        Visa     Germany                     ING-DIBA AG  \n",
       "301660        Visa      Turkey      YAPI VE KREDI BANKASI A.S.  \n",
       "301661        Visa     Belgium                     TELLER A.S.  \n",
       "301662  MasterCard   Australia  COMMONWEALTH BANK OF AUSTRALIA  \n",
       "301663        Visa   Australia  COMMONWEALTH BANK OF AUSTRALIA  \n",
       "\n",
       "[301664 rows x 8 columns]"
      ]
     },
     "execution_count": 6,
     "metadata": {},
     "output_type": "execute_result"
    }
   ],
   "source": [
    "import numpy as np\n",
    "from datetime import datetime\n",
    "import pandas as pd\n",
    "\n",
    "\n",
    "# Чтение данных из файла transactions.csv\n",
    "data = pd.read_csv('transactions.csv', header=1)\n",
    "data"
   ]
  },
  {
   "cell_type": "code",
   "execution_count": 11,
   "metadata": {},
   "outputs": [
    {
     "data": {
      "text/plain": [
       "AZN    44.038773\n",
       "AUD    22.566072\n",
       "EUR    17.093672\n",
       "NZD     8.340368\n",
       "USD     2.355958\n",
       "KZT     2.108671\n",
       "NOK     1.796789\n",
       "JPY     0.983201\n",
       "TRY     0.255212\n",
       "INR     0.231038\n",
       "CAD     0.172783\n",
       "CLP     0.055877\n",
       "VND     0.001585\n",
       "Name: Currency, dtype: float64"
      ]
     },
     "execution_count": 11,
     "metadata": {},
     "output_type": "execute_result"
    }
   ],
   "source": [
    "conversion_ratios = data['Currency'].value_counts(normalize=True) * 100\n",
    "conversion_ratios"
   ]
  },
  {
   "cell_type": "code",
   "execution_count": 28,
   "metadata": {},
   "outputs": [
    {
     "name": "stdout",
     "output_type": "stream",
     "text": [
      "Конверсия по валютам в %:\n",
      "AZN    51.442936\n",
      "EUR    18.394831\n",
      "AUD    14.733245\n",
      "NZD     7.526297\n",
      "KZT     2.361264\n",
      "USD     2.186929\n",
      "NOK     1.992867\n",
      "JPY     0.858884\n",
      "TRY     0.286295\n",
      "INR     0.097031\n",
      "CAD     0.097031\n",
      "CLP     0.022392\n",
      "Name: Currency, dtype: float64\n"
     ]
    }
   ],
   "source": [
    "import pandas as pd\n",
    "\n",
    "# Чтение файла и получение данных\n",
    "transactions_df = pd.read_csv('transactions.csv', skiprows=[1])\n",
    "\n",
    "# 1. Конверсия по валютам в %\n",
    "total_transactions = transactions_df.shape[0]\n",
    "approved_transactions = transactions_df[transactions_df['Status'].str.lower() == 'approved']\n",
    "currency_conversion = approved_transactions['Currency'].value_counts(normalize=True) * 100\n",
    "\n",
    "# 2. Топ ошибок в процентном соотношении от всех ошибок\n",
    "declined_transactions = transactions_df[transactions_df['Status'].str.lower() == 'declined']\n",
    "error_counts = declined_transactions['Error Description'].value_counts(normalize=True) * 100\n",
    "top_errors_percentages = error_counts.sort_values(ascending=False)\n",
    "\n",
    "# 3. Топ 5 ошибок по причинам отказов\n",
    "top_5_errors = top_errors_percentages.head(5)\n",
    "\n",
    "print(\"Конверсия по валютам в %:\")\n",
    "print(currency_conversion)"
   ]
  },
  {
   "cell_type": "code",
   "execution_count": 27,
   "metadata": {},
   "outputs": [
    {
     "name": "stdout",
     "output_type": "stream",
     "text": [
      "\n",
      "Топ ошибок в процентном соотношении от всех ошибок:\n",
      "Insufficient funds/over credit limit Insufficient funds/over credit limit                                                                                                                                                                                                                                                40.322419\n",
      "No transaction registered on processor&#039 s side No transaction registered on processor&#039 s side                                                                                                                                                                                                                    17.423309\n",
      "Do not honor Do not honor                                                                                                                                                                                                                                                                                                 5.740599\n",
      "Decline for CVV2 failure Decline for CVV2 failure                                                                                                                                                                                                                                                                         5.552410\n",
      "Fraud/Security (Mastercard use only) Fraud/Security (Mastercard use only)                                                                                                                                                                                                                                                 5.189355\n",
      "3Dv2 error: Not authenticated/account not verified  transaction denied. 3Dv2 error: Not authenticated/account not verified  transaction denied.                                                                                                                                                                           4.288379\n",
      "3Dv2 error: Authentication/account verification rejected  issuer is rejecting authentication/verification and request that authorization not be attempted. 3Dv2 error: Authentication/account verification rejected  issuer is rejecting authentication/verification and request that authorization not be attempted.     2.984379\n",
      "Exceeds withdrawal amount limit Exceeds withdrawal amount limit/Exceeds approval amount limit                                                                                                                                                                                                                             2.901109\n",
      "[E0300] Error mpi V2 - failed internal [E0300] Error mpi V2 - failed internal                                                                                                                                                                                                                                             2.817840\n",
      "Invalid transaction Invalid transaction                                                                                                                                                                                                                                                                                   2.741232\n",
      "Name: Error Description, dtype: float64\n"
     ]
    }
   ],
   "source": [
    "print(\"\\nТоп ошибок в процентном соотношении от всех ошибок:\")\n",
    "print(top_errors_percentages[:10])"
   ]
  },
  {
   "cell_type": "code",
   "execution_count": 26,
   "metadata": {},
   "outputs": [
    {
     "name": "stdout",
     "output_type": "stream",
     "text": [
      "\n",
      "Топ 5 ошибок по причинам отказов:\n",
      "Insufficient funds/over credit limit Insufficient funds/over credit limit                                40.322419\n",
      "No transaction registered on processor&#039 s side No transaction registered on processor&#039 s side    17.423309\n",
      "Do not honor Do not honor                                                                                 5.740599\n",
      "Decline for CVV2 failure Decline for CVV2 failure                                                         5.552410\n",
      "Fraud/Security (Mastercard use only) Fraud/Security (Mastercard use only)                                 5.189355\n",
      "Name: Error Description, dtype: float64\n"
     ]
    }
   ],
   "source": [
    "print(\"\\nТоп 5 ошибок по причинам отказов:\")\n",
    "print(top_5_errors)"
   ]
  },
  {
   "cell_type": "code",
   "execution_count": null,
   "metadata": {},
   "outputs": [],
   "source": []
  }
 ],
 "metadata": {
  "kernelspec": {
   "display_name": "Python 3",
   "language": "python",
   "name": "python3"
  },
  "language_info": {
   "codemirror_mode": {
    "name": "ipython",
    "version": 3
   },
   "file_extension": ".py",
   "mimetype": "text/x-python",
   "name": "python",
   "nbconvert_exporter": "python",
   "pygments_lexer": "ipython3",
   "version": "3.9.10"
  },
  "orig_nbformat": 4
 },
 "nbformat": 4,
 "nbformat_minor": 2
}

{
 "cells": [
  {
   "cell_type": "code",
   "execution_count": 1,
   "metadata": {},
   "outputs": [
    {
     "name": "stdout",
     "output_type": "stream",
     "text": [
      "Конверсия по валютам в %:\n",
      "AZN    51.442936\n",
      "EUR    18.394831\n",
      "AUD    14.733245\n",
      "NZD     7.526297\n",
      "KZT     2.361264\n",
      "USD     2.186929\n",
      "NOK     1.992867\n",
      "JPY     0.858884\n",
      "TRY     0.286295\n",
      "INR     0.097031\n",
      "CAD     0.097031\n",
      "CLP     0.022392\n",
      "Name: Currency, dtype: float64\n"
     ]
    }
   ],
   "source": [
    "import pandas as pd\n",
    "\n",
    "# Чтение файла и получение данных\n",
    "transactions_df = pd.read_csv('transactions.csv', skiprows=[1])\n",
    "\n",
    "# 1. Конверсия по валютам в %\n",
    "total_transactions = transactions_df.shape[0]\n",
    "approved_transactions = transactions_df[transactions_df['Status'].str.lower() == 'approved']\n",
    "currency_conversion = approved_transactions['Currency'].value_counts(normalize=True) * 100\n",
    "\n",
    "# 2. Топ ошибок в процентном соотношении от всех ошибок\n",
    "declined_transactions = transactions_df[transactions_df['Status'].str.lower() == 'declined']\n",
    "error_counts = declined_transactions['Error Description'].value_counts(normalize=True) * 100\n",
    "top_errors_percentages = error_counts.sort_values(ascending=False)\n",
    "\n",
    "# 3. Топ 5 ошибок по причинам отказов\n",
    "top_5_errors = top_errors_percentages.head(5)\n",
    "\n",
    "print(\"Конверсия по валютам в %:\")\n",
    "print(currency_conversion)"
   ]
  },
  {
   "cell_type": "code",
   "execution_count": 2,
   "metadata": {},
   "outputs": [
    {
     "name": "stdout",
     "output_type": "stream",
     "text": [
      "\n",
      "Топ ошибок в процентном соотношении от всех ошибок:\n",
      "Insufficient funds/over credit limit Insufficient funds/over credit limit                                                                                                                                                                                                                                                40.322419\n",
      "No transaction registered on processor&#039 s side No transaction registered on processor&#039 s side                                                                                                                                                                                                                    17.423309\n",
      "Do not honor Do not honor                                                                                                                                                                                                                                                                                                 5.740599\n",
      "Decline for CVV2 failure Decline for CVV2 failure                                                                                                                                                                                                                                                                         5.552410\n",
      "Fraud/Security (Mastercard use only) Fraud/Security (Mastercard use only)                                                                                                                                                                                                                                                 5.189355\n",
      "3Dv2 error: Not authenticated/account not verified  transaction denied. 3Dv2 error: Not authenticated/account not verified  transaction denied.                                                                                                                                                                           4.288379\n",
      "3Dv2 error: Authentication/account verification rejected  issuer is rejecting authentication/verification and request that authorization not be attempted. 3Dv2 error: Authentication/account verification rejected  issuer is rejecting authentication/verification and request that authorization not be attempted.     2.984379\n",
      "Exceeds withdrawal amount limit Exceeds withdrawal amount limit/Exceeds approval amount limit                                                                                                                                                                                                                             2.901109\n",
      "[E0300] Error mpi V2 - failed internal [E0300] Error mpi V2 - failed internal                                                                                                                                                                                                                                             2.817840\n",
      "Invalid transaction Invalid transaction                                                                                                                                                                                                                                                                                   2.741232\n",
      "Name: Error Description, dtype: float64\n"
     ]
    }
   ],
   "source": [
    "print(\"\\nТоп ошибок в процентном соотношении от всех ошибок:\")\n",
    "print(top_errors_percentages[:10])"
   ]
  },
  {
   "cell_type": "code",
   "execution_count": 3,
   "metadata": {},
   "outputs": [
    {
     "name": "stdout",
     "output_type": "stream",
     "text": [
      "\n",
      "Топ 5 ошибок по причинам отказов:\n",
      "Insufficient funds/over credit limit Insufficient funds/over credit limit                                40.322419\n",
      "No transaction registered on processor&#039 s side No transaction registered on processor&#039 s side    17.423309\n",
      "Do not honor Do not honor                                                                                 5.740599\n",
      "Decline for CVV2 failure Decline for CVV2 failure                                                         5.552410\n",
      "Fraud/Security (Mastercard use only) Fraud/Security (Mastercard use only)                                 5.189355\n",
      "Name: Error Description, dtype: float64\n"
     ]
    }
   ],
   "source": [
    "print(\"\\nТоп 5 ошибок по причинам отказов:\")\n",
    "print(top_5_errors)"
   ]
  }
 ],
 "metadata": {
  "kernelspec": {
   "display_name": "Python 3",
   "language": "python",
   "name": "python3"
  },
  "language_info": {
   "codemirror_mode": {
    "name": "ipython",
    "version": 3
   },
   "file_extension": ".py",
   "mimetype": "text/x-python",
   "name": "python",
   "nbconvert_exporter": "python",
   "pygments_lexer": "ipython3",
   "version": "3.9.10"
  },
  "orig_nbformat": 4
 },
 "nbformat": 4,
 "nbformat_minor": 2
}

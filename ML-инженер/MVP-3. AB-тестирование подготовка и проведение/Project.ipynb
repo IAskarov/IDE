{
 "cells": [
  {
   "cell_type": "markdown",
   "metadata": {},
   "source": [
    "# Imports"
   ]
  },
  {
   "cell_type": "code",
   "execution_count": 3,
   "metadata": {},
   "outputs": [],
   "source": [
    "import warnings\n",
    "warnings.filterwarnings(\"ignore\")\n",
    "import pandas as pd\n",
    "import math\n",
    "from scipy import stats\n",
    "from scipy.stats import shapiro\n",
    "from statsmodels.stats.proportion import proportions_ztest\n",
    "from scipy.stats import mannwhitneyu"
   ]
  },
  {
   "cell_type": "code",
   "execution_count": 4,
   "metadata": {},
   "outputs": [],
   "source": [
    "item_prices = pd.read_csv(\"item_prices.csv\")\n",
    "sample_a = pd.read_csv(\"sample_a.csv\")\n",
    "sample_b = pd.read_csv(\"sample_b.csv\")\n",
    "sample_c = pd.read_csv(\"sample_c.csv\")"
   ]
  },
  {
   "cell_type": "markdown",
   "metadata": {},
   "source": [
    "# 0 introduction"
   ]
  },
  {
   "cell_type": "code",
   "execution_count": 17,
   "metadata": {},
   "outputs": [
    {
     "name": "stdout",
     "output_type": "stream",
     "text": [
      "Total duplicates item_prices: 0\n"
     ]
    },
    {
     "name": "stdout",
     "output_type": "stream",
     "text": [
      "Total duplicates sample_b: 0\n",
      "Total duplicates sample_a: 0\n",
      "Total duplicates sample_c: 0\n",
      "----------------------------------------\n",
      "Total missing values item_prices: 0\n",
      "Total missing values sample_b: 0\n",
      "Total missing values sample_c: 0\n",
      "Total missing values sample_a: 0\n",
      "----------------------------------------\n",
      "Shape item_prices: (1000, 2)\n",
      "Shape sample_b: (1198438, 3)\n",
      "Shape sample_c: (1205510, 3)\n",
      "Shape sample_a: (1188912, 3)\n"
     ]
    }
   ],
   "source": [
    "print('Total duplicates item_prices: {}'.format(item_prices.duplicated().sum().sum()))\n",
    "print('Total duplicates sample_b: {}'.format(sample_b.duplicated().sum().sum()))\n",
    "print('Total duplicates sample_a: {}'.format(sample_a.duplicated().sum().sum()))\n",
    "print('Total duplicates sample_c: {}'.format(sample_c.duplicated().sum().sum()))\n",
    "print('-'*40)\n",
    "print('Total missing values item_prices: {}'.format(item_prices.isnull().sum().sum()))\n",
    "print('Total missing values sample_b: {}'.format(sample_b.isnull().sum().sum()))\n",
    "print('Total missing values sample_c: {}'.format(sample_c.isnull().sum().sum()))\n",
    "print('Total missing values sample_a: {}'.format(sample_a.isnull().sum().sum()))\n",
    "print('-'*40)  \n",
    "print('Shape item_prices: {}'.format(item_prices.shape))\n",
    "print('Shape sample_b: {}'.format(sample_b.shape))\n",
    "print('Shape sample_c: {}'.format(sample_c.shape)) \n",
    "print('Shape sample_a: {}'.format(sample_a.shape))"
   ]
  },
  {
   "cell_type": "code",
   "execution_count": null,
   "metadata": {},
   "outputs": [],
   "source": []
  }
 ],
 "metadata": {
  "kernelspec": {
   "display_name": "Python 3",
   "language": "python",
   "name": "python3"
  },
  "language_info": {
   "codemirror_mode": {
    "name": "ipython",
    "version": 3
   },
   "file_extension": ".py",
   "mimetype": "text/x-python",
   "name": "python",
   "nbconvert_exporter": "python",
   "pygments_lexer": "ipython3",
   "version": "3.9.10"
  }
 },
 "nbformat": 4,
 "nbformat_minor": 2
}

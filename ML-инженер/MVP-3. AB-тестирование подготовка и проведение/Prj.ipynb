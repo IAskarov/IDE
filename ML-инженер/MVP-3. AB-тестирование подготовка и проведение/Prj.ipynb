{
 "cells": [
  {
   "cell_type": "markdown",
   "id": "deb8c502",
   "metadata": {},
   "source": [
    "# Модуль 25. A/B-тестирование: подготовка и проведение"
   ]
  },
  {
   "cell_type": "markdown",
   "id": "b8b26a4d",
   "metadata": {},
   "source": [
    "## Мини-проект"
   ]
  },
  {
   "cell_type": "markdown",
   "id": "ebde0a08",
   "metadata": {},
   "source": [
    "**ПОСТАНОВКА ЗАДАЧИ**\n",
    "\n",
    "К вам попали результаты A/A/B-тестирования от одного известного маркетплейса.\n",
    "\n",
    "* *sample_a*, *sample_c* — АА-группы;\n",
    "* *sample_b* — отдельная группа.\n",
    "\n",
    "В каждом датасете есть три типа действий пользователей: 0 — клик, 1 — просмотр и 2 — покупка (пользователь просматривает выдачу товаров, кликает на понравившийся товар и совершает покупку).\n",
    "\n",
    "Маркетплейс ориентируется на следующие метрики:\n",
    "\n",
    "* *ctr* (отношение кликов к просмотрам товаров);\n",
    "* *purchase rate* (отношение покупок к просмотрам товаров);\n",
    "* *gmv* (оборот, сумма произведений количества покупок на стоимость покупки), где считаем 1 сессию за 1 точку (1 сессия на 1 пользователя)."
   ]
  },
  {
   "cell_type": "markdown",
   "id": "6aaead62",
   "metadata": {},
   "source": [
    "Данные уже почищены по сессиям, вы можете использовать их в агрегированном виде. Ваша задача — понять, нет ли проблемы с разъезжанием сплитов и улучшает ли алгоритм B работу маркетплейса.\n",
    "\n",
    "Тест Шапиро-Уилка проведите на *alpha* = 0,01."
   ]
  },
  {
   "cell_type": "markdown",
   "id": "b0018afd",
   "metadata": {},
   "source": [
    "**Исходные данные:** Датасеты:\n",
    "1. *sample_a.csv*;\n",
    "2. *sample_b.csv*;\n",
    "3. *sample_c.csv*;\n",
    "4. *item_prices.csv*."
   ]
  },
  {
   "cell_type": "markdown",
   "id": "7ed9ebd4",
   "metadata": {},
   "source": [
    "**1. Загрузка, анализ и предобработка данных. Расчет метрик**"
   ]
  },
  {
   "cell_type": "code",
   "execution_count": 1,
   "id": "d63bc5ba",
   "metadata": {},
   "outputs": [],
   "source": [
    "# Импорт требуемых модулей и библиотек\n",
    "import warnings\n",
    "warnings.filterwarnings(\"ignore\")\n",
    "\n",
    "import pandas as pd\n",
    "import math\n",
    "from scipy import stats\n",
    "from scipy.stats import shapiro\n",
    "from statsmodels.stats.proportion import proportions_ztest\n",
    "from scipy.stats import mannwhitneyu"
   ]
  },
  {
   "cell_type": "markdown",
   "id": "82fd6401",
   "metadata": {},
   "source": [
    "**1.1. Анализ и обработка датасета *item_prices***"
   ]
  },
  {
   "cell_type": "markdown",
   "id": "456a93fa",
   "metadata": {},
   "source": [
    "Начнем рассмотрение датасетов с последнего, т.к. из перевода его названия - \"Цены товаров\" - получается, что он должен содержать справочник цен товаров с которыми работает маркетплейс."
   ]
  },
  {
   "cell_type": "code",
   "execution_count": 2,
   "id": "a3955944",
   "metadata": {},
   "outputs": [
    {
     "data": {
      "text/html": [
       "<div>\n",
       "<style scoped>\n",
       "    .dataframe tbody tr th:only-of-type {\n",
       "        vertical-align: middle;\n",
       "    }\n",
       "\n",
       "    .dataframe tbody tr th {\n",
       "        vertical-align: top;\n",
       "    }\n",
       "\n",
       "    .dataframe thead th {\n",
       "        text-align: right;\n",
       "    }\n",
       "</style>\n",
       "<table border=\"1\" class=\"dataframe\">\n",
       "  <thead>\n",
       "    <tr style=\"text-align: right;\">\n",
       "      <th></th>\n",
       "      <th>item_id</th>\n",
       "      <th>item_price</th>\n",
       "    </tr>\n",
       "  </thead>\n",
       "  <tbody>\n",
       "    <tr>\n",
       "      <th>0</th>\n",
       "      <td>338</td>\n",
       "      <td>1501</td>\n",
       "    </tr>\n",
       "    <tr>\n",
       "      <th>1</th>\n",
       "      <td>74</td>\n",
       "      <td>647</td>\n",
       "    </tr>\n",
       "    <tr>\n",
       "      <th>2</th>\n",
       "      <td>7696</td>\n",
       "      <td>825</td>\n",
       "    </tr>\n",
       "    <tr>\n",
       "      <th>3</th>\n",
       "      <td>866</td>\n",
       "      <td>875</td>\n",
       "    </tr>\n",
       "    <tr>\n",
       "      <th>4</th>\n",
       "      <td>5876</td>\n",
       "      <td>804</td>\n",
       "    </tr>\n",
       "  </tbody>\n",
       "</table>\n",
       "</div>"
      ],
      "text/plain": [
       "   item_id  item_price\n",
       "0      338        1501\n",
       "1       74         647\n",
       "2     7696         825\n",
       "3      866         875\n",
       "4     5876         804"
      ]
     },
     "execution_count": 2,
     "metadata": {},
     "output_type": "execute_result"
    }
   ],
   "source": [
    "data = pd.read_csv(\"item_prices.csv\")\n",
    "data.head()"
   ]
  },
  {
   "cell_type": "code",
   "execution_count": 3,
   "id": "ec3729ce",
   "metadata": {},
   "outputs": [
    {
     "name": "stdout",
     "output_type": "stream",
     "text": [
      "<class 'pandas.core.frame.DataFrame'>\n",
      "RangeIndex: 1000 entries, 0 to 999\n",
      "Data columns (total 2 columns):\n",
      " #   Column      Non-Null Count  Dtype\n",
      "---  ------      --------------  -----\n",
      " 0   item_id     1000 non-null   int64\n",
      " 1   item_price  1000 non-null   int64\n",
      "dtypes: int64(2)\n",
      "memory usage: 15.8 KB\n"
     ]
    }
   ],
   "source": [
    "data.info()"
   ]
  },
  {
   "cell_type": "markdown",
   "id": "1c8e2852",
   "metadata": {},
   "source": [
    "Как и предполагалось из названия, это датасет-справочник, в котором два признака:\n",
    "\n",
    "* *item_id* - идентификатор товара;\n",
    "* *item_price* - цена товара.\n",
    "\n",
    "Проверим этот датасет на наличие полных дубликатов:"
   ]
  },
  {
   "cell_type": "code",
   "execution_count": 4,
   "id": "6039aafe",
   "metadata": {},
   "outputs": [
    {
     "data": {
      "text/plain": [
       "1000"
      ]
     },
     "execution_count": 4,
     "metadata": {},
     "output_type": "execute_result"
    }
   ],
   "source": [
    "data.drop_duplicates(inplace=True)\n",
    "data.shape[0]"
   ]
  },
  {
   "cell_type": "markdown",
   "id": "10c01c21",
   "metadata": {},
   "source": [
    "Видно, что количество строк в датасете после удаления дубликатов не изменилось, значит полных дубликатов в данных нет. Но, т.к. один и тот же товар в разное время может иметь разную цену, то нам для дальнейшей привязки этого справочника к другим датасетам, необходимо обеспечить уникальность записей в этом датасете по каждому товару. Проверим, обеспечивается ли это утверждение в предложенном датасете."
   ]
  },
  {
   "cell_type": "code",
   "execution_count": 5,
   "id": "e1258271",
   "metadata": {},
   "outputs": [
    {
     "data": {
      "text/plain": [
       "955"
      ]
     },
     "execution_count": 5,
     "metadata": {},
     "output_type": "execute_result"
    }
   ],
   "source": [
    "price = set(data['item_id'])\n",
    "len(price)"
   ]
  },
  {
   "cell_type": "markdown",
   "id": "6de125b9",
   "metadata": {},
   "source": [
    "Результаты получения количества уникальных значений идентификатора товаров показали, что количество строк в датасете больше, чем это количество. Это говорит о том, что в предложенном датасете есть одинаковые товары с несколькими разными ценами. Рассмотрим эти значения."
   ]
  },
  {
   "cell_type": "code",
   "execution_count": 6,
   "id": "702194fa",
   "metadata": {},
   "outputs": [
    {
     "data": {
      "text/plain": [
       "338     3\n",
       "8581    3\n",
       "5258    2\n",
       "7204    2\n",
       "8111    2\n",
       "2945    2\n",
       "6328    2\n",
       "2761    2\n",
       "4796    2\n",
       "2675    2\n",
       "533     2\n",
       "3890    2\n",
       "3006    2\n",
       "5121    2\n",
       "7963    2\n",
       "7580    2\n",
       "8604    2\n",
       "3521    2\n",
       "3387    2\n",
       "1915    2\n",
       "3375    2\n",
       "1555    2\n",
       "8871    2\n",
       "8669    2\n",
       "4220    2\n",
       "4104    2\n",
       "4359    2\n",
       "7688    2\n",
       "8589    2\n",
       "8010    2\n",
       "4440    2\n",
       "9068    2\n",
       "5556    2\n",
       "8165    2\n",
       "1173    2\n",
       "5891    2\n",
       "2622    2\n",
       "5941    2\n",
       "5037    2\n",
       "8382    2\n",
       "1883    2\n",
       "8679    2\n",
       "1462    2\n",
       "Name: item_id, dtype: int64"
      ]
     },
     "execution_count": 6,
     "metadata": {},
     "output_type": "execute_result"
    }
   ],
   "source": [
    "vc = data['item_id'].value_counts()\n",
    "vc[vc.values > 1]"
   ]
  },
  {
   "cell_type": "markdown",
   "id": "c62a7862",
   "metadata": {},
   "source": [
    "Из полученного результата видно, что в данных есть товары, у которых присутствует 2 и 3 цены. Посмотрим некоторые из них:"
   ]
  },
  {
   "cell_type": "code",
   "execution_count": 7,
   "id": "e93e009a",
   "metadata": {},
   "outputs": [
    {
     "data": {
      "text/html": [
       "<div>\n",
       "<style scoped>\n",
       "    .dataframe tbody tr th:only-of-type {\n",
       "        vertical-align: middle;\n",
       "    }\n",
       "\n",
       "    .dataframe tbody tr th {\n",
       "        vertical-align: top;\n",
       "    }\n",
       "\n",
       "    .dataframe thead th {\n",
       "        text-align: right;\n",
       "    }\n",
       "</style>\n",
       "<table border=\"1\" class=\"dataframe\">\n",
       "  <thead>\n",
       "    <tr style=\"text-align: right;\">\n",
       "      <th></th>\n",
       "      <th>item_id</th>\n",
       "      <th>item_price</th>\n",
       "    </tr>\n",
       "  </thead>\n",
       "  <tbody>\n",
       "    <tr>\n",
       "      <th>0</th>\n",
       "      <td>338</td>\n",
       "      <td>1501</td>\n",
       "    </tr>\n",
       "    <tr>\n",
       "      <th>797</th>\n",
       "      <td>338</td>\n",
       "      <td>1151</td>\n",
       "    </tr>\n",
       "    <tr>\n",
       "      <th>977</th>\n",
       "      <td>338</td>\n",
       "      <td>1047</td>\n",
       "    </tr>\n",
       "  </tbody>\n",
       "</table>\n",
       "</div>"
      ],
      "text/plain": [
       "     item_id  item_price\n",
       "0        338        1501\n",
       "797      338        1151\n",
       "977      338        1047"
      ]
     },
     "execution_count": 7,
     "metadata": {},
     "output_type": "execute_result"
    }
   ],
   "source": [
    "data[data['item_id'] == 338]"
   ]
  },
  {
   "cell_type": "code",
   "execution_count": 8,
   "id": "996c2192",
   "metadata": {},
   "outputs": [
    {
     "data": {
      "text/html": [
       "<div>\n",
       "<style scoped>\n",
       "    .dataframe tbody tr th:only-of-type {\n",
       "        vertical-align: middle;\n",
       "    }\n",
       "\n",
       "    .dataframe tbody tr th {\n",
       "        vertical-align: top;\n",
       "    }\n",
       "\n",
       "    .dataframe thead th {\n",
       "        text-align: right;\n",
       "    }\n",
       "</style>\n",
       "<table border=\"1\" class=\"dataframe\">\n",
       "  <thead>\n",
       "    <tr style=\"text-align: right;\">\n",
       "      <th></th>\n",
       "      <th>item_id</th>\n",
       "      <th>item_price</th>\n",
       "    </tr>\n",
       "  </thead>\n",
       "  <tbody>\n",
       "    <tr>\n",
       "      <th>65</th>\n",
       "      <td>3521</td>\n",
       "      <td>563</td>\n",
       "    </tr>\n",
       "    <tr>\n",
       "      <th>281</th>\n",
       "      <td>3521</td>\n",
       "      <td>1829</td>\n",
       "    </tr>\n",
       "  </tbody>\n",
       "</table>\n",
       "</div>"
      ],
      "text/plain": [
       "     item_id  item_price\n",
       "65      3521         563\n",
       "281     3521        1829"
      ]
     },
     "execution_count": 8,
     "metadata": {},
     "output_type": "execute_result"
    }
   ],
   "source": [
    "data[data['item_id'] == 3521]"
   ]
  },
  {
   "cell_type": "markdown",
   "id": "b567b74d",
   "metadata": {},
   "source": [
    "Как и предполагалось, у одного и того же товара есть несколько различных цен. Причем эти цены могут значительно различаться. Для обеспечения требования уникальности ключевых значений (*item_id*) в справочнике цен товаров будем использовать для полученных товаров усредненную цену. "
   ]
  },
  {
   "cell_type": "code",
   "execution_count": 9,
   "id": "da33e897",
   "metadata": {},
   "outputs": [
    {
     "data": {
      "text/html": [
       "<div>\n",
       "<style scoped>\n",
       "    .dataframe tbody tr th:only-of-type {\n",
       "        vertical-align: middle;\n",
       "    }\n",
       "\n",
       "    .dataframe tbody tr th {\n",
       "        vertical-align: top;\n",
       "    }\n",
       "\n",
       "    .dataframe thead th {\n",
       "        text-align: right;\n",
       "    }\n",
       "</style>\n",
       "<table border=\"1\" class=\"dataframe\">\n",
       "  <thead>\n",
       "    <tr style=\"text-align: right;\">\n",
       "      <th></th>\n",
       "      <th>item_price</th>\n",
       "    </tr>\n",
       "    <tr>\n",
       "      <th>item_id</th>\n",
       "      <th></th>\n",
       "    </tr>\n",
       "  </thead>\n",
       "  <tbody>\n",
       "    <tr>\n",
       "      <th>21</th>\n",
       "      <td>452.0</td>\n",
       "    </tr>\n",
       "    <tr>\n",
       "      <th>36</th>\n",
       "      <td>282.0</td>\n",
       "    </tr>\n",
       "    <tr>\n",
       "      <th>39</th>\n",
       "      <td>1746.0</td>\n",
       "    </tr>\n",
       "    <tr>\n",
       "      <th>50</th>\n",
       "      <td>871.0</td>\n",
       "    </tr>\n",
       "    <tr>\n",
       "      <th>64</th>\n",
       "      <td>1479.0</td>\n",
       "    </tr>\n",
       "    <tr>\n",
       "      <th>...</th>\n",
       "      <td>...</td>\n",
       "    </tr>\n",
       "    <tr>\n",
       "      <th>9936</th>\n",
       "      <td>379.0</td>\n",
       "    </tr>\n",
       "    <tr>\n",
       "      <th>9944</th>\n",
       "      <td>810.0</td>\n",
       "    </tr>\n",
       "    <tr>\n",
       "      <th>9958</th>\n",
       "      <td>265.0</td>\n",
       "    </tr>\n",
       "    <tr>\n",
       "      <th>9989</th>\n",
       "      <td>479.0</td>\n",
       "    </tr>\n",
       "    <tr>\n",
       "      <th>9994</th>\n",
       "      <td>1440.0</td>\n",
       "    </tr>\n",
       "  </tbody>\n",
       "</table>\n",
       "<p>955 rows × 1 columns</p>\n",
       "</div>"
      ],
      "text/plain": [
       "         item_price\n",
       "item_id            \n",
       "21            452.0\n",
       "36            282.0\n",
       "39           1746.0\n",
       "50            871.0\n",
       "64           1479.0\n",
       "...             ...\n",
       "9936          379.0\n",
       "9944          810.0\n",
       "9958          265.0\n",
       "9989          479.0\n",
       "9994         1440.0\n",
       "\n",
       "[955 rows x 1 columns]"
      ]
     },
     "execution_count": 9,
     "metadata": {},
     "output_type": "execute_result"
    }
   ],
   "source": [
    "data = data.groupby(by='item_id').mean()\n",
    "data"
   ]
  },
  {
   "cell_type": "markdown",
   "id": "dd77e7fb",
   "metadata": {},
   "source": [
    "Видно, что количество строк в датасете-справочнике уменьшилось, до количества уникальных идентификаторов товаров и *item_id* стало индексом датасета. Наш справочник готов к подключению к другим датасетам."
   ]
  },
  {
   "cell_type": "markdown",
   "id": "d3d260cd",
   "metadata": {},
   "source": [
    "**1.2. Анализ и обработка датасета *simple_a***"
   ]
  },
  {
   "cell_type": "markdown",
   "id": "f69fc888",
   "metadata": {},
   "source": [
    "Как следует из постановки задачи, данный датасет предлагает нам выборку данных по *А-группе*. Рассмотрим структуру и данные этого датасета."
   ]
  },
  {
   "cell_type": "code",
   "execution_count": 10,
   "id": "8809e158",
   "metadata": {},
   "outputs": [
    {
     "data": {
      "text/html": [
       "<div>\n",
       "<style scoped>\n",
       "    .dataframe tbody tr th:only-of-type {\n",
       "        vertical-align: middle;\n",
       "    }\n",
       "\n",
       "    .dataframe tbody tr th {\n",
       "        vertical-align: top;\n",
       "    }\n",
       "\n",
       "    .dataframe thead th {\n",
       "        text-align: right;\n",
       "    }\n",
       "</style>\n",
       "<table border=\"1\" class=\"dataframe\">\n",
       "  <thead>\n",
       "    <tr style=\"text-align: right;\">\n",
       "      <th></th>\n",
       "      <th>user_id</th>\n",
       "      <th>item_id</th>\n",
       "      <th>action_id</th>\n",
       "    </tr>\n",
       "  </thead>\n",
       "  <tbody>\n",
       "    <tr>\n",
       "      <th>0</th>\n",
       "      <td>84636</td>\n",
       "      <td>360</td>\n",
       "      <td>1</td>\n",
       "    </tr>\n",
       "    <tr>\n",
       "      <th>1</th>\n",
       "      <td>21217</td>\n",
       "      <td>9635</td>\n",
       "      <td>1</td>\n",
       "    </tr>\n",
       "    <tr>\n",
       "      <th>2</th>\n",
       "      <td>13445</td>\n",
       "      <td>8590</td>\n",
       "      <td>1</td>\n",
       "    </tr>\n",
       "    <tr>\n",
       "      <th>3</th>\n",
       "      <td>38450</td>\n",
       "      <td>5585</td>\n",
       "      <td>1</td>\n",
       "    </tr>\n",
       "    <tr>\n",
       "      <th>4</th>\n",
       "      <td>14160</td>\n",
       "      <td>2383</td>\n",
       "      <td>0</td>\n",
       "    </tr>\n",
       "  </tbody>\n",
       "</table>\n",
       "</div>"
      ],
      "text/plain": [
       "   user_id  item_id  action_id\n",
       "0    84636      360          1\n",
       "1    21217     9635          1\n",
       "2    13445     8590          1\n",
       "3    38450     5585          1\n",
       "4    14160     2383          0"
      ]
     },
     "execution_count": 10,
     "metadata": {},
     "output_type": "execute_result"
    }
   ],
   "source": [
    "data_a = pd.read_csv(\"sample_a.csv\")\n",
    "data_a.head()"
   ]
  },
  {
   "cell_type": "code",
   "execution_count": 11,
   "id": "739c186c",
   "metadata": {},
   "outputs": [
    {
     "name": "stdout",
     "output_type": "stream",
     "text": [
      "<class 'pandas.core.frame.DataFrame'>\n",
      "RangeIndex: 1188912 entries, 0 to 1188911\n",
      "Data columns (total 3 columns):\n",
      " #   Column     Non-Null Count    Dtype\n",
      "---  ------     --------------    -----\n",
      " 0   user_id    1188912 non-null  int64\n",
      " 1   item_id    1188912 non-null  int64\n",
      " 2   action_id  1188912 non-null  int64\n",
      "dtypes: int64(3)\n",
      "memory usage: 27.2 MB\n"
     ]
    }
   ],
   "source": [
    "data_a.info()"
   ]
  },
  {
   "cell_type": "markdown",
   "id": "4f3adad1",
   "metadata": {},
   "source": [
    "Из полученных данных видно, что *А-группа* представляет собой датасет со следующими признаками:\n",
    "\n",
    "* *user_id* - идентификатор пользователя;\n",
    "* *item_id* - идентификатор товара;\n",
    "* *action_id* - идентификатор действия (0 — клик, 1 — просмотр и 2 — покупка).\n",
    "\n",
    "В датасете нет не заполненных значений. Проверим наличие полных дубликатов в строках:"
   ]
  },
  {
   "cell_type": "code",
   "execution_count": 12,
   "id": "ab151386",
   "metadata": {},
   "outputs": [
    {
     "data": {
      "text/plain": [
       "1188912"
      ]
     },
     "execution_count": 12,
     "metadata": {},
     "output_type": "execute_result"
    }
   ],
   "source": [
    "data_a.drop_duplicates(inplace=True)\n",
    "data_a.shape[0]"
   ]
  },
  {
   "cell_type": "markdown",
   "id": "df4daa65",
   "metadata": {},
   "source": [
    "Видно, что количество строк в датасете не изменилось - дубликатов нет.\n",
    "\n",
    "Для удобства дальнейшего расчета метрик и выполнения других операций по данному датасету, произведем преобразование значения признака *action_id* в отдельные бинарные признаки для каждого типа действий."
   ]
  },
  {
   "cell_type": "code",
   "execution_count": 13,
   "id": "d31fa035",
   "metadata": {},
   "outputs": [
    {
     "data": {
      "text/html": [
       "<div>\n",
       "<style scoped>\n",
       "    .dataframe tbody tr th:only-of-type {\n",
       "        vertical-align: middle;\n",
       "    }\n",
       "\n",
       "    .dataframe tbody tr th {\n",
       "        vertical-align: top;\n",
       "    }\n",
       "\n",
       "    .dataframe thead th {\n",
       "        text-align: right;\n",
       "    }\n",
       "</style>\n",
       "<table border=\"1\" class=\"dataframe\">\n",
       "  <thead>\n",
       "    <tr style=\"text-align: right;\">\n",
       "      <th></th>\n",
       "      <th>user_id</th>\n",
       "      <th>item_id</th>\n",
       "      <th>viewing</th>\n",
       "      <th>click</th>\n",
       "      <th>purchase</th>\n",
       "    </tr>\n",
       "  </thead>\n",
       "  <tbody>\n",
       "    <tr>\n",
       "      <th>0</th>\n",
       "      <td>84636</td>\n",
       "      <td>360</td>\n",
       "      <td>1</td>\n",
       "      <td>0</td>\n",
       "      <td>0</td>\n",
       "    </tr>\n",
       "    <tr>\n",
       "      <th>1</th>\n",
       "      <td>21217</td>\n",
       "      <td>9635</td>\n",
       "      <td>1</td>\n",
       "      <td>0</td>\n",
       "      <td>0</td>\n",
       "    </tr>\n",
       "    <tr>\n",
       "      <th>2</th>\n",
       "      <td>13445</td>\n",
       "      <td>8590</td>\n",
       "      <td>1</td>\n",
       "      <td>0</td>\n",
       "      <td>0</td>\n",
       "    </tr>\n",
       "    <tr>\n",
       "      <th>3</th>\n",
       "      <td>38450</td>\n",
       "      <td>5585</td>\n",
       "      <td>1</td>\n",
       "      <td>0</td>\n",
       "      <td>0</td>\n",
       "    </tr>\n",
       "    <tr>\n",
       "      <th>4</th>\n",
       "      <td>14160</td>\n",
       "      <td>2383</td>\n",
       "      <td>0</td>\n",
       "      <td>1</td>\n",
       "      <td>0</td>\n",
       "    </tr>\n",
       "    <tr>\n",
       "      <th>...</th>\n",
       "      <td>...</td>\n",
       "      <td>...</td>\n",
       "      <td>...</td>\n",
       "      <td>...</td>\n",
       "      <td>...</td>\n",
       "    </tr>\n",
       "    <tr>\n",
       "      <th>1188907</th>\n",
       "      <td>22999</td>\n",
       "      <td>2401</td>\n",
       "      <td>1</td>\n",
       "      <td>0</td>\n",
       "      <td>0</td>\n",
       "    </tr>\n",
       "    <tr>\n",
       "      <th>1188908</th>\n",
       "      <td>23700</td>\n",
       "      <td>4654</td>\n",
       "      <td>0</td>\n",
       "      <td>1</td>\n",
       "      <td>0</td>\n",
       "    </tr>\n",
       "    <tr>\n",
       "      <th>1188909</th>\n",
       "      <td>18842</td>\n",
       "      <td>3707</td>\n",
       "      <td>1</td>\n",
       "      <td>0</td>\n",
       "      <td>0</td>\n",
       "    </tr>\n",
       "    <tr>\n",
       "      <th>1188910</th>\n",
       "      <td>32732</td>\n",
       "      <td>9198</td>\n",
       "      <td>1</td>\n",
       "      <td>0</td>\n",
       "      <td>0</td>\n",
       "    </tr>\n",
       "    <tr>\n",
       "      <th>1188911</th>\n",
       "      <td>89340</td>\n",
       "      <td>1132</td>\n",
       "      <td>1</td>\n",
       "      <td>0</td>\n",
       "      <td>0</td>\n",
       "    </tr>\n",
       "  </tbody>\n",
       "</table>\n",
       "<p>1188912 rows × 5 columns</p>\n",
       "</div>"
      ],
      "text/plain": [
       "         user_id  item_id  viewing  click  purchase\n",
       "0          84636      360        1      0         0\n",
       "1          21217     9635        1      0         0\n",
       "2          13445     8590        1      0         0\n",
       "3          38450     5585        1      0         0\n",
       "4          14160     2383        0      1         0\n",
       "...          ...      ...      ...    ...       ...\n",
       "1188907    22999     2401        1      0         0\n",
       "1188908    23700     4654        0      1         0\n",
       "1188909    18842     3707        1      0         0\n",
       "1188910    32732     9198        1      0         0\n",
       "1188911    89340     1132        1      0         0\n",
       "\n",
       "[1188912 rows x 5 columns]"
      ]
     },
     "execution_count": 13,
     "metadata": {},
     "output_type": "execute_result"
    }
   ],
   "source": [
    "data_a['viewing'] = data_a['action_id'].apply(lambda x: 1 if x==1 else 0)\n",
    "data_a['click'] = data_a['action_id'].apply(lambda x: 1 if x==0 else 0)\n",
    "data_a['purchase'] = data_a['action_id'].apply(lambda x: 1 if x==2 else 0)\n",
    "# Удалим исходный признак action_id за ненадобностью\n",
    "data_a.drop(columns='action_id', axis=1, inplace=True)\n",
    "data_a"
   ]
  },
  {
   "cell_type": "markdown",
   "id": "7226b42d",
   "metadata": {},
   "source": [
    "После проведения обработки мы получили обновленный датасет, в котором выполненные пользователем действия выведены как бинарные флаги в одноименных признаках.\n",
    "\n",
    "Т.к. для расчета одной из требуемых по заданию метрик (*gmv*) нам потребуется сумма по купленному товару, то воспользуемся справочником цен товаров, полученным в п. 1.1 и присоединим его к рассматриваемому датасету через ключ *item_id*:"
   ]
  },
  {
   "cell_type": "code",
   "execution_count": 14,
   "id": "a2b2cd9d",
   "metadata": {},
   "outputs": [
    {
     "data": {
      "text/html": [
       "<div>\n",
       "<style scoped>\n",
       "    .dataframe tbody tr th:only-of-type {\n",
       "        vertical-align: middle;\n",
       "    }\n",
       "\n",
       "    .dataframe tbody tr th {\n",
       "        vertical-align: top;\n",
       "    }\n",
       "\n",
       "    .dataframe thead th {\n",
       "        text-align: right;\n",
       "    }\n",
       "</style>\n",
       "<table border=\"1\" class=\"dataframe\">\n",
       "  <thead>\n",
       "    <tr style=\"text-align: right;\">\n",
       "      <th></th>\n",
       "      <th>user_id</th>\n",
       "      <th>item_id</th>\n",
       "      <th>viewing</th>\n",
       "      <th>click</th>\n",
       "      <th>purchase</th>\n",
       "      <th>item_price</th>\n",
       "    </tr>\n",
       "  </thead>\n",
       "  <tbody>\n",
       "    <tr>\n",
       "      <th>0</th>\n",
       "      <td>84636</td>\n",
       "      <td>360</td>\n",
       "      <td>1</td>\n",
       "      <td>0</td>\n",
       "      <td>0</td>\n",
       "      <td>1896.0</td>\n",
       "    </tr>\n",
       "    <tr>\n",
       "      <th>1</th>\n",
       "      <td>21217</td>\n",
       "      <td>9635</td>\n",
       "      <td>1</td>\n",
       "      <td>0</td>\n",
       "      <td>0</td>\n",
       "      <td>1699.0</td>\n",
       "    </tr>\n",
       "    <tr>\n",
       "      <th>2</th>\n",
       "      <td>13445</td>\n",
       "      <td>8590</td>\n",
       "      <td>1</td>\n",
       "      <td>0</td>\n",
       "      <td>0</td>\n",
       "      <td>846.0</td>\n",
       "    </tr>\n",
       "    <tr>\n",
       "      <th>3</th>\n",
       "      <td>38450</td>\n",
       "      <td>5585</td>\n",
       "      <td>1</td>\n",
       "      <td>0</td>\n",
       "      <td>0</td>\n",
       "      <td>1556.0</td>\n",
       "    </tr>\n",
       "    <tr>\n",
       "      <th>4</th>\n",
       "      <td>14160</td>\n",
       "      <td>2383</td>\n",
       "      <td>0</td>\n",
       "      <td>1</td>\n",
       "      <td>0</td>\n",
       "      <td>1956.0</td>\n",
       "    </tr>\n",
       "    <tr>\n",
       "      <th>...</th>\n",
       "      <td>...</td>\n",
       "      <td>...</td>\n",
       "      <td>...</td>\n",
       "      <td>...</td>\n",
       "      <td>...</td>\n",
       "      <td>...</td>\n",
       "    </tr>\n",
       "    <tr>\n",
       "      <th>1188907</th>\n",
       "      <td>22999</td>\n",
       "      <td>2401</td>\n",
       "      <td>1</td>\n",
       "      <td>0</td>\n",
       "      <td>0</td>\n",
       "      <td>1670.0</td>\n",
       "    </tr>\n",
       "    <tr>\n",
       "      <th>1188908</th>\n",
       "      <td>23700</td>\n",
       "      <td>4654</td>\n",
       "      <td>0</td>\n",
       "      <td>1</td>\n",
       "      <td>0</td>\n",
       "      <td>1080.0</td>\n",
       "    </tr>\n",
       "    <tr>\n",
       "      <th>1188909</th>\n",
       "      <td>18842</td>\n",
       "      <td>3707</td>\n",
       "      <td>1</td>\n",
       "      <td>0</td>\n",
       "      <td>0</td>\n",
       "      <td>656.0</td>\n",
       "    </tr>\n",
       "    <tr>\n",
       "      <th>1188910</th>\n",
       "      <td>32732</td>\n",
       "      <td>9198</td>\n",
       "      <td>1</td>\n",
       "      <td>0</td>\n",
       "      <td>0</td>\n",
       "      <td>1307.0</td>\n",
       "    </tr>\n",
       "    <tr>\n",
       "      <th>1188911</th>\n",
       "      <td>89340</td>\n",
       "      <td>1132</td>\n",
       "      <td>1</td>\n",
       "      <td>0</td>\n",
       "      <td>0</td>\n",
       "      <td>1666.0</td>\n",
       "    </tr>\n",
       "  </tbody>\n",
       "</table>\n",
       "<p>1188912 rows × 6 columns</p>\n",
       "</div>"
      ],
      "text/plain": [
       "         user_id  item_id  viewing  click  purchase  item_price\n",
       "0          84636      360        1      0         0      1896.0\n",
       "1          21217     9635        1      0         0      1699.0\n",
       "2          13445     8590        1      0         0       846.0\n",
       "3          38450     5585        1      0         0      1556.0\n",
       "4          14160     2383        0      1         0      1956.0\n",
       "...          ...      ...      ...    ...       ...         ...\n",
       "1188907    22999     2401        1      0         0      1670.0\n",
       "1188908    23700     4654        0      1         0      1080.0\n",
       "1188909    18842     3707        1      0         0       656.0\n",
       "1188910    32732     9198        1      0         0      1307.0\n",
       "1188911    89340     1132        1      0         0      1666.0\n",
       "\n",
       "[1188912 rows x 6 columns]"
      ]
     },
     "execution_count": 14,
     "metadata": {},
     "output_type": "execute_result"
    }
   ],
   "source": [
    "data_a = data_a.join(data, on='item_id', how='left')\n",
    "data_a"
   ]
  },
  {
   "cell_type": "markdown",
   "id": "f18afb3d",
   "metadata": {},
   "source": [
    "Т.к. при расчете метрики *gmv* нужна сумма покупки, а не цена товара, то произведем расчет суммы, как произведения признака *purchase* и *item_price* для каждой строки датасета."
   ]
  },
  {
   "cell_type": "code",
   "execution_count": 15,
   "id": "b9eac8ec",
   "metadata": {},
   "outputs": [
    {
     "data": {
      "text/html": [
       "<div>\n",
       "<style scoped>\n",
       "    .dataframe tbody tr th:only-of-type {\n",
       "        vertical-align: middle;\n",
       "    }\n",
       "\n",
       "    .dataframe tbody tr th {\n",
       "        vertical-align: top;\n",
       "    }\n",
       "\n",
       "    .dataframe thead th {\n",
       "        text-align: right;\n",
       "    }\n",
       "</style>\n",
       "<table border=\"1\" class=\"dataframe\">\n",
       "  <thead>\n",
       "    <tr style=\"text-align: right;\">\n",
       "      <th></th>\n",
       "      <th>user_id</th>\n",
       "      <th>item_id</th>\n",
       "      <th>viewing</th>\n",
       "      <th>click</th>\n",
       "      <th>purchase</th>\n",
       "      <th>item_sum</th>\n",
       "    </tr>\n",
       "  </thead>\n",
       "  <tbody>\n",
       "    <tr>\n",
       "      <th>0</th>\n",
       "      <td>84636</td>\n",
       "      <td>360</td>\n",
       "      <td>1</td>\n",
       "      <td>0</td>\n",
       "      <td>0</td>\n",
       "      <td>0.0</td>\n",
       "    </tr>\n",
       "    <tr>\n",
       "      <th>1</th>\n",
       "      <td>21217</td>\n",
       "      <td>9635</td>\n",
       "      <td>1</td>\n",
       "      <td>0</td>\n",
       "      <td>0</td>\n",
       "      <td>0.0</td>\n",
       "    </tr>\n",
       "    <tr>\n",
       "      <th>2</th>\n",
       "      <td>13445</td>\n",
       "      <td>8590</td>\n",
       "      <td>1</td>\n",
       "      <td>0</td>\n",
       "      <td>0</td>\n",
       "      <td>0.0</td>\n",
       "    </tr>\n",
       "    <tr>\n",
       "      <th>3</th>\n",
       "      <td>38450</td>\n",
       "      <td>5585</td>\n",
       "      <td>1</td>\n",
       "      <td>0</td>\n",
       "      <td>0</td>\n",
       "      <td>0.0</td>\n",
       "    </tr>\n",
       "    <tr>\n",
       "      <th>4</th>\n",
       "      <td>14160</td>\n",
       "      <td>2383</td>\n",
       "      <td>0</td>\n",
       "      <td>1</td>\n",
       "      <td>0</td>\n",
       "      <td>0.0</td>\n",
       "    </tr>\n",
       "    <tr>\n",
       "      <th>...</th>\n",
       "      <td>...</td>\n",
       "      <td>...</td>\n",
       "      <td>...</td>\n",
       "      <td>...</td>\n",
       "      <td>...</td>\n",
       "      <td>...</td>\n",
       "    </tr>\n",
       "    <tr>\n",
       "      <th>1188907</th>\n",
       "      <td>22999</td>\n",
       "      <td>2401</td>\n",
       "      <td>1</td>\n",
       "      <td>0</td>\n",
       "      <td>0</td>\n",
       "      <td>0.0</td>\n",
       "    </tr>\n",
       "    <tr>\n",
       "      <th>1188908</th>\n",
       "      <td>23700</td>\n",
       "      <td>4654</td>\n",
       "      <td>0</td>\n",
       "      <td>1</td>\n",
       "      <td>0</td>\n",
       "      <td>0.0</td>\n",
       "    </tr>\n",
       "    <tr>\n",
       "      <th>1188909</th>\n",
       "      <td>18842</td>\n",
       "      <td>3707</td>\n",
       "      <td>1</td>\n",
       "      <td>0</td>\n",
       "      <td>0</td>\n",
       "      <td>0.0</td>\n",
       "    </tr>\n",
       "    <tr>\n",
       "      <th>1188910</th>\n",
       "      <td>32732</td>\n",
       "      <td>9198</td>\n",
       "      <td>1</td>\n",
       "      <td>0</td>\n",
       "      <td>0</td>\n",
       "      <td>0.0</td>\n",
       "    </tr>\n",
       "    <tr>\n",
       "      <th>1188911</th>\n",
       "      <td>89340</td>\n",
       "      <td>1132</td>\n",
       "      <td>1</td>\n",
       "      <td>0</td>\n",
       "      <td>0</td>\n",
       "      <td>0.0</td>\n",
       "    </tr>\n",
       "  </tbody>\n",
       "</table>\n",
       "<p>1188912 rows × 6 columns</p>\n",
       "</div>"
      ],
      "text/plain": [
       "         user_id  item_id  viewing  click  purchase  item_sum\n",
       "0          84636      360        1      0         0       0.0\n",
       "1          21217     9635        1      0         0       0.0\n",
       "2          13445     8590        1      0         0       0.0\n",
       "3          38450     5585        1      0         0       0.0\n",
       "4          14160     2383        0      1         0       0.0\n",
       "...          ...      ...      ...    ...       ...       ...\n",
       "1188907    22999     2401        1      0         0       0.0\n",
       "1188908    23700     4654        0      1         0       0.0\n",
       "1188909    18842     3707        1      0         0       0.0\n",
       "1188910    32732     9198        1      0         0       0.0\n",
       "1188911    89340     1132        1      0         0       0.0\n",
       "\n",
       "[1188912 rows x 6 columns]"
      ]
     },
     "execution_count": 15,
     "metadata": {},
     "output_type": "execute_result"
    }
   ],
   "source": [
    "data_a['item_sum'] = data_a['purchase'] * data_a['item_price']\n",
    "# После вычисления суммы, цена товаров - не нужна\n",
    "data_a.drop(columns='item_price', axis=1, inplace=True)\n",
    "data_a"
   ]
  },
  {
   "cell_type": "markdown",
   "id": "94af700a",
   "metadata": {},
   "source": [
    "Для получения итоговых данных в разрезе отдельного клиента и товара, свернем полученные данные по признакам *user_id* и *item_id*, просуммировав оставшиеся признаки:"
   ]
  },
  {
   "cell_type": "code",
   "execution_count": 16,
   "id": "e6bf3355",
   "metadata": {},
   "outputs": [
    {
     "data": {
      "text/html": [
       "<div>\n",
       "<style scoped>\n",
       "    .dataframe tbody tr th:only-of-type {\n",
       "        vertical-align: middle;\n",
       "    }\n",
       "\n",
       "    .dataframe tbody tr th {\n",
       "        vertical-align: top;\n",
       "    }\n",
       "\n",
       "    .dataframe thead th {\n",
       "        text-align: right;\n",
       "    }\n",
       "</style>\n",
       "<table border=\"1\" class=\"dataframe\">\n",
       "  <thead>\n",
       "    <tr style=\"text-align: right;\">\n",
       "      <th></th>\n",
       "      <th></th>\n",
       "      <th>viewing</th>\n",
       "      <th>click</th>\n",
       "      <th>purchase</th>\n",
       "      <th>item_sum</th>\n",
       "    </tr>\n",
       "    <tr>\n",
       "      <th>user_id</th>\n",
       "      <th>item_id</th>\n",
       "      <th></th>\n",
       "      <th></th>\n",
       "      <th></th>\n",
       "      <th></th>\n",
       "    </tr>\n",
       "  </thead>\n",
       "  <tbody>\n",
       "    <tr>\n",
       "      <th rowspan=\"5\" valign=\"top\">241</th>\n",
       "      <th>21</th>\n",
       "      <td>1</td>\n",
       "      <td>0</td>\n",
       "      <td>0</td>\n",
       "      <td>0.0</td>\n",
       "    </tr>\n",
       "    <tr>\n",
       "      <th>36</th>\n",
       "      <td>1</td>\n",
       "      <td>0</td>\n",
       "      <td>0</td>\n",
       "      <td>0.0</td>\n",
       "    </tr>\n",
       "    <tr>\n",
       "      <th>39</th>\n",
       "      <td>1</td>\n",
       "      <td>0</td>\n",
       "      <td>0</td>\n",
       "      <td>0.0</td>\n",
       "    </tr>\n",
       "    <tr>\n",
       "      <th>50</th>\n",
       "      <td>1</td>\n",
       "      <td>0</td>\n",
       "      <td>0</td>\n",
       "      <td>0.0</td>\n",
       "    </tr>\n",
       "    <tr>\n",
       "      <th>64</th>\n",
       "      <td>1</td>\n",
       "      <td>0</td>\n",
       "      <td>0</td>\n",
       "      <td>0.0</td>\n",
       "    </tr>\n",
       "    <tr>\n",
       "      <th>...</th>\n",
       "      <th>...</th>\n",
       "      <td>...</td>\n",
       "      <td>...</td>\n",
       "      <td>...</td>\n",
       "      <td>...</td>\n",
       "    </tr>\n",
       "    <tr>\n",
       "      <th rowspan=\"5\" valign=\"top\">99880</th>\n",
       "      <th>9936</th>\n",
       "      <td>1</td>\n",
       "      <td>0</td>\n",
       "      <td>0</td>\n",
       "      <td>0.0</td>\n",
       "    </tr>\n",
       "    <tr>\n",
       "      <th>9944</th>\n",
       "      <td>1</td>\n",
       "      <td>0</td>\n",
       "      <td>0</td>\n",
       "      <td>0.0</td>\n",
       "    </tr>\n",
       "    <tr>\n",
       "      <th>9958</th>\n",
       "      <td>1</td>\n",
       "      <td>0</td>\n",
       "      <td>0</td>\n",
       "      <td>0.0</td>\n",
       "    </tr>\n",
       "    <tr>\n",
       "      <th>9989</th>\n",
       "      <td>1</td>\n",
       "      <td>0</td>\n",
       "      <td>0</td>\n",
       "      <td>0.0</td>\n",
       "    </tr>\n",
       "    <tr>\n",
       "      <th>9994</th>\n",
       "      <td>1</td>\n",
       "      <td>0</td>\n",
       "      <td>0</td>\n",
       "      <td>0.0</td>\n",
       "    </tr>\n",
       "  </tbody>\n",
       "</table>\n",
       "<p>951130 rows × 4 columns</p>\n",
       "</div>"
      ],
      "text/plain": [
       "                 viewing  click  purchase  item_sum\n",
       "user_id item_id                                    \n",
       "241     21             1      0         0       0.0\n",
       "        36             1      0         0       0.0\n",
       "        39             1      0         0       0.0\n",
       "        50             1      0         0       0.0\n",
       "        64             1      0         0       0.0\n",
       "...                  ...    ...       ...       ...\n",
       "99880   9936           1      0         0       0.0\n",
       "        9944           1      0         0       0.0\n",
       "        9958           1      0         0       0.0\n",
       "        9989           1      0         0       0.0\n",
       "        9994           1      0         0       0.0\n",
       "\n",
       "[951130 rows x 4 columns]"
      ]
     },
     "execution_count": 16,
     "metadata": {},
     "output_type": "execute_result"
    }
   ],
   "source": [
    "data_a = data_a.groupby(by=['user_id','item_id']).sum()\n",
    "data_a"
   ]
  },
  {
   "cell_type": "markdown",
   "id": "7a72d574",
   "metadata": {},
   "source": [
    "Количество строк уменьшилось. Теперь можно произвести проверку наличия предварительных просмотров товаров перед каждой операцией клика на товаре или покупки товара. Для этого проанализируем частоту появления различных значений признака *viewing*."
   ]
  },
  {
   "cell_type": "code",
   "execution_count": 17,
   "id": "a0829e1b",
   "metadata": {},
   "outputs": [
    {
     "data": {
      "text/plain": [
       "1    951130\n",
       "Name: viewing, dtype: int64"
      ]
     },
     "execution_count": 17,
     "metadata": {},
     "output_type": "execute_result"
    }
   ],
   "source": [
    "data_a['viewing'].value_counts()"
   ]
  },
  {
   "cell_type": "markdown",
   "id": "1693c51d",
   "metadata": {},
   "source": [
    "Видно, что значение признака *viewing* имеет единственное значение - 1 и количество этих значений совпадает с количеством строк в свернутом датасете. Из этого можно заключить, что у нас нет ситуаций, когда клик или покупка происходят без действия предварительного просмотра.\n",
    "\n",
    "Перед дальнейшим использованием полученного датасета, проведем визуальный анализ распределений исследуемых признаков."
   ]
  },
  {
   "cell_type": "code",
   "execution_count": 18,
   "id": "c92239af",
   "metadata": {},
   "outputs": [
    {
     "data": {
      "text/plain": [
       "array([[<Axes: title={'center': 'viewing'}>,\n",
       "        <Axes: title={'center': 'click'}>],\n",
       "       [<Axes: title={'center': 'purchase'}>,\n",
       "        <Axes: title={'center': 'item_sum'}>]], dtype=object)"
      ]
     },
     "execution_count": 18,
     "metadata": {},
     "output_type": "execute_result"
    },
    {
     "data": {
      "image/png": "[encoded data removed]",
      "text/plain": [
       "<Figure size 640x480 with 4 Axes>"
      ]
     },
     "metadata": {},
     "output_type": "display_data"
    }
   ],
   "source": [
    "data_a.hist(bins=5)"
   ]
  },
  {
   "cell_type": "markdown",
   "id": "5dfced39",
   "metadata": {},
   "source": [
    "Из полученных результатов можно сделать следующие предварительные выводы по датасету *А-группы*.\n",
    "\n",
    "1. Как и было описано выше, каждой строке датасета соответствует предварительный просмотр товаров. Признак *viewing* имеет единственное значение равное *1* и частота его появления соответствует количеству записей в выборке.\n",
    "2. Значение признака *click* имеет два значения - \"1\" и \"0\" (категориальный признак) и распределено не равномерно. Количество выполненных кликов составляет примерно 1/5 всей выборки.\n",
    "3. Значение признака *purchase* также имеет два значения - \"1\" и \"0\" (категориальный признак) и также распределено не равномерно. Количество выполнных покупок имеет достаточно небольшое количество по отношению к общему количеству выборки.\n",
    "4. *item_sum* является количественным денежным признаком с значениями в диапазоне от 0 до 2000 и распределяется не по нормальному закону. Основная масса покупок имеет сумму близкую к нулевому значению.\n",
    "\n",
    "**Произведем расчет метрик**, определенных в задании к проекту для *А-группы*. Данные по метрикам для различных групп будем собирать в итоговый датафрейм для сравнения."
   ]
  },
  {
   "cell_type": "code",
   "execution_count": 19,
   "id": "885af21f",
   "metadata": {},
   "outputs": [],
   "source": [
    "# ctr - А-группа\n",
    "ctr = data_a['click'].sum()/data_a['viewing'].sum()"
   ]
  },
  {
   "cell_type": "code",
   "execution_count": 20,
   "id": "5e4625f8",
   "metadata": {},
   "outputs": [],
   "source": [
    "# purchase rate - А-группа\n",
    "purchase_rate = data_a['purchase'].sum()/data_a['viewing'].sum()"
   ]
  },
  {
   "cell_type": "code",
   "execution_count": 21,
   "id": "ee9c90d1",
   "metadata": {},
   "outputs": [],
   "source": [
    "# gmv - А-группа\n",
    "gvm = data_a['item_sum'].sum()"
   ]
  },
  {
   "cell_type": "code",
   "execution_count": 22,
   "id": "544a1ebe",
   "metadata": {},
   "outputs": [
    {
     "data": {
      "text/html": [
       "<div>\n",
       "<style scoped>\n",
       "    .dataframe tbody tr th:only-of-type {\n",
       "        vertical-align: middle;\n",
       "    }\n",
       "\n",
       "    .dataframe tbody tr th {\n",
       "        vertical-align: top;\n",
       "    }\n",
       "\n",
       "    .dataframe thead th {\n",
       "        text-align: right;\n",
       "    }\n",
       "</style>\n",
       "<table border=\"1\" class=\"dataframe\">\n",
       "  <thead>\n",
       "    <tr style=\"text-align: right;\">\n",
       "      <th></th>\n",
       "      <th>sample</th>\n",
       "      <th>size</th>\n",
       "      <th>ctr</th>\n",
       "      <th>purchase rate</th>\n",
       "      <th>gmv</th>\n",
       "    </tr>\n",
       "  </thead>\n",
       "  <tbody>\n",
       "    <tr>\n",
       "      <th>0</th>\n",
       "      <td>A</td>\n",
       "      <td>951130</td>\n",
       "      <td>0.2</td>\n",
       "      <td>0.049999</td>\n",
       "      <td>5.087209e+07</td>\n",
       "    </tr>\n",
       "  </tbody>\n",
       "</table>\n",
       "</div>"
      ],
      "text/plain": [
       "  sample    size  ctr  purchase rate           gmv\n",
       "0      A  951130  0.2       0.049999  5.087209e+07"
      ]
     },
     "execution_count": 22,
     "metadata": {},
     "output_type": "execute_result"
    }
   ],
   "source": [
    "row = {'sample':['A'],'size':[len(data_a)],'ctr':[ctr], 'purchase rate':[purchase_rate], 'gmv':[gvm]}\n",
    "df_result = pd.DataFrame.from_dict(row)\n",
    "df_result"
   ]
  },
  {
   "cell_type": "markdown",
   "id": "569907e2",
   "metadata": {},
   "source": [
    "Полученные данные по выборке *А-группы* будут базовыми для сравнения с данными в других рассмотренных группах."
   ]
  },
  {
   "cell_type": "markdown",
   "id": "01de1811",
   "metadata": {},
   "source": [
    "**1.3. Анализ и обработка датасета *simple_b***"
   ]
  },
  {
   "cell_type": "markdown",
   "id": "07733f14",
   "metadata": {},
   "source": [
    "Обработаем датасет *simple_b* аналогично рассмотренному выше датасету *simple_a*."
   ]
  },
  {
   "cell_type": "code",
   "execution_count": 23,
   "id": "b77d858b",
   "metadata": {},
   "outputs": [
    {
     "data": {
      "text/html": [
       "<div>\n",
       "<style scoped>\n",
       "    .dataframe tbody tr th:only-of-type {\n",
       "        vertical-align: middle;\n",
       "    }\n",
       "\n",
       "    .dataframe tbody tr th {\n",
       "        vertical-align: top;\n",
       "    }\n",
       "\n",
       "    .dataframe thead th {\n",
       "        text-align: right;\n",
       "    }\n",
       "</style>\n",
       "<table border=\"1\" class=\"dataframe\">\n",
       "  <thead>\n",
       "    <tr style=\"text-align: right;\">\n",
       "      <th></th>\n",
       "      <th>user_id</th>\n",
       "      <th>item_id</th>\n",
       "      <th>action_id</th>\n",
       "    </tr>\n",
       "  </thead>\n",
       "  <tbody>\n",
       "    <tr>\n",
       "      <th>0</th>\n",
       "      <td>118375</td>\n",
       "      <td>4105</td>\n",
       "      <td>1</td>\n",
       "    </tr>\n",
       "    <tr>\n",
       "      <th>1</th>\n",
       "      <td>107569</td>\n",
       "      <td>8204</td>\n",
       "      <td>1</td>\n",
       "    </tr>\n",
       "    <tr>\n",
       "      <th>2</th>\n",
       "      <td>175990</td>\n",
       "      <td>880</td>\n",
       "      <td>1</td>\n",
       "    </tr>\n",
       "    <tr>\n",
       "      <th>3</th>\n",
       "      <td>160582</td>\n",
       "      <td>9568</td>\n",
       "      <td>0</td>\n",
       "    </tr>\n",
       "    <tr>\n",
       "      <th>4</th>\n",
       "      <td>123400</td>\n",
       "      <td>4000</td>\n",
       "      <td>1</td>\n",
       "    </tr>\n",
       "  </tbody>\n",
       "</table>\n",
       "</div>"
      ],
      "text/plain": [
       "   user_id  item_id  action_id\n",
       "0   118375     4105          1\n",
       "1   107569     8204          1\n",
       "2   175990      880          1\n",
       "3   160582     9568          0\n",
       "4   123400     4000          1"
      ]
     },
     "execution_count": 23,
     "metadata": {},
     "output_type": "execute_result"
    }
   ],
   "source": [
    "data_b = pd.read_csv(\"sample_b.csv\")\n",
    "data_b.head()"
   ]
  },
  {
   "cell_type": "code",
   "execution_count": 24,
   "id": "93cd26c3",
   "metadata": {},
   "outputs": [
    {
     "name": "stdout",
     "output_type": "stream",
     "text": [
      "<class 'pandas.core.frame.DataFrame'>\n",
      "RangeIndex: 1198438 entries, 0 to 1198437\n",
      "Data columns (total 3 columns):\n",
      " #   Column     Non-Null Count    Dtype\n",
      "---  ------     --------------    -----\n",
      " 0   user_id    1198438 non-null  int64\n",
      " 1   item_id    1198438 non-null  int64\n",
      " 2   action_id  1198438 non-null  int64\n",
      "dtypes: int64(3)\n",
      "memory usage: 27.4 MB\n"
     ]
    }
   ],
   "source": [
    "data_b.info()"
   ]
  },
  {
   "cell_type": "markdown",
   "id": "67621b37",
   "metadata": {},
   "source": [
    "Видно, что структура данных у данного датасета точно такая же, что и у предыдущего."
   ]
  },
  {
   "cell_type": "code",
   "execution_count": 25,
   "id": "cc7ed0a7",
   "metadata": {},
   "outputs": [
    {
     "data": {
      "text/plain": [
       "1198438"
      ]
     },
     "execution_count": 25,
     "metadata": {},
     "output_type": "execute_result"
    }
   ],
   "source": [
    "data_b.drop_duplicates(inplace=True)\n",
    "data_b.shape[0]"
   ]
  },
  {
   "cell_type": "markdown",
   "id": "c4a2bef9",
   "metadata": {},
   "source": [
    "Полных дубликатов данных - нет."
   ]
  },
  {
   "cell_type": "code",
   "execution_count": 26,
   "id": "8f3c6da7",
   "metadata": {},
   "outputs": [
    {
     "data": {
      "text/html": [
       "<div>\n",
       "<style scoped>\n",
       "    .dataframe tbody tr th:only-of-type {\n",
       "        vertical-align: middle;\n",
       "    }\n",
       "\n",
       "    .dataframe tbody tr th {\n",
       "        vertical-align: top;\n",
       "    }\n",
       "\n",
       "    .dataframe thead th {\n",
       "        text-align: right;\n",
       "    }\n",
       "</style>\n",
       "<table border=\"1\" class=\"dataframe\">\n",
       "  <thead>\n",
       "    <tr style=\"text-align: right;\">\n",
       "      <th></th>\n",
       "      <th></th>\n",
       "      <th>viewing</th>\n",
       "      <th>click</th>\n",
       "      <th>purchase</th>\n",
       "      <th>item_sum</th>\n",
       "    </tr>\n",
       "    <tr>\n",
       "      <th>user_id</th>\n",
       "      <th>item_id</th>\n",
       "      <th></th>\n",
       "      <th></th>\n",
       "      <th></th>\n",
       "      <th></th>\n",
       "    </tr>\n",
       "  </thead>\n",
       "  <tbody>\n",
       "    <tr>\n",
       "      <th rowspan=\"5\" valign=\"top\">100038</th>\n",
       "      <th>21</th>\n",
       "      <td>1</td>\n",
       "      <td>0</td>\n",
       "      <td>0</td>\n",
       "      <td>0.0</td>\n",
       "    </tr>\n",
       "    <tr>\n",
       "      <th>36</th>\n",
       "      <td>1</td>\n",
       "      <td>0</td>\n",
       "      <td>0</td>\n",
       "      <td>0.0</td>\n",
       "    </tr>\n",
       "    <tr>\n",
       "      <th>39</th>\n",
       "      <td>1</td>\n",
       "      <td>0</td>\n",
       "      <td>0</td>\n",
       "      <td>0.0</td>\n",
       "    </tr>\n",
       "    <tr>\n",
       "      <th>50</th>\n",
       "      <td>1</td>\n",
       "      <td>0</td>\n",
       "      <td>0</td>\n",
       "      <td>0.0</td>\n",
       "    </tr>\n",
       "    <tr>\n",
       "      <th>64</th>\n",
       "      <td>1</td>\n",
       "      <td>0</td>\n",
       "      <td>0</td>\n",
       "      <td>0.0</td>\n",
       "    </tr>\n",
       "    <tr>\n",
       "      <th>...</th>\n",
       "      <th>...</th>\n",
       "      <td>...</td>\n",
       "      <td>...</td>\n",
       "      <td>...</td>\n",
       "      <td>...</td>\n",
       "    </tr>\n",
       "    <tr>\n",
       "      <th rowspan=\"5\" valign=\"top\">199966</th>\n",
       "      <th>9936</th>\n",
       "      <td>1</td>\n",
       "      <td>1</td>\n",
       "      <td>0</td>\n",
       "      <td>0.0</td>\n",
       "    </tr>\n",
       "    <tr>\n",
       "      <th>9944</th>\n",
       "      <td>1</td>\n",
       "      <td>0</td>\n",
       "      <td>0</td>\n",
       "      <td>0.0</td>\n",
       "    </tr>\n",
       "    <tr>\n",
       "      <th>9958</th>\n",
       "      <td>1</td>\n",
       "      <td>1</td>\n",
       "      <td>1</td>\n",
       "      <td>265.0</td>\n",
       "    </tr>\n",
       "    <tr>\n",
       "      <th>9989</th>\n",
       "      <td>1</td>\n",
       "      <td>0</td>\n",
       "      <td>0</td>\n",
       "      <td>0.0</td>\n",
       "    </tr>\n",
       "    <tr>\n",
       "      <th>9994</th>\n",
       "      <td>1</td>\n",
       "      <td>0</td>\n",
       "      <td>0</td>\n",
       "      <td>0.0</td>\n",
       "    </tr>\n",
       "  </tbody>\n",
       "</table>\n",
       "<p>951141 rows × 4 columns</p>\n",
       "</div>"
      ],
      "text/plain": [
       "                 viewing  click  purchase  item_sum\n",
       "user_id item_id                                    \n",
       "100038  21             1      0         0       0.0\n",
       "        36             1      0         0       0.0\n",
       "        39             1      0         0       0.0\n",
       "        50             1      0         0       0.0\n",
       "        64             1      0         0       0.0\n",
       "...                  ...    ...       ...       ...\n",
       "199966  9936           1      1         0       0.0\n",
       "        9944           1      0         0       0.0\n",
       "        9958           1      1         1     265.0\n",
       "        9989           1      0         0       0.0\n",
       "        9994           1      0         0       0.0\n",
       "\n",
       "[951141 rows x 4 columns]"
      ]
     },
     "execution_count": 26,
     "metadata": {},
     "output_type": "execute_result"
    }
   ],
   "source": [
    "# Преобразуем типы действий в отдельные признаки\n",
    "data_b['viewing'] = data_b['action_id'].apply(lambda x: 1 if x==1 else 0)\n",
    "data_b['click'] = data_b['action_id'].apply(lambda x: 1 if x==0 else 0)\n",
    "data_b['purchase'] = data_b['action_id'].apply(lambda x: 1 if x==2 else 0)\n",
    "# Удалим старый признак с дествиями пользоватеелй\n",
    "data_b.drop(columns='action_id', axis=1, inplace=True)\n",
    "# Соединим данные датасета с данными справочника цен товаров\n",
    "data_b = data_b.join(data, on='item_id', how='left')\n",
    "# Расстичтаем итоговые суммы покупок\n",
    "data_b['item_sum'] = data_b['purchase'] * data_b['item_price']\n",
    "# Признак цены удаляем, т.к. далее будут использоваться суммы по товарам\n",
    "data_b.drop(columns='item_price', axis=1, inplace=True)\n",
    "# Свернем данные по пользователю и товару, суммируя остальные признаки\n",
    "data_b = data_b.groupby(by=['user_id','item_id']).sum()\n",
    "data_b"
   ]
  },
  {
   "cell_type": "markdown",
   "id": "07732612",
   "metadata": {},
   "source": [
    "Как и прошлый раз, количество строк уменьшилось. Проводим проверку наличия предварительных просмотров товаров перед каждой зафиксированной операцией:"
   ]
  },
  {
   "cell_type": "code",
   "execution_count": 27,
   "id": "ef25890c",
   "metadata": {},
   "outputs": [
    {
     "data": {
      "text/plain": [
       "1    951141\n",
       "Name: viewing, dtype: int64"
      ]
     },
     "execution_count": 27,
     "metadata": {},
     "output_type": "execute_result"
    }
   ],
   "source": [
    "data_b['viewing'].value_counts()"
   ]
  },
  {
   "cell_type": "markdown",
   "id": "76577eaf",
   "metadata": {},
   "source": [
    "Число строк датасета совпало с количеством значений просмотров, т.е. все операции имеют перед собой операцию просмотра.\n",
    "\n",
    "Проведем визуальный анализ распределений исследуемых признаков в этом датасете."
   ]
  },
  {
   "cell_type": "code",
   "execution_count": 28,
   "id": "b6ce4de6",
   "metadata": {},
   "outputs": [
    {
     "data": {
      "text/plain": [
       "array([[<Axes: title={'center': 'viewing'}>,\n",
       "        <Axes: title={'center': 'click'}>],\n",
       "       [<Axes: title={'center': 'purchase'}>,\n",
       "        <Axes: title={'center': 'item_sum'}>]], dtype=object)"
      ]
     },
     "execution_count": 28,
     "metadata": {},
     "output_type": "execute_result"
    },
    {
     "data": {
      "image/png": "[encoded data removed]",
      "text/plain": [
       "<Figure size 640x480 with 4 Axes>"
      ]
     },
     "metadata": {},
     "output_type": "display_data"
    }
   ],
   "source": [
    "data_b.hist(bins=5)"
   ]
  },
  {
   "cell_type": "markdown",
   "id": "d74e2421",
   "metadata": {},
   "source": [
    "Выводы, сделанные для датасета *simple_a* вполне применимы и для данного датасета, но также можно сделать ряд дополнительных выводов, основанных на сравнении соответствующих графиков обоих датасетов.\n",
    "\n",
    "1. Размеры выборок групп *А* и *В* примерно одинаковы.\n",
    "2. В признаке *click* наблюдается уменьшение количества значений равных *1*, что говорит о том, что пользователи в *В-группе* начали меньше кликать по товару.\n",
    "3. В признаке *purchase* произошло увеличение количества значений равных *1*, что говорит о большем количестве реальных продаж в данной выборке.\n",
    "4. Так же, по признаку *item_sum* видно увеличение сумм продаж, причем, возможно, лучше стали продаваться более дорогие товары."
   ]
  },
  {
   "cell_type": "markdown",
   "id": "f1af2000",
   "metadata": {},
   "source": [
    "**Произведем расчет метрик**, по рассматриваемому датасету и отправим их в итоговый датафрейм для сравнения."
   ]
  },
  {
   "cell_type": "code",
   "execution_count": 29,
   "id": "b6bb0e0e",
   "metadata": {},
   "outputs": [],
   "source": [
    "# ctr - В-группа\n",
    "ctr = data_b['click'].sum()/data_b['viewing'].sum()"
   ]
  },
  {
   "cell_type": "code",
   "execution_count": 30,
   "id": "ed7ae610",
   "metadata": {},
   "outputs": [],
   "source": [
    "# purchase rate - B-группа\n",
    "purchase_rate = data_b['purchase'].sum()/data_b['viewing'].sum()"
   ]
  },
  {
   "cell_type": "code",
   "execution_count": 31,
   "id": "046e816b",
   "metadata": {},
   "outputs": [],
   "source": [
    "# gmv - B-группа\n",
    "gvm = data_b['item_sum'].sum()"
   ]
  },
  {
   "cell_type": "code",
   "execution_count": 32,
   "id": "afed8c27",
   "metadata": {},
   "outputs": [
    {
     "data": {
      "text/html": [
       "<div>\n",
       "<style scoped>\n",
       "    .dataframe tbody tr th:only-of-type {\n",
       "        vertical-align: middle;\n",
       "    }\n",
       "\n",
       "    .dataframe tbody tr th {\n",
       "        vertical-align: top;\n",
       "    }\n",
       "\n",
       "    .dataframe thead th {\n",
       "        text-align: right;\n",
       "    }\n",
       "</style>\n",
       "<table border=\"1\" class=\"dataframe\">\n",
       "  <thead>\n",
       "    <tr style=\"text-align: right;\">\n",
       "      <th></th>\n",
       "      <th>sample</th>\n",
       "      <th>size</th>\n",
       "      <th>ctr</th>\n",
       "      <th>purchase rate</th>\n",
       "      <th>gmv</th>\n",
       "    </tr>\n",
       "  </thead>\n",
       "  <tbody>\n",
       "    <tr>\n",
       "      <th>0</th>\n",
       "      <td>A</td>\n",
       "      <td>951130</td>\n",
       "      <td>0.20</td>\n",
       "      <td>0.049999</td>\n",
       "      <td>5.087209e+07</td>\n",
       "    </tr>\n",
       "    <tr>\n",
       "      <th>1</th>\n",
       "      <td>B</td>\n",
       "      <td>951141</td>\n",
       "      <td>0.16</td>\n",
       "      <td>0.100000</td>\n",
       "      <td>1.016682e+08</td>\n",
       "    </tr>\n",
       "  </tbody>\n",
       "</table>\n",
       "</div>"
      ],
      "text/plain": [
       "  sample    size   ctr  purchase rate           gmv\n",
       "0      A  951130  0.20       0.049999  5.087209e+07\n",
       "1      B  951141  0.16       0.100000  1.016682e+08"
      ]
     },
     "execution_count": 32,
     "metadata": {},
     "output_type": "execute_result"
    }
   ],
   "source": [
    "row = pd.DataFrame({'sample':['B'], 'size':[len(data_b)], 'ctr':[ctr], 'purchase rate':[purchase_rate], 'gmv':[gvm]})\n",
    "df_result = pd.concat([df_result, row], ignore_index=True)\n",
    "df_result"
   ]
  },
  {
   "cell_type": "markdown",
   "id": "3c345430",
   "metadata": {},
   "source": [
    "Сравнительный анализ метрик дает те же выводы, что и рассмотренный ранее визуальный анализ:\n",
    "\n",
    "1. *ctr* - упал на 20%, пользователи стали меньше кликать по товару;\n",
    "2. *purchase rate* - вырос в 2 раза, не смотря на снижение кликов пользователей.\n",
    "3. *gmv* - вырос в 2 раза, что связано с увеличением числа продаж и, возможно, продажей более дорогих товаров."
   ]
  },
  {
   "cell_type": "markdown",
   "id": "0f1f9eb5",
   "metadata": {},
   "source": [
    "**1.4. Анализ и обработка датасета *simple_c***"
   ]
  },
  {
   "cell_type": "markdown",
   "id": "aeb2f775",
   "metadata": {},
   "source": [
    "Обработаем датасет *simple_c* аналогично рассмотренным выше датасетам *simple_a* и *simple_b*."
   ]
  },
  {
   "cell_type": "code",
   "execution_count": 33,
   "id": "e96741cf",
   "metadata": {},
   "outputs": [
    {
     "data": {
      "text/html": [
       "<div>\n",
       "<style scoped>\n",
       "    .dataframe tbody tr th:only-of-type {\n",
       "        vertical-align: middle;\n",
       "    }\n",
       "\n",
       "    .dataframe tbody tr th {\n",
       "        vertical-align: top;\n",
       "    }\n",
       "\n",
       "    .dataframe thead th {\n",
       "        text-align: right;\n",
       "    }\n",
       "</style>\n",
       "<table border=\"1\" class=\"dataframe\">\n",
       "  <thead>\n",
       "    <tr style=\"text-align: right;\">\n",
       "      <th></th>\n",
       "      <th>user_id</th>\n",
       "      <th>item_id</th>\n",
       "      <th>action_id</th>\n",
       "    </tr>\n",
       "  </thead>\n",
       "  <tbody>\n",
       "    <tr>\n",
       "      <th>0</th>\n",
       "      <td>274623</td>\n",
       "      <td>2863</td>\n",
       "      <td>1</td>\n",
       "    </tr>\n",
       "    <tr>\n",
       "      <th>1</th>\n",
       "      <td>265472</td>\n",
       "      <td>343</td>\n",
       "      <td>1</td>\n",
       "    </tr>\n",
       "    <tr>\n",
       "      <th>2</th>\n",
       "      <td>242779</td>\n",
       "      <td>6009</td>\n",
       "      <td>0</td>\n",
       "    </tr>\n",
       "    <tr>\n",
       "      <th>3</th>\n",
       "      <td>275009</td>\n",
       "      <td>2184</td>\n",
       "      <td>1</td>\n",
       "    </tr>\n",
       "    <tr>\n",
       "      <th>4</th>\n",
       "      <td>268104</td>\n",
       "      <td>3134</td>\n",
       "      <td>2</td>\n",
       "    </tr>\n",
       "  </tbody>\n",
       "</table>\n",
       "</div>"
      ],
      "text/plain": [
       "   user_id  item_id  action_id\n",
       "0   274623     2863          1\n",
       "1   265472      343          1\n",
       "2   242779     6009          0\n",
       "3   275009     2184          1\n",
       "4   268104     3134          2"
      ]
     },
     "execution_count": 33,
     "metadata": {},
     "output_type": "execute_result"
    }
   ],
   "source": [
    "data_c = pd.read_csv(\"sample_c.csv\")\n",
    "data_c.head()"
   ]
  },
  {
   "cell_type": "code",
   "execution_count": 34,
   "id": "ec21edae",
   "metadata": {},
   "outputs": [
    {
     "name": "stdout",
     "output_type": "stream",
     "text": [
      "<class 'pandas.core.frame.DataFrame'>\n",
      "RangeIndex: 1205510 entries, 0 to 1205509\n",
      "Data columns (total 3 columns):\n",
      " #   Column     Non-Null Count    Dtype\n",
      "---  ------     --------------    -----\n",
      " 0   user_id    1205510 non-null  int64\n",
      " 1   item_id    1205510 non-null  int64\n",
      " 2   action_id  1205510 non-null  int64\n",
      "dtypes: int64(3)\n",
      "memory usage: 27.6 MB\n"
     ]
    }
   ],
   "source": [
    "data_c.info()"
   ]
  },
  {
   "cell_type": "markdown",
   "id": "51b9d82a",
   "metadata": {},
   "source": [
    "Структура данных у данного датасета аналогична двум предыдущим рассмотренным (*simple_a* и *simple_b*)."
   ]
  },
  {
   "cell_type": "code",
   "execution_count": 35,
   "id": "862baf9d",
   "metadata": {},
   "outputs": [
    {
     "data": {
      "text/plain": [
       "1205510"
      ]
     },
     "execution_count": 35,
     "metadata": {},
     "output_type": "execute_result"
    }
   ],
   "source": [
    "data_c.drop_duplicates(inplace=True)\n",
    "data_c.shape[0]"
   ]
  },
  {
   "cell_type": "markdown",
   "id": "e2236bbc",
   "metadata": {},
   "source": [
    "После удаления дубликатов, количество строк не изменилось, что означает, что полных дубликатов строк в данных нет."
   ]
  },
  {
   "cell_type": "code",
   "execution_count": 36,
   "id": "ba5788d5",
   "metadata": {},
   "outputs": [
    {
     "data": {
      "text/html": [
       "<div>\n",
       "<style scoped>\n",
       "    .dataframe tbody tr th:only-of-type {\n",
       "        vertical-align: middle;\n",
       "    }\n",
       "\n",
       "    .dataframe tbody tr th {\n",
       "        vertical-align: top;\n",
       "    }\n",
       "\n",
       "    .dataframe thead th {\n",
       "        text-align: right;\n",
       "    }\n",
       "</style>\n",
       "<table border=\"1\" class=\"dataframe\">\n",
       "  <thead>\n",
       "    <tr style=\"text-align: right;\">\n",
       "      <th></th>\n",
       "      <th></th>\n",
       "      <th>viewing</th>\n",
       "      <th>click</th>\n",
       "      <th>purchase</th>\n",
       "      <th>item_sum</th>\n",
       "    </tr>\n",
       "    <tr>\n",
       "      <th>user_id</th>\n",
       "      <th>item_id</th>\n",
       "      <th></th>\n",
       "      <th></th>\n",
       "      <th></th>\n",
       "      <th></th>\n",
       "    </tr>\n",
       "  </thead>\n",
       "  <tbody>\n",
       "    <tr>\n",
       "      <th rowspan=\"5\" valign=\"top\">200225</th>\n",
       "      <th>21</th>\n",
       "      <td>1</td>\n",
       "      <td>0</td>\n",
       "      <td>0</td>\n",
       "      <td>0.0</td>\n",
       "    </tr>\n",
       "    <tr>\n",
       "      <th>36</th>\n",
       "      <td>1</td>\n",
       "      <td>0</td>\n",
       "      <td>0</td>\n",
       "      <td>0.0</td>\n",
       "    </tr>\n",
       "    <tr>\n",
       "      <th>39</th>\n",
       "      <td>1</td>\n",
       "      <td>1</td>\n",
       "      <td>0</td>\n",
       "      <td>0.0</td>\n",
       "    </tr>\n",
       "    <tr>\n",
       "      <th>50</th>\n",
       "      <td>1</td>\n",
       "      <td>0</td>\n",
       "      <td>0</td>\n",
       "      <td>0.0</td>\n",
       "    </tr>\n",
       "    <tr>\n",
       "      <th>64</th>\n",
       "      <td>1</td>\n",
       "      <td>0</td>\n",
       "      <td>1</td>\n",
       "      <td>1479.0</td>\n",
       "    </tr>\n",
       "    <tr>\n",
       "      <th>...</th>\n",
       "      <th>...</th>\n",
       "      <td>...</td>\n",
       "      <td>...</td>\n",
       "      <td>...</td>\n",
       "      <td>...</td>\n",
       "    </tr>\n",
       "    <tr>\n",
       "      <th rowspan=\"5\" valign=\"top\">299828</th>\n",
       "      <th>9936</th>\n",
       "      <td>1</td>\n",
       "      <td>0</td>\n",
       "      <td>0</td>\n",
       "      <td>0.0</td>\n",
       "    </tr>\n",
       "    <tr>\n",
       "      <th>9944</th>\n",
       "      <td>1</td>\n",
       "      <td>0</td>\n",
       "      <td>0</td>\n",
       "      <td>0.0</td>\n",
       "    </tr>\n",
       "    <tr>\n",
       "      <th>9958</th>\n",
       "      <td>1</td>\n",
       "      <td>1</td>\n",
       "      <td>0</td>\n",
       "      <td>0.0</td>\n",
       "    </tr>\n",
       "    <tr>\n",
       "      <th>9989</th>\n",
       "      <td>1</td>\n",
       "      <td>0</td>\n",
       "      <td>0</td>\n",
       "      <td>0.0</td>\n",
       "    </tr>\n",
       "    <tr>\n",
       "      <th>9994</th>\n",
       "      <td>1</td>\n",
       "      <td>0</td>\n",
       "      <td>0</td>\n",
       "      <td>0.0</td>\n",
       "    </tr>\n",
       "  </tbody>\n",
       "</table>\n",
       "<p>949221 rows × 4 columns</p>\n",
       "</div>"
      ],
      "text/plain": [
       "                 viewing  click  purchase  item_sum\n",
       "user_id item_id                                    \n",
       "200225  21             1      0         0       0.0\n",
       "        36             1      0         0       0.0\n",
       "        39             1      1         0       0.0\n",
       "        50             1      0         0       0.0\n",
       "        64             1      0         1    1479.0\n",
       "...                  ...    ...       ...       ...\n",
       "299828  9936           1      0         0       0.0\n",
       "        9944           1      0         0       0.0\n",
       "        9958           1      1         0       0.0\n",
       "        9989           1      0         0       0.0\n",
       "        9994           1      0         0       0.0\n",
       "\n",
       "[949221 rows x 4 columns]"
      ]
     },
     "execution_count": 36,
     "metadata": {},
     "output_type": "execute_result"
    }
   ],
   "source": [
    "# Преобразуем типы действий в отдельные признаки\n",
    "data_c['viewing'] = data_c['action_id'].apply(lambda x: 1 if x==1 else 0)\n",
    "data_c['click'] = data_c['action_id'].apply(lambda x: 1 if x==0 else 0)\n",
    "data_c['purchase'] = data_c['action_id'].apply(lambda x: 1 if x==2 else 0)\n",
    "# Удалим старый признак с дествиями пользоватеелй\n",
    "data_c.drop(columns='action_id', axis=1, inplace=True)\n",
    "# Соединим данные датасета с данными справочника цен товаров\n",
    "data_c = data_c.join(data, on='item_id', how='left')\n",
    "# Расстичтаем итоговые суммы покупок\n",
    "data_c['item_sum'] = data_c['purchase'] * data_c['item_price']\n",
    "# Признак цены удаляем, т.к. далее будут использоваться суммы по товарам\n",
    "data_c.drop(columns='item_price', axis=1, inplace=True)\n",
    "# Свернем данные по пользователю и товару, суммируя остальные признаки\n",
    "data_c = data_c.groupby(by=['user_id','item_id']).sum()\n",
    "data_c"
   ]
  },
  {
   "cell_type": "markdown",
   "id": "cfa4f84a",
   "metadata": {},
   "source": [
    "Количество строк уменьшилось, но осталось соизмеримым с размером выборок *А* и *В* групп. Проверим наличие предварительных просмотров товаров перед каждой зафиксированной операцией:"
   ]
  },
  {
   "cell_type": "code",
   "execution_count": 37,
   "id": "eb9b02a4",
   "metadata": {},
   "outputs": [
    {
     "data": {
      "text/plain": [
       "1    949221\n",
       "Name: viewing, dtype: int64"
      ]
     },
     "execution_count": 37,
     "metadata": {},
     "output_type": "execute_result"
    }
   ],
   "source": [
    "data_c['viewing'].value_counts()"
   ]
  },
  {
   "cell_type": "markdown",
   "id": "8f785a23",
   "metadata": {},
   "source": [
    "Значение равное *1* присутствует во всех строках датасета, т.е. условие наличия предварительного просмотра товаров выполняется.\n",
    "\n",
    "Проведем визуальный анализ распределений исследуемых признаков в этом датасете."
   ]
  },
  {
   "cell_type": "code",
   "execution_count": 38,
   "id": "2435048b",
   "metadata": {},
   "outputs": [
    {
     "data": {
      "text/plain": [
       "array([[<Axes: title={'center': 'viewing'}>,\n",
       "        <Axes: title={'center': 'click'}>],\n",
       "       [<Axes: title={'center': 'purchase'}>,\n",
       "        <Axes: title={'center': 'item_sum'}>]], dtype=object)"
      ]
     },
     "execution_count": 38,
     "metadata": {},
     "output_type": "execute_result"
    },
    {
     "data": {
      "image/png": "[encoded data removed]",
      "text/plain": [
       "<Figure size 640x480 with 4 Axes>"
      ]
     },
     "metadata": {},
     "output_type": "display_data"
    }
   ],
   "source": [
    "data_c.hist(bins=5)"
   ]
  },
  {
   "cell_type": "markdown",
   "id": "f2c80fee",
   "metadata": {},
   "source": [
    "Т.к. эта выборка (*С-группа*) сразу же была заявлена, как альтернативная *А-группа*, ее результаты по всем признакам визуально близки к графикам *А-группы*, рассмотренной в п.1.2. Выводы для *А-группы* также верны и для *С-группы*."
   ]
  },
  {
   "cell_type": "markdown",
   "id": "83597d02",
   "metadata": {},
   "source": [
    "**Произведем расчет метрик**, по рассматриваемому датасету и отправим их в итоговый датафрейм для сравнения."
   ]
  },
  {
   "cell_type": "code",
   "execution_count": 39,
   "id": "80b29850",
   "metadata": {},
   "outputs": [],
   "source": [
    "# ctr - C-группа\n",
    "ctr = data_c['click'].sum()/data_c['viewing'].sum()"
   ]
  },
  {
   "cell_type": "code",
   "execution_count": 40,
   "id": "5e2f44f7",
   "metadata": {},
   "outputs": [],
   "source": [
    "# purchase rate - C-группа\n",
    "purchase_rate = data_c['purchase'].sum()/data_c['viewing'].sum()"
   ]
  },
  {
   "cell_type": "code",
   "execution_count": 41,
   "id": "bb1aae38",
   "metadata": {},
   "outputs": [],
   "source": [
    "# gmv - C-группа\n",
    "gvm = data_c['item_sum'].sum()"
   ]
  },
  {
   "cell_type": "code",
   "execution_count": 42,
   "id": "12809e5a",
   "metadata": {},
   "outputs": [
    {
     "data": {
      "text/html": [
       "<div>\n",
       "<style scoped>\n",
       "    .dataframe tbody tr th:only-of-type {\n",
       "        vertical-align: middle;\n",
       "    }\n",
       "\n",
       "    .dataframe tbody tr th {\n",
       "        vertical-align: top;\n",
       "    }\n",
       "\n",
       "    .dataframe thead th {\n",
       "        text-align: right;\n",
       "    }\n",
       "</style>\n",
       "<table border=\"1\" class=\"dataframe\">\n",
       "  <thead>\n",
       "    <tr style=\"text-align: right;\">\n",
       "      <th></th>\n",
       "      <th>sample</th>\n",
       "      <th>size</th>\n",
       "      <th>ctr</th>\n",
       "      <th>purchase rate</th>\n",
       "      <th>gmv</th>\n",
       "    </tr>\n",
       "  </thead>\n",
       "  <tbody>\n",
       "    <tr>\n",
       "      <th>0</th>\n",
       "      <td>A</td>\n",
       "      <td>951130</td>\n",
       "      <td>0.20</td>\n",
       "      <td>0.049999</td>\n",
       "      <td>5.087209e+07</td>\n",
       "    </tr>\n",
       "    <tr>\n",
       "      <th>1</th>\n",
       "      <td>B</td>\n",
       "      <td>951141</td>\n",
       "      <td>0.16</td>\n",
       "      <td>0.100000</td>\n",
       "      <td>1.016682e+08</td>\n",
       "    </tr>\n",
       "    <tr>\n",
       "      <th>2</th>\n",
       "      <td>C</td>\n",
       "      <td>949221</td>\n",
       "      <td>0.21</td>\n",
       "      <td>0.060000</td>\n",
       "      <td>6.087395e+07</td>\n",
       "    </tr>\n",
       "  </tbody>\n",
       "</table>\n",
       "</div>"
      ],
      "text/plain": [
       "  sample    size   ctr  purchase rate           gmv\n",
       "0      A  951130  0.20       0.049999  5.087209e+07\n",
       "1      B  951141  0.16       0.100000  1.016682e+08\n",
       "2      C  949221  0.21       0.060000  6.087395e+07"
      ]
     },
     "execution_count": 42,
     "metadata": {},
     "output_type": "execute_result"
    }
   ],
   "source": [
    "row = pd.DataFrame({'sample':['C'], 'size':[len(data_c)], 'ctr':[ctr], 'purchase rate':[purchase_rate], 'gmv':[gvm]})\n",
    "df_result = pd.concat([df_result, row], ignore_index=True)\n",
    "df_result"
   ]
  },
  {
   "cell_type": "markdown",
   "id": "c25e7330",
   "metadata": {},
   "source": [
    "Сравнивая результаты метрик *С-группы* с образцовой *А-группой* можно отметить следующее:\n",
    "\n",
    "1. Размер выборки *С-группы* незначительно меньше, чем размер *А-группы*.\n",
    "2. Как и в случае визуального анализа, подтверждается что по всем метрикам данная группа близка к *А-группе*.\n",
    "3. В данной выборке все метрики немного больше, чем в *А-группе*.\n",
    "4. При этом значения основных метрик в *С-группе* меньше значений метрик *В-группы*."
   ]
  },
  {
   "cell_type": "markdown",
   "id": "0b0b3f14",
   "metadata": {},
   "source": [
    "**2. Статистический анализ выборок по группам: А/А и А/В тесты**"
   ]
  },
  {
   "cell_type": "markdown",
   "id": "e86609fc",
   "metadata": {},
   "source": [
    "В дополнение к рассчитанным метрикам, для формирования заключения об улучшении работы маркетплейса при использовании алгоритма, задействованного при работе с *В-группой*, необходимо использовать методы статистической проверки гипотез."
   ]
  },
  {
   "cell_type": "markdown",
   "id": "c8d7183c",
   "metadata": {},
   "source": [
    "**2.1. Общие положения**"
   ]
  },
  {
   "attachments": {
    "%D0%9A%D0%BB%D0%B0%D1%81%D1%81%D0%B8%D1%84%D0%B8%D0%BA%D0%B0%D1%86%D0%B8%D1%8F%20%D1%82%D0%B5%D1%81%D1%82%D0%BE%D0%B2.JPG": {
     "image/jpeg": "[encoded data removed]"
    }
   },
   "cell_type": "markdown",
   "id": "95d1b83d",
   "metadata": {},
   "source": [
    "При выборе статистического критерия для тестирования гипотез необходимо опираться на характеристики данных, которые мы используем. Например, в источнике: [Проверка статистических гипотез](https://agricolamz.github.io/DS_for_DH/%D0%BF%D1%80%D0%BE%D0%B2%D0%B5%D1%80%D0%BA%D0%B0-%D1%81%D1%82%D0%B0%D1%82%D0%B8%D1%81%D1%82%D0%B8%D1%87%D0%B5%D1%81%D0%BA%D0%B8%D1%85-%D0%B3%D0%B8%D0%BF%D0%BE%D1%82%D0%B5%D0%B7.html) предложена следующая классификация тестов:\n",
    "\n",
    "![%D0%9A%D0%BB%D0%B0%D1%81%D1%81%D0%B8%D1%84%D0%B8%D0%BA%D0%B0%D1%86%D0%B8%D1%8F%20%D1%82%D0%B5%D1%81%D1%82%D0%BE%D0%B2.JPG](attachment:%D0%9A%D0%BB%D0%B0%D1%81%D1%81%D0%B8%D1%84%D0%B8%D0%BA%D0%B0%D1%86%D0%B8%D1%8F%20%D1%82%D0%B5%D1%81%D1%82%D0%BE%D0%B2.JPG)\n",
    "\n",
    "Исходя из этой классификации, можно сформулировать, какие параметры исследуемых данных нам следует определить.\n",
    "\n",
    "1. *Распределение в группах*: частично известны из визуализации данных в пп. 1.2 - 1.4. Требует более детального анализа.\n",
    "2. *Количество групп*: в нашем случае - это две группы.\n",
    "3. *Типы групп*: необходимо определить.\n",
    "\n",
    "Из предложенного списка у нас однозначно определено только **количество групп** - ***2 группы***. Остальные параметры требуют более детального рассмотрения.\n",
    "\n",
    "**Оценка распределений в группах.** Для каждой из предложенных по заданию групп необходимо провести статистические тесты по всем признакам датасетов, на которых основываются значащие метрики: *click*, *purchase* и *item_sum*. При визуализации этих признаков в пп. 1.2 - 1.4 было определено следующее:\n",
    "* Первые два признака (*click* и *purchase*) являются бинарными и представляют собой ***категориальные*** переменные с двумя значениями - \"0\" и \"1\".\n",
    "* Признак *item_sum* является количественным признаком с конечными значениями в определенном диапазоне, которые распределяются не по нормальному закону.\n",
    "\n",
    "Последнее утверждение требует проверки на нормальность распределения с использованием теста Шапиро-Уилка. Проведем этот тест для признака *item_sum* на всех трех сэмплах."
   ]
  },
  {
   "cell_type": "code",
   "execution_count": 43,
   "id": "b36521f6",
   "metadata": {},
   "outputs": [],
   "source": [
    "# Нулевая и альтернативная гипотезы\n",
    "H0 = 'Распределения item_sum в группе нормальное'\n",
    "H1 = 'Распределение item_sum в группе отлично от нормального'\n",
    "alpha = 0.01 # уровень значимости (по заданию)"
   ]
  },
  {
   "cell_type": "code",
   "execution_count": 44,
   "id": "cdb38a23",
   "metadata": {},
   "outputs": [
    {
     "name": "stdout",
     "output_type": "stream",
     "text": [
      "Результат теста Шапиро-Уилка для выборки А:\n",
      "p-value группы 0.0\n",
      "Отвергаем нулевую гипотезу. Принимаем альтернативную гипотезу. H1: Распределение item_sum в группе отлично от нормального\n"
     ]
    }
   ],
   "source": [
    "# Вычисляем результат теста Шапиро-Уилка для выборки А\n",
    "shapiro_a = shapiro(data_a['item_sum'])\n",
    "print('Результат теста Шапиро-Уилка для выборки А:')\n",
    "print('p-value группы', round(shapiro_a.pvalue, 2))\n",
    "\n",
    "# Сравниваем полученное p-value с уровнем значимости\n",
    "if shapiro_a.pvalue < alpha:\n",
    "    print(\"Отвергаем нулевую гипотезу. Принимаем альтернативную гипотезу. H1: {}\".format(H1))\n",
    "else:\n",
    "    print(\"Принимаем нулевую гипотезу. {}\".format(H0))"
   ]
  },
  {
   "cell_type": "code",
   "execution_count": 45,
   "id": "2d06802a",
   "metadata": {},
   "outputs": [
    {
     "name": "stdout",
     "output_type": "stream",
     "text": [
      "Результат теста Шапиро-Уилка для выборки B:\n",
      "p-value группы 0.0\n",
      "Отвергаем нулевую гипотезу. Принимаем альтернативную гипотезу. H1: Распределение item_sum в группе отлично от нормального\n"
     ]
    }
   ],
   "source": [
    "# Вычисляем результат теста Шапиро-Уилка для выборки B\n",
    "shapiro_b = shapiro(data_b['item_sum'])\n",
    "print('Результат теста Шапиро-Уилка для выборки B:')\n",
    "print('p-value группы', round(shapiro_a.pvalue, 2))\n",
    "\n",
    "# Сравниваем полученное p-value с уровнем значимости\n",
    "if shapiro_b.pvalue < alpha:\n",
    "    print(\"Отвергаем нулевую гипотезу. Принимаем альтернативную гипотезу. H1: {}\".format(H1))\n",
    "else:\n",
    "    print(\"Принимаем нулевую гипотезу. {}\".format(H0))"
   ]
  },
  {
   "cell_type": "code",
   "execution_count": 46,
   "id": "e9c3cf23",
   "metadata": {},
   "outputs": [
    {
     "name": "stdout",
     "output_type": "stream",
     "text": [
      "Результат теста Шапиро-Уилка для выборки C:\n",
      "p-value группы 0.0\n",
      "Отвергаем нулевую гипотезу. Принимаем альтернативную гипотезу. H1: Распределение item_sum в группе отлично от нормального\n"
     ]
    }
   ],
   "source": [
    "# Вычисляем результат теста Шапиро-Уилка для выборки C\n",
    "shapiro_c = shapiro(data_c['item_sum'])\n",
    "print('Результат теста Шапиро-Уилка для выборки C:')\n",
    "print('p-value группы', round(shapiro_a.pvalue, 2))\n",
    "\n",
    "# Сравниваем полученное p-value с уровнем значимости\n",
    "if shapiro_c.pvalue < alpha:\n",
    "    print(\"Отвергаем нулевую гипотезу. Принимаем альтернативную гипотезу. H1: {}\".format(H1))\n",
    "else:\n",
    "    print(\"Принимаем нулевую гипотезу. {}\".format(H0))"
   ]
  },
  {
   "cell_type": "markdown",
   "id": "1d9ee585",
   "metadata": {},
   "source": [
    "Тест Шапиро-Уилка подтвердил наше изначальное предположение, что во всех предложенных сэммплах распределение признака *item_sum* ***отлично от нормального***.\n",
    "\n",
    "**Оценка типов групп**. Из предложенных в классификации тестов типов групп сразу можно отбросить вариант \"с заданным значением\", т.к. в каждой группе отдельные записи  принадлежат разным пользователям. Но определение \"зависимые\" или \"нет\" эти группы, нам необходимо проверить. Убедимся, что в различных группах нет присутствия одних и тех же пользователей."
   ]
  },
  {
   "cell_type": "code",
   "execution_count": 47,
   "id": "6ba4a482",
   "metadata": {},
   "outputs": [
    {
     "data": {
      "text/plain": [
       "0"
      ]
     },
     "execution_count": 47,
     "metadata": {},
     "output_type": "execute_result"
    }
   ],
   "source": [
    "# Тест пересечения А/В-групп\n",
    "group_a = set(data_a.index.get_level_values(0)) # user_id - A\n",
    "group_b = set(data_b.index.get_level_values(0)) # user_id - B\n",
    "user_intersection_ab = group_a.intersection(group_b)\n",
    "len(user_intersection_ab)"
   ]
  },
  {
   "cell_type": "markdown",
   "id": "9da61813",
   "metadata": {},
   "source": [
    "Нулевое значение пересечения *А* и *В* групп, говорит о том, повторяющихся пользователей в указанных группах нет."
   ]
  },
  {
   "cell_type": "code",
   "execution_count": 48,
   "id": "c419a41e",
   "metadata": {},
   "outputs": [
    {
     "data": {
      "text/plain": [
       "0"
      ]
     },
     "execution_count": 48,
     "metadata": {},
     "output_type": "execute_result"
    }
   ],
   "source": [
    "# Тест пересечения А/C-групп\n",
    "group_a = set(data_a.index.get_level_values(0)) # user_id - A\n",
    "group_c = set(data_c.index.get_level_values(0)) # user_id - C\n",
    "user_intersection_ac = group_a.intersection(group_c)\n",
    "len(user_intersection_ac)"
   ]
  },
  {
   "cell_type": "markdown",
   "id": "19c0c993",
   "metadata": {},
   "source": [
    "Как и в прошлой подобной проверке, не обнаружено пользователей одновременно присутствующих как в *А*, так и в *С* группах."
   ]
  },
  {
   "cell_type": "code",
   "execution_count": 49,
   "id": "b2c77c54",
   "metadata": {},
   "outputs": [
    {
     "data": {
      "text/plain": [
       "0"
      ]
     },
     "execution_count": 49,
     "metadata": {},
     "output_type": "execute_result"
    }
   ],
   "source": [
    "# Тест пересечения B/C-групп\n",
    "group_b = set(data_b.index.get_level_values(0)) # user_id - B\n",
    "group_c = set(data_c.index.get_level_values(0)) # user_id - C\n",
    "user_intersection_bc = group_b.intersection(group_c)\n",
    "len(user_intersection_bc)"
   ]
  },
  {
   "cell_type": "markdown",
   "id": "487607b2",
   "metadata": {},
   "source": [
    "Опять пересечения по пользователям в датасетах не обнаружено. Т.е. все рассмотренные выборки можно считать ***независимыми***.\n",
    "\n",
    "**Итого**, для проверки статистических гипотез в каждой паре датасетов нам потребуется два вида тестов:\n",
    "\n",
    "* Тест для 2-х групп с категориальными независимыми признаками (*click* и *purchase*).\n",
    "* Непараметрический тест для 2-х групп с независимыми признаками (*item_sum*)."
   ]
  },
  {
   "cell_type": "markdown",
   "id": "87a1b6f8",
   "metadata": {},
   "source": [
    "**2.2. Тест равенства долей для A и C групп**"
   ]
  },
  {
   "cell_type": "markdown",
   "id": "bdef71b3",
   "metadata": {},
   "source": [
    "Для проверки гипотезы равенства пропорций бинарных признаков мы можем воспользоваться *z-критерием* для пропорций. Этот критерий является наиболее популярным для задачи определения статистической значимости изменения конверсии. Его мы будем применять для признаков *click* и *purchase*, соответствующим ключевым метрикам *ctr* и *purchase rate*."
   ]
  },
  {
   "cell_type": "markdown",
   "id": "516fe0a8",
   "metadata": {},
   "source": [
    "Из задания к проекту и из рассчитанных метрик, мы знаем, что *С-группа* представляет собой альтернативную *А-группу*, которая предназначена для проведения А/А-теста. Данный вид теста позволяет максимально корректно оценить необходимый объём выборки для проведения А/В-теста.\n",
    "\n",
    "Воспользуемся функциями из источника [A/B Testing with Binary Data: Two Sample Proportions z-test](https://towardsdatascience.com/a-b-testing-with-binary-data-two-sample-proportions-z-test-5c222d7772ad) для определения минимально необходимого размера выборки:"
   ]
  },
  {
   "cell_type": "code",
   "execution_count": 50,
   "id": "98fcfa5b",
   "metadata": {},
   "outputs": [],
   "source": [
    "# Функция расчета Z-критерия\n",
    "def z_calc(p1, p2, n1, n2):\n",
    "    p_star = (p1*n1 + p2*n2) / (n1 + n2)\n",
    "    return (p2 - p1) / math.sqrt(p_star*(1 - p_star)*((1.0 / n1) + (1.0 / n2)))\n",
    "\n",
    "# Функция для определения минимально необходимого размера выборки\n",
    "def sample_required(p1, p_diff, alpha):\n",
    "    if p_diff <= 0:  # p_diff = p2-p1\n",
    "        raise ValueError(\"p_diff must be > 0\")\n",
    "    n = 1\n",
    "    while True:\n",
    "        z = z_calc(p1, p1+p_diff, n1=n, n2=n)\n",
    "        p = 1 - stats.norm.cdf(z)\n",
    "        if p < alpha:\n",
    "            break\n",
    "        n += 1\n",
    "    return n"
   ]
  },
  {
   "cell_type": "code",
   "execution_count": 51,
   "id": "2fa122b8",
   "metadata": {},
   "outputs": [
    {
     "name": "stdout",
     "output_type": "stream",
     "text": [
      "Минимально необходимый размер выборки по признаку ctr: 8820\n"
     ]
    }
   ],
   "source": [
    "alpha = 0.05 # уровень значимости\n",
    "\n",
    "# Рассчитаем минимально необходимый размер выборки для А/С-теста по признаку 'ctr'\n",
    "p1 = df_result['ctr'][0]\n",
    "p_diff = df_result['ctr'][2] - df_result['ctr'][0]\n",
    "print('Минимально необходимый размер выборки по признаку ctr:', sample_required(p1, p_diff, alpha))"
   ]
  },
  {
   "cell_type": "code",
   "execution_count": 52,
   "id": "8269615c",
   "metadata": {},
   "outputs": [
    {
     "name": "stdout",
     "output_type": "stream",
     "text": [
      "Минимально необходимый размер выборки по признаку purchase rate: 2813\n"
     ]
    }
   ],
   "source": [
    "# Рассчитаем минимально необходимый размер выборки для А/С-теста по признаку 'purchase rate'\n",
    "p1 = df_result['purchase rate'][0]\n",
    "p_diff = df_result['purchase rate'][2]-df_result['purchase rate'][0]\n",
    "print('Минимально необходимый размер выборки по признаку purchase rate:', sample_required(p1, p_diff, alpha))"
   ]
  },
  {
   "cell_type": "code",
   "execution_count": 53,
   "id": "283ac16f",
   "metadata": {},
   "outputs": [
    {
     "data": {
      "text/html": [
       "<div>\n",
       "<style scoped>\n",
       "    .dataframe tbody tr th:only-of-type {\n",
       "        vertical-align: middle;\n",
       "    }\n",
       "\n",
       "    .dataframe tbody tr th {\n",
       "        vertical-align: top;\n",
       "    }\n",
       "\n",
       "    .dataframe thead th {\n",
       "        text-align: right;\n",
       "    }\n",
       "</style>\n",
       "<table border=\"1\" class=\"dataframe\">\n",
       "  <thead>\n",
       "    <tr style=\"text-align: right;\">\n",
       "      <th></th>\n",
       "      <th>sample</th>\n",
       "      <th>size</th>\n",
       "      <th>ctr</th>\n",
       "      <th>purchase rate</th>\n",
       "      <th>gmv</th>\n",
       "    </tr>\n",
       "  </thead>\n",
       "  <tbody>\n",
       "    <tr>\n",
       "      <th>0</th>\n",
       "      <td>A</td>\n",
       "      <td>951130</td>\n",
       "      <td>0.20</td>\n",
       "      <td>0.049999</td>\n",
       "      <td>5.087209e+07</td>\n",
       "    </tr>\n",
       "    <tr>\n",
       "      <th>1</th>\n",
       "      <td>B</td>\n",
       "      <td>951141</td>\n",
       "      <td>0.16</td>\n",
       "      <td>0.100000</td>\n",
       "      <td>1.016682e+08</td>\n",
       "    </tr>\n",
       "    <tr>\n",
       "      <th>2</th>\n",
       "      <td>C</td>\n",
       "      <td>949221</td>\n",
       "      <td>0.21</td>\n",
       "      <td>0.060000</td>\n",
       "      <td>6.087395e+07</td>\n",
       "    </tr>\n",
       "  </tbody>\n",
       "</table>\n",
       "</div>"
      ],
      "text/plain": [
       "  sample    size   ctr  purchase rate           gmv\n",
       "0      A  951130  0.20       0.049999  5.087209e+07\n",
       "1      B  951141  0.16       0.100000  1.016682e+08\n",
       "2      C  949221  0.21       0.060000  6.087395e+07"
      ]
     },
     "execution_count": 53,
     "metadata": {},
     "output_type": "execute_result"
    }
   ],
   "source": [
    "# Для вывода вспомним результаты метрик по выборкам\n",
    "df_result"
   ]
  },
  {
   "cell_type": "markdown",
   "id": "f0128075",
   "metadata": {},
   "source": [
    "Из полученных результатов видно, что минимально необходимый размер выборки для категориальных признаков значительно меньше, чем доступные нам выборки *А/С-теста*. Это хорошо, т.к. обычно, чем больше у вас размер выборки, тем ближе результаты будут к результатам генеральной совокупности и соответственно точнее полученные результаты. Т.е. в дальнейшем будем использовать полные выборки по *А* и *С* группам.\n",
    "\n",
    "Проведем z-тест для пропорций для каждого категориального признака используя библиотеку statsmodels.stats.proportion. Для этого и последующих тестов примем следующий уровень значимости:"
   ]
  },
  {
   "cell_type": "code",
   "execution_count": 54,
   "id": "19c40016",
   "metadata": {},
   "outputs": [],
   "source": [
    "alpha = 0.05"
   ]
  },
  {
   "cell_type": "markdown",
   "id": "654203df",
   "metadata": {},
   "source": [
    "**2.2.1. Тест по метрике *ctr***\n",
    "\n",
    "Подготовим данные по выборкам для удобства использования в тесте по метрике *ctr*."
   ]
  },
  {
   "cell_type": "code",
   "execution_count": 55,
   "id": "74b43dca",
   "metadata": {},
   "outputs": [
    {
     "data": {
      "text/html": [
       "<div>\n",
       "<style scoped>\n",
       "    .dataframe tbody tr th:only-of-type {\n",
       "        vertical-align: middle;\n",
       "    }\n",
       "\n",
       "    .dataframe tbody tr th {\n",
       "        vertical-align: top;\n",
       "    }\n",
       "\n",
       "    .dataframe thead th {\n",
       "        text-align: right;\n",
       "    }\n",
       "</style>\n",
       "<table border=\"1\" class=\"dataframe\">\n",
       "  <thead>\n",
       "    <tr style=\"text-align: right;\">\n",
       "      <th></th>\n",
       "      <th>group</th>\n",
       "      <th>click</th>\n",
       "      <th>viewing</th>\n",
       "      <th>ctr</th>\n",
       "    </tr>\n",
       "  </thead>\n",
       "  <tbody>\n",
       "    <tr>\n",
       "      <th>0</th>\n",
       "      <td>A</td>\n",
       "      <td>190226</td>\n",
       "      <td>951130</td>\n",
       "      <td>0.20</td>\n",
       "    </tr>\n",
       "    <tr>\n",
       "      <th>1</th>\n",
       "      <td>C</td>\n",
       "      <td>199336</td>\n",
       "      <td>949221</td>\n",
       "      <td>0.21</td>\n",
       "    </tr>\n",
       "  </tbody>\n",
       "</table>\n",
       "</div>"
      ],
      "text/plain": [
       "  group   click  viewing   ctr\n",
       "0     A  190226   951130  0.20\n",
       "1     C  199336   949221  0.21"
      ]
     },
     "execution_count": 55,
     "metadata": {},
     "output_type": "execute_result"
    }
   ],
   "source": [
    "row1 = {'group':'A', 'click':[data_a['click'].sum()], 'viewing':[data_a['viewing'].sum()], 'ctr':[df_result['ctr'][0]]}\n",
    "df_ht = pd.DataFrame.from_dict(row1)\n",
    "row2 = pd.DataFrame({'group':'C','click':[data_c['click'].sum()], 'viewing':[data_c['viewing'].sum()], 'ctr':[df_result['ctr'][2]]})\n",
    "df_ht = pd.concat([df_ht, row2], ignore_index=True)\n",
    "df_ht"
   ]
  },
  {
   "cell_type": "markdown",
   "id": "09418b8b",
   "metadata": {},
   "source": [
    "Сформулируем нулевую и альтернативные гипотезы для метрики *ctr* и проведем сам тест."
   ]
  },
  {
   "cell_type": "code",
   "execution_count": 56,
   "id": "7457e374",
   "metadata": {},
   "outputs": [],
   "source": [
    "H0 = 'ctr в группах А и С равны'\n",
    "H1 = 'ctr в группе А меньше, чем ctr в группе С'"
   ]
  },
  {
   "cell_type": "code",
   "execution_count": 57,
   "id": "85a04fc6",
   "metadata": {},
   "outputs": [
    {
     "name": "stdout",
     "output_type": "stream",
     "text": [
      "p-value:  1.1774710555765216e-65\n",
      "Отвергаем нулевую гипотезу. (ctr в группах А и С равны)\n",
      "Альтернативная гипотеза. H1: ctr в группе А меньше, чем ctr в группе С\n"
     ]
    }
   ],
   "source": [
    "# Вычисляем значение p-value для z-теста для пропорций\n",
    "_, p_value = proportions_ztest(\n",
    "    count=df_ht['click'], #число click'ов\n",
    "    nobs=df_ht['viewing'], #общее число наблюдений\n",
    "    alternative='smaller',\n",
    ")\n",
    "print('p-value: ', p_value)\n",
    "\n",
    "# Cравниваем полученное p-value с уровнем значимости\n",
    "if (p_value < alpha): \n",
    "    print(\"Отвергаем нулевую гипотезу. ({})\".format(H0))\n",
    "    print(\"Альтернативная гипотеза. H1: {}\".format(H1))\n",
    "else:\n",
    "    print(\"Принимаем нулевую гипотезу. {}\".format(H0))"
   ]
  },
  {
   "cell_type": "markdown",
   "id": "fe0ec716",
   "metadata": {},
   "source": [
    "Подтвердили, что *ctr* в *А-группе* меньше чем в *С-группе* и эта разница имеет статистическую значимость.\n",
    "\n",
    "**2.2.2. Тест по метрике *purchase rate***\n",
    "\n",
    "Подготовим данные по выборкам для удобства использования в тесте по метрике *purchase rate*."
   ]
  },
  {
   "cell_type": "code",
   "execution_count": 58,
   "id": "9d367cd3",
   "metadata": {},
   "outputs": [
    {
     "data": {
      "text/html": [
       "<div>\n",
       "<style scoped>\n",
       "    .dataframe tbody tr th:only-of-type {\n",
       "        vertical-align: middle;\n",
       "    }\n",
       "\n",
       "    .dataframe tbody tr th {\n",
       "        vertical-align: top;\n",
       "    }\n",
       "\n",
       "    .dataframe thead th {\n",
       "        text-align: right;\n",
       "    }\n",
       "</style>\n",
       "<table border=\"1\" class=\"dataframe\">\n",
       "  <thead>\n",
       "    <tr style=\"text-align: right;\">\n",
       "      <th></th>\n",
       "      <th>group</th>\n",
       "      <th>purchase</th>\n",
       "      <th>viewing</th>\n",
       "      <th>purchase rate</th>\n",
       "    </tr>\n",
       "  </thead>\n",
       "  <tbody>\n",
       "    <tr>\n",
       "      <th>0</th>\n",
       "      <td>A</td>\n",
       "      <td>47556</td>\n",
       "      <td>951130</td>\n",
       "      <td>0.049999</td>\n",
       "    </tr>\n",
       "    <tr>\n",
       "      <th>1</th>\n",
       "      <td>C</td>\n",
       "      <td>56953</td>\n",
       "      <td>949221</td>\n",
       "      <td>0.060000</td>\n",
       "    </tr>\n",
       "  </tbody>\n",
       "</table>\n",
       "</div>"
      ],
      "text/plain": [
       "  group  purchase  viewing  purchase rate\n",
       "0     A     47556   951130       0.049999\n",
       "1     C     56953   949221       0.060000"
      ]
     },
     "execution_count": 58,
     "metadata": {},
     "output_type": "execute_result"
    }
   ],
   "source": [
    "row1 = {'group':'A', 'purchase':[data_a['purchase'].sum()], 'viewing':[data_a['viewing'].sum()], 'purchase rate':[df_result['purchase rate'][0]]}\n",
    "df_ht = pd.DataFrame.from_dict(row1)\n",
    "row2 = pd.DataFrame({'group':'C','purchase':[data_c['purchase'].sum()], 'viewing':[data_c['viewing'].sum()], 'purchase rate':[df_result['purchase rate'][2]]})\n",
    "df_ht = pd.concat([df_ht, row2], ignore_index=True)\n",
    "df_ht"
   ]
  },
  {
   "cell_type": "markdown",
   "id": "17d6e1fa",
   "metadata": {},
   "source": [
    "Сформулируем нулевую и альтернативные гипотезы для метрики *purchase rate* и проведем тест."
   ]
  },
  {
   "cell_type": "code",
   "execution_count": 59,
   "id": "14eaff67",
   "metadata": {},
   "outputs": [],
   "source": [
    "H0 = 'purchase rate в группах А и С равны'\n",
    "H1 = 'purchase rate в группе А меньше, чем purchase rate в группе С'"
   ]
  },
  {
   "cell_type": "code",
   "execution_count": 60,
   "id": "afe635e4",
   "metadata": {},
   "outputs": [
    {
     "name": "stdout",
     "output_type": "stream",
     "text": [
      "p-value:  4.017576439527909e-201\n",
      "Отвергаем нулевую гипотезу. (purchase rate в группах А и С равны)\n",
      "Альтернативная гипотеза. H1: purchase rate в группе А меньше, чем purchase rate в группе С\n"
     ]
    }
   ],
   "source": [
    "# Вычисляем значение p-value для z-теста для пропорций\n",
    "_, p_value = proportions_ztest(\n",
    "    count=df_ht['purchase'], #число покупок\n",
    "    nobs=df_ht['viewing'], #общее число наблюдений\n",
    "    alternative='smaller',\n",
    ")\n",
    "print('p-value: ', p_value)\n",
    "\n",
    "# Cравниваем полученное p-value с уровнем значимости\n",
    "if (p_value < alpha): \n",
    "    print(\"Отвергаем нулевую гипотезу. ({})\".format(H0))\n",
    "    print(\"Альтернативная гипотеза. H1: {}\".format(H1))\n",
    "else:\n",
    "    print(\"Принимаем нулевую гипотезу. {}\".format(H0))"
   ]
  },
  {
   "cell_type": "markdown",
   "id": "ed6804b6",
   "metadata": {},
   "source": [
    "Подтвердили, что *purchase rate* в *А-группе* меньше чем в *С-группе* и эта разница имеет статистическую значимость.\n",
    "\n",
    "**2.2.3. Тест по метрике *gmv***\n",
    "\n",
    "Как было выяснено ранее, для тестирования по метрике *gmv*, основанной на признаке *item_sum*, нам необходимо использование непараметрического теста для 2-х групп с независимыми признаками. По рекомендации классификации тестов приведенной в п.2.1, воспользуемся критерием Манна-Уитни или U-тестом.\n",
    "\n",
    "Сформулируем нулевую и альтернативные гипотезы для метрики *gmv* и проведем тест."
   ]
  },
  {
   "cell_type": "code",
   "execution_count": 61,
   "id": "7b13d527",
   "metadata": {},
   "outputs": [],
   "source": [
    "H0 = 'gmv в группах А и С равны'\n",
    "H1 = 'gmv в группе А меньше, чем gmv в группе С'"
   ]
  },
  {
   "cell_type": "code",
   "execution_count": 62,
   "id": "ee1c3bb7",
   "metadata": {},
   "outputs": [
    {
     "name": "stdout",
     "output_type": "stream",
     "text": [
      "p-value:  4.017576439527909e-201\n",
      "Отвергаем нулевую гипотезу. (gmv в группах А и С равны)\n",
      "Альтернативная гипотеза. H1: gmv в группе А меньше, чем gmv в группе С\n"
     ]
    }
   ],
   "source": [
    "# Вычисляем значение p-value для U-теста\n",
    "_, p = mannwhitneyu(data_a['item_sum'],\n",
    "                    data_c['item_sum'],\n",
    "                    alternative='less')\n",
    "print('p-value: ', p_value)\n",
    "\n",
    "# Cравниваем полученное p-value с уровнем значимости\n",
    "if (p_value < alpha): \n",
    "    print(\"Отвергаем нулевую гипотезу. ({})\".format(H0))\n",
    "    print(\"Альтернативная гипотеза. H1: {}\".format(H1))\n",
    "else:\n",
    "    print(\"Принимаем нулевую гипотезу. {}\".format(H0))"
   ]
  },
  {
   "cell_type": "markdown",
   "id": "db0df36f",
   "metadata": {},
   "source": [
    "Подтвердили, что *gmv* в *А-группе* меншьше чем в *С-группе* и эта разница имеет статистическую значимость.\n",
    "\n",
    "**Выводы по А/С-тесту**. Проведенные статистические тесты равенства долей для *A* и *C* групп подтвердили результаты расчета численных значений метрик о том, что по всем показателям метрики *С-группы* лучше, чем в *А группе*. Несмотря на то, что и в *А* и в *С* группах не использовался улучшающий алгоритм, который проверялся на *В-группе*, увеличение значений параметров ключевых метрик в *С-группе* относительно не большое и может быть связанно с какими-либо неучтенными фактами по контингенту пользователей или их заинтересованностью в определенных товарах попавших в данную выборку. Возможно, необходимо произвести дополнительные исследования по данным направлениям. Необходим сбор дополнительных данных."
   ]
  },
  {
   "cell_type": "markdown",
   "id": "f54a692a",
   "metadata": {},
   "source": [
    "**2.3. Тест равенства долей для A и B групп**"
   ]
  },
  {
   "cell_type": "markdown",
   "id": "f872d043",
   "metadata": {},
   "source": [
    "Проведем те же тесты, что были использованы в предыдущем разделе для *А* и *С* групп. В данном случае в качестве второй группы будет выступать *В-группа*, на которую оказали воздействие, применив улучшающий алгоритм. Ранее, вычисленные метрики для *В-группы* показали прирост на значительно более высокие значения, чем в группе *С*. Проверим эти результаты на статистическую значимость с помощью статистических тестов равенства долей для *A* и *В* групп.\n",
    "\n",
    "Вспомним результаты метрик по всем сэмплам:"
   ]
  },
  {
   "cell_type": "code",
   "execution_count": 63,
   "id": "cbe65aac",
   "metadata": {},
   "outputs": [
    {
     "data": {
      "text/html": [
       "<div>\n",
       "<style scoped>\n",
       "    .dataframe tbody tr th:only-of-type {\n",
       "        vertical-align: middle;\n",
       "    }\n",
       "\n",
       "    .dataframe tbody tr th {\n",
       "        vertical-align: top;\n",
       "    }\n",
       "\n",
       "    .dataframe thead th {\n",
       "        text-align: right;\n",
       "    }\n",
       "</style>\n",
       "<table border=\"1\" class=\"dataframe\">\n",
       "  <thead>\n",
       "    <tr style=\"text-align: right;\">\n",
       "      <th></th>\n",
       "      <th>sample</th>\n",
       "      <th>size</th>\n",
       "      <th>ctr</th>\n",
       "      <th>purchase rate</th>\n",
       "      <th>gmv</th>\n",
       "    </tr>\n",
       "  </thead>\n",
       "  <tbody>\n",
       "    <tr>\n",
       "      <th>0</th>\n",
       "      <td>A</td>\n",
       "      <td>951130</td>\n",
       "      <td>0.20</td>\n",
       "      <td>0.049999</td>\n",
       "      <td>5.087209e+07</td>\n",
       "    </tr>\n",
       "    <tr>\n",
       "      <th>1</th>\n",
       "      <td>B</td>\n",
       "      <td>951141</td>\n",
       "      <td>0.16</td>\n",
       "      <td>0.100000</td>\n",
       "      <td>1.016682e+08</td>\n",
       "    </tr>\n",
       "    <tr>\n",
       "      <th>2</th>\n",
       "      <td>C</td>\n",
       "      <td>949221</td>\n",
       "      <td>0.21</td>\n",
       "      <td>0.060000</td>\n",
       "      <td>6.087395e+07</td>\n",
       "    </tr>\n",
       "  </tbody>\n",
       "</table>\n",
       "</div>"
      ],
      "text/plain": [
       "  sample    size   ctr  purchase rate           gmv\n",
       "0      A  951130  0.20       0.049999  5.087209e+07\n",
       "1      B  951141  0.16       0.100000  1.016682e+08\n",
       "2      C  949221  0.21       0.060000  6.087395e+07"
      ]
     },
     "execution_count": 63,
     "metadata": {},
     "output_type": "execute_result"
    }
   ],
   "source": [
    "df_result"
   ]
  },
  {
   "cell_type": "markdown",
   "id": "a8f96d0b",
   "metadata": {},
   "source": [
    "Проверим выполнение условия минимально необходимого размера выборки для А/В-теста:"
   ]
  },
  {
   "cell_type": "code",
   "execution_count": 64,
   "id": "430f28ed",
   "metadata": {},
   "outputs": [
    {
     "name": "stdout",
     "output_type": "stream",
     "text": [
      "Минимально необходимый размер выборки по признаку ctr: 581\n"
     ]
    }
   ],
   "source": [
    "alpha = 0.05 # уровень значимости\n",
    "\n",
    "# Рассчитаем минимально необходимый размер выборки для А/В-теста по признаку 'ctr'\n",
    "p1 = df_result['ctr'][0]\n",
    "p_diff = df_result['ctr'][0] - df_result['ctr'][1]\n",
    "print('Минимально необходимый размер выборки по признаку ctr:', sample_required(p1, p_diff, alpha))"
   ]
  },
  {
   "cell_type": "code",
   "execution_count": 65,
   "id": "417d4d3a",
   "metadata": {},
   "outputs": [
    {
     "name": "stdout",
     "output_type": "stream",
     "text": [
      "Минимально необходимый размер выборки по признаку purchase rate: 151\n"
     ]
    }
   ],
   "source": [
    "# Рассчитаем минимально необходимый размер выборки для А/В-теста по признаку 'purchase rate'\n",
    "p1 = df_result['purchase rate'][0]\n",
    "p_diff = df_result['purchase rate'][1]-df_result['purchase rate'][0]\n",
    "print('Минимально необходимый размер выборки по признаку purchase rate:', sample_required(p1, p_diff, alpha))"
   ]
  },
  {
   "cell_type": "markdown",
   "id": "b5c0553f",
   "metadata": {},
   "source": [
    "По результатам видно, что минимально необходимый размер выборки для категориальных признаков значительно меньше, чем доступные нам выборки А/В-теста. Знаем, что чем больше у вас размер выборки, тем ближе результаты будут к результатам генеральной совокупности и соответственно точнее полученные результаты. Т.е. в дальнейшем будем использовать полные выборки по А и В группам.\n",
    "\n",
    "Проведенм z-тест для пропорций для каждго категориального признака наших датасетов. Используемый уровень значимости:"
   ]
  },
  {
   "cell_type": "code",
   "execution_count": 66,
   "id": "3ac0e6f1",
   "metadata": {},
   "outputs": [],
   "source": [
    "alpha = 0.05"
   ]
  },
  {
   "cell_type": "markdown",
   "id": "f87850c4",
   "metadata": {},
   "source": [
    "**2.3.1. Тест по метрике *ctr***\n",
    "\n",
    "Подготовим данные по выборкам для удобства использования в тесте по метрике *ctr*."
   ]
  },
  {
   "cell_type": "code",
   "execution_count": 67,
   "id": "a81c3a41",
   "metadata": {},
   "outputs": [
    {
     "data": {
      "text/html": [
       "<div>\n",
       "<style scoped>\n",
       "    .dataframe tbody tr th:only-of-type {\n",
       "        vertical-align: middle;\n",
       "    }\n",
       "\n",
       "    .dataframe tbody tr th {\n",
       "        vertical-align: top;\n",
       "    }\n",
       "\n",
       "    .dataframe thead th {\n",
       "        text-align: right;\n",
       "    }\n",
       "</style>\n",
       "<table border=\"1\" class=\"dataframe\">\n",
       "  <thead>\n",
       "    <tr style=\"text-align: right;\">\n",
       "      <th></th>\n",
       "      <th>group</th>\n",
       "      <th>click</th>\n",
       "      <th>viewing</th>\n",
       "      <th>ctr</th>\n",
       "    </tr>\n",
       "  </thead>\n",
       "  <tbody>\n",
       "    <tr>\n",
       "      <th>0</th>\n",
       "      <td>A</td>\n",
       "      <td>190226</td>\n",
       "      <td>951130</td>\n",
       "      <td>0.20</td>\n",
       "    </tr>\n",
       "    <tr>\n",
       "      <th>1</th>\n",
       "      <td>B</td>\n",
       "      <td>152183</td>\n",
       "      <td>951141</td>\n",
       "      <td>0.16</td>\n",
       "    </tr>\n",
       "  </tbody>\n",
       "</table>\n",
       "</div>"
      ],
      "text/plain": [
       "  group   click  viewing   ctr\n",
       "0     A  190226   951130  0.20\n",
       "1     B  152183   951141  0.16"
      ]
     },
     "execution_count": 67,
     "metadata": {},
     "output_type": "execute_result"
    }
   ],
   "source": [
    "row1 = {'group':'A', 'click':[data_a['click'].sum()], 'viewing':[data_a['viewing'].sum()], 'ctr':[df_result['ctr'][0]]}\n",
    "df_ht = pd.DataFrame.from_dict(row1)\n",
    "row2 = pd.DataFrame({'group':'B','click':[data_b['click'].sum()], 'viewing':[data_b['viewing'].sum()], 'ctr':[df_result['ctr'][1]]})\n",
    "df_ht = pd.concat([df_ht, row2], ignore_index=True)\n",
    "df_ht"
   ]
  },
  {
   "cell_type": "markdown",
   "id": "29939821",
   "metadata": {},
   "source": [
    "Сформулируем нулевую и альтернативные гипотезы для метрики ctr и проведем сам тест."
   ]
  },
  {
   "cell_type": "code",
   "execution_count": 68,
   "id": "bfa26c0f",
   "metadata": {},
   "outputs": [],
   "source": [
    "H0 = 'ctr в группах А и В равны'\n",
    "H1 = 'ctr в группе А больше, чем ctr в группе В'"
   ]
  },
  {
   "cell_type": "code",
   "execution_count": 69,
   "id": "9546848f",
   "metadata": {},
   "outputs": [
    {
     "name": "stdout",
     "output_type": "stream",
     "text": [
      "p-value:  0.0\n",
      "Отвергаем нулевую гипотезу. (ctr в группах А и В равны)\n",
      "Альтернативная гипотеза. H1: ctr в группе А больше, чем ctr в группе В\n"
     ]
    }
   ],
   "source": [
    "# Вычисляем значение p-value для z-теста для пропорций\n",
    "_, p_value = proportions_ztest(\n",
    "    count=df_ht['click'], #число click'ов\n",
    "    nobs=df_ht['viewing'], #общее число наблюдений\n",
    "    alternative='larger',\n",
    ")\n",
    "print('p-value: ', p_value)\n",
    "\n",
    "# Cравниваем полученное p-value с уровнем значимости\n",
    "if (p_value < alpha): \n",
    "    print(\"Отвергаем нулевую гипотезу. ({})\".format(H0))\n",
    "    print(\"Альтернативная гипотеза. H1: {}\".format(H1))\n",
    "else:\n",
    "    print(\"Принимаем нулевую гипотезу. {}\".format(H0))"
   ]
  },
  {
   "cell_type": "markdown",
   "id": "92321a9c",
   "metadata": {},
   "source": [
    "Подтвердили, что *ctr* в *А-группе* больше чем в *В-группе* и эта разница имеет статистическую значимость.\n",
    "\n",
    "**2.3.2. Тест по метрике *purchase rate***\n",
    "\n",
    "Подготовим данные по выборкам для удобства использования в тесте по метрике *purchase rate*."
   ]
  },
  {
   "cell_type": "code",
   "execution_count": 70,
   "id": "2c312e88",
   "metadata": {},
   "outputs": [
    {
     "data": {
      "text/html": [
       "<div>\n",
       "<style scoped>\n",
       "    .dataframe tbody tr th:only-of-type {\n",
       "        vertical-align: middle;\n",
       "    }\n",
       "\n",
       "    .dataframe tbody tr th {\n",
       "        vertical-align: top;\n",
       "    }\n",
       "\n",
       "    .dataframe thead th {\n",
       "        text-align: right;\n",
       "    }\n",
       "</style>\n",
       "<table border=\"1\" class=\"dataframe\">\n",
       "  <thead>\n",
       "    <tr style=\"text-align: right;\">\n",
       "      <th></th>\n",
       "      <th>group</th>\n",
       "      <th>purchase</th>\n",
       "      <th>viewing</th>\n",
       "      <th>purchase rate</th>\n",
       "    </tr>\n",
       "  </thead>\n",
       "  <tbody>\n",
       "    <tr>\n",
       "      <th>0</th>\n",
       "      <td>A</td>\n",
       "      <td>47556</td>\n",
       "      <td>951130</td>\n",
       "      <td>0.049999</td>\n",
       "    </tr>\n",
       "    <tr>\n",
       "      <th>1</th>\n",
       "      <td>B</td>\n",
       "      <td>95114</td>\n",
       "      <td>951141</td>\n",
       "      <td>0.100000</td>\n",
       "    </tr>\n",
       "  </tbody>\n",
       "</table>\n",
       "</div>"
      ],
      "text/plain": [
       "  group  purchase  viewing  purchase rate\n",
       "0     A     47556   951130       0.049999\n",
       "1     B     95114   951141       0.100000"
      ]
     },
     "execution_count": 70,
     "metadata": {},
     "output_type": "execute_result"
    }
   ],
   "source": [
    "row1 = {'group':'A', 'purchase':[data_a['purchase'].sum()], 'viewing':[data_a['viewing'].sum()], 'purchase rate':[df_result['purchase rate'][0]]}\n",
    "df_ht = pd.DataFrame.from_dict(row1)\n",
    "row2 = pd.DataFrame({'group':'B','purchase':[data_b['purchase'].sum()], 'viewing':[data_b['viewing'].sum()], 'purchase rate':[df_result['purchase rate'][1]]})\n",
    "df_ht = pd.concat([df_ht, row2], ignore_index=True)\n",
    "df_ht"
   ]
  },
  {
   "cell_type": "markdown",
   "id": "9490a971",
   "metadata": {},
   "source": [
    "Сформулируем нулевую и альтернативные гипотезы для метрики purchase rate и проведем тест."
   ]
  },
  {
   "cell_type": "code",
   "execution_count": 71,
   "id": "06c4db4d",
   "metadata": {},
   "outputs": [],
   "source": [
    "H0 = 'purchase rate в группах А и B равны'\n",
    "H1 = 'purchase rate в группе А меньше, чем purchase rate в группе B'"
   ]
  },
  {
   "cell_type": "code",
   "execution_count": 72,
   "id": "85c43cf9",
   "metadata": {},
   "outputs": [
    {
     "name": "stdout",
     "output_type": "stream",
     "text": [
      "p-value:  0.0\n",
      "Отвергаем нулевую гипотезу. (purchase rate в группах А и B равны)\n",
      "Альтернативная гипотеза. H1: purchase rate в группе А меньше, чем purchase rate в группе B\n"
     ]
    }
   ],
   "source": [
    "# Вычисляем значение p-value для z-теста для пропорций\n",
    "_, p_value = proportions_ztest(\n",
    "    count=df_ht['purchase'], #число покупок\n",
    "    nobs=df_ht['viewing'], #общее число наблюдений\n",
    "    alternative='smaller',\n",
    ")\n",
    "print('p-value: ', p_value)\n",
    "\n",
    "# Cравниваем полученное p-value с уровнем значимости\n",
    "if (p_value < alpha): \n",
    "    print(\"Отвергаем нулевую гипотезу. ({})\".format(H0))\n",
    "    print(\"Альтернативная гипотеза. H1: {}\".format(H1))\n",
    "else:\n",
    "    print(\"Принимаем нулевую гипотезу. {}\".format(H0))"
   ]
  },
  {
   "cell_type": "markdown",
   "id": "ca4d1e37",
   "metadata": {},
   "source": [
    "Подтвердили, что *purchase rate* в *А-группе* меньше чем в *B-группе* и эта разница имеет статистическую значимость.\n",
    "\n",
    "**2.3.3. Тест по метрике *gmv***\n",
    "\n",
    "Для метрики *gmv*, основанной на признаке *item_sum*, так же как и ранее воспользуемся критерием Манна-Уитни или U-тестом.\n",
    "\n",
    "Сформулируем нулевую и альтернативные гипотезы для метрики *gmv* и проведем тест."
   ]
  },
  {
   "cell_type": "code",
   "execution_count": 73,
   "id": "ec2e7b66",
   "metadata": {},
   "outputs": [],
   "source": [
    "H0 = 'gmv в группах А и B равны'\n",
    "H1 = 'gmv в группе А меньше, чем gmv в группе B'"
   ]
  },
  {
   "cell_type": "code",
   "execution_count": 74,
   "id": "25c3d2a4",
   "metadata": {},
   "outputs": [
    {
     "name": "stdout",
     "output_type": "stream",
     "text": [
      "p-value:  0.0\n",
      "Отвергаем нулевую гипотезу. (gmv в группах А и B равны)\n",
      "Альтернативная гипотеза. H1: gmv в группе А меньше, чем gmv в группе B\n"
     ]
    }
   ],
   "source": [
    "# Вычисляем значение p-value для U-теста\n",
    "_, p = mannwhitneyu(data_a['item_sum'],\n",
    "                    data_b['item_sum'],\n",
    "                    alternative='less')\n",
    "print('p-value: ', p_value)\n",
    "\n",
    "# Cравниваем полученное p-value с уровнем значимости\n",
    "if (p_value < alpha): \n",
    "    print(\"Отвергаем нулевую гипотезу. ({})\".format(H0))\n",
    "    print(\"Альтернативная гипотеза. H1: {}\".format(H1))\n",
    "else:\n",
    "    print(\"Принимаем нулевую гипотезу. {}\".format(H0))"
   ]
  },
  {
   "cell_type": "markdown",
   "id": "c5b7d81b",
   "metadata": {},
   "source": [
    "Подтвердили, что *gmv* в *А-группе* меньше чем в *B-группе* и эта разница имеет статистическую значимость."
   ]
  },
  {
   "cell_type": "markdown",
   "id": "9fea2815",
   "metadata": {},
   "source": [
    "**Выводы по А/B-тесту.** Проведенные статистические тесты равенства долей для *A* и *B* групп подтвердили результаты расчета численных значений метрик о том, что по всем покупательным метрикам в *B-группе* значения выше, чем в *А* группе. Нам известно, что на *В-группе* проверялся улучшенный алгоритм, который должен был улучшить работу всего маркетплейса. Улучшение параметров ключевых метрик в *В-группе* подтверждается статистической значимостью проведенных тестов."
   ]
  },
  {
   "cell_type": "markdown",
   "id": "00c343fb",
   "metadata": {},
   "source": [
    "**3. Выводы по проекту** \n",
    "\n",
    "1. В результате анализа данных по *А/А(С)-тесту* выяснено, что условия проведения теста требуют дополнительных исследований и уточнений, т.к. обнаружена статистически значимая разница при сравнении результатов *А-группы* и *С-группы*, которые работали на одной и той же версии маркплейса без улучшений. Предположительно, необходимо изучить различия групп пользователей в этих выборках, какие товары они покупали, а также проверить другие факторы, которые могли повлиять на значимое различие в покупках этих групп.\n",
    "2. В результате анализа данных по *А/В-тесту* можно сделать заключение, что использование нового алгоритма в работе маркетплейса привело к значительному увеличению продаж (в 2 раза), а это, в свою очередь, означает, что нововведение привело к улучшению работы маркетплейса в целом. Данное заключение можно сделать, не смотря на первый вывод (необходима доработка алгоритма проведения теста), т.к. произошло серьезное улучшение продажных метрик, значительно перекрывающее отклонения, возникшие из-за недоработок условия проведения тестов.\n",
    "3. Так же, необходимо отметить, что при внедрении нового алгоритма в маркетплейсе конечные пользователи начали делать больше покупок (операция *purchase*) минуя операцию более детального просмотра информации по товару (операция *click*). Возможно, новый алгоритм улучшения связан с большей информационной насыщенностью по товару при просмотре товаров (операция *viewing*)."
   ]
  },
  {
   "cell_type": "code",
   "execution_count": null,
   "id": "192dac35",
   "metadata": {},
   "outputs": [],
   "source": []
  }
 ],
 "metadata": {
  "kernelspec": {
   "display_name": "Python 3 (ipykernel)",
   "language": "python",
   "name": "python3"
  },
  "language_info": {
   "codemirror_mode": {
    "name": "ipython",
    "version": 3
   },
   "file_extension": ".py",
   "mimetype": "text/x-python",
   "name": "python",
   "nbconvert_exporter": "python",
   "pygments_lexer": "ipython3",
   "version": "3.9.7"
  }
 },
 "nbformat": 4,
 "nbformat_minor": 5
}
